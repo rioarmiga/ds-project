{
 "cells": [
  {
   "cell_type": "markdown",
   "metadata": {},
   "source": [
    "# Milestone 2 - Phase 1"
   ]
  },
  {
   "cell_type": "markdown",
   "metadata": {},
   "source": [
    "# Perkenalan"
   ]
  },
  {
   "cell_type": "markdown",
   "metadata": {},
   "source": [
    "`Rio Armiga - FTDS012`\n",
    "\n",
    "Dataset : Employee dataset\n",
    "\n",
    "Objective : Membuat model classification menggunakan algioritma machine learning untuk memprediksi apakah seorang karyawan resign atau tidak."
   ]
  },
  {
   "cell_type": "markdown",
   "metadata": {},
   "source": [
    "# Import Library"
   ]
  },
  {
   "cell_type": "code",
   "execution_count": 61,
   "metadata": {},
   "outputs": [],
   "source": [
    "import pandas as pd\n",
    "import numpy as np\n",
    "import seaborn as sns\n",
    "import matplotlib.pyplot as plt\n",
    "from sklearn.model_selection import train_test_split \n",
    "from sklearn.pipeline import make_pipeline\n",
    "from sklearn.compose import ColumnTransformer\n",
    "from sklearn.preprocessing import  MinMaxScaler, OneHotEncoder, OrdinalEncoder, StandardScaler\n",
    "from imblearn.over_sampling import SMOTENC\n",
    "from sklearn.linear_model import LogisticRegression\n",
    "from sklearn.svm import SVC\n",
    "from xgboost import XGBClassifier\n",
    "from sklearn.ensemble import RandomForestClassifier, AdaBoostClassifier\n",
    "from sklearn.model_selection import cross_val_score, GridSearchCV, RepeatedStratifiedKFold\n",
    "from sklearn.metrics import  classification_report, roc_auc_score, confusion_matrix, accuracy_score, recall_score\n",
    "import pickle"
   ]
  },
  {
   "cell_type": "markdown",
   "metadata": {},
   "source": [
    "# Data Loading"
   ]
  },
  {
   "cell_type": "code",
   "execution_count": 2,
   "metadata": {},
   "outputs": [
    {
     "data": {
      "text/html": [
       "<div>\n",
       "<style scoped>\n",
       "    .dataframe tbody tr th:only-of-type {\n",
       "        vertical-align: middle;\n",
       "    }\n",
       "\n",
       "    .dataframe tbody tr th {\n",
       "        vertical-align: top;\n",
       "    }\n",
       "\n",
       "    .dataframe thead th {\n",
       "        text-align: right;\n",
       "    }\n",
       "</style>\n",
       "<table border=\"1\" class=\"dataframe\">\n",
       "  <thead>\n",
       "    <tr style=\"text-align: right;\">\n",
       "      <th></th>\n",
       "      <th>Education</th>\n",
       "      <th>JoiningYear</th>\n",
       "      <th>City</th>\n",
       "      <th>PaymentTier</th>\n",
       "      <th>Age</th>\n",
       "      <th>Gender</th>\n",
       "      <th>EverBenched</th>\n",
       "      <th>ExperienceInCurrentDomain</th>\n",
       "      <th>LeaveOrNot</th>\n",
       "    </tr>\n",
       "  </thead>\n",
       "  <tbody>\n",
       "    <tr>\n",
       "      <th>0</th>\n",
       "      <td>Bachelors</td>\n",
       "      <td>2017</td>\n",
       "      <td>Bangalore</td>\n",
       "      <td>3</td>\n",
       "      <td>34</td>\n",
       "      <td>Male</td>\n",
       "      <td>No</td>\n",
       "      <td>0</td>\n",
       "      <td>0</td>\n",
       "    </tr>\n",
       "    <tr>\n",
       "      <th>1</th>\n",
       "      <td>Bachelors</td>\n",
       "      <td>2013</td>\n",
       "      <td>Pune</td>\n",
       "      <td>1</td>\n",
       "      <td>28</td>\n",
       "      <td>Female</td>\n",
       "      <td>No</td>\n",
       "      <td>3</td>\n",
       "      <td>1</td>\n",
       "    </tr>\n",
       "    <tr>\n",
       "      <th>2</th>\n",
       "      <td>Bachelors</td>\n",
       "      <td>2014</td>\n",
       "      <td>New Delhi</td>\n",
       "      <td>3</td>\n",
       "      <td>38</td>\n",
       "      <td>Female</td>\n",
       "      <td>No</td>\n",
       "      <td>2</td>\n",
       "      <td>0</td>\n",
       "    </tr>\n",
       "    <tr>\n",
       "      <th>3</th>\n",
       "      <td>Masters</td>\n",
       "      <td>2016</td>\n",
       "      <td>Bangalore</td>\n",
       "      <td>3</td>\n",
       "      <td>27</td>\n",
       "      <td>Male</td>\n",
       "      <td>No</td>\n",
       "      <td>5</td>\n",
       "      <td>1</td>\n",
       "    </tr>\n",
       "    <tr>\n",
       "      <th>4</th>\n",
       "      <td>Masters</td>\n",
       "      <td>2017</td>\n",
       "      <td>Pune</td>\n",
       "      <td>3</td>\n",
       "      <td>24</td>\n",
       "      <td>Male</td>\n",
       "      <td>Yes</td>\n",
       "      <td>2</td>\n",
       "      <td>1</td>\n",
       "    </tr>\n",
       "    <tr>\n",
       "      <th>...</th>\n",
       "      <td>...</td>\n",
       "      <td>...</td>\n",
       "      <td>...</td>\n",
       "      <td>...</td>\n",
       "      <td>...</td>\n",
       "      <td>...</td>\n",
       "      <td>...</td>\n",
       "      <td>...</td>\n",
       "      <td>...</td>\n",
       "    </tr>\n",
       "    <tr>\n",
       "      <th>4648</th>\n",
       "      <td>Bachelors</td>\n",
       "      <td>2013</td>\n",
       "      <td>Bangalore</td>\n",
       "      <td>3</td>\n",
       "      <td>26</td>\n",
       "      <td>Female</td>\n",
       "      <td>No</td>\n",
       "      <td>4</td>\n",
       "      <td>0</td>\n",
       "    </tr>\n",
       "    <tr>\n",
       "      <th>4649</th>\n",
       "      <td>Masters</td>\n",
       "      <td>2013</td>\n",
       "      <td>Pune</td>\n",
       "      <td>2</td>\n",
       "      <td>37</td>\n",
       "      <td>Male</td>\n",
       "      <td>No</td>\n",
       "      <td>2</td>\n",
       "      <td>1</td>\n",
       "    </tr>\n",
       "    <tr>\n",
       "      <th>4650</th>\n",
       "      <td>Masters</td>\n",
       "      <td>2018</td>\n",
       "      <td>New Delhi</td>\n",
       "      <td>3</td>\n",
       "      <td>27</td>\n",
       "      <td>Male</td>\n",
       "      <td>No</td>\n",
       "      <td>5</td>\n",
       "      <td>1</td>\n",
       "    </tr>\n",
       "    <tr>\n",
       "      <th>4651</th>\n",
       "      <td>Bachelors</td>\n",
       "      <td>2012</td>\n",
       "      <td>Bangalore</td>\n",
       "      <td>3</td>\n",
       "      <td>30</td>\n",
       "      <td>Male</td>\n",
       "      <td>Yes</td>\n",
       "      <td>2</td>\n",
       "      <td>0</td>\n",
       "    </tr>\n",
       "    <tr>\n",
       "      <th>4652</th>\n",
       "      <td>Bachelors</td>\n",
       "      <td>2015</td>\n",
       "      <td>Bangalore</td>\n",
       "      <td>3</td>\n",
       "      <td>33</td>\n",
       "      <td>Male</td>\n",
       "      <td>Yes</td>\n",
       "      <td>4</td>\n",
       "      <td>0</td>\n",
       "    </tr>\n",
       "  </tbody>\n",
       "</table>\n",
       "<p>4653 rows × 9 columns</p>\n",
       "</div>"
      ],
      "text/plain": [
       "      Education  JoiningYear       City  PaymentTier  Age  Gender EverBenched  \\\n",
       "0     Bachelors         2017  Bangalore            3   34    Male          No   \n",
       "1     Bachelors         2013       Pune            1   28  Female          No   \n",
       "2     Bachelors         2014  New Delhi            3   38  Female          No   \n",
       "3       Masters         2016  Bangalore            3   27    Male          No   \n",
       "4       Masters         2017       Pune            3   24    Male         Yes   \n",
       "...         ...          ...        ...          ...  ...     ...         ...   \n",
       "4648  Bachelors         2013  Bangalore            3   26  Female          No   \n",
       "4649    Masters         2013       Pune            2   37    Male          No   \n",
       "4650    Masters         2018  New Delhi            3   27    Male          No   \n",
       "4651  Bachelors         2012  Bangalore            3   30    Male         Yes   \n",
       "4652  Bachelors         2015  Bangalore            3   33    Male         Yes   \n",
       "\n",
       "      ExperienceInCurrentDomain  LeaveOrNot  \n",
       "0                             0           0  \n",
       "1                             3           1  \n",
       "2                             2           0  \n",
       "3                             5           1  \n",
       "4                             2           1  \n",
       "...                         ...         ...  \n",
       "4648                          4           0  \n",
       "4649                          2           1  \n",
       "4650                          5           1  \n",
       "4651                          2           0  \n",
       "4652                          4           0  \n",
       "\n",
       "[4653 rows x 9 columns]"
      ]
     },
     "execution_count": 2,
     "metadata": {},
     "output_type": "execute_result"
    }
   ],
   "source": [
    "data = pd.read_csv('Employee.csv')\n",
    "pd.set_option('display.max.columns', None)\n",
    "data"
   ]
  },
  {
   "cell_type": "code",
   "execution_count": 3,
   "metadata": {},
   "outputs": [
    {
     "name": "stdout",
     "output_type": "stream",
     "text": [
      "<class 'pandas.core.frame.DataFrame'>\n",
      "RangeIndex: 4653 entries, 0 to 4652\n",
      "Data columns (total 9 columns):\n",
      " #   Column                     Non-Null Count  Dtype \n",
      "---  ------                     --------------  ----- \n",
      " 0   Education                  4653 non-null   object\n",
      " 1   JoiningYear                4653 non-null   int64 \n",
      " 2   City                       4653 non-null   object\n",
      " 3   PaymentTier                4653 non-null   int64 \n",
      " 4   Age                        4653 non-null   int64 \n",
      " 5   Gender                     4653 non-null   object\n",
      " 6   EverBenched                4653 non-null   object\n",
      " 7   ExperienceInCurrentDomain  4653 non-null   int64 \n",
      " 8   LeaveOrNot                 4653 non-null   int64 \n",
      "dtypes: int64(5), object(4)\n",
      "memory usage: 327.3+ KB\n"
     ]
    }
   ],
   "source": [
    "data.info()"
   ]
  },
  {
   "cell_type": "markdown",
   "metadata": {},
   "source": [
    "# Exploratory Data Analysis (EDA)"
   ]
  },
  {
   "cell_type": "markdown",
   "metadata": {},
   "source": [
    "Function untuk menunjukkan persentase pada grafik."
   ]
  },
  {
   "cell_type": "code",
   "execution_count": 4,
   "metadata": {},
   "outputs": [],
   "source": [
    "def with_hue(ax, feature, Number_of_categories, hue_categories):\n",
    "    a = [p.get_height() for p in ax.patches]\n",
    "    patch = [p for p in ax.patches]\n",
    "    for i in range(Number_of_categories):\n",
    "        total = feature.value_counts().values[i]\n",
    "        for j in range(hue_categories):\n",
    "            percentage = '{:.1f}%'.format(100 * a[(j*Number_of_categories + i)]/total)\n",
    "            x = patch[(j*Number_of_categories + i)].get_x() + patch[(j*Number_of_categories + i)].get_width() / 2 - 0.15\n",
    "            y = patch[(j*Number_of_categories + i)].get_y() + patch[(j*Number_of_categories + i)].get_height() \n",
    "            ax.annotate(percentage, (x, y), size = 12)\n",
    "\n",
    "def without_hue(ax, feature):\n",
    "    total = len(feature)\n",
    "    for p in ax.patches:\n",
    "        percentage = '{:.1f}%'.format(100 * p.get_height()/total)\n",
    "        x = p.get_x() + p.get_width() / 2 - 0.05\n",
    "        y = p.get_y() + p.get_height()\n",
    "        ax.annotate(percentage, (x, y), size = 12)"
   ]
  },
  {
   "cell_type": "markdown",
   "metadata": {},
   "source": [
    "Melihat persentase Gender dan klasifikasi "
   ]
  },
  {
   "cell_type": "code",
   "execution_count": 5,
   "metadata": {},
   "outputs": [
    {
     "data": {
      "text/plain": [
       "([<matplotlib.axis.XTick at 0x2de868aaf10>,\n",
       "  <matplotlib.axis.XTick at 0x2de868aaee0>],\n",
       " [Text(0, 0, 'Stay'), Text(1, 0, 'Leave')])"
      ]
     },
     "execution_count": 5,
     "metadata": {},
     "output_type": "execute_result"
    },
    {
     "data": {
      "image/png": "[encoded data removed]",
      "text/plain": [
       "<Figure size 1440x432 with 2 Axes>"
      ]
     },
     "metadata": {
      "needs_background": "light"
     },
     "output_type": "display_data"
    }
   ],
   "source": [
    "plt.figure(figsize=(20, 6))\n",
    "plt.subplot(1,2,1)\n",
    "plt.title('Grafik Persentase Gender')\n",
    "ax = sns.countplot(data=data, x='Gender', palette='Set2')\n",
    "without_hue(ax, data.Gender)\n",
    "plt.xticks([0,1],['Female','Male'], fontsize = 11)\n",
    "\n",
    "plt.subplot(1,2,2)\n",
    "plt.title('Grafik Persentase Klasifikasi')\n",
    "ax = sns.countplot(data=data, x='LeaveOrNot', palette='Set2')\n",
    "without_hue(ax, data.LeaveOrNot)\n",
    "plt.xticks([0,1],['Stay','Leave'], fontsize = 11)"
   ]
  },
  {
   "cell_type": "markdown",
   "metadata": {},
   "source": [
    "- Dilihat dari grafik persentase gender, terlihat wanita lebih dominan dengan 57.9%  sedangkan pria hanya 40.3% dari data.\n",
    "- 34.4% dari data adalah karyawan yang diprediksi akan resign sebesar 34.4% dan yang akan bertahan di perushaan sebesar 65.6%"
   ]
  },
  {
   "cell_type": "markdown",
   "metadata": {},
   "source": [
    "Meliahat apakah gender berperan dalam seorang karyawan akan resi berhenti berkerja atau tidak."
   ]
  },
  {
   "cell_type": "code",
   "execution_count": 6,
   "metadata": {},
   "outputs": [
    {
     "data": {
      "image/png": "[encoded data removed]",
      "text/plain": [
       "<Figure size 720x504 with 1 Axes>"
      ]
     },
     "metadata": {
      "needs_background": "light"
     },
     "output_type": "display_data"
    }
   ],
   "source": [
    "plt.figure(figsize=(10,7))\n",
    "plt.title('Grafik Persentase Gender')\n",
    "ax = sns.countplot(data=data, x='Gender', palette='Set2', hue='LeaveOrNot')\n",
    "with_hue(ax, data.Gender, 2,2)"
   ]
  },
  {
   "cell_type": "markdown",
   "metadata": {},
   "source": [
    "- 74.2% karyawan pria diprediksi akan bertahan di perusahaan dan 25.8% akan berhenti, sedangkan 52.9% karyawan wanita akan bertahan di perusahaan dan sebesar 47.1% karyawan wanita akan berhenti dari perusahaan. dari data tersebut dapat dilihat persentase wanita yang akan berhenti lebih tinggi dari pria. Terdapat beberapa kemungkinan kenapa persentase wanita lebih banyak resign daripada pria, salah satunya mungkin setelah menikah dan punya anak wanita cenderung akan resign karena ingin fokus mengurus anak dan menjadi ibu rumah tangga."
   ]
  },
  {
   "cell_type": "markdown",
   "metadata": {},
   "source": [
    "Melihat persentase tingkat pendidikan dan hubungannya dengan label"
   ]
  },
  {
   "cell_type": "code",
   "execution_count": 7,
   "metadata": {},
   "outputs": [
    {
     "data": {
      "image/png": "[encoded data removed]",
      "text/plain": [
       "<Figure size 1440x432 with 2 Axes>"
      ]
     },
     "metadata": {
      "needs_background": "light"
     },
     "output_type": "display_data"
    }
   ],
   "source": [
    "plt.figure(figsize=(20, 6))\n",
    "plt.suptitle('Grafik Persentase Tingkat Pendidikan')\n",
    "plt.subplot(1,2,1)\n",
    "ax = sns.countplot(data=data, x='Education', palette='Set2')\n",
    "without_hue(ax, data.ExperienceInCurrentDomain)\n",
    "\n",
    "plt.subplot(1,2,2)\n",
    "ax = sns.countplot(data=data, x='Education', palette='Set2', hue='LeaveOrNot')\n",
    "with_hue(ax, data.Education, 3,2)"
   ]
  },
  {
   "cell_type": "markdown",
   "metadata": {},
   "source": [
    "- Berdasarkan Grafik Persentase Tingkat Pendidikan, Bachelor atau Sarjana menjadi tingkat pendidikan paling tinggi yang terdapat pada data dengan 77.4% diikuti dengan Master dengan 18.8% dan paling kecil PhD atau Doktor dengan 3.8%.\n",
    "- Pada tingkat pendidikan Sarjana, sebesar 31.4% karyawan akan berhenti dari perusahaan dan 68.6% akan tetap bekerja di perusahaan, pada tingkatan Master 51.2% karyawan memilih tetap bekerja dan 48.8% memilih berhenti dan pada tingkat pendidikan Doktor, sebesar 74.9% memilih tetap bekerja dan 25.1% akan resign. Berdasarkan data tersebut dapat dilihat persentase karyawan yang resign dengan tingkat pendidikan Master lebih tinggi dari tingkat pendidikan lainnya."
   ]
  },
  {
   "cell_type": "markdown",
   "metadata": {},
   "source": [
    "Melihat persentase pengalaman di domain saat ini dan hubungannya dengan label"
   ]
  },
  {
   "cell_type": "code",
   "execution_count": 8,
   "metadata": {},
   "outputs": [
    {
     "data": {
      "image/png": "[encoded data removed]",
      "text/plain": [
       "<Figure size 1440x432 with 2 Axes>"
      ]
     },
     "metadata": {
      "needs_background": "light"
     },
     "output_type": "display_data"
    }
   ],
   "source": [
    "plt.figure(figsize=(20, 6))\n",
    "plt.suptitle('Grafik Persentase Tingkat Pengalaman')\n",
    "plt.subplot(1,2,1)\n",
    "ax = sns.countplot(data=data, x='ExperienceInCurrentDomain', palette='Set2')\n",
    "without_hue(ax, data.ExperienceInCurrentDomain)\n",
    "\n",
    "plt.subplot(1,2,2)\n",
    "ax = sns.countplot(data=data, x='ExperienceInCurrentDomain', palette='Set2', hue= \"LeaveOrNot\")\n"
   ]
  },
  {
   "cell_type": "markdown",
   "metadata": {},
   "source": [
    "- Bersarkan Grafik Persentase Tingkat Pengalaman, dapat dilihat karyawan dengan pengalaman 2 tahun menjadi yang tertinggi dari yang lainnya dengan 23.4%, diikuti dengan pengalaman 4 tahun dengan 20% dan yang terkecil adalah pengalaman 6 dan 7 tahun dengan 0.2%.\n",
    "- Persentase orang yang resign terlihat seimbang antar variable, tetapi pada tingkat pengalaman 3 tahun terlihat selisih persentase karyawan yang resign dan tidaknya lebih sedikit dibanding tingkat pengalaman lainnya. Dan sangat sedikit karyawan yang bertahan hingga tahun ke 6 dan 7 di perusahaan."
   ]
  },
  {
   "cell_type": "markdown",
   "metadata": {},
   "source": [
    "Apakah tingkat pendidikan dan pengalaman kerja berpengaruh terhadap tingkatan gaji?"
   ]
  },
  {
   "cell_type": "code",
   "execution_count": 9,
   "metadata": {},
   "outputs": [
    {
     "data": {
      "image/png": "[encoded data removed]",
      "text/plain": [
       "<Figure size 1440x432 with 2 Axes>"
      ]
     },
     "metadata": {
      "needs_background": "light"
     },
     "output_type": "display_data"
    }
   ],
   "source": [
    "plt.figure(figsize=(20, 6))\n",
    "plt.subplot(1,2,1, title='Education Vs Payment Tier')\n",
    "ax = sns.countplot(data=data, x='Education', palette='Set2', hue='PaymentTier')\n",
    "with_hue(ax, data.Education, 3,3)\n",
    "\n",
    "plt.subplot(1,2,2, title='Experience Vs Payment Tier')\n",
    "ax = sns.countplot(data=data, x='ExperienceInCurrentDomain', palette='Set2', hue= \"PaymentTier\")"
   ]
  },
  {
   "cell_type": "markdown",
   "metadata": {},
   "source": [
    "- Pada grafik Education Vs Payment Tier dapat dilihat tingkat pendidikan tidak terlalu berpengaruh terhadap gaji, dimana banyak karyawan yang hanya bergelar sarjana tetap memiliki gaji tinggi.\n",
    "- Pada grafik Experience vs Payment dapat dilihat karyawan dengan tingkat pengalaman 2 tahun mendapat gaji tinggi lebih banyak dari tingkat pengalaman lainnya, tetapi tingkat pengalaman kerja di suatu domain tidak berpengaruh signifikan terhadap gaji yang didapat."
   ]
  },
  {
   "cell_type": "markdown",
   "metadata": {},
   "source": [
    "Melihat persentase tahun bergabung dan pengaruhnya terhadap label"
   ]
  },
  {
   "cell_type": "code",
   "execution_count": 10,
   "metadata": {},
   "outputs": [
    {
     "data": {
      "image/png": "[encoded data removed]",
      "text/plain": [
       "<Figure size 1440x432 with 2 Axes>"
      ]
     },
     "metadata": {
      "needs_background": "light"
     },
     "output_type": "display_data"
    }
   ],
   "source": [
    "plt.figure(figsize=(20, 6))\n",
    "plt.suptitle('Grafik Persentase Tahun Bergabung')\n",
    "plt.subplot(1,2,1)\n",
    "ax = sns.countplot(data=data, x='JoiningYear', palette='Set2')\n",
    "without_hue(ax, data.JoiningYear)\n",
    "\n",
    "plt.subplot(1,2,2)\n",
    "ax = sns.countplot(data=data, x='JoiningYear', palette='Set2', hue= \"LeaveOrNot\")"
   ]
  },
  {
   "cell_type": "markdown",
   "metadata": {},
   "source": [
    "- Berdsarikan Grafik Persentase Tahun Bergabung, terlihat bahwa banyak karyawan yang bergabung pada tahun 2017 dengan persentase 23.8% dan diikuti dengan tahun 2015 dengan 16.8%, dan yang terendah ada pada tahun 2018 dengan 7.9%.\n",
    "- Tahun 2018 juga menjadi tahun dengan selisih persentase karyawan resign tertinggi dibandingkan dengan tahun lainnya, dimana persentase karyawan resign mencapai >90% dibandingkan dengan karyawan yang bertahan di perusahaan."
   ]
  },
  {
   "cell_type": "markdown",
   "metadata": {},
   "source": [
    "Apakah karyawan yang meninggalkan project kantor berpengaruh pada label?"
   ]
  },
  {
   "cell_type": "code",
   "execution_count": 11,
   "metadata": {},
   "outputs": [
    {
     "data": {
      "image/png": "[encoded data removed]",
      "text/plain": [
       "<Figure size 1440x432 with 2 Axes>"
      ]
     },
     "metadata": {
      "needs_background": "light"
     },
     "output_type": "display_data"
    }
   ],
   "source": [
    "plt.figure(figsize=(20,6))\n",
    "plt.suptitle('Grafik Persentase Karyawan Keluar dari Project ')\n",
    "plt.subplot(1,2,1)\n",
    "ax = sns.countplot(data=data, x='EverBenched', palette='Set2')\n",
    "without_hue(ax, data.EverBenched)\n",
    "\n",
    "plt.subplot(1,2,2)\n",
    "ax = sns.countplot(data=data, x='EverBenched', palette='Set2', hue='LeaveOrNot')\n",
    "with_hue(ax, data.EverBenched,2,2)"
   ]
  },
  {
   "cell_type": "markdown",
   "metadata": {},
   "source": [
    "- Berdasarkan Grafik Persentase Karyawan Keluar dari Project, sebesar 87.7% karyawan tidak pernah keluar dari project yang dikerjakan, dan sebanyak 10.3% pernah meninggalkan project yang dikerjakan. Dari 10.3% itu sebanyak 54.6% karyawan bertahan kerja di perusahaan dan 45.4% lainnya resign dari perusahaan. Pernah atau tidaknya seorang karyawan keluar dari sebuah project berpengaruh terhadap karyawan tersebut akan resign atau tidak dari perusahaan, dimana persentase karyawan yang tidak pernah keluar dari project dan resign dari perusahaan lebih kecil dibandingkan dengan karyawan yang pernah meniggalkan project perusahaan."
   ]
  },
  {
   "cell_type": "markdown",
   "metadata": {},
   "source": [
    "Apakah tingakatan gaji berpengaruh terhadap label?"
   ]
  },
  {
   "cell_type": "code",
   "execution_count": 12,
   "metadata": {},
   "outputs": [
    {
     "data": {
      "image/png": "[encoded data removed]",
      "text/plain": [
       "<Figure size 1440x432 with 2 Axes>"
      ]
     },
     "metadata": {
      "needs_background": "light"
     },
     "output_type": "display_data"
    }
   ],
   "source": [
    "plt.figure(figsize=(20,6))\n",
    "plt.subplot(1,2,1)\n",
    "plt.suptitle('Grafik Persentase Tingkat Gaji')\n",
    "ax = sns.countplot(data=data, x='PaymentTier', palette='Set2')\n",
    "without_hue(ax, data.PaymentTier)\n",
    "\n",
    "plt.subplot(1,2,2)\n",
    "ax = sns.countplot(data=data, x='LeaveOrNot', palette='Set2', hue='PaymentTier')\n",
    "with_hue(ax, data.LeaveOrNot,2,3)"
   ]
  },
  {
   "cell_type": "markdown",
   "metadata": {},
   "source": [
    "- Bedasarkan Grafik Persentase Tingkat Gaji, dapat dilihat karyawan dengan gaji tingkat 3 (tinggi) lebih banyak dari tingkatan lainnya dengan persentase 75% dari data, tingkat 2(sedang) sebesar 19.7 dan tingkat 1 (rendah) sebesar 5.2%.\n",
    "- Karyawan dengan gaji tingkat 3 cenderung bertahan di perusahaan. Dan persentase karyawan tier 2 yang resign dari perusahaan lebig tinggi daripada yang bertahan di perusahaan. Ada indikasi karyawan dengan gaji tingkat 2 yang resign tidak puas dengan gaji yang didapatnya di perusahaan dan mencoba mencari perusahaan lain yang menawarkan gaji yang lebih tinggi."
   ]
  },
  {
   "cell_type": "code",
   "execution_count": 13,
   "metadata": {},
   "outputs": [
    {
     "data": {
      "text/plain": [
       "<AxesSubplot:>"
      ]
     },
     "execution_count": 13,
     "metadata": {},
     "output_type": "execute_result"
    },
    {
     "data": {
      "image/png": "[encoded data removed]",
      "text/plain": [
       "<Figure size 1152x1152 with 2 Axes>"
      ]
     },
     "metadata": {
      "needs_background": "light"
     },
     "output_type": "display_data"
    }
   ],
   "source": [
    "plt.figure(figsize=(16,16))\n",
    "sns.heatmap(data.corr(), annot=True)"
   ]
  },
  {
   "cell_type": "markdown",
   "metadata": {},
   "source": [
    "- Bersarkan grafik heatmap, Payment Tier memiliki korelasi yang tinggi dengan label LeaveOrNot, dengan nilai korelasi sebesar -0.2 den label LeaveOrNot memiliki korelasi paling rendah dengan kolom ExperienceInCurrentDomain dengan poin korelasi sebesar -0.031."
   ]
  },
  {
   "cell_type": "markdown",
   "metadata": {},
   "source": [
    "# Data Preprocessing"
   ]
  },
  {
   "cell_type": "markdown",
   "metadata": {},
   "source": [
    "## Memisakan Data untuk Model Inference"
   ]
  },
  {
   "cell_type": "markdown",
   "metadata": {},
   "source": [
    "Membagi data inference untuk menguji model dengan data baru."
   ]
  },
  {
   "cell_type": "code",
   "execution_count": 14,
   "metadata": {},
   "outputs": [
    {
     "data": {
      "text/html": [
       "<div>\n",
       "<style scoped>\n",
       "    .dataframe tbody tr th:only-of-type {\n",
       "        vertical-align: middle;\n",
       "    }\n",
       "\n",
       "    .dataframe tbody tr th {\n",
       "        vertical-align: top;\n",
       "    }\n",
       "\n",
       "    .dataframe thead th {\n",
       "        text-align: right;\n",
       "    }\n",
       "</style>\n",
       "<table border=\"1\" class=\"dataframe\">\n",
       "  <thead>\n",
       "    <tr style=\"text-align: right;\">\n",
       "      <th></th>\n",
       "      <th>Education</th>\n",
       "      <th>JoiningYear</th>\n",
       "      <th>City</th>\n",
       "      <th>PaymentTier</th>\n",
       "      <th>Age</th>\n",
       "      <th>Gender</th>\n",
       "      <th>EverBenched</th>\n",
       "      <th>ExperienceInCurrentDomain</th>\n",
       "      <th>LeaveOrNot</th>\n",
       "    </tr>\n",
       "  </thead>\n",
       "  <tbody>\n",
       "    <tr>\n",
       "      <th>0</th>\n",
       "      <td>Bachelors</td>\n",
       "      <td>2017</td>\n",
       "      <td>Bangalore</td>\n",
       "      <td>3</td>\n",
       "      <td>34</td>\n",
       "      <td>Male</td>\n",
       "      <td>No</td>\n",
       "      <td>0</td>\n",
       "      <td>0</td>\n",
       "    </tr>\n",
       "    <tr>\n",
       "      <th>1</th>\n",
       "      <td>Bachelors</td>\n",
       "      <td>2013</td>\n",
       "      <td>Pune</td>\n",
       "      <td>1</td>\n",
       "      <td>28</td>\n",
       "      <td>Female</td>\n",
       "      <td>No</td>\n",
       "      <td>3</td>\n",
       "      <td>1</td>\n",
       "    </tr>\n",
       "    <tr>\n",
       "      <th>2</th>\n",
       "      <td>Bachelors</td>\n",
       "      <td>2014</td>\n",
       "      <td>New Delhi</td>\n",
       "      <td>3</td>\n",
       "      <td>38</td>\n",
       "      <td>Female</td>\n",
       "      <td>No</td>\n",
       "      <td>2</td>\n",
       "      <td>0</td>\n",
       "    </tr>\n",
       "    <tr>\n",
       "      <th>3</th>\n",
       "      <td>Masters</td>\n",
       "      <td>2016</td>\n",
       "      <td>Bangalore</td>\n",
       "      <td>3</td>\n",
       "      <td>27</td>\n",
       "      <td>Male</td>\n",
       "      <td>No</td>\n",
       "      <td>5</td>\n",
       "      <td>1</td>\n",
       "    </tr>\n",
       "    <tr>\n",
       "      <th>4</th>\n",
       "      <td>Masters</td>\n",
       "      <td>2017</td>\n",
       "      <td>Pune</td>\n",
       "      <td>3</td>\n",
       "      <td>24</td>\n",
       "      <td>Male</td>\n",
       "      <td>Yes</td>\n",
       "      <td>2</td>\n",
       "      <td>1</td>\n",
       "    </tr>\n",
       "    <tr>\n",
       "      <th>...</th>\n",
       "      <td>...</td>\n",
       "      <td>...</td>\n",
       "      <td>...</td>\n",
       "      <td>...</td>\n",
       "      <td>...</td>\n",
       "      <td>...</td>\n",
       "      <td>...</td>\n",
       "      <td>...</td>\n",
       "      <td>...</td>\n",
       "    </tr>\n",
       "    <tr>\n",
       "      <th>4628</th>\n",
       "      <td>Bachelors</td>\n",
       "      <td>2013</td>\n",
       "      <td>Bangalore</td>\n",
       "      <td>3</td>\n",
       "      <td>26</td>\n",
       "      <td>Female</td>\n",
       "      <td>No</td>\n",
       "      <td>4</td>\n",
       "      <td>0</td>\n",
       "    </tr>\n",
       "    <tr>\n",
       "      <th>4629</th>\n",
       "      <td>Masters</td>\n",
       "      <td>2013</td>\n",
       "      <td>Pune</td>\n",
       "      <td>2</td>\n",
       "      <td>37</td>\n",
       "      <td>Male</td>\n",
       "      <td>No</td>\n",
       "      <td>2</td>\n",
       "      <td>1</td>\n",
       "    </tr>\n",
       "    <tr>\n",
       "      <th>4630</th>\n",
       "      <td>Masters</td>\n",
       "      <td>2018</td>\n",
       "      <td>New Delhi</td>\n",
       "      <td>3</td>\n",
       "      <td>27</td>\n",
       "      <td>Male</td>\n",
       "      <td>No</td>\n",
       "      <td>5</td>\n",
       "      <td>1</td>\n",
       "    </tr>\n",
       "    <tr>\n",
       "      <th>4631</th>\n",
       "      <td>Bachelors</td>\n",
       "      <td>2012</td>\n",
       "      <td>Bangalore</td>\n",
       "      <td>3</td>\n",
       "      <td>30</td>\n",
       "      <td>Male</td>\n",
       "      <td>Yes</td>\n",
       "      <td>2</td>\n",
       "      <td>0</td>\n",
       "    </tr>\n",
       "    <tr>\n",
       "      <th>4632</th>\n",
       "      <td>Bachelors</td>\n",
       "      <td>2015</td>\n",
       "      <td>Bangalore</td>\n",
       "      <td>3</td>\n",
       "      <td>33</td>\n",
       "      <td>Male</td>\n",
       "      <td>Yes</td>\n",
       "      <td>4</td>\n",
       "      <td>0</td>\n",
       "    </tr>\n",
       "  </tbody>\n",
       "</table>\n",
       "<p>4633 rows × 9 columns</p>\n",
       "</div>"
      ],
      "text/plain": [
       "      Education  JoiningYear       City  PaymentTier  Age  Gender EverBenched  \\\n",
       "0     Bachelors         2017  Bangalore            3   34    Male          No   \n",
       "1     Bachelors         2013       Pune            1   28  Female          No   \n",
       "2     Bachelors         2014  New Delhi            3   38  Female          No   \n",
       "3       Masters         2016  Bangalore            3   27    Male          No   \n",
       "4       Masters         2017       Pune            3   24    Male         Yes   \n",
       "...         ...          ...        ...          ...  ...     ...         ...   \n",
       "4628  Bachelors         2013  Bangalore            3   26  Female          No   \n",
       "4629    Masters         2013       Pune            2   37    Male          No   \n",
       "4630    Masters         2018  New Delhi            3   27    Male          No   \n",
       "4631  Bachelors         2012  Bangalore            3   30    Male         Yes   \n",
       "4632  Bachelors         2015  Bangalore            3   33    Male         Yes   \n",
       "\n",
       "      ExperienceInCurrentDomain  LeaveOrNot  \n",
       "0                             0           0  \n",
       "1                             3           1  \n",
       "2                             2           0  \n",
       "3                             5           1  \n",
       "4                             2           1  \n",
       "...                         ...         ...  \n",
       "4628                          4           0  \n",
       "4629                          2           1  \n",
       "4630                          5           1  \n",
       "4631                          2           0  \n",
       "4632                          4           0  \n",
       "\n",
       "[4633 rows x 9 columns]"
      ]
     },
     "execution_count": 14,
     "metadata": {},
     "output_type": "execute_result"
    }
   ],
   "source": [
    "# Membagi data Inference dan Data train_test\n",
    "data_inf = data.sample(20, random_state=4)\n",
    "data_train_test = data.drop(data_inf.index)\n",
    "# Reset index pada data Inference dan Data train_test\n",
    "data_inf.reset_index(drop=True, inplace=True) \n",
    "data_train_test.reset_index(drop=True, inplace=True)\n",
    "\n",
    "data_train_test"
   ]
  },
  {
   "cell_type": "markdown",
   "metadata": {},
   "source": [
    "## Memisahkan Feature (X) dan label (y)"
   ]
  },
  {
   "cell_type": "markdown",
   "metadata": {},
   "source": [
    "Melakukan splitting data X (Feature), y (label/target), yang menjadi target adalah kolom income_bracket"
   ]
  },
  {
   "cell_type": "code",
   "execution_count": 15,
   "metadata": {},
   "outputs": [
    {
     "data": {
      "text/html": [
       "<div>\n",
       "<style scoped>\n",
       "    .dataframe tbody tr th:only-of-type {\n",
       "        vertical-align: middle;\n",
       "    }\n",
       "\n",
       "    .dataframe tbody tr th {\n",
       "        vertical-align: top;\n",
       "    }\n",
       "\n",
       "    .dataframe thead th {\n",
       "        text-align: right;\n",
       "    }\n",
       "</style>\n",
       "<table border=\"1\" class=\"dataframe\">\n",
       "  <thead>\n",
       "    <tr style=\"text-align: right;\">\n",
       "      <th></th>\n",
       "      <th>Education</th>\n",
       "      <th>JoiningYear</th>\n",
       "      <th>City</th>\n",
       "      <th>PaymentTier</th>\n",
       "      <th>Age</th>\n",
       "      <th>Gender</th>\n",
       "      <th>EverBenched</th>\n",
       "      <th>ExperienceInCurrentDomain</th>\n",
       "    </tr>\n",
       "  </thead>\n",
       "  <tbody>\n",
       "    <tr>\n",
       "      <th>0</th>\n",
       "      <td>Bachelors</td>\n",
       "      <td>2017</td>\n",
       "      <td>Bangalore</td>\n",
       "      <td>3</td>\n",
       "      <td>34</td>\n",
       "      <td>Male</td>\n",
       "      <td>No</td>\n",
       "      <td>0</td>\n",
       "    </tr>\n",
       "    <tr>\n",
       "      <th>1</th>\n",
       "      <td>Bachelors</td>\n",
       "      <td>2013</td>\n",
       "      <td>Pune</td>\n",
       "      <td>1</td>\n",
       "      <td>28</td>\n",
       "      <td>Female</td>\n",
       "      <td>No</td>\n",
       "      <td>3</td>\n",
       "    </tr>\n",
       "  </tbody>\n",
       "</table>\n",
       "</div>"
      ],
      "text/plain": [
       "   Education  JoiningYear       City  PaymentTier  Age  Gender EverBenched  \\\n",
       "0  Bachelors         2017  Bangalore            3   34    Male          No   \n",
       "1  Bachelors         2013       Pune            1   28  Female          No   \n",
       "\n",
       "   ExperienceInCurrentDomain  \n",
       "0                          0  \n",
       "1                          3  "
      ]
     },
     "execution_count": 15,
     "metadata": {},
     "output_type": "execute_result"
    }
   ],
   "source": [
    "# X : Feature\n",
    "# y : label/target\n",
    "X = data_train_test.drop('LeaveOrNot', axis=1)\n",
    "y = data_train_test['LeaveOrNot']\n",
    "X.head(2)"
   ]
  },
  {
   "cell_type": "markdown",
   "metadata": {},
   "source": [
    "Memisahkan data train dan test"
   ]
  },
  {
   "cell_type": "code",
   "execution_count": 16,
   "metadata": {},
   "outputs": [
    {
     "name": "stdout",
     "output_type": "stream",
     "text": [
      "Train Size :  (3474, 8)\n",
      "Test Size  :  (1159, 8)\n",
      "Test Size  :  (3474,)\n",
      "Test Size  :  (1159,)\n"
     ]
    }
   ],
   "source": [
    "# Memisahkan data Train dan Test\n",
    "\n",
    "X_train, X_test, y_train, y_test = train_test_split(X, y, test_size=0.25, random_state=21)\n",
    "\n",
    "print('Train Size : ', X_train.shape)\n",
    "print('Test Size  : ', X_test.shape)\n",
    "print('Test Size  : ', y_train.shape)\n",
    "print('Test Size  : ', y_test.shape)"
   ]
  },
  {
   "cell_type": "markdown",
   "metadata": {},
   "source": [
    "Mendefinisikan numerical column untuk dilakukan distribusi data, outlier handling dan missing value handling"
   ]
  },
  {
   "cell_type": "code",
   "execution_count": 17,
   "metadata": {},
   "outputs": [],
   "source": [
    "# Numerical Column \n",
    "numerical_col = X_train[['Age','ExperienceInCurrentDomain']]"
   ]
  },
  {
   "cell_type": "markdown",
   "metadata": {},
   "source": [
    "Melakukan pengecekan distribusi data"
   ]
  },
  {
   "cell_type": "code",
   "execution_count": 18,
   "metadata": {},
   "outputs": [],
   "source": [
    "# Input Paramater Distribution  Check\n",
    "dis_check = numerical_col.skew()\n",
    "\n",
    "normal_dis = []\n",
    "skew_dis = []\n",
    "\n",
    "for i in range(len(dis_check)):\n",
    "    if dis_check.values[i] < -0.5:\n",
    "        skew_dis.append(dis_check.index[i])\n",
    "    elif dis_check.values[i] > 0.5:\n",
    "        skew_dis.append(dis_check.index[i])\n",
    "    else:\n",
    "        normal_dis.append(dis_check.index[i])"
   ]
  },
  {
   "cell_type": "markdown",
   "metadata": {},
   "source": [
    "Melihat distribusi data"
   ]
  },
  {
   "cell_type": "code",
   "execution_count": 19,
   "metadata": {},
   "outputs": [
    {
     "name": "stdout",
     "output_type": "stream",
     "text": [
      "skew_dist : ['Age']\n",
      "==============================================================================================================================================================================================\n",
      "normal_dist : ['ExperienceInCurrentDomain']\n",
      "==============================================================================================================================================================================================\n"
     ]
    }
   ],
   "source": [
    "# Skew dist\n",
    "print('skew_dist :', skew_dis)\n",
    "print(\"===================\" *10)\n",
    "# normal_dist\n",
    "print('normal_dist :',normal_dis)\n",
    "print(\"===================\" *10)"
   ]
  },
  {
   "cell_type": "markdown",
   "metadata": {},
   "source": [
    "- Kolom 'Age' merupakan skewed distribution data, dan kolom ExperienceInCurrentDomain normal distribution data."
   ]
  },
  {
   "cell_type": "markdown",
   "metadata": {},
   "source": [
    "## Handle Outlier"
   ]
  },
  {
   "cell_type": "code",
   "execution_count": 20,
   "metadata": {},
   "outputs": [
    {
     "data": {
      "text/html": [
       "<div>\n",
       "<style scoped>\n",
       "    .dataframe tbody tr th:only-of-type {\n",
       "        vertical-align: middle;\n",
       "    }\n",
       "\n",
       "    .dataframe tbody tr th {\n",
       "        vertical-align: top;\n",
       "    }\n",
       "\n",
       "    .dataframe thead th {\n",
       "        text-align: right;\n",
       "    }\n",
       "</style>\n",
       "<table border=\"1\" class=\"dataframe\">\n",
       "  <thead>\n",
       "    <tr style=\"text-align: right;\">\n",
       "      <th></th>\n",
       "      <th>JoiningYear</th>\n",
       "      <th>PaymentTier</th>\n",
       "      <th>Age</th>\n",
       "      <th>ExperienceInCurrentDomain</th>\n",
       "    </tr>\n",
       "  </thead>\n",
       "  <tbody>\n",
       "    <tr>\n",
       "      <th>count</th>\n",
       "      <td>3474.000000</td>\n",
       "      <td>3474.000000</td>\n",
       "      <td>3474.000000</td>\n",
       "      <td>3474.000000</td>\n",
       "    </tr>\n",
       "    <tr>\n",
       "      <th>mean</th>\n",
       "      <td>2015.050086</td>\n",
       "      <td>2.698330</td>\n",
       "      <td>29.422280</td>\n",
       "      <td>2.899539</td>\n",
       "    </tr>\n",
       "    <tr>\n",
       "      <th>std</th>\n",
       "      <td>1.853494</td>\n",
       "      <td>0.562237</td>\n",
       "      <td>4.863632</td>\n",
       "      <td>1.557233</td>\n",
       "    </tr>\n",
       "    <tr>\n",
       "      <th>min</th>\n",
       "      <td>2012.000000</td>\n",
       "      <td>1.000000</td>\n",
       "      <td>22.000000</td>\n",
       "      <td>0.000000</td>\n",
       "    </tr>\n",
       "    <tr>\n",
       "      <th>25%</th>\n",
       "      <td>2013.000000</td>\n",
       "      <td>3.000000</td>\n",
       "      <td>26.000000</td>\n",
       "      <td>2.000000</td>\n",
       "    </tr>\n",
       "    <tr>\n",
       "      <th>50%</th>\n",
       "      <td>2015.000000</td>\n",
       "      <td>3.000000</td>\n",
       "      <td>28.000000</td>\n",
       "      <td>3.000000</td>\n",
       "    </tr>\n",
       "    <tr>\n",
       "      <th>75%</th>\n",
       "      <td>2017.000000</td>\n",
       "      <td>3.000000</td>\n",
       "      <td>33.000000</td>\n",
       "      <td>4.000000</td>\n",
       "    </tr>\n",
       "    <tr>\n",
       "      <th>max</th>\n",
       "      <td>2018.000000</td>\n",
       "      <td>3.000000</td>\n",
       "      <td>41.000000</td>\n",
       "      <td>7.000000</td>\n",
       "    </tr>\n",
       "  </tbody>\n",
       "</table>\n",
       "</div>"
      ],
      "text/plain": [
       "       JoiningYear  PaymentTier          Age  ExperienceInCurrentDomain\n",
       "count  3474.000000  3474.000000  3474.000000                3474.000000\n",
       "mean   2015.050086     2.698330    29.422280                   2.899539\n",
       "std       1.853494     0.562237     4.863632                   1.557233\n",
       "min    2012.000000     1.000000    22.000000                   0.000000\n",
       "25%    2013.000000     3.000000    26.000000                   2.000000\n",
       "50%    2015.000000     3.000000    28.000000                   3.000000\n",
       "75%    2017.000000     3.000000    33.000000                   4.000000\n",
       "max    2018.000000     3.000000    41.000000                   7.000000"
      ]
     },
     "execution_count": 20,
     "metadata": {},
     "output_type": "execute_result"
    }
   ],
   "source": [
    "X_train.describe()"
   ]
  },
  {
   "cell_type": "code",
   "execution_count": 21,
   "metadata": {},
   "outputs": [],
   "source": [
    "# Outliers Detection Function\n",
    "# for Normally Distributed Data\n",
    "\n",
    "def detect_normal(df, parameter):\n",
    "    \n",
    "    threshold = 3\n",
    "    mean_ = np.mean(df[parameter])\n",
    "    std_ = np.std(df[parameter])\n",
    "\n",
    "    upper_count = df[\n",
    "                    ((df[parameter]-mean_)/std_) > threshold\n",
    "                    ][parameter].count()\n",
    "\n",
    "    bottom_count = df[\n",
    "                    ((df[parameter]-mean_)/std_) < -threshold\n",
    "                    ][parameter].count()\n",
    "\n",
    "    total_count = upper_count + bottom_count\n",
    "\n",
    "    percentage = (total_count/len(df[parameter])*100).round(2)\n",
    "\n",
    "    a = ({'Parameter':parameter, 'Total Outliers':total_count, 'Percentage':percentage})\n",
    "\n",
    "    return print(a)"
   ]
  },
  {
   "cell_type": "code",
   "execution_count": 22,
   "metadata": {},
   "outputs": [],
   "source": [
    "# Outliers Detection Function\n",
    "# for Skew Distributed Data\n",
    "\n",
    "def detect_skew(df, parameter, fold=1.5):\n",
    "    \n",
    "    for i in parameter:\n",
    "        \n",
    "        IQR = df[parameter].quantile(0.75) - df[parameter].quantile(0.25)\n",
    "        upper = df[parameter].quantile(0.75) + (fold*IQR)\n",
    "        bottom = df[parameter].quantile(0.25) - (fold*IQR)\n",
    "\n",
    "        upper_count = df[\n",
    "            (df[parameter] > upper)\n",
    "        ][parameter].count()\n",
    "\n",
    "        bottom_count = df[\n",
    "            (df[parameter] < bottom)\n",
    "        ][parameter].count()\n",
    "        \n",
    "        total_count = upper_count + bottom_count\n",
    "\n",
    "        percentage = (total_count/len(df[parameter])*100).round(2)\n",
    "\n",
    "        a = ({'Parameter':parameter, 'Total Outliers':total_count, 'Percentage':percentage})\n",
    "\n",
    "    return print(a)"
   ]
  },
  {
   "cell_type": "markdown",
   "metadata": {},
   "source": [
    "Check Oulier Normal Dist Data"
   ]
  },
  {
   "cell_type": "code",
   "execution_count": 23,
   "metadata": {},
   "outputs": [
    {
     "name": "stdout",
     "output_type": "stream",
     "text": [
      "{'Parameter': 'ExperienceInCurrentDomain', 'Total Outliers': 0, 'Percentage': 0.0}\n"
     ]
    }
   ],
   "source": [
    "# Outlier summary\n",
    "# For normally distributed input parameter\n",
    "\n",
    "for i in normal_dis:\n",
    "    detect_normal(X_train, parameter=i)"
   ]
  },
  {
   "cell_type": "markdown",
   "metadata": {},
   "source": [
    "Check outlier Skewed Dist Data"
   ]
  },
  {
   "cell_type": "code",
   "execution_count": 24,
   "metadata": {},
   "outputs": [
    {
     "name": "stdout",
     "output_type": "stream",
     "text": [
      "{'Parameter': 'Age', 'Total Outliers': 0, 'Percentage': 0.0}\n"
     ]
    }
   ],
   "source": [
    "# Outlier summary\n",
    "# For skew distributed input parameter\n",
    "\n",
    "for i in skew_dis:\n",
    "    detect_skew(X_train, parameter=i)"
   ]
  },
  {
   "cell_type": "markdown",
   "metadata": {},
   "source": [
    "- Tidak terdapat outlier pada data"
   ]
  },
  {
   "cell_type": "markdown",
   "metadata": {},
   "source": [
    "## Handling Missing Value"
   ]
  },
  {
   "cell_type": "code",
   "execution_count": 25,
   "metadata": {},
   "outputs": [],
   "source": [
    "# create function to detect missing values\n",
    "\n",
    "def detect_missval(df):\n",
    "    global df_missval\n",
    "    df_missval = pd.DataFrame(columns=['col_name','missing_count','missing_percentage'])\n",
    "    for i in range(len(df.columns)):\n",
    "        if df.iloc[:,i].isnull().sum() != 0:\n",
    "            df_missval.loc[i] = [df.columns[i], # col_name\n",
    "                                df.iloc[:,i].isnull().sum(), # missing_count\n",
    "                                df.iloc[:,i].isnull().sum()/len(df.iloc[:,i])*100] # missing_percentage\n",
    "    print('Generate df_missval')\n",
    "    return df_missval"
   ]
  },
  {
   "cell_type": "markdown",
   "metadata": {},
   "source": [
    "Deteksi missing value pada train set"
   ]
  },
  {
   "cell_type": "code",
   "execution_count": 26,
   "metadata": {},
   "outputs": [
    {
     "name": "stdout",
     "output_type": "stream",
     "text": [
      "Generate df_missval\n"
     ]
    },
    {
     "data": {
      "text/html": [
       "<div>\n",
       "<style scoped>\n",
       "    .dataframe tbody tr th:only-of-type {\n",
       "        vertical-align: middle;\n",
       "    }\n",
       "\n",
       "    .dataframe tbody tr th {\n",
       "        vertical-align: top;\n",
       "    }\n",
       "\n",
       "    .dataframe thead th {\n",
       "        text-align: right;\n",
       "    }\n",
       "</style>\n",
       "<table border=\"1\" class=\"dataframe\">\n",
       "  <thead>\n",
       "    <tr style=\"text-align: right;\">\n",
       "      <th></th>\n",
       "      <th>col_name</th>\n",
       "      <th>missing_count</th>\n",
       "      <th>missing_percentage</th>\n",
       "    </tr>\n",
       "  </thead>\n",
       "  <tbody>\n",
       "  </tbody>\n",
       "</table>\n",
       "</div>"
      ],
      "text/plain": [
       "Empty DataFrame\n",
       "Columns: [col_name, missing_count, missing_percentage]\n",
       "Index: []"
      ]
     },
     "execution_count": 26,
     "metadata": {},
     "output_type": "execute_result"
    }
   ],
   "source": [
    "# X_train Set\n",
    "detect_missval(X_train)"
   ]
  },
  {
   "cell_type": "markdown",
   "metadata": {},
   "source": [
    "Deteksi missing value pada test set\n"
   ]
  },
  {
   "cell_type": "code",
   "execution_count": 27,
   "metadata": {},
   "outputs": [
    {
     "name": "stdout",
     "output_type": "stream",
     "text": [
      "Generate df_missval\n"
     ]
    },
    {
     "data": {
      "text/html": [
       "<div>\n",
       "<style scoped>\n",
       "    .dataframe tbody tr th:only-of-type {\n",
       "        vertical-align: middle;\n",
       "    }\n",
       "\n",
       "    .dataframe tbody tr th {\n",
       "        vertical-align: top;\n",
       "    }\n",
       "\n",
       "    .dataframe thead th {\n",
       "        text-align: right;\n",
       "    }\n",
       "</style>\n",
       "<table border=\"1\" class=\"dataframe\">\n",
       "  <thead>\n",
       "    <tr style=\"text-align: right;\">\n",
       "      <th></th>\n",
       "      <th>col_name</th>\n",
       "      <th>missing_count</th>\n",
       "      <th>missing_percentage</th>\n",
       "    </tr>\n",
       "  </thead>\n",
       "  <tbody>\n",
       "  </tbody>\n",
       "</table>\n",
       "</div>"
      ],
      "text/plain": [
       "Empty DataFrame\n",
       "Columns: [col_name, missing_count, missing_percentage]\n",
       "Index: []"
      ]
     },
     "execution_count": 27,
     "metadata": {},
     "output_type": "execute_result"
    }
   ],
   "source": [
    "# X_test Set\n",
    "detect_missval(X_test)"
   ]
  },
  {
   "cell_type": "code",
   "execution_count": 28,
   "metadata": {},
   "outputs": [
    {
     "name": "stdout",
     "output_type": "stream",
     "text": [
      "y_train:  0\n",
      "y_test:  0\n"
     ]
    }
   ],
   "source": [
    "# y_train\n",
    "print('y_train: ',y_train.isna().sum())\n",
    "# y_test\n",
    "print('y_test: ', y_test.isna().sum())"
   ]
  },
  {
   "cell_type": "markdown",
   "metadata": {},
   "source": [
    "- Tidak terdapat missing value pada data"
   ]
  },
  {
   "cell_type": "markdown",
   "metadata": {},
   "source": [
    "## Columns categorization"
   ]
  },
  {
   "cell_type": "markdown",
   "metadata": {},
   "source": [
    "Memisahkan numerical column, dan categorical column nominal dan ordinal"
   ]
  },
  {
   "cell_type": "code",
   "execution_count": 29,
   "metadata": {},
   "outputs": [
    {
     "data": {
      "text/html": [
       "<div>\n",
       "<style scoped>\n",
       "    .dataframe tbody tr th:only-of-type {\n",
       "        vertical-align: middle;\n",
       "    }\n",
       "\n",
       "    .dataframe tbody tr th {\n",
       "        vertical-align: top;\n",
       "    }\n",
       "\n",
       "    .dataframe thead th {\n",
       "        text-align: right;\n",
       "    }\n",
       "</style>\n",
       "<table border=\"1\" class=\"dataframe\">\n",
       "  <thead>\n",
       "    <tr style=\"text-align: right;\">\n",
       "      <th></th>\n",
       "      <th>Education</th>\n",
       "      <th>JoiningYear</th>\n",
       "      <th>City</th>\n",
       "      <th>PaymentTier</th>\n",
       "      <th>Age</th>\n",
       "      <th>Gender</th>\n",
       "      <th>EverBenched</th>\n",
       "      <th>ExperienceInCurrentDomain</th>\n",
       "      <th>LeaveOrNot</th>\n",
       "    </tr>\n",
       "  </thead>\n",
       "  <tbody>\n",
       "    <tr>\n",
       "      <th>0</th>\n",
       "      <td>Bachelors</td>\n",
       "      <td>2017</td>\n",
       "      <td>Bangalore</td>\n",
       "      <td>3</td>\n",
       "      <td>34</td>\n",
       "      <td>Male</td>\n",
       "      <td>No</td>\n",
       "      <td>0</td>\n",
       "      <td>0</td>\n",
       "    </tr>\n",
       "    <tr>\n",
       "      <th>1</th>\n",
       "      <td>Bachelors</td>\n",
       "      <td>2013</td>\n",
       "      <td>Pune</td>\n",
       "      <td>1</td>\n",
       "      <td>28</td>\n",
       "      <td>Female</td>\n",
       "      <td>No</td>\n",
       "      <td>3</td>\n",
       "      <td>1</td>\n",
       "    </tr>\n",
       "  </tbody>\n",
       "</table>\n",
       "</div>"
      ],
      "text/plain": [
       "   Education  JoiningYear       City  PaymentTier  Age  Gender EverBenched  \\\n",
       "0  Bachelors         2017  Bangalore            3   34    Male          No   \n",
       "1  Bachelors         2013       Pune            1   28  Female          No   \n",
       "\n",
       "   ExperienceInCurrentDomain  LeaveOrNot  \n",
       "0                          0           0  \n",
       "1                          3           1  "
      ]
     },
     "execution_count": 29,
     "metadata": {},
     "output_type": "execute_result"
    }
   ],
   "source": [
    "data.head(2)"
   ]
  },
  {
   "cell_type": "code",
   "execution_count": 30,
   "metadata": {},
   "outputs": [],
   "source": [
    "# Numerical Column Normal\n",
    "numerical = X_train[['Age','ExperienceInCurrentDomain']].columns.tolist()\n",
    "\n",
    "# Cat column nominal\n",
    "categorical_nom = X_train[['JoiningYear','Gender','City']].columns.tolist()\n",
    "\n",
    "# Cat column ordinal\n",
    "categorical_or = X_train[[ 'Education', 'PaymentTier','EverBenched']].columns.tolist()\n"
   ]
  },
  {
   "cell_type": "markdown",
   "metadata": {},
   "source": [
    "## Feature Engineer"
   ]
  },
  {
   "cell_type": "code",
   "execution_count": 31,
   "metadata": {},
   "outputs": [],
   "source": [
    "# Menggunakan MinMaxScaller karena data numerical dominan skewed distribution\n",
    "numerical_pipe = make_pipeline(MinMaxScaler())\n",
    "\n",
    "# Menggunakan OneHotEncoder untuk data categorical nominal\n",
    "nominal_pipe = make_pipeline(OneHotEncoder())\n",
    "\n",
    "# Menggunakan OrdinalEncoder untuk data categorical ordinal\n",
    "ordinal_pipe = make_pipeline(OrdinalEncoder())\n",
    "\n",
    "data_pipeline = ColumnTransformer([\n",
    "    ('numerical_pipe', numerical_pipe, numerical),\n",
    "    ('nominal_pipe', nominal_pipe, categorical_nom),\n",
    "    ('ordinal_pipe', ordinal_pipe, categorical_or)])"
   ]
  },
  {
   "cell_type": "markdown",
   "metadata": {},
   "source": [
    "## Balancing Data"
   ]
  },
  {
   "cell_type": "markdown",
   "metadata": {},
   "source": [
    "Melakukan balancing data pada train set, karena data memiliki target tidak seimbang antarkelasnya, dilakukan balancing data agar model dapat belajar lebih banyak pada kelas minoritas"
   ]
  },
  {
   "cell_type": "code",
   "execution_count": 32,
   "metadata": {},
   "outputs": [],
   "source": [
    "smote = SMOTENC(random_state = 11, categorical_features=[0,1,2,3,5,6])\n",
    "X_train, y_train = smote.fit_resample(X_train, y_train)"
   ]
  },
  {
   "cell_type": "markdown",
   "metadata": {},
   "source": [
    "# Model Definition"
   ]
  },
  {
   "cell_type": "markdown",
   "metadata": {},
   "source": [
    "Melakukan deklarasi model dengan Logistic Regression dan SVM Classification, Random Forest, Ada Boost, dan XGBoost model dibungkus dengan pipeline"
   ]
  },
  {
   "cell_type": "code",
   "execution_count": 33,
   "metadata": {},
   "outputs": [],
   "source": [
    "# Model Logistic Regression\n",
    "log_pipeline = make_pipeline(data_pipeline, LogisticRegression(random_state=2))\n",
    "\n",
    "# Model Ada SVC\n",
    "svm_pipeline = make_pipeline(data_pipeline, SVC(random_state=2))\n",
    "\n",
    "# Model Random Forest\n",
    "rf_pipeline = make_pipeline(data_pipeline, RandomForestClassifier(random_state=2))\n",
    "\n",
    "# Model Ada Boost\n",
    "ada_pipeline = make_pipeline(data_pipeline, AdaBoostClassifier(random_state=2))\n",
    "\n",
    "# Model XGBoost\n",
    "xgb_pipeline = make_pipeline(data_pipeline, XGBClassifier(random_state=2))"
   ]
  },
  {
   "cell_type": "markdown",
   "metadata": {},
   "source": [
    "# Model Training"
   ]
  },
  {
   "cell_type": "markdown",
   "metadata": {},
   "source": [
    "Melakukan training model dengan data X_train dan y_train"
   ]
  },
  {
   "cell_type": "markdown",
   "metadata": {},
   "source": [
    "## Logistic Regression"
   ]
  },
  {
   "cell_type": "code",
   "execution_count": 34,
   "metadata": {},
   "outputs": [
    {
     "data": {
      "text/plain": [
       "Pipeline(steps=[('columntransformer',\n",
       "                 ColumnTransformer(transformers=[('numerical_pipe',\n",
       "                                                  Pipeline(steps=[('minmaxscaler',\n",
       "                                                                   MinMaxScaler())]),\n",
       "                                                  ['Age',\n",
       "                                                   'ExperienceInCurrentDomain']),\n",
       "                                                 ('nominal_pipe',\n",
       "                                                  Pipeline(steps=[('onehotencoder',\n",
       "                                                                   OneHotEncoder())]),\n",
       "                                                  ['JoiningYear', 'Gender',\n",
       "                                                   'City']),\n",
       "                                                 ('ordinal_pipe',\n",
       "                                                  Pipeline(steps=[('ordinalencoder',\n",
       "                                                                   OrdinalEncoder())]),\n",
       "                                                  ['Education', 'PaymentTier',\n",
       "                                                   'EverBenched'])])),\n",
       "                ('logisticregression', LogisticRegression(random_state=2))])"
      ]
     },
     "execution_count": 34,
     "metadata": {},
     "output_type": "execute_result"
    }
   ],
   "source": [
    "log_pipeline.fit(X_train,y_train)"
   ]
  },
  {
   "cell_type": "markdown",
   "metadata": {},
   "source": [
    "## SVM"
   ]
  },
  {
   "cell_type": "code",
   "execution_count": 35,
   "metadata": {},
   "outputs": [
    {
     "data": {
      "text/plain": [
       "Pipeline(steps=[('columntransformer',\n",
       "                 ColumnTransformer(transformers=[('numerical_pipe',\n",
       "                                                  Pipeline(steps=[('minmaxscaler',\n",
       "                                                                   MinMaxScaler())]),\n",
       "                                                  ['Age',\n",
       "                                                   'ExperienceInCurrentDomain']),\n",
       "                                                 ('nominal_pipe',\n",
       "                                                  Pipeline(steps=[('onehotencoder',\n",
       "                                                                   OneHotEncoder())]),\n",
       "                                                  ['JoiningYear', 'Gender',\n",
       "                                                   'City']),\n",
       "                                                 ('ordinal_pipe',\n",
       "                                                  Pipeline(steps=[('ordinalencoder',\n",
       "                                                                   OrdinalEncoder())]),\n",
       "                                                  ['Education', 'PaymentTier',\n",
       "                                                   'EverBenched'])])),\n",
       "                ('svc', SVC(random_state=2))])"
      ]
     },
     "execution_count": 35,
     "metadata": {},
     "output_type": "execute_result"
    }
   ],
   "source": [
    "svm_pipeline.fit(X_train,y_train)"
   ]
  },
  {
   "cell_type": "markdown",
   "metadata": {},
   "source": [
    "## Random Forest"
   ]
  },
  {
   "cell_type": "code",
   "execution_count": 36,
   "metadata": {},
   "outputs": [
    {
     "data": {
      "text/plain": [
       "Pipeline(steps=[('columntransformer',\n",
       "                 ColumnTransformer(transformers=[('numerical_pipe',\n",
       "                                                  Pipeline(steps=[('minmaxscaler',\n",
       "                                                                   MinMaxScaler())]),\n",
       "                                                  ['Age',\n",
       "                                                   'ExperienceInCurrentDomain']),\n",
       "                                                 ('nominal_pipe',\n",
       "                                                  Pipeline(steps=[('onehotencoder',\n",
       "                                                                   OneHotEncoder())]),\n",
       "                                                  ['JoiningYear', 'Gender',\n",
       "                                                   'City']),\n",
       "                                                 ('ordinal_pipe',\n",
       "                                                  Pipeline(steps=[('ordinalencoder',\n",
       "                                                                   OrdinalEncoder())]),\n",
       "                                                  ['Education', 'PaymentTier',\n",
       "                                                   'EverBenched'])])),\n",
       "                ('randomforestclassifier',\n",
       "                 RandomForestClassifier(random_state=2))])"
      ]
     },
     "execution_count": 36,
     "metadata": {},
     "output_type": "execute_result"
    }
   ],
   "source": [
    "rf_pipeline.fit(X_train,y_train)"
   ]
  },
  {
   "cell_type": "markdown",
   "metadata": {},
   "source": [
    "## Ada Boost Classifier"
   ]
  },
  {
   "cell_type": "code",
   "execution_count": 37,
   "metadata": {},
   "outputs": [
    {
     "data": {
      "text/plain": [
       "Pipeline(steps=[('columntransformer',\n",
       "                 ColumnTransformer(transformers=[('numerical_pipe',\n",
       "                                                  Pipeline(steps=[('minmaxscaler',\n",
       "                                                                   MinMaxScaler())]),\n",
       "                                                  ['Age',\n",
       "                                                   'ExperienceInCurrentDomain']),\n",
       "                                                 ('nominal_pipe',\n",
       "                                                  Pipeline(steps=[('onehotencoder',\n",
       "                                                                   OneHotEncoder())]),\n",
       "                                                  ['JoiningYear', 'Gender',\n",
       "                                                   'City']),\n",
       "                                                 ('ordinal_pipe',\n",
       "                                                  Pipeline(steps=[('ordinalencoder',\n",
       "                                                                   OrdinalEncoder())]),\n",
       "                                                  ['Education', 'PaymentTier',\n",
       "                                                   'EverBenched'])])),\n",
       "                ('adaboostclassifier', AdaBoostClassifier(random_state=2))])"
      ]
     },
     "execution_count": 37,
     "metadata": {},
     "output_type": "execute_result"
    }
   ],
   "source": [
    "ada_pipeline.fit(X_train,y_train)\n"
   ]
  },
  {
   "cell_type": "markdown",
   "metadata": {},
   "source": [
    "## XGBoost Clasifier"
   ]
  },
  {
   "cell_type": "code",
   "execution_count": 38,
   "metadata": {},
   "outputs": [
    {
     "name": "stdout",
     "output_type": "stream",
     "text": [
      "[16:40:07] WARNING: ..\\src\\learner.cc:1115: Starting in XGBoost 1.3.0, the default evaluation metric used with the objective 'binary:logistic' was changed from 'error' to 'logloss'. Explicitly set eval_metric if you'd like to restore the old behavior.\n"
     ]
    },
    {
     "name": "stderr",
     "output_type": "stream",
     "text": [
      "c:\\Users\\rioar\\anaconda3\\lib\\site-packages\\xgboost\\sklearn.py:1224: UserWarning: The use of label encoder in XGBClassifier is deprecated and will be removed in a future release. To remove this warning, do the following: 1) Pass option use_label_encoder=False when constructing XGBClassifier object; and 2) Encode your labels (y) as integers starting with 0, i.e. 0, 1, 2, ..., [num_class - 1].\n",
      "  warnings.warn(label_encoder_deprecation_msg, UserWarning)\n"
     ]
    },
    {
     "data": {
      "text/plain": [
       "Pipeline(steps=[('columntransformer',\n",
       "                 ColumnTransformer(transformers=[('numerical_pipe',\n",
       "                                                  Pipeline(steps=[('minmaxscaler',\n",
       "                                                                   MinMaxScaler())]),\n",
       "                                                  ['Age',\n",
       "                                                   'ExperienceInCurrentDomain']),\n",
       "                                                 ('nominal_pipe',\n",
       "                                                  Pipeline(steps=[('onehotencoder',\n",
       "                                                                   OneHotEncoder())]),\n",
       "                                                  ['JoiningYear', 'Gender',\n",
       "                                                   'City']),\n",
       "                                                 ('ordinal_pipe',\n",
       "                                                  Pipeline(steps=[('ordinalencoder',\n",
       "                                                                   OrdinalEncoder())]),\n",
       "                                                  ['Edu...\n",
       "                               gamma=0, gpu_id=-1, importance_type=None,\n",
       "                               interaction_constraints='',\n",
       "                               learning_rate=0.300000012, max_delta_step=0,\n",
       "                               max_depth=6, min_child_weight=1, missing=nan,\n",
       "                               monotone_constraints='()', n_estimators=100,\n",
       "                               n_jobs=16, num_parallel_tree=1, predictor='auto',\n",
       "                               random_state=2, reg_alpha=0, reg_lambda=1,\n",
       "                               scale_pos_weight=1, subsample=1,\n",
       "                               tree_method='exact', validate_parameters=1,\n",
       "                               verbosity=None))])"
      ]
     },
     "execution_count": 38,
     "metadata": {},
     "output_type": "execute_result"
    }
   ],
   "source": [
    "xgb_pipeline.fit(X_train,y_train)"
   ]
  },
  {
   "cell_type": "markdown",
   "metadata": {},
   "source": [
    "# Model Evaluation"
   ]
  },
  {
   "cell_type": "markdown",
   "metadata": {},
   "source": [
    "Melakukan evaluasi untuk melihat performa dari model"
   ]
  },
  {
   "cell_type": "code",
   "execution_count": 39,
   "metadata": {},
   "outputs": [
    {
     "name": "stdout",
     "output_type": "stream",
     "text": [
      "ROC AUC Train Results Logistic Regression\n",
      "0.7635017421602788\n",
      "ROC AUC Test Results Logistic Regression\n",
      "0.7238768184149198\n",
      "-------------------------------------------------\n",
      "ROC AUC Train Results SVM\n",
      "0.8334059233449477\n",
      "ROC AUC Test Results SVM\n",
      "0.7989827911898163\n",
      "-------------------------------------------------\n",
      "ROC AUC Train Results Random Forest\n",
      "0.9268292682926829\n",
      "ROC AUC Test Results Random Forest\n",
      "0.7800651091535811\n",
      "-------------------------------------------------\n",
      "ROC AUC Train Results Ada Boost\n",
      "0.7831010452961673\n",
      "ROC AUC Test Results Ada Boost\n",
      "0.7403731929451018\n",
      "-------------------------------------------------\n",
      "ROC AUC Train Results XGBoost\n",
      "0.9037456445993032\n",
      "ROC AUC Test Results XGBoost\n",
      "0.8007127602256425\n"
     ]
    }
   ],
   "source": [
    "#Performance Metrics\n",
    "print('ROC AUC Train Results Logistic Regression')\n",
    "print(roc_auc_score(y_train, log_pipeline.predict(X_train)))\n",
    "\n",
    "print('ROC AUC Test Results Logistic Regression')\n",
    "print(roc_auc_score(y_test, log_pipeline.predict(X_test)))\n",
    "print ('-------------------------------------------------')\n",
    "\n",
    "print('ROC AUC Train Results SVM')\n",
    "print(roc_auc_score(y_train, svm_pipeline.predict(X_train)))\n",
    "\n",
    "print('ROC AUC Test Results SVM')\n",
    "print(roc_auc_score(y_test, svm_pipeline.predict(X_test)))\n",
    "print ('-------------------------------------------------')\n",
    "\n",
    "print('ROC AUC Train Results Random Forest')\n",
    "print(roc_auc_score(y_train, rf_pipeline.predict(X_train)))\n",
    "\n",
    "print('ROC AUC Test Results Random Forest')\n",
    "print(roc_auc_score(y_test, rf_pipeline.predict(X_test)))\n",
    "print ('-------------------------------------------------')\n",
    "\n",
    "print('ROC AUC Train Results Ada Boost')\n",
    "print(roc_auc_score(y_train, ada_pipeline.predict(X_train)))\n",
    "\n",
    "print('ROC AUC Test Results Ada Boost')\n",
    "print(roc_auc_score(y_test, ada_pipeline.predict(X_test)))\n",
    "print ('-------------------------------------------------')\n",
    "\n",
    "print('ROC AUC Train Results XGBoost')\n",
    "print(roc_auc_score(y_train, xgb_pipeline.predict(X_train)))\n",
    "\n",
    "print('ROC AUC Test Results XGBoost')\n",
    "print(roc_auc_score(y_test, xgb_pipeline.predict(X_test)))"
   ]
  },
  {
   "cell_type": "markdown",
   "metadata": {},
   "source": [
    "- Ditinjau berdasarkan score ROC-AUC nya model random forest menjadi model dengan nilai roc-auc paling tinggi dibandingkan model lainnya, dengan nilai roc-auc pada train set sebesar 0.92 dan test set sebesar 0.78, perbedaan nilai tersebut diakibatkan karena pada train set dilakukan smote, setelah dilakukan smote data kelas 0 dan 1 nya seimbang sehingga membuat nilai roc-aucnya tinggi.\n",
    "- Nilai ROC XGBoost menjadi yang tertinggi di test set dibandingkan dengan model lainnya dengan nilai 0.8, dan model logistic menjadi yang terendah nilai roc-auc pada test set dengan 0.72."
   ]
  },
  {
   "cell_type": "code",
   "execution_count": 40,
   "metadata": {},
   "outputs": [
    {
     "name": "stdout",
     "output_type": "stream",
     "text": [
      "ROC AUC Train Results Random Forest with Hyperparameter Tuning\n",
      "              precision    recall  f1-score   support\n",
      "\n",
      "           0       0.88      0.94      0.91      2296\n",
      "           1       0.93      0.87      0.90      2296\n",
      "\n",
      "    accuracy                           0.90      4592\n",
      "   macro avg       0.91      0.90      0.90      4592\n",
      "weighted avg       0.91      0.90      0.90      4592\n",
      "\n",
      "ROC AUC Test Results Random Forest with Hyperparameter Tuning\n",
      "              precision    recall  f1-score   support\n",
      "\n",
      "           0       0.85      0.88      0.87       746\n",
      "           1       0.77      0.72      0.74       413\n",
      "\n",
      "    accuracy                           0.82      1159\n",
      "   macro avg       0.81      0.80      0.81      1159\n",
      "weighted avg       0.82      0.82      0.82      1159\n",
      "\n"
     ]
    }
   ],
   "source": [
    "print('ROC AUC Train Results Random Forest with Hyperparameter Tuning')\n",
    "print(classification_report(y_train, xgb_pipeline.predict(X_train)))\n",
    "\n",
    "print('ROC AUC Test Results Random Forest with Hyperparameter Tuning')\n",
    "print(classification_report(y_test, xgb_pipeline.predict(X_test)))"
   ]
  },
  {
   "cell_type": "markdown",
   "metadata": {},
   "source": [
    "# Cross Validation"
   ]
  },
  {
   "cell_type": "markdown",
   "metadata": {},
   "source": [
    "Melakukan Cross Validation pada semua model untuk melihat model mana yang paling baik dalam memprediksi model, CV dilakukan sebanyak 5 kali dengan roc-auc sebagai metric penilaiannya"
   ]
  },
  {
   "cell_type": "code",
   "execution_count": 41,
   "metadata": {},
   "outputs": [
    {
     "name": "stderr",
     "output_type": "stream",
     "text": [
      "c:\\Users\\rioar\\anaconda3\\lib\\site-packages\\xgboost\\sklearn.py:1224: UserWarning: The use of label encoder in XGBClassifier is deprecated and will be removed in a future release. To remove this warning, do the following: 1) Pass option use_label_encoder=False when constructing XGBClassifier object; and 2) Encode your labels (y) as integers starting with 0, i.e. 0, 1, 2, ..., [num_class - 1].\n",
      "  warnings.warn(label_encoder_deprecation_msg, UserWarning)\n"
     ]
    },
    {
     "name": "stdout",
     "output_type": "stream",
     "text": [
      "[16:40:14] WARNING: ..\\src\\learner.cc:1115: Starting in XGBoost 1.3.0, the default evaluation metric used with the objective 'binary:logistic' was changed from 'error' to 'logloss'. Explicitly set eval_metric if you'd like to restore the old behavior.\n"
     ]
    }
   ],
   "source": [
    "# Cross-validate base model\n",
    "\n",
    "# prepare models and put it into list\n",
    "models = []\n",
    "models.append((\"Logistic\", log_pipeline))\n",
    "models.append((\"SVM\", svm_pipeline))\n",
    "models.append((\"Random Forest\", rf_pipeline))\n",
    "models.append((\"Ada Boost\", ada_pipeline))\n",
    "models.append((\"XGBoost\", xgb_pipeline))\n",
    "\n",
    "# Create empty list to stores result\n",
    "names = []\n",
    "results = []\n",
    "mean_score = []\n",
    "stdev_score = []\n",
    "\n",
    "# Cross-validate each model\n",
    "for name, model in models:\n",
    "    model.fit(X_train,y_train)\n",
    "    scores = cross_val_score(model, X_train, y_train, scoring='roc_auc', cv=5, n_jobs=-1)\n",
    "\n",
    "    names.append(name)\n",
    "    results.append(scores)\n",
    "    mean_score.append(round(np.mean(scores),4))\n",
    "    stdev_score.append(round(np.std(scores),4))\n",
    "\n",
    "cv_result = pd.DataFrame({'models':names, 'mean_score':mean_score, 'stdev_score':stdev_score})"
   ]
  },
  {
   "cell_type": "markdown",
   "metadata": {},
   "source": [
    "Melihat hasil cross validation\n"
   ]
  },
  {
   "cell_type": "code",
   "execution_count": 42,
   "metadata": {},
   "outputs": [
    {
     "data": {
      "text/html": [
       "<div>\n",
       "<style scoped>\n",
       "    .dataframe tbody tr th:only-of-type {\n",
       "        vertical-align: middle;\n",
       "    }\n",
       "\n",
       "    .dataframe tbody tr th {\n",
       "        vertical-align: top;\n",
       "    }\n",
       "\n",
       "    .dataframe thead th {\n",
       "        text-align: right;\n",
       "    }\n",
       "</style>\n",
       "<table border=\"1\" class=\"dataframe\">\n",
       "  <thead>\n",
       "    <tr style=\"text-align: right;\">\n",
       "      <th></th>\n",
       "      <th>models</th>\n",
       "      <th>mean_score</th>\n",
       "      <th>stdev_score</th>\n",
       "    </tr>\n",
       "  </thead>\n",
       "  <tbody>\n",
       "    <tr>\n",
       "      <th>4</th>\n",
       "      <td>XGBoost</td>\n",
       "      <td>0.9227</td>\n",
       "      <td>0.0267</td>\n",
       "    </tr>\n",
       "    <tr>\n",
       "      <th>2</th>\n",
       "      <td>Random Forest</td>\n",
       "      <td>0.9176</td>\n",
       "      <td>0.0307</td>\n",
       "    </tr>\n",
       "    <tr>\n",
       "      <th>1</th>\n",
       "      <td>SVM</td>\n",
       "      <td>0.8834</td>\n",
       "      <td>0.0163</td>\n",
       "    </tr>\n",
       "    <tr>\n",
       "      <th>3</th>\n",
       "      <td>Ada Boost</td>\n",
       "      <td>0.8417</td>\n",
       "      <td>0.0260</td>\n",
       "    </tr>\n",
       "    <tr>\n",
       "      <th>0</th>\n",
       "      <td>Logistic</td>\n",
       "      <td>0.8154</td>\n",
       "      <td>0.0202</td>\n",
       "    </tr>\n",
       "  </tbody>\n",
       "</table>\n",
       "</div>"
      ],
      "text/plain": [
       "          models  mean_score  stdev_score\n",
       "4        XGBoost      0.9227       0.0267\n",
       "2  Random Forest      0.9176       0.0307\n",
       "1            SVM      0.8834       0.0163\n",
       "3      Ada Boost      0.8417       0.0260\n",
       "0       Logistic      0.8154       0.0202"
      ]
     },
     "execution_count": 42,
     "metadata": {},
     "output_type": "execute_result"
    }
   ],
   "source": [
    "cv_result.sort_values(by='mean_score', ascending=False)"
   ]
  },
  {
   "cell_type": "markdown",
   "metadata": {},
   "source": [
    "- Setelah dilakukan cross validation, model XGBoost menadapatkan nilai rata-rata tertinggi dibandingkan model lainnya, dengan nilai 0.9227 +- 0.0267 untuk batas atas dan bawahnya, diikuti dengan model random forest dengan mean score 0.9176 +- 0.0307 untuk batas atas dan bawahnya."
   ]
  },
  {
   "cell_type": "markdown",
   "metadata": {},
   "source": [
    "# Model Improvement"
   ]
  },
  {
   "cell_type": "markdown",
   "metadata": {},
   "source": [
    "Melakukan model improvement dengan hyperparameter tuning menggunakan gridsearch."
   ]
  },
  {
   "cell_type": "code",
   "execution_count": 43,
   "metadata": {},
   "outputs": [
    {
     "name": "stdout",
     "output_type": "stream",
     "text": [
      "Best:0.923435using{'randomforestclassifier__criterion': 'entropy', 'randomforestclassifier__max_features': 8, 'randomforestclassifier__min_samples_split': 8, 'randomforestclassifier__n_estimators': 200}\n",
      " 0.904224 (0.009596) with: {'randomforestclassifier__criterion': 'gini', 'randomforestclassifier__max_features': 2, 'randomforestclassifier__min_samples_split': 2, 'randomforestclassifier__n_estimators': 10}\n",
      " 0.909786 (0.009476) with: {'randomforestclassifier__criterion': 'gini', 'randomforestclassifier__max_features': 2, 'randomforestclassifier__min_samples_split': 2, 'randomforestclassifier__n_estimators': 30}\n",
      " 0.911601 (0.009774) with: {'randomforestclassifier__criterion': 'gini', 'randomforestclassifier__max_features': 2, 'randomforestclassifier__min_samples_split': 2, 'randomforestclassifier__n_estimators': 50}\n",
      " 0.912540 (0.010175) with: {'randomforestclassifier__criterion': 'gini', 'randomforestclassifier__max_features': 2, 'randomforestclassifier__min_samples_split': 2, 'randomforestclassifier__n_estimators': 100}\n",
      " 0.912692 (0.010042) with: {'randomforestclassifier__criterion': 'gini', 'randomforestclassifier__max_features': 2, 'randomforestclassifier__min_samples_split': 2, 'randomforestclassifier__n_estimators': 150}\n",
      " 0.912932 (0.010021) with: {'randomforestclassifier__criterion': 'gini', 'randomforestclassifier__max_features': 2, 'randomforestclassifier__min_samples_split': 2, 'randomforestclassifier__n_estimators': 200}\n",
      " 0.907620 (0.010356) with: {'randomforestclassifier__criterion': 'gini', 'randomforestclassifier__max_features': 2, 'randomforestclassifier__min_samples_split': 4, 'randomforestclassifier__n_estimators': 10}\n",
      " 0.913214 (0.009376) with: {'randomforestclassifier__criterion': 'gini', 'randomforestclassifier__max_features': 2, 'randomforestclassifier__min_samples_split': 4, 'randomforestclassifier__n_estimators': 30}\n",
      " 0.913622 (0.009901) with: {'randomforestclassifier__criterion': 'gini', 'randomforestclassifier__max_features': 2, 'randomforestclassifier__min_samples_split': 4, 'randomforestclassifier__n_estimators': 50}\n",
      " 0.914242 (0.009863) with: {'randomforestclassifier__criterion': 'gini', 'randomforestclassifier__max_features': 2, 'randomforestclassifier__min_samples_split': 4, 'randomforestclassifier__n_estimators': 100}\n",
      " 0.914429 (0.009718) with: {'randomforestclassifier__criterion': 'gini', 'randomforestclassifier__max_features': 2, 'randomforestclassifier__min_samples_split': 4, 'randomforestclassifier__n_estimators': 150}\n",
      " 0.914671 (0.009573) with: {'randomforestclassifier__criterion': 'gini', 'randomforestclassifier__max_features': 2, 'randomforestclassifier__min_samples_split': 4, 'randomforestclassifier__n_estimators': 200}\n",
      " 0.909170 (0.010609) with: {'randomforestclassifier__criterion': 'gini', 'randomforestclassifier__max_features': 2, 'randomforestclassifier__min_samples_split': 8, 'randomforestclassifier__n_estimators': 10}\n",
      " 0.913071 (0.010338) with: {'randomforestclassifier__criterion': 'gini', 'randomforestclassifier__max_features': 2, 'randomforestclassifier__min_samples_split': 8, 'randomforestclassifier__n_estimators': 30}\n",
      " 0.913957 (0.010447) with: {'randomforestclassifier__criterion': 'gini', 'randomforestclassifier__max_features': 2, 'randomforestclassifier__min_samples_split': 8, 'randomforestclassifier__n_estimators': 50}\n",
      " 0.914833 (0.010427) with: {'randomforestclassifier__criterion': 'gini', 'randomforestclassifier__max_features': 2, 'randomforestclassifier__min_samples_split': 8, 'randomforestclassifier__n_estimators': 100}\n",
      " 0.915103 (0.010319) with: {'randomforestclassifier__criterion': 'gini', 'randomforestclassifier__max_features': 2, 'randomforestclassifier__min_samples_split': 8, 'randomforestclassifier__n_estimators': 150}\n",
      " 0.915155 (0.010318) with: {'randomforestclassifier__criterion': 'gini', 'randomforestclassifier__max_features': 2, 'randomforestclassifier__min_samples_split': 8, 'randomforestclassifier__n_estimators': 200}\n",
      " 0.905613 (0.010598) with: {'randomforestclassifier__criterion': 'gini', 'randomforestclassifier__max_features': 2, 'randomforestclassifier__min_samples_split': 16, 'randomforestclassifier__n_estimators': 10}\n",
      " 0.908382 (0.011387) with: {'randomforestclassifier__criterion': 'gini', 'randomforestclassifier__max_features': 2, 'randomforestclassifier__min_samples_split': 16, 'randomforestclassifier__n_estimators': 30}\n",
      " 0.909146 (0.011389) with: {'randomforestclassifier__criterion': 'gini', 'randomforestclassifier__max_features': 2, 'randomforestclassifier__min_samples_split': 16, 'randomforestclassifier__n_estimators': 50}\n",
      " 0.910238 (0.011629) with: {'randomforestclassifier__criterion': 'gini', 'randomforestclassifier__max_features': 2, 'randomforestclassifier__min_samples_split': 16, 'randomforestclassifier__n_estimators': 100}\n",
      " 0.910908 (0.011594) with: {'randomforestclassifier__criterion': 'gini', 'randomforestclassifier__max_features': 2, 'randomforestclassifier__min_samples_split': 16, 'randomforestclassifier__n_estimators': 150}\n",
      " 0.911018 (0.011682) with: {'randomforestclassifier__criterion': 'gini', 'randomforestclassifier__max_features': 2, 'randomforestclassifier__min_samples_split': 16, 'randomforestclassifier__n_estimators': 200}\n",
      " 0.898482 (0.014074) with: {'randomforestclassifier__criterion': 'gini', 'randomforestclassifier__max_features': 2, 'randomforestclassifier__min_samples_split': 32, 'randomforestclassifier__n_estimators': 10}\n",
      " 0.901465 (0.013330) with: {'randomforestclassifier__criterion': 'gini', 'randomforestclassifier__max_features': 2, 'randomforestclassifier__min_samples_split': 32, 'randomforestclassifier__n_estimators': 30}\n",
      " 0.902588 (0.013328) with: {'randomforestclassifier__criterion': 'gini', 'randomforestclassifier__max_features': 2, 'randomforestclassifier__min_samples_split': 32, 'randomforestclassifier__n_estimators': 50}\n",
      " 0.903526 (0.013176) with: {'randomforestclassifier__criterion': 'gini', 'randomforestclassifier__max_features': 2, 'randomforestclassifier__min_samples_split': 32, 'randomforestclassifier__n_estimators': 100}\n",
      " 0.904165 (0.013092) with: {'randomforestclassifier__criterion': 'gini', 'randomforestclassifier__max_features': 2, 'randomforestclassifier__min_samples_split': 32, 'randomforestclassifier__n_estimators': 150}\n",
      " 0.904093 (0.013209) with: {'randomforestclassifier__criterion': 'gini', 'randomforestclassifier__max_features': 2, 'randomforestclassifier__min_samples_split': 32, 'randomforestclassifier__n_estimators': 200}\n",
      " 0.888742 (0.016077) with: {'randomforestclassifier__criterion': 'gini', 'randomforestclassifier__max_features': 2, 'randomforestclassifier__min_samples_split': 64, 'randomforestclassifier__n_estimators': 10}\n",
      " 0.890677 (0.014332) with: {'randomforestclassifier__criterion': 'gini', 'randomforestclassifier__max_features': 2, 'randomforestclassifier__min_samples_split': 64, 'randomforestclassifier__n_estimators': 30}\n",
      " 0.891940 (0.013989) with: {'randomforestclassifier__criterion': 'gini', 'randomforestclassifier__max_features': 2, 'randomforestclassifier__min_samples_split': 64, 'randomforestclassifier__n_estimators': 50}\n",
      " 0.893307 (0.013940) with: {'randomforestclassifier__criterion': 'gini', 'randomforestclassifier__max_features': 2, 'randomforestclassifier__min_samples_split': 64, 'randomforestclassifier__n_estimators': 100}\n",
      " 0.893790 (0.014149) with: {'randomforestclassifier__criterion': 'gini', 'randomforestclassifier__max_features': 2, 'randomforestclassifier__min_samples_split': 64, 'randomforestclassifier__n_estimators': 150}\n",
      " 0.893714 (0.014380) with: {'randomforestclassifier__criterion': 'gini', 'randomforestclassifier__max_features': 2, 'randomforestclassifier__min_samples_split': 64, 'randomforestclassifier__n_estimators': 200}\n",
      " 0.905233 (0.011183) with: {'randomforestclassifier__criterion': 'gini', 'randomforestclassifier__max_features': 3, 'randomforestclassifier__min_samples_split': 2, 'randomforestclassifier__n_estimators': 10}\n",
      " 0.911619 (0.009602) with: {'randomforestclassifier__criterion': 'gini', 'randomforestclassifier__max_features': 3, 'randomforestclassifier__min_samples_split': 2, 'randomforestclassifier__n_estimators': 30}\n",
      " 0.913323 (0.009374) with: {'randomforestclassifier__criterion': 'gini', 'randomforestclassifier__max_features': 3, 'randomforestclassifier__min_samples_split': 2, 'randomforestclassifier__n_estimators': 50}\n",
      " 0.914343 (0.009951) with: {'randomforestclassifier__criterion': 'gini', 'randomforestclassifier__max_features': 3, 'randomforestclassifier__min_samples_split': 2, 'randomforestclassifier__n_estimators': 100}\n",
      " 0.914451 (0.009860) with: {'randomforestclassifier__criterion': 'gini', 'randomforestclassifier__max_features': 3, 'randomforestclassifier__min_samples_split': 2, 'randomforestclassifier__n_estimators': 150}\n",
      " 0.914687 (0.009831) with: {'randomforestclassifier__criterion': 'gini', 'randomforestclassifier__max_features': 3, 'randomforestclassifier__min_samples_split': 2, 'randomforestclassifier__n_estimators': 200}\n",
      " 0.909069 (0.011080) with: {'randomforestclassifier__criterion': 'gini', 'randomforestclassifier__max_features': 3, 'randomforestclassifier__min_samples_split': 4, 'randomforestclassifier__n_estimators': 10}\n",
      " 0.914778 (0.009785) with: {'randomforestclassifier__criterion': 'gini', 'randomforestclassifier__max_features': 3, 'randomforestclassifier__min_samples_split': 4, 'randomforestclassifier__n_estimators': 30}\n",
      " 0.915521 (0.009443) with: {'randomforestclassifier__criterion': 'gini', 'randomforestclassifier__max_features': 3, 'randomforestclassifier__min_samples_split': 4, 'randomforestclassifier__n_estimators': 50}\n",
      " 0.916502 (0.009694) with: {'randomforestclassifier__criterion': 'gini', 'randomforestclassifier__max_features': 3, 'randomforestclassifier__min_samples_split': 4, 'randomforestclassifier__n_estimators': 100}\n",
      " 0.916584 (0.009455) with: {'randomforestclassifier__criterion': 'gini', 'randomforestclassifier__max_features': 3, 'randomforestclassifier__min_samples_split': 4, 'randomforestclassifier__n_estimators': 150}\n",
      " 0.916676 (0.009383) with: {'randomforestclassifier__criterion': 'gini', 'randomforestclassifier__max_features': 3, 'randomforestclassifier__min_samples_split': 4, 'randomforestclassifier__n_estimators': 200}\n",
      " 0.911940 (0.010843) with: {'randomforestclassifier__criterion': 'gini', 'randomforestclassifier__max_features': 3, 'randomforestclassifier__min_samples_split': 8, 'randomforestclassifier__n_estimators': 10}\n",
      " 0.915438 (0.010187) with: {'randomforestclassifier__criterion': 'gini', 'randomforestclassifier__max_features': 3, 'randomforestclassifier__min_samples_split': 8, 'randomforestclassifier__n_estimators': 30}\n",
      " 0.916423 (0.010403) with: {'randomforestclassifier__criterion': 'gini', 'randomforestclassifier__max_features': 3, 'randomforestclassifier__min_samples_split': 8, 'randomforestclassifier__n_estimators': 50}\n",
      " 0.916847 (0.010115) with: {'randomforestclassifier__criterion': 'gini', 'randomforestclassifier__max_features': 3, 'randomforestclassifier__min_samples_split': 8, 'randomforestclassifier__n_estimators': 100}\n",
      " 0.916869 (0.010025) with: {'randomforestclassifier__criterion': 'gini', 'randomforestclassifier__max_features': 3, 'randomforestclassifier__min_samples_split': 8, 'randomforestclassifier__n_estimators': 150}\n",
      " 0.917006 (0.009914) with: {'randomforestclassifier__criterion': 'gini', 'randomforestclassifier__max_features': 3, 'randomforestclassifier__min_samples_split': 8, 'randomforestclassifier__n_estimators': 200}\n",
      " 0.908546 (0.014083) with: {'randomforestclassifier__criterion': 'gini', 'randomforestclassifier__max_features': 3, 'randomforestclassifier__min_samples_split': 16, 'randomforestclassifier__n_estimators': 10}\n",
      " 0.911521 (0.012265) with: {'randomforestclassifier__criterion': 'gini', 'randomforestclassifier__max_features': 3, 'randomforestclassifier__min_samples_split': 16, 'randomforestclassifier__n_estimators': 30}\n",
      " 0.912810 (0.012021) with: {'randomforestclassifier__criterion': 'gini', 'randomforestclassifier__max_features': 3, 'randomforestclassifier__min_samples_split': 16, 'randomforestclassifier__n_estimators': 50}\n",
      " 0.913442 (0.011918) with: {'randomforestclassifier__criterion': 'gini', 'randomforestclassifier__max_features': 3, 'randomforestclassifier__min_samples_split': 16, 'randomforestclassifier__n_estimators': 100}\n",
      " 0.913483 (0.012006) with: {'randomforestclassifier__criterion': 'gini', 'randomforestclassifier__max_features': 3, 'randomforestclassifier__min_samples_split': 16, 'randomforestclassifier__n_estimators': 150}\n",
      " 0.913784 (0.011832) with: {'randomforestclassifier__criterion': 'gini', 'randomforestclassifier__max_features': 3, 'randomforestclassifier__min_samples_split': 16, 'randomforestclassifier__n_estimators': 200}\n",
      " 0.900451 (0.013581) with: {'randomforestclassifier__criterion': 'gini', 'randomforestclassifier__max_features': 3, 'randomforestclassifier__min_samples_split': 32, 'randomforestclassifier__n_estimators': 10}\n",
      " 0.904750 (0.012587) with: {'randomforestclassifier__criterion': 'gini', 'randomforestclassifier__max_features': 3, 'randomforestclassifier__min_samples_split': 32, 'randomforestclassifier__n_estimators': 30}\n",
      " 0.905757 (0.013225) with: {'randomforestclassifier__criterion': 'gini', 'randomforestclassifier__max_features': 3, 'randomforestclassifier__min_samples_split': 32, 'randomforestclassifier__n_estimators': 50}\n",
      " 0.906848 (0.013010) with: {'randomforestclassifier__criterion': 'gini', 'randomforestclassifier__max_features': 3, 'randomforestclassifier__min_samples_split': 32, 'randomforestclassifier__n_estimators': 100}\n",
      " 0.906803 (0.012978) with: {'randomforestclassifier__criterion': 'gini', 'randomforestclassifier__max_features': 3, 'randomforestclassifier__min_samples_split': 32, 'randomforestclassifier__n_estimators': 150}\n",
      " 0.907190 (0.012950) with: {'randomforestclassifier__criterion': 'gini', 'randomforestclassifier__max_features': 3, 'randomforestclassifier__min_samples_split': 32, 'randomforestclassifier__n_estimators': 200}\n",
      " 0.890473 (0.015730) with: {'randomforestclassifier__criterion': 'gini', 'randomforestclassifier__max_features': 3, 'randomforestclassifier__min_samples_split': 64, 'randomforestclassifier__n_estimators': 10}\n",
      " 0.894860 (0.013919) with: {'randomforestclassifier__criterion': 'gini', 'randomforestclassifier__max_features': 3, 'randomforestclassifier__min_samples_split': 64, 'randomforestclassifier__n_estimators': 30}\n",
      " 0.895893 (0.014054) with: {'randomforestclassifier__criterion': 'gini', 'randomforestclassifier__max_features': 3, 'randomforestclassifier__min_samples_split': 64, 'randomforestclassifier__n_estimators': 50}\n",
      " 0.897347 (0.013630) with: {'randomforestclassifier__criterion': 'gini', 'randomforestclassifier__max_features': 3, 'randomforestclassifier__min_samples_split': 64, 'randomforestclassifier__n_estimators': 100}\n",
      " 0.897123 (0.013866) with: {'randomforestclassifier__criterion': 'gini', 'randomforestclassifier__max_features': 3, 'randomforestclassifier__min_samples_split': 64, 'randomforestclassifier__n_estimators': 150}\n",
      " 0.897332 (0.013866) with: {'randomforestclassifier__criterion': 'gini', 'randomforestclassifier__max_features': 3, 'randomforestclassifier__min_samples_split': 64, 'randomforestclassifier__n_estimators': 200}\n",
      " 0.907319 (0.009432) with: {'randomforestclassifier__criterion': 'gini', 'randomforestclassifier__max_features': 4, 'randomforestclassifier__min_samples_split': 2, 'randomforestclassifier__n_estimators': 10}\n",
      " 0.914073 (0.009737) with: {'randomforestclassifier__criterion': 'gini', 'randomforestclassifier__max_features': 4, 'randomforestclassifier__min_samples_split': 2, 'randomforestclassifier__n_estimators': 30}\n",
      " 0.915078 (0.009942) with: {'randomforestclassifier__criterion': 'gini', 'randomforestclassifier__max_features': 4, 'randomforestclassifier__min_samples_split': 2, 'randomforestclassifier__n_estimators': 50}\n",
      " 0.915451 (0.009879) with: {'randomforestclassifier__criterion': 'gini', 'randomforestclassifier__max_features': 4, 'randomforestclassifier__min_samples_split': 2, 'randomforestclassifier__n_estimators': 100}\n",
      " 0.915793 (0.009586) with: {'randomforestclassifier__criterion': 'gini', 'randomforestclassifier__max_features': 4, 'randomforestclassifier__min_samples_split': 2, 'randomforestclassifier__n_estimators': 150}\n",
      " 0.916227 (0.009688) with: {'randomforestclassifier__criterion': 'gini', 'randomforestclassifier__max_features': 4, 'randomforestclassifier__min_samples_split': 2, 'randomforestclassifier__n_estimators': 200}\n",
      " 0.912474 (0.009638) with: {'randomforestclassifier__criterion': 'gini', 'randomforestclassifier__max_features': 4, 'randomforestclassifier__min_samples_split': 4, 'randomforestclassifier__n_estimators': 10}\n",
      " 0.917150 (0.008998) with: {'randomforestclassifier__criterion': 'gini', 'randomforestclassifier__max_features': 4, 'randomforestclassifier__min_samples_split': 4, 'randomforestclassifier__n_estimators': 30}\n",
      " 0.917672 (0.009473) with: {'randomforestclassifier__criterion': 'gini', 'randomforestclassifier__max_features': 4, 'randomforestclassifier__min_samples_split': 4, 'randomforestclassifier__n_estimators': 50}\n",
      " 0.918119 (0.009721) with: {'randomforestclassifier__criterion': 'gini', 'randomforestclassifier__max_features': 4, 'randomforestclassifier__min_samples_split': 4, 'randomforestclassifier__n_estimators': 100}\n",
      " 0.918092 (0.009692) with: {'randomforestclassifier__criterion': 'gini', 'randomforestclassifier__max_features': 4, 'randomforestclassifier__min_samples_split': 4, 'randomforestclassifier__n_estimators': 150}\n",
      " 0.918245 (0.009575) with: {'randomforestclassifier__criterion': 'gini', 'randomforestclassifier__max_features': 4, 'randomforestclassifier__min_samples_split': 4, 'randomforestclassifier__n_estimators': 200}\n",
      " 0.914817 (0.009660) with: {'randomforestclassifier__criterion': 'gini', 'randomforestclassifier__max_features': 4, 'randomforestclassifier__min_samples_split': 8, 'randomforestclassifier__n_estimators': 10}\n",
      " 0.918218 (0.009454) with: {'randomforestclassifier__criterion': 'gini', 'randomforestclassifier__max_features': 4, 'randomforestclassifier__min_samples_split': 8, 'randomforestclassifier__n_estimators': 30}\n",
      " 0.918672 (0.009897) with: {'randomforestclassifier__criterion': 'gini', 'randomforestclassifier__max_features': 4, 'randomforestclassifier__min_samples_split': 8, 'randomforestclassifier__n_estimators': 50}\n",
      " 0.918726 (0.009917) with: {'randomforestclassifier__criterion': 'gini', 'randomforestclassifier__max_features': 4, 'randomforestclassifier__min_samples_split': 8, 'randomforestclassifier__n_estimators': 100}\n",
      " 0.918879 (0.009992) with: {'randomforestclassifier__criterion': 'gini', 'randomforestclassifier__max_features': 4, 'randomforestclassifier__min_samples_split': 8, 'randomforestclassifier__n_estimators': 150}\n",
      " 0.919140 (0.009951) with: {'randomforestclassifier__criterion': 'gini', 'randomforestclassifier__max_features': 4, 'randomforestclassifier__min_samples_split': 8, 'randomforestclassifier__n_estimators': 200}\n",
      " 0.910533 (0.011351) with: {'randomforestclassifier__criterion': 'gini', 'randomforestclassifier__max_features': 4, 'randomforestclassifier__min_samples_split': 16, 'randomforestclassifier__n_estimators': 10}\n",
      " 0.914331 (0.011595) with: {'randomforestclassifier__criterion': 'gini', 'randomforestclassifier__max_features': 4, 'randomforestclassifier__min_samples_split': 16, 'randomforestclassifier__n_estimators': 30}\n",
      " 0.914984 (0.011723) with: {'randomforestclassifier__criterion': 'gini', 'randomforestclassifier__max_features': 4, 'randomforestclassifier__min_samples_split': 16, 'randomforestclassifier__n_estimators': 50}\n",
      " 0.915630 (0.011510) with: {'randomforestclassifier__criterion': 'gini', 'randomforestclassifier__max_features': 4, 'randomforestclassifier__min_samples_split': 16, 'randomforestclassifier__n_estimators': 100}\n",
      " 0.915688 (0.011424) with: {'randomforestclassifier__criterion': 'gini', 'randomforestclassifier__max_features': 4, 'randomforestclassifier__min_samples_split': 16, 'randomforestclassifier__n_estimators': 150}\n",
      " 0.916072 (0.011370) with: {'randomforestclassifier__criterion': 'gini', 'randomforestclassifier__max_features': 4, 'randomforestclassifier__min_samples_split': 16, 'randomforestclassifier__n_estimators': 200}\n",
      " 0.905024 (0.013221) with: {'randomforestclassifier__criterion': 'gini', 'randomforestclassifier__max_features': 4, 'randomforestclassifier__min_samples_split': 32, 'randomforestclassifier__n_estimators': 10}\n",
      " 0.907960 (0.013025) with: {'randomforestclassifier__criterion': 'gini', 'randomforestclassifier__max_features': 4, 'randomforestclassifier__min_samples_split': 32, 'randomforestclassifier__n_estimators': 30}\n",
      " 0.908666 (0.013231) with: {'randomforestclassifier__criterion': 'gini', 'randomforestclassifier__max_features': 4, 'randomforestclassifier__min_samples_split': 32, 'randomforestclassifier__n_estimators': 50}\n",
      " 0.909151 (0.012912) with: {'randomforestclassifier__criterion': 'gini', 'randomforestclassifier__max_features': 4, 'randomforestclassifier__min_samples_split': 32, 'randomforestclassifier__n_estimators': 100}\n",
      " 0.909352 (0.012908) with: {'randomforestclassifier__criterion': 'gini', 'randomforestclassifier__max_features': 4, 'randomforestclassifier__min_samples_split': 32, 'randomforestclassifier__n_estimators': 150}\n",
      " 0.909659 (0.012957) with: {'randomforestclassifier__criterion': 'gini', 'randomforestclassifier__max_features': 4, 'randomforestclassifier__min_samples_split': 32, 'randomforestclassifier__n_estimators': 200}\n",
      " 0.895225 (0.015053) with: {'randomforestclassifier__criterion': 'gini', 'randomforestclassifier__max_features': 4, 'randomforestclassifier__min_samples_split': 64, 'randomforestclassifier__n_estimators': 10}\n",
      " 0.899079 (0.014224) with: {'randomforestclassifier__criterion': 'gini', 'randomforestclassifier__max_features': 4, 'randomforestclassifier__min_samples_split': 64, 'randomforestclassifier__n_estimators': 30}\n",
      " 0.899267 (0.014185) with: {'randomforestclassifier__criterion': 'gini', 'randomforestclassifier__max_features': 4, 'randomforestclassifier__min_samples_split': 64, 'randomforestclassifier__n_estimators': 50}\n",
      " 0.899528 (0.014046) with: {'randomforestclassifier__criterion': 'gini', 'randomforestclassifier__max_features': 4, 'randomforestclassifier__min_samples_split': 64, 'randomforestclassifier__n_estimators': 100}\n",
      " 0.899639 (0.013828) with: {'randomforestclassifier__criterion': 'gini', 'randomforestclassifier__max_features': 4, 'randomforestclassifier__min_samples_split': 64, 'randomforestclassifier__n_estimators': 150}\n",
      " 0.900034 (0.013816) with: {'randomforestclassifier__criterion': 'gini', 'randomforestclassifier__max_features': 4, 'randomforestclassifier__min_samples_split': 64, 'randomforestclassifier__n_estimators': 200}\n",
      " 0.908906 (0.010418) with: {'randomforestclassifier__criterion': 'gini', 'randomforestclassifier__max_features': 5, 'randomforestclassifier__min_samples_split': 2, 'randomforestclassifier__n_estimators': 10}\n",
      " 0.914967 (0.009521) with: {'randomforestclassifier__criterion': 'gini', 'randomforestclassifier__max_features': 5, 'randomforestclassifier__min_samples_split': 2, 'randomforestclassifier__n_estimators': 30}\n",
      " 0.915903 (0.009678) with: {'randomforestclassifier__criterion': 'gini', 'randomforestclassifier__max_features': 5, 'randomforestclassifier__min_samples_split': 2, 'randomforestclassifier__n_estimators': 50}\n",
      " 0.916990 (0.010104) with: {'randomforestclassifier__criterion': 'gini', 'randomforestclassifier__max_features': 5, 'randomforestclassifier__min_samples_split': 2, 'randomforestclassifier__n_estimators': 100}\n",
      " 0.917177 (0.009939) with: {'randomforestclassifier__criterion': 'gini', 'randomforestclassifier__max_features': 5, 'randomforestclassifier__min_samples_split': 2, 'randomforestclassifier__n_estimators': 150}\n",
      " 0.917416 (0.009994) with: {'randomforestclassifier__criterion': 'gini', 'randomforestclassifier__max_features': 5, 'randomforestclassifier__min_samples_split': 2, 'randomforestclassifier__n_estimators': 200}\n",
      " 0.913852 (0.010142) with: {'randomforestclassifier__criterion': 'gini', 'randomforestclassifier__max_features': 5, 'randomforestclassifier__min_samples_split': 4, 'randomforestclassifier__n_estimators': 10}\n",
      " 0.918061 (0.009558) with: {'randomforestclassifier__criterion': 'gini', 'randomforestclassifier__max_features': 5, 'randomforestclassifier__min_samples_split': 4, 'randomforestclassifier__n_estimators': 30}\n",
      " 0.918885 (0.009532) with: {'randomforestclassifier__criterion': 'gini', 'randomforestclassifier__max_features': 5, 'randomforestclassifier__min_samples_split': 4, 'randomforestclassifier__n_estimators': 50}\n",
      " 0.919650 (0.009705) with: {'randomforestclassifier__criterion': 'gini', 'randomforestclassifier__max_features': 5, 'randomforestclassifier__min_samples_split': 4, 'randomforestclassifier__n_estimators': 100}\n",
      " 0.919756 (0.009787) with: {'randomforestclassifier__criterion': 'gini', 'randomforestclassifier__max_features': 5, 'randomforestclassifier__min_samples_split': 4, 'randomforestclassifier__n_estimators': 150}\n",
      " 0.919789 (0.009621) with: {'randomforestclassifier__criterion': 'gini', 'randomforestclassifier__max_features': 5, 'randomforestclassifier__min_samples_split': 4, 'randomforestclassifier__n_estimators': 200}\n",
      " 0.914444 (0.010642) with: {'randomforestclassifier__criterion': 'gini', 'randomforestclassifier__max_features': 5, 'randomforestclassifier__min_samples_split': 8, 'randomforestclassifier__n_estimators': 10}\n",
      " 0.919324 (0.010667) with: {'randomforestclassifier__criterion': 'gini', 'randomforestclassifier__max_features': 5, 'randomforestclassifier__min_samples_split': 8, 'randomforestclassifier__n_estimators': 30}\n",
      " 0.919936 (0.010313) with: {'randomforestclassifier__criterion': 'gini', 'randomforestclassifier__max_features': 5, 'randomforestclassifier__min_samples_split': 8, 'randomforestclassifier__n_estimators': 50}\n",
      " 0.920670 (0.010076) with: {'randomforestclassifier__criterion': 'gini', 'randomforestclassifier__max_features': 5, 'randomforestclassifier__min_samples_split': 8, 'randomforestclassifier__n_estimators': 100}\n",
      " 0.920623 (0.009964) with: {'randomforestclassifier__criterion': 'gini', 'randomforestclassifier__max_features': 5, 'randomforestclassifier__min_samples_split': 8, 'randomforestclassifier__n_estimators': 150}\n",
      " 0.920846 (0.009841) with: {'randomforestclassifier__criterion': 'gini', 'randomforestclassifier__max_features': 5, 'randomforestclassifier__min_samples_split': 8, 'randomforestclassifier__n_estimators': 200}\n",
      " 0.912672 (0.010953) with: {'randomforestclassifier__criterion': 'gini', 'randomforestclassifier__max_features': 5, 'randomforestclassifier__min_samples_split': 16, 'randomforestclassifier__n_estimators': 10}\n",
      " 0.916114 (0.011104) with: {'randomforestclassifier__criterion': 'gini', 'randomforestclassifier__max_features': 5, 'randomforestclassifier__min_samples_split': 16, 'randomforestclassifier__n_estimators': 30}\n",
      " 0.916639 (0.010992) with: {'randomforestclassifier__criterion': 'gini', 'randomforestclassifier__max_features': 5, 'randomforestclassifier__min_samples_split': 16, 'randomforestclassifier__n_estimators': 50}\n",
      " 0.917469 (0.010960) with: {'randomforestclassifier__criterion': 'gini', 'randomforestclassifier__max_features': 5, 'randomforestclassifier__min_samples_split': 16, 'randomforestclassifier__n_estimators': 100}\n",
      " 0.917524 (0.010926) with: {'randomforestclassifier__criterion': 'gini', 'randomforestclassifier__max_features': 5, 'randomforestclassifier__min_samples_split': 16, 'randomforestclassifier__n_estimators': 150}\n",
      " 0.917611 (0.011005) with: {'randomforestclassifier__criterion': 'gini', 'randomforestclassifier__max_features': 5, 'randomforestclassifier__min_samples_split': 16, 'randomforestclassifier__n_estimators': 200}\n",
      " 0.906800 (0.012702) with: {'randomforestclassifier__criterion': 'gini', 'randomforestclassifier__max_features': 5, 'randomforestclassifier__min_samples_split': 32, 'randomforestclassifier__n_estimators': 10}\n",
      " 0.910147 (0.012575) with: {'randomforestclassifier__criterion': 'gini', 'randomforestclassifier__max_features': 5, 'randomforestclassifier__min_samples_split': 32, 'randomforestclassifier__n_estimators': 30}\n",
      " 0.910447 (0.012987) with: {'randomforestclassifier__criterion': 'gini', 'randomforestclassifier__max_features': 5, 'randomforestclassifier__min_samples_split': 32, 'randomforestclassifier__n_estimators': 50}\n",
      " 0.911556 (0.012559) with: {'randomforestclassifier__criterion': 'gini', 'randomforestclassifier__max_features': 5, 'randomforestclassifier__min_samples_split': 32, 'randomforestclassifier__n_estimators': 100}\n",
      " 0.911623 (0.012500) with: {'randomforestclassifier__criterion': 'gini', 'randomforestclassifier__max_features': 5, 'randomforestclassifier__min_samples_split': 32, 'randomforestclassifier__n_estimators': 150}\n",
      " 0.911757 (0.012414) with: {'randomforestclassifier__criterion': 'gini', 'randomforestclassifier__max_features': 5, 'randomforestclassifier__min_samples_split': 32, 'randomforestclassifier__n_estimators': 200}\n",
      " 0.897077 (0.013567) with: {'randomforestclassifier__criterion': 'gini', 'randomforestclassifier__max_features': 5, 'randomforestclassifier__min_samples_split': 64, 'randomforestclassifier__n_estimators': 10}\n",
      " 0.900800 (0.014135) with: {'randomforestclassifier__criterion': 'gini', 'randomforestclassifier__max_features': 5, 'randomforestclassifier__min_samples_split': 64, 'randomforestclassifier__n_estimators': 30}\n",
      " 0.901861 (0.014130) with: {'randomforestclassifier__criterion': 'gini', 'randomforestclassifier__max_features': 5, 'randomforestclassifier__min_samples_split': 64, 'randomforestclassifier__n_estimators': 50}\n",
      " 0.902213 (0.013606) with: {'randomforestclassifier__criterion': 'gini', 'randomforestclassifier__max_features': 5, 'randomforestclassifier__min_samples_split': 64, 'randomforestclassifier__n_estimators': 100}\n",
      " 0.901987 (0.013561) with: {'randomforestclassifier__criterion': 'gini', 'randomforestclassifier__max_features': 5, 'randomforestclassifier__min_samples_split': 64, 'randomforestclassifier__n_estimators': 150}\n",
      " 0.902137 (0.013491) with: {'randomforestclassifier__criterion': 'gini', 'randomforestclassifier__max_features': 5, 'randomforestclassifier__min_samples_split': 64, 'randomforestclassifier__n_estimators': 200}\n",
      " 0.909201 (0.010837) with: {'randomforestclassifier__criterion': 'gini', 'randomforestclassifier__max_features': 6, 'randomforestclassifier__min_samples_split': 2, 'randomforestclassifier__n_estimators': 10}\n",
      " 0.915089 (0.009503) with: {'randomforestclassifier__criterion': 'gini', 'randomforestclassifier__max_features': 6, 'randomforestclassifier__min_samples_split': 2, 'randomforestclassifier__n_estimators': 30}\n",
      " 0.916435 (0.009937) with: {'randomforestclassifier__criterion': 'gini', 'randomforestclassifier__max_features': 6, 'randomforestclassifier__min_samples_split': 2, 'randomforestclassifier__n_estimators': 50}\n",
      " 0.917566 (0.010449) with: {'randomforestclassifier__criterion': 'gini', 'randomforestclassifier__max_features': 6, 'randomforestclassifier__min_samples_split': 2, 'randomforestclassifier__n_estimators': 100}\n",
      " 0.917829 (0.010422) with: {'randomforestclassifier__criterion': 'gini', 'randomforestclassifier__max_features': 6, 'randomforestclassifier__min_samples_split': 2, 'randomforestclassifier__n_estimators': 150}\n",
      " 0.918092 (0.010205) with: {'randomforestclassifier__criterion': 'gini', 'randomforestclassifier__max_features': 6, 'randomforestclassifier__min_samples_split': 2, 'randomforestclassifier__n_estimators': 200}\n",
      " 0.914046 (0.009918) with: {'randomforestclassifier__criterion': 'gini', 'randomforestclassifier__max_features': 6, 'randomforestclassifier__min_samples_split': 4, 'randomforestclassifier__n_estimators': 10}\n",
      " 0.919421 (0.008921) with: {'randomforestclassifier__criterion': 'gini', 'randomforestclassifier__max_features': 6, 'randomforestclassifier__min_samples_split': 4, 'randomforestclassifier__n_estimators': 30}\n",
      " 0.919923 (0.009301) with: {'randomforestclassifier__criterion': 'gini', 'randomforestclassifier__max_features': 6, 'randomforestclassifier__min_samples_split': 4, 'randomforestclassifier__n_estimators': 50}\n",
      " 0.920460 (0.009373) with: {'randomforestclassifier__criterion': 'gini', 'randomforestclassifier__max_features': 6, 'randomforestclassifier__min_samples_split': 4, 'randomforestclassifier__n_estimators': 100}\n",
      " 0.920613 (0.009370) with: {'randomforestclassifier__criterion': 'gini', 'randomforestclassifier__max_features': 6, 'randomforestclassifier__min_samples_split': 4, 'randomforestclassifier__n_estimators': 150}\n",
      " 0.920857 (0.009362) with: {'randomforestclassifier__criterion': 'gini', 'randomforestclassifier__max_features': 6, 'randomforestclassifier__min_samples_split': 4, 'randomforestclassifier__n_estimators': 200}\n",
      " 0.916035 (0.009688) with: {'randomforestclassifier__criterion': 'gini', 'randomforestclassifier__max_features': 6, 'randomforestclassifier__min_samples_split': 8, 'randomforestclassifier__n_estimators': 10}\n",
      " 0.920556 (0.009556) with: {'randomforestclassifier__criterion': 'gini', 'randomforestclassifier__max_features': 6, 'randomforestclassifier__min_samples_split': 8, 'randomforestclassifier__n_estimators': 30}\n",
      " 0.921107 (0.009409) with: {'randomforestclassifier__criterion': 'gini', 'randomforestclassifier__max_features': 6, 'randomforestclassifier__min_samples_split': 8, 'randomforestclassifier__n_estimators': 50}\n",
      " 0.921553 (0.009766) with: {'randomforestclassifier__criterion': 'gini', 'randomforestclassifier__max_features': 6, 'randomforestclassifier__min_samples_split': 8, 'randomforestclassifier__n_estimators': 100}\n",
      " 0.921762 (0.009795) with: {'randomforestclassifier__criterion': 'gini', 'randomforestclassifier__max_features': 6, 'randomforestclassifier__min_samples_split': 8, 'randomforestclassifier__n_estimators': 150}\n",
      " 0.921842 (0.009710) with: {'randomforestclassifier__criterion': 'gini', 'randomforestclassifier__max_features': 6, 'randomforestclassifier__min_samples_split': 8, 'randomforestclassifier__n_estimators': 200}\n",
      " 0.914765 (0.011545) with: {'randomforestclassifier__criterion': 'gini', 'randomforestclassifier__max_features': 6, 'randomforestclassifier__min_samples_split': 16, 'randomforestclassifier__n_estimators': 10}\n",
      " 0.918009 (0.010568) with: {'randomforestclassifier__criterion': 'gini', 'randomforestclassifier__max_features': 6, 'randomforestclassifier__min_samples_split': 16, 'randomforestclassifier__n_estimators': 30}\n",
      " 0.918400 (0.010715) with: {'randomforestclassifier__criterion': 'gini', 'randomforestclassifier__max_features': 6, 'randomforestclassifier__min_samples_split': 16, 'randomforestclassifier__n_estimators': 50}\n",
      " 0.918660 (0.010789) with: {'randomforestclassifier__criterion': 'gini', 'randomforestclassifier__max_features': 6, 'randomforestclassifier__min_samples_split': 16, 'randomforestclassifier__n_estimators': 100}\n",
      " 0.919060 (0.010963) with: {'randomforestclassifier__criterion': 'gini', 'randomforestclassifier__max_features': 6, 'randomforestclassifier__min_samples_split': 16, 'randomforestclassifier__n_estimators': 150}\n",
      " 0.919264 (0.010957) with: {'randomforestclassifier__criterion': 'gini', 'randomforestclassifier__max_features': 6, 'randomforestclassifier__min_samples_split': 16, 'randomforestclassifier__n_estimators': 200}\n",
      " 0.908402 (0.013253) with: {'randomforestclassifier__criterion': 'gini', 'randomforestclassifier__max_features': 6, 'randomforestclassifier__min_samples_split': 32, 'randomforestclassifier__n_estimators': 10}\n",
      " 0.911051 (0.013025) with: {'randomforestclassifier__criterion': 'gini', 'randomforestclassifier__max_features': 6, 'randomforestclassifier__min_samples_split': 32, 'randomforestclassifier__n_estimators': 30}\n",
      " 0.912079 (0.012953) with: {'randomforestclassifier__criterion': 'gini', 'randomforestclassifier__max_features': 6, 'randomforestclassifier__min_samples_split': 32, 'randomforestclassifier__n_estimators': 50}\n",
      " 0.912731 (0.012367) with: {'randomforestclassifier__criterion': 'gini', 'randomforestclassifier__max_features': 6, 'randomforestclassifier__min_samples_split': 32, 'randomforestclassifier__n_estimators': 100}\n",
      " 0.913070 (0.012531) with: {'randomforestclassifier__criterion': 'gini', 'randomforestclassifier__max_features': 6, 'randomforestclassifier__min_samples_split': 32, 'randomforestclassifier__n_estimators': 150}\n",
      " 0.913429 (0.012412) with: {'randomforestclassifier__criterion': 'gini', 'randomforestclassifier__max_features': 6, 'randomforestclassifier__min_samples_split': 32, 'randomforestclassifier__n_estimators': 200}\n",
      " 0.899562 (0.015024) with: {'randomforestclassifier__criterion': 'gini', 'randomforestclassifier__max_features': 6, 'randomforestclassifier__min_samples_split': 64, 'randomforestclassifier__n_estimators': 10}\n",
      " 0.902930 (0.013669) with: {'randomforestclassifier__criterion': 'gini', 'randomforestclassifier__max_features': 6, 'randomforestclassifier__min_samples_split': 64, 'randomforestclassifier__n_estimators': 30}\n",
      " 0.903353 (0.013746) with: {'randomforestclassifier__criterion': 'gini', 'randomforestclassifier__max_features': 6, 'randomforestclassifier__min_samples_split': 64, 'randomforestclassifier__n_estimators': 50}\n",
      " 0.903852 (0.013641) with: {'randomforestclassifier__criterion': 'gini', 'randomforestclassifier__max_features': 6, 'randomforestclassifier__min_samples_split': 64, 'randomforestclassifier__n_estimators': 100}\n",
      " 0.904199 (0.013660) with: {'randomforestclassifier__criterion': 'gini', 'randomforestclassifier__max_features': 6, 'randomforestclassifier__min_samples_split': 64, 'randomforestclassifier__n_estimators': 150}\n",
      " 0.904374 (0.013708) with: {'randomforestclassifier__criterion': 'gini', 'randomforestclassifier__max_features': 6, 'randomforestclassifier__min_samples_split': 64, 'randomforestclassifier__n_estimators': 200}\n",
      " 0.910953 (0.009779) with: {'randomforestclassifier__criterion': 'gini', 'randomforestclassifier__max_features': 7, 'randomforestclassifier__min_samples_split': 2, 'randomforestclassifier__n_estimators': 10}\n",
      " 0.916460 (0.009433) with: {'randomforestclassifier__criterion': 'gini', 'randomforestclassifier__max_features': 7, 'randomforestclassifier__min_samples_split': 2, 'randomforestclassifier__n_estimators': 30}\n",
      " 0.917354 (0.009704) with: {'randomforestclassifier__criterion': 'gini', 'randomforestclassifier__max_features': 7, 'randomforestclassifier__min_samples_split': 2, 'randomforestclassifier__n_estimators': 50}\n",
      " 0.918503 (0.009827) with: {'randomforestclassifier__criterion': 'gini', 'randomforestclassifier__max_features': 7, 'randomforestclassifier__min_samples_split': 2, 'randomforestclassifier__n_estimators': 100}\n",
      " 0.919034 (0.009774) with: {'randomforestclassifier__criterion': 'gini', 'randomforestclassifier__max_features': 7, 'randomforestclassifier__min_samples_split': 2, 'randomforestclassifier__n_estimators': 150}\n",
      " 0.919121 (0.009633) with: {'randomforestclassifier__criterion': 'gini', 'randomforestclassifier__max_features': 7, 'randomforestclassifier__min_samples_split': 2, 'randomforestclassifier__n_estimators': 200}\n",
      " 0.914059 (0.009499) with: {'randomforestclassifier__criterion': 'gini', 'randomforestclassifier__max_features': 7, 'randomforestclassifier__min_samples_split': 4, 'randomforestclassifier__n_estimators': 10}\n",
      " 0.919815 (0.009398) with: {'randomforestclassifier__criterion': 'gini', 'randomforestclassifier__max_features': 7, 'randomforestclassifier__min_samples_split': 4, 'randomforestclassifier__n_estimators': 30}\n",
      " 0.920794 (0.009505) with: {'randomforestclassifier__criterion': 'gini', 'randomforestclassifier__max_features': 7, 'randomforestclassifier__min_samples_split': 4, 'randomforestclassifier__n_estimators': 50}\n",
      " 0.921207 (0.009550) with: {'randomforestclassifier__criterion': 'gini', 'randomforestclassifier__max_features': 7, 'randomforestclassifier__min_samples_split': 4, 'randomforestclassifier__n_estimators': 100}\n",
      " 0.921544 (0.009541) with: {'randomforestclassifier__criterion': 'gini', 'randomforestclassifier__max_features': 7, 'randomforestclassifier__min_samples_split': 4, 'randomforestclassifier__n_estimators': 150}\n",
      " 0.921514 (0.009422) with: {'randomforestclassifier__criterion': 'gini', 'randomforestclassifier__max_features': 7, 'randomforestclassifier__min_samples_split': 4, 'randomforestclassifier__n_estimators': 200}\n",
      " 0.918240 (0.009790) with: {'randomforestclassifier__criterion': 'gini', 'randomforestclassifier__max_features': 7, 'randomforestclassifier__min_samples_split': 8, 'randomforestclassifier__n_estimators': 10}\n",
      " 0.921335 (0.009376) with: {'randomforestclassifier__criterion': 'gini', 'randomforestclassifier__max_features': 7, 'randomforestclassifier__min_samples_split': 8, 'randomforestclassifier__n_estimators': 30}\n",
      " 0.922087 (0.009631) with: {'randomforestclassifier__criterion': 'gini', 'randomforestclassifier__max_features': 7, 'randomforestclassifier__min_samples_split': 8, 'randomforestclassifier__n_estimators': 50}\n",
      " 0.922514 (0.009660) with: {'randomforestclassifier__criterion': 'gini', 'randomforestclassifier__max_features': 7, 'randomforestclassifier__min_samples_split': 8, 'randomforestclassifier__n_estimators': 100}\n",
      " 0.922708 (0.009749) with: {'randomforestclassifier__criterion': 'gini', 'randomforestclassifier__max_features': 7, 'randomforestclassifier__min_samples_split': 8, 'randomforestclassifier__n_estimators': 150}\n",
      " 0.922629 (0.009603) with: {'randomforestclassifier__criterion': 'gini', 'randomforestclassifier__max_features': 7, 'randomforestclassifier__min_samples_split': 8, 'randomforestclassifier__n_estimators': 200}\n",
      " 0.915007 (0.011427) with: {'randomforestclassifier__criterion': 'gini', 'randomforestclassifier__max_features': 7, 'randomforestclassifier__min_samples_split': 16, 'randomforestclassifier__n_estimators': 10}\n",
      " 0.918470 (0.010472) with: {'randomforestclassifier__criterion': 'gini', 'randomforestclassifier__max_features': 7, 'randomforestclassifier__min_samples_split': 16, 'randomforestclassifier__n_estimators': 30}\n",
      " 0.918916 (0.010754) with: {'randomforestclassifier__criterion': 'gini', 'randomforestclassifier__max_features': 7, 'randomforestclassifier__min_samples_split': 16, 'randomforestclassifier__n_estimators': 50}\n",
      " 0.919612 (0.010648) with: {'randomforestclassifier__criterion': 'gini', 'randomforestclassifier__max_features': 7, 'randomforestclassifier__min_samples_split': 16, 'randomforestclassifier__n_estimators': 100}\n",
      " 0.919685 (0.010814) with: {'randomforestclassifier__criterion': 'gini', 'randomforestclassifier__max_features': 7, 'randomforestclassifier__min_samples_split': 16, 'randomforestclassifier__n_estimators': 150}\n",
      " 0.919839 (0.010732) with: {'randomforestclassifier__criterion': 'gini', 'randomforestclassifier__max_features': 7, 'randomforestclassifier__min_samples_split': 16, 'randomforestclassifier__n_estimators': 200}\n",
      " 0.910927 (0.012410) with: {'randomforestclassifier__criterion': 'gini', 'randomforestclassifier__max_features': 7, 'randomforestclassifier__min_samples_split': 32, 'randomforestclassifier__n_estimators': 10}\n",
      " 0.913784 (0.011800) with: {'randomforestclassifier__criterion': 'gini', 'randomforestclassifier__max_features': 7, 'randomforestclassifier__min_samples_split': 32, 'randomforestclassifier__n_estimators': 30}\n",
      " 0.914125 (0.012116) with: {'randomforestclassifier__criterion': 'gini', 'randomforestclassifier__max_features': 7, 'randomforestclassifier__min_samples_split': 32, 'randomforestclassifier__n_estimators': 50}\n",
      " 0.914725 (0.011809) with: {'randomforestclassifier__criterion': 'gini', 'randomforestclassifier__max_features': 7, 'randomforestclassifier__min_samples_split': 32, 'randomforestclassifier__n_estimators': 100}\n",
      " 0.914595 (0.012002) with: {'randomforestclassifier__criterion': 'gini', 'randomforestclassifier__max_features': 7, 'randomforestclassifier__min_samples_split': 32, 'randomforestclassifier__n_estimators': 150}\n",
      " 0.914671 (0.012068) with: {'randomforestclassifier__criterion': 'gini', 'randomforestclassifier__max_features': 7, 'randomforestclassifier__min_samples_split': 32, 'randomforestclassifier__n_estimators': 200}\n",
      " 0.901784 (0.012879) with: {'randomforestclassifier__criterion': 'gini', 'randomforestclassifier__max_features': 7, 'randomforestclassifier__min_samples_split': 64, 'randomforestclassifier__n_estimators': 10}\n",
      " 0.904425 (0.013039) with: {'randomforestclassifier__criterion': 'gini', 'randomforestclassifier__max_features': 7, 'randomforestclassifier__min_samples_split': 64, 'randomforestclassifier__n_estimators': 30}\n",
      " 0.904415 (0.013454) with: {'randomforestclassifier__criterion': 'gini', 'randomforestclassifier__max_features': 7, 'randomforestclassifier__min_samples_split': 64, 'randomforestclassifier__n_estimators': 50}\n",
      " 0.905257 (0.013278) with: {'randomforestclassifier__criterion': 'gini', 'randomforestclassifier__max_features': 7, 'randomforestclassifier__min_samples_split': 64, 'randomforestclassifier__n_estimators': 100}\n",
      " 0.905330 (0.013306) with: {'randomforestclassifier__criterion': 'gini', 'randomforestclassifier__max_features': 7, 'randomforestclassifier__min_samples_split': 64, 'randomforestclassifier__n_estimators': 150}\n",
      " 0.905418 (0.013375) with: {'randomforestclassifier__criterion': 'gini', 'randomforestclassifier__max_features': 7, 'randomforestclassifier__min_samples_split': 64, 'randomforestclassifier__n_estimators': 200}\n",
      " 0.910732 (0.010151) with: {'randomforestclassifier__criterion': 'gini', 'randomforestclassifier__max_features': 8, 'randomforestclassifier__min_samples_split': 2, 'randomforestclassifier__n_estimators': 10}\n",
      " 0.916712 (0.010122) with: {'randomforestclassifier__criterion': 'gini', 'randomforestclassifier__max_features': 8, 'randomforestclassifier__min_samples_split': 2, 'randomforestclassifier__n_estimators': 30}\n",
      " 0.918004 (0.009933) with: {'randomforestclassifier__criterion': 'gini', 'randomforestclassifier__max_features': 8, 'randomforestclassifier__min_samples_split': 2, 'randomforestclassifier__n_estimators': 50}\n",
      " 0.918644 (0.010098) with: {'randomforestclassifier__criterion': 'gini', 'randomforestclassifier__max_features': 8, 'randomforestclassifier__min_samples_split': 2, 'randomforestclassifier__n_estimators': 100}\n",
      " 0.919046 (0.009953) with: {'randomforestclassifier__criterion': 'gini', 'randomforestclassifier__max_features': 8, 'randomforestclassifier__min_samples_split': 2, 'randomforestclassifier__n_estimators': 150}\n",
      " 0.919412 (0.009714) with: {'randomforestclassifier__criterion': 'gini', 'randomforestclassifier__max_features': 8, 'randomforestclassifier__min_samples_split': 2, 'randomforestclassifier__n_estimators': 200}\n",
      " 0.915766 (0.009609) with: {'randomforestclassifier__criterion': 'gini', 'randomforestclassifier__max_features': 8, 'randomforestclassifier__min_samples_split': 4, 'randomforestclassifier__n_estimators': 10}\n",
      " 0.920661 (0.009383) with: {'randomforestclassifier__criterion': 'gini', 'randomforestclassifier__max_features': 8, 'randomforestclassifier__min_samples_split': 4, 'randomforestclassifier__n_estimators': 30}\n",
      " 0.921157 (0.009672) with: {'randomforestclassifier__criterion': 'gini', 'randomforestclassifier__max_features': 8, 'randomforestclassifier__min_samples_split': 4, 'randomforestclassifier__n_estimators': 50}\n",
      " 0.921806 (0.009451) with: {'randomforestclassifier__criterion': 'gini', 'randomforestclassifier__max_features': 8, 'randomforestclassifier__min_samples_split': 4, 'randomforestclassifier__n_estimators': 100}\n",
      " 0.921916 (0.009476) with: {'randomforestclassifier__criterion': 'gini', 'randomforestclassifier__max_features': 8, 'randomforestclassifier__min_samples_split': 4, 'randomforestclassifier__n_estimators': 150}\n",
      " 0.922003 (0.009293) with: {'randomforestclassifier__criterion': 'gini', 'randomforestclassifier__max_features': 8, 'randomforestclassifier__min_samples_split': 4, 'randomforestclassifier__n_estimators': 200}\n",
      " 0.918427 (0.009768) with: {'randomforestclassifier__criterion': 'gini', 'randomforestclassifier__max_features': 8, 'randomforestclassifier__min_samples_split': 8, 'randomforestclassifier__n_estimators': 10}\n",
      " 0.921647 (0.009953) with: {'randomforestclassifier__criterion': 'gini', 'randomforestclassifier__max_features': 8, 'randomforestclassifier__min_samples_split': 8, 'randomforestclassifier__n_estimators': 30}\n",
      " 0.922254 (0.009579) with: {'randomforestclassifier__criterion': 'gini', 'randomforestclassifier__max_features': 8, 'randomforestclassifier__min_samples_split': 8, 'randomforestclassifier__n_estimators': 50}\n",
      " 0.922735 (0.009526) with: {'randomforestclassifier__criterion': 'gini', 'randomforestclassifier__max_features': 8, 'randomforestclassifier__min_samples_split': 8, 'randomforestclassifier__n_estimators': 100}\n",
      " 0.922869 (0.009619) with: {'randomforestclassifier__criterion': 'gini', 'randomforestclassifier__max_features': 8, 'randomforestclassifier__min_samples_split': 8, 'randomforestclassifier__n_estimators': 150}\n",
      " 0.922910 (0.009539) with: {'randomforestclassifier__criterion': 'gini', 'randomforestclassifier__max_features': 8, 'randomforestclassifier__min_samples_split': 8, 'randomforestclassifier__n_estimators': 200}\n",
      " 0.915766 (0.010605) with: {'randomforestclassifier__criterion': 'gini', 'randomforestclassifier__max_features': 8, 'randomforestclassifier__min_samples_split': 16, 'randomforestclassifier__n_estimators': 10}\n",
      " 0.919287 (0.010141) with: {'randomforestclassifier__criterion': 'gini', 'randomforestclassifier__max_features': 8, 'randomforestclassifier__min_samples_split': 16, 'randomforestclassifier__n_estimators': 30}\n",
      " 0.919733 (0.010223) with: {'randomforestclassifier__criterion': 'gini', 'randomforestclassifier__max_features': 8, 'randomforestclassifier__min_samples_split': 16, 'randomforestclassifier__n_estimators': 50}\n",
      " 0.920019 (0.010563) with: {'randomforestclassifier__criterion': 'gini', 'randomforestclassifier__max_features': 8, 'randomforestclassifier__min_samples_split': 16, 'randomforestclassifier__n_estimators': 100}\n",
      " 0.920128 (0.010495) with: {'randomforestclassifier__criterion': 'gini', 'randomforestclassifier__max_features': 8, 'randomforestclassifier__min_samples_split': 16, 'randomforestclassifier__n_estimators': 150}\n",
      " 0.920364 (0.010422) with: {'randomforestclassifier__criterion': 'gini', 'randomforestclassifier__max_features': 8, 'randomforestclassifier__min_samples_split': 16, 'randomforestclassifier__n_estimators': 200}\n",
      " 0.912075 (0.013228) with: {'randomforestclassifier__criterion': 'gini', 'randomforestclassifier__max_features': 8, 'randomforestclassifier__min_samples_split': 32, 'randomforestclassifier__n_estimators': 10}\n",
      " 0.914299 (0.011771) with: {'randomforestclassifier__criterion': 'gini', 'randomforestclassifier__max_features': 8, 'randomforestclassifier__min_samples_split': 32, 'randomforestclassifier__n_estimators': 30}\n",
      " 0.914603 (0.012325) with: {'randomforestclassifier__criterion': 'gini', 'randomforestclassifier__max_features': 8, 'randomforestclassifier__min_samples_split': 32, 'randomforestclassifier__n_estimators': 50}\n",
      " 0.915329 (0.011968) with: {'randomforestclassifier__criterion': 'gini', 'randomforestclassifier__max_features': 8, 'randomforestclassifier__min_samples_split': 32, 'randomforestclassifier__n_estimators': 100}\n",
      " 0.915435 (0.011963) with: {'randomforestclassifier__criterion': 'gini', 'randomforestclassifier__max_features': 8, 'randomforestclassifier__min_samples_split': 32, 'randomforestclassifier__n_estimators': 150}\n",
      " 0.915475 (0.011845) with: {'randomforestclassifier__criterion': 'gini', 'randomforestclassifier__max_features': 8, 'randomforestclassifier__min_samples_split': 32, 'randomforestclassifier__n_estimators': 200}\n",
      " 0.903081 (0.013870) with: {'randomforestclassifier__criterion': 'gini', 'randomforestclassifier__max_features': 8, 'randomforestclassifier__min_samples_split': 64, 'randomforestclassifier__n_estimators': 10}\n",
      " 0.905700 (0.013862) with: {'randomforestclassifier__criterion': 'gini', 'randomforestclassifier__max_features': 8, 'randomforestclassifier__min_samples_split': 64, 'randomforestclassifier__n_estimators': 30}\n",
      " 0.905754 (0.013755) with: {'randomforestclassifier__criterion': 'gini', 'randomforestclassifier__max_features': 8, 'randomforestclassifier__min_samples_split': 64, 'randomforestclassifier__n_estimators': 50}\n",
      " 0.906242 (0.013353) with: {'randomforestclassifier__criterion': 'gini', 'randomforestclassifier__max_features': 8, 'randomforestclassifier__min_samples_split': 64, 'randomforestclassifier__n_estimators': 100}\n",
      " 0.906327 (0.013318) with: {'randomforestclassifier__criterion': 'gini', 'randomforestclassifier__max_features': 8, 'randomforestclassifier__min_samples_split': 64, 'randomforestclassifier__n_estimators': 150}\n",
      " 0.906292 (0.013369) with: {'randomforestclassifier__criterion': 'gini', 'randomforestclassifier__max_features': 8, 'randomforestclassifier__min_samples_split': 64, 'randomforestclassifier__n_estimators': 200}\n",
      " 0.903380 (0.009696) with: {'randomforestclassifier__criterion': 'entropy', 'randomforestclassifier__max_features': 2, 'randomforestclassifier__min_samples_split': 2, 'randomforestclassifier__n_estimators': 10}\n",
      " 0.909967 (0.009636) with: {'randomforestclassifier__criterion': 'entropy', 'randomforestclassifier__max_features': 2, 'randomforestclassifier__min_samples_split': 2, 'randomforestclassifier__n_estimators': 30}\n",
      " 0.911308 (0.009574) with: {'randomforestclassifier__criterion': 'entropy', 'randomforestclassifier__max_features': 2, 'randomforestclassifier__min_samples_split': 2, 'randomforestclassifier__n_estimators': 50}\n",
      " 0.912440 (0.009817) with: {'randomforestclassifier__criterion': 'entropy', 'randomforestclassifier__max_features': 2, 'randomforestclassifier__min_samples_split': 2, 'randomforestclassifier__n_estimators': 100}\n",
      " 0.912919 (0.009688) with: {'randomforestclassifier__criterion': 'entropy', 'randomforestclassifier__max_features': 2, 'randomforestclassifier__min_samples_split': 2, 'randomforestclassifier__n_estimators': 150}\n",
      " 0.913114 (0.009721) with: {'randomforestclassifier__criterion': 'entropy', 'randomforestclassifier__max_features': 2, 'randomforestclassifier__min_samples_split': 2, 'randomforestclassifier__n_estimators': 200}\n",
      " 0.909161 (0.010220) with: {'randomforestclassifier__criterion': 'entropy', 'randomforestclassifier__max_features': 2, 'randomforestclassifier__min_samples_split': 4, 'randomforestclassifier__n_estimators': 10}\n",
      " 0.913539 (0.009408) with: {'randomforestclassifier__criterion': 'entropy', 'randomforestclassifier__max_features': 2, 'randomforestclassifier__min_samples_split': 4, 'randomforestclassifier__n_estimators': 30}\n",
      " 0.914178 (0.009552) with: {'randomforestclassifier__criterion': 'entropy', 'randomforestclassifier__max_features': 2, 'randomforestclassifier__min_samples_split': 4, 'randomforestclassifier__n_estimators': 50}\n",
      " 0.914867 (0.009701) with: {'randomforestclassifier__criterion': 'entropy', 'randomforestclassifier__max_features': 2, 'randomforestclassifier__min_samples_split': 4, 'randomforestclassifier__n_estimators': 100}\n",
      " 0.914974 (0.009509) with: {'randomforestclassifier__criterion': 'entropy', 'randomforestclassifier__max_features': 2, 'randomforestclassifier__min_samples_split': 4, 'randomforestclassifier__n_estimators': 150}\n",
      " 0.915167 (0.009503) with: {'randomforestclassifier__criterion': 'entropy', 'randomforestclassifier__max_features': 2, 'randomforestclassifier__min_samples_split': 4, 'randomforestclassifier__n_estimators': 200}\n",
      " 0.908272 (0.010115) with: {'randomforestclassifier__criterion': 'entropy', 'randomforestclassifier__max_features': 2, 'randomforestclassifier__min_samples_split': 8, 'randomforestclassifier__n_estimators': 10}\n",
      " 0.912911 (0.010703) with: {'randomforestclassifier__criterion': 'entropy', 'randomforestclassifier__max_features': 2, 'randomforestclassifier__min_samples_split': 8, 'randomforestclassifier__n_estimators': 30}\n",
      " 0.914005 (0.010471) with: {'randomforestclassifier__criterion': 'entropy', 'randomforestclassifier__max_features': 2, 'randomforestclassifier__min_samples_split': 8, 'randomforestclassifier__n_estimators': 50}\n",
      " 0.914939 (0.010280) with: {'randomforestclassifier__criterion': 'entropy', 'randomforestclassifier__max_features': 2, 'randomforestclassifier__min_samples_split': 8, 'randomforestclassifier__n_estimators': 100}\n",
      " 0.915074 (0.010084) with: {'randomforestclassifier__criterion': 'entropy', 'randomforestclassifier__max_features': 2, 'randomforestclassifier__min_samples_split': 8, 'randomforestclassifier__n_estimators': 150}\n",
      " 0.915430 (0.009930) with: {'randomforestclassifier__criterion': 'entropy', 'randomforestclassifier__max_features': 2, 'randomforestclassifier__min_samples_split': 8, 'randomforestclassifier__n_estimators': 200}\n",
      " 0.905470 (0.011833) with: {'randomforestclassifier__criterion': 'entropy', 'randomforestclassifier__max_features': 2, 'randomforestclassifier__min_samples_split': 16, 'randomforestclassifier__n_estimators': 10}\n",
      " 0.909549 (0.011770) with: {'randomforestclassifier__criterion': 'entropy', 'randomforestclassifier__max_features': 2, 'randomforestclassifier__min_samples_split': 16, 'randomforestclassifier__n_estimators': 30}\n",
      " 0.910211 (0.011682) with: {'randomforestclassifier__criterion': 'entropy', 'randomforestclassifier__max_features': 2, 'randomforestclassifier__min_samples_split': 16, 'randomforestclassifier__n_estimators': 50}\n",
      " 0.910917 (0.011505) with: {'randomforestclassifier__criterion': 'entropy', 'randomforestclassifier__max_features': 2, 'randomforestclassifier__min_samples_split': 16, 'randomforestclassifier__n_estimators': 100}\n",
      " 0.911276 (0.011642) with: {'randomforestclassifier__criterion': 'entropy', 'randomforestclassifier__max_features': 2, 'randomforestclassifier__min_samples_split': 16, 'randomforestclassifier__n_estimators': 150}\n",
      " 0.911484 (0.011665) with: {'randomforestclassifier__criterion': 'entropy', 'randomforestclassifier__max_features': 2, 'randomforestclassifier__min_samples_split': 16, 'randomforestclassifier__n_estimators': 200}\n",
      " 0.899356 (0.013320) with: {'randomforestclassifier__criterion': 'entropy', 'randomforestclassifier__max_features': 2, 'randomforestclassifier__min_samples_split': 32, 'randomforestclassifier__n_estimators': 10}\n",
      " 0.902092 (0.013449) with: {'randomforestclassifier__criterion': 'entropy', 'randomforestclassifier__max_features': 2, 'randomforestclassifier__min_samples_split': 32, 'randomforestclassifier__n_estimators': 30}\n",
      " 0.902865 (0.013680) with: {'randomforestclassifier__criterion': 'entropy', 'randomforestclassifier__max_features': 2, 'randomforestclassifier__min_samples_split': 32, 'randomforestclassifier__n_estimators': 50}\n",
      " 0.903888 (0.013515) with: {'randomforestclassifier__criterion': 'entropy', 'randomforestclassifier__max_features': 2, 'randomforestclassifier__min_samples_split': 32, 'randomforestclassifier__n_estimators': 100}\n",
      " 0.904696 (0.013178) with: {'randomforestclassifier__criterion': 'entropy', 'randomforestclassifier__max_features': 2, 'randomforestclassifier__min_samples_split': 32, 'randomforestclassifier__n_estimators': 150}\n",
      " 0.904818 (0.013177) with: {'randomforestclassifier__criterion': 'entropy', 'randomforestclassifier__max_features': 2, 'randomforestclassifier__min_samples_split': 32, 'randomforestclassifier__n_estimators': 200}\n",
      " 0.887909 (0.015538) with: {'randomforestclassifier__criterion': 'entropy', 'randomforestclassifier__max_features': 2, 'randomforestclassifier__min_samples_split': 64, 'randomforestclassifier__n_estimators': 10}\n",
      " 0.891517 (0.014810) with: {'randomforestclassifier__criterion': 'entropy', 'randomforestclassifier__max_features': 2, 'randomforestclassifier__min_samples_split': 64, 'randomforestclassifier__n_estimators': 30}\n",
      " 0.892086 (0.014577) with: {'randomforestclassifier__criterion': 'entropy', 'randomforestclassifier__max_features': 2, 'randomforestclassifier__min_samples_split': 64, 'randomforestclassifier__n_estimators': 50}\n",
      " 0.893631 (0.014399) with: {'randomforestclassifier__criterion': 'entropy', 'randomforestclassifier__max_features': 2, 'randomforestclassifier__min_samples_split': 64, 'randomforestclassifier__n_estimators': 100}\n",
      " 0.894375 (0.014439) with: {'randomforestclassifier__criterion': 'entropy', 'randomforestclassifier__max_features': 2, 'randomforestclassifier__min_samples_split': 64, 'randomforestclassifier__n_estimators': 150}\n",
      " 0.894459 (0.014409) with: {'randomforestclassifier__criterion': 'entropy', 'randomforestclassifier__max_features': 2, 'randomforestclassifier__min_samples_split': 64, 'randomforestclassifier__n_estimators': 200}\n",
      " 0.906690 (0.010061) with: {'randomforestclassifier__criterion': 'entropy', 'randomforestclassifier__max_features': 3, 'randomforestclassifier__min_samples_split': 2, 'randomforestclassifier__n_estimators': 10}\n",
      " 0.912256 (0.009721) with: {'randomforestclassifier__criterion': 'entropy', 'randomforestclassifier__max_features': 3, 'randomforestclassifier__min_samples_split': 2, 'randomforestclassifier__n_estimators': 30}\n",
      " 0.913504 (0.009676) with: {'randomforestclassifier__criterion': 'entropy', 'randomforestclassifier__max_features': 3, 'randomforestclassifier__min_samples_split': 2, 'randomforestclassifier__n_estimators': 50}\n",
      " 0.914509 (0.010174) with: {'randomforestclassifier__criterion': 'entropy', 'randomforestclassifier__max_features': 3, 'randomforestclassifier__min_samples_split': 2, 'randomforestclassifier__n_estimators': 100}\n",
      " 0.914532 (0.010168) with: {'randomforestclassifier__criterion': 'entropy', 'randomforestclassifier__max_features': 3, 'randomforestclassifier__min_samples_split': 2, 'randomforestclassifier__n_estimators': 150}\n",
      " 0.914905 (0.010070) with: {'randomforestclassifier__criterion': 'entropy', 'randomforestclassifier__max_features': 3, 'randomforestclassifier__min_samples_split': 2, 'randomforestclassifier__n_estimators': 200}\n",
      " 0.909942 (0.010357) with: {'randomforestclassifier__criterion': 'entropy', 'randomforestclassifier__max_features': 3, 'randomforestclassifier__min_samples_split': 4, 'randomforestclassifier__n_estimators': 10}\n",
      " 0.914491 (0.009153) with: {'randomforestclassifier__criterion': 'entropy', 'randomforestclassifier__max_features': 3, 'randomforestclassifier__min_samples_split': 4, 'randomforestclassifier__n_estimators': 30}\n",
      " 0.915503 (0.009520) with: {'randomforestclassifier__criterion': 'entropy', 'randomforestclassifier__max_features': 3, 'randomforestclassifier__min_samples_split': 4, 'randomforestclassifier__n_estimators': 50}\n",
      " 0.916037 (0.009744) with: {'randomforestclassifier__criterion': 'entropy', 'randomforestclassifier__max_features': 3, 'randomforestclassifier__min_samples_split': 4, 'randomforestclassifier__n_estimators': 100}\n",
      " 0.916313 (0.009735) with: {'randomforestclassifier__criterion': 'entropy', 'randomforestclassifier__max_features': 3, 'randomforestclassifier__min_samples_split': 4, 'randomforestclassifier__n_estimators': 150}\n",
      " 0.916685 (0.009556) with: {'randomforestclassifier__criterion': 'entropy', 'randomforestclassifier__max_features': 3, 'randomforestclassifier__min_samples_split': 4, 'randomforestclassifier__n_estimators': 200}\n",
      " 0.910533 (0.010920) with: {'randomforestclassifier__criterion': 'entropy', 'randomforestclassifier__max_features': 3, 'randomforestclassifier__min_samples_split': 8, 'randomforestclassifier__n_estimators': 10}\n",
      " 0.914955 (0.010111) with: {'randomforestclassifier__criterion': 'entropy', 'randomforestclassifier__max_features': 3, 'randomforestclassifier__min_samples_split': 8, 'randomforestclassifier__n_estimators': 30}\n",
      " 0.916146 (0.010559) with: {'randomforestclassifier__criterion': 'entropy', 'randomforestclassifier__max_features': 3, 'randomforestclassifier__min_samples_split': 8, 'randomforestclassifier__n_estimators': 50}\n",
      " 0.917114 (0.010148) with: {'randomforestclassifier__criterion': 'entropy', 'randomforestclassifier__max_features': 3, 'randomforestclassifier__min_samples_split': 8, 'randomforestclassifier__n_estimators': 100}\n",
      " 0.917018 (0.010341) with: {'randomforestclassifier__criterion': 'entropy', 'randomforestclassifier__max_features': 3, 'randomforestclassifier__min_samples_split': 8, 'randomforestclassifier__n_estimators': 150}\n",
      " 0.917231 (0.010249) with: {'randomforestclassifier__criterion': 'entropy', 'randomforestclassifier__max_features': 3, 'randomforestclassifier__min_samples_split': 8, 'randomforestclassifier__n_estimators': 200}\n",
      " 0.907070 (0.011648) with: {'randomforestclassifier__criterion': 'entropy', 'randomforestclassifier__max_features': 3, 'randomforestclassifier__min_samples_split': 16, 'randomforestclassifier__n_estimators': 10}\n",
      " 0.911366 (0.010922) with: {'randomforestclassifier__criterion': 'entropy', 'randomforestclassifier__max_features': 3, 'randomforestclassifier__min_samples_split': 16, 'randomforestclassifier__n_estimators': 30}\n",
      " 0.912572 (0.011107) with: {'randomforestclassifier__criterion': 'entropy', 'randomforestclassifier__max_features': 3, 'randomforestclassifier__min_samples_split': 16, 'randomforestclassifier__n_estimators': 50}\n",
      " 0.913548 (0.011526) with: {'randomforestclassifier__criterion': 'entropy', 'randomforestclassifier__max_features': 3, 'randomforestclassifier__min_samples_split': 16, 'randomforestclassifier__n_estimators': 100}\n",
      " 0.913680 (0.011586) with: {'randomforestclassifier__criterion': 'entropy', 'randomforestclassifier__max_features': 3, 'randomforestclassifier__min_samples_split': 16, 'randomforestclassifier__n_estimators': 150}\n",
      " 0.914085 (0.011531) with: {'randomforestclassifier__criterion': 'entropy', 'randomforestclassifier__max_features': 3, 'randomforestclassifier__min_samples_split': 16, 'randomforestclassifier__n_estimators': 200}\n",
      " 0.901297 (0.013674) with: {'randomforestclassifier__criterion': 'entropy', 'randomforestclassifier__max_features': 3, 'randomforestclassifier__min_samples_split': 32, 'randomforestclassifier__n_estimators': 10}\n",
      " 0.905050 (0.012447) with: {'randomforestclassifier__criterion': 'entropy', 'randomforestclassifier__max_features': 3, 'randomforestclassifier__min_samples_split': 32, 'randomforestclassifier__n_estimators': 30}\n",
      " 0.905981 (0.012850) with: {'randomforestclassifier__criterion': 'entropy', 'randomforestclassifier__max_features': 3, 'randomforestclassifier__min_samples_split': 32, 'randomforestclassifier__n_estimators': 50}\n",
      " 0.907451 (0.012762) with: {'randomforestclassifier__criterion': 'entropy', 'randomforestclassifier__max_features': 3, 'randomforestclassifier__min_samples_split': 32, 'randomforestclassifier__n_estimators': 100}\n",
      " 0.907300 (0.012802) with: {'randomforestclassifier__criterion': 'entropy', 'randomforestclassifier__max_features': 3, 'randomforestclassifier__min_samples_split': 32, 'randomforestclassifier__n_estimators': 150}\n",
      " 0.907495 (0.012923) with: {'randomforestclassifier__criterion': 'entropy', 'randomforestclassifier__max_features': 3, 'randomforestclassifier__min_samples_split': 32, 'randomforestclassifier__n_estimators': 200}\n",
      " 0.892409 (0.016032) with: {'randomforestclassifier__criterion': 'entropy', 'randomforestclassifier__max_features': 3, 'randomforestclassifier__min_samples_split': 64, 'randomforestclassifier__n_estimators': 10}\n",
      " 0.895721 (0.014234) with: {'randomforestclassifier__criterion': 'entropy', 'randomforestclassifier__max_features': 3, 'randomforestclassifier__min_samples_split': 64, 'randomforestclassifier__n_estimators': 30}\n",
      " 0.896542 (0.014193) with: {'randomforestclassifier__criterion': 'entropy', 'randomforestclassifier__max_features': 3, 'randomforestclassifier__min_samples_split': 64, 'randomforestclassifier__n_estimators': 50}\n",
      " 0.897463 (0.013765) with: {'randomforestclassifier__criterion': 'entropy', 'randomforestclassifier__max_features': 3, 'randomforestclassifier__min_samples_split': 64, 'randomforestclassifier__n_estimators': 100}\n",
      " 0.897533 (0.013819) with: {'randomforestclassifier__criterion': 'entropy', 'randomforestclassifier__max_features': 3, 'randomforestclassifier__min_samples_split': 64, 'randomforestclassifier__n_estimators': 150}\n",
      " 0.897886 (0.013739) with: {'randomforestclassifier__criterion': 'entropy', 'randomforestclassifier__max_features': 3, 'randomforestclassifier__min_samples_split': 64, 'randomforestclassifier__n_estimators': 200}\n",
      " 0.906789 (0.010597) with: {'randomforestclassifier__criterion': 'entropy', 'randomforestclassifier__max_features': 4, 'randomforestclassifier__min_samples_split': 2, 'randomforestclassifier__n_estimators': 10}\n",
      " 0.913592 (0.010058) with: {'randomforestclassifier__criterion': 'entropy', 'randomforestclassifier__max_features': 4, 'randomforestclassifier__min_samples_split': 2, 'randomforestclassifier__n_estimators': 30}\n",
      " 0.914797 (0.009943) with: {'randomforestclassifier__criterion': 'entropy', 'randomforestclassifier__max_features': 4, 'randomforestclassifier__min_samples_split': 2, 'randomforestclassifier__n_estimators': 50}\n",
      " 0.916112 (0.010154) with: {'randomforestclassifier__criterion': 'entropy', 'randomforestclassifier__max_features': 4, 'randomforestclassifier__min_samples_split': 2, 'randomforestclassifier__n_estimators': 100}\n",
      " 0.916312 (0.009931) with: {'randomforestclassifier__criterion': 'entropy', 'randomforestclassifier__max_features': 4, 'randomforestclassifier__min_samples_split': 2, 'randomforestclassifier__n_estimators': 150}\n",
      " 0.916417 (0.009932) with: {'randomforestclassifier__criterion': 'entropy', 'randomforestclassifier__max_features': 4, 'randomforestclassifier__min_samples_split': 2, 'randomforestclassifier__n_estimators': 200}\n",
      " 0.911926 (0.010303) with: {'randomforestclassifier__criterion': 'entropy', 'randomforestclassifier__max_features': 4, 'randomforestclassifier__min_samples_split': 4, 'randomforestclassifier__n_estimators': 10}\n",
      " 0.916394 (0.009820) with: {'randomforestclassifier__criterion': 'entropy', 'randomforestclassifier__max_features': 4, 'randomforestclassifier__min_samples_split': 4, 'randomforestclassifier__n_estimators': 30}\n",
      " 0.917597 (0.009555) with: {'randomforestclassifier__criterion': 'entropy', 'randomforestclassifier__max_features': 4, 'randomforestclassifier__min_samples_split': 4, 'randomforestclassifier__n_estimators': 50}\n",
      " 0.918546 (0.009518) with: {'randomforestclassifier__criterion': 'entropy', 'randomforestclassifier__max_features': 4, 'randomforestclassifier__min_samples_split': 4, 'randomforestclassifier__n_estimators': 100}\n",
      " 0.918265 (0.009564) with: {'randomforestclassifier__criterion': 'entropy', 'randomforestclassifier__max_features': 4, 'randomforestclassifier__min_samples_split': 4, 'randomforestclassifier__n_estimators': 150}\n",
      " 0.918553 (0.009471) with: {'randomforestclassifier__criterion': 'entropy', 'randomforestclassifier__max_features': 4, 'randomforestclassifier__min_samples_split': 4, 'randomforestclassifier__n_estimators': 200}\n",
      " 0.913471 (0.010024) with: {'randomforestclassifier__criterion': 'entropy', 'randomforestclassifier__max_features': 4, 'randomforestclassifier__min_samples_split': 8, 'randomforestclassifier__n_estimators': 10}\n",
      " 0.918162 (0.009924) with: {'randomforestclassifier__criterion': 'entropy', 'randomforestclassifier__max_features': 4, 'randomforestclassifier__min_samples_split': 8, 'randomforestclassifier__n_estimators': 30}\n",
      " 0.918758 (0.010035) with: {'randomforestclassifier__criterion': 'entropy', 'randomforestclassifier__max_features': 4, 'randomforestclassifier__min_samples_split': 8, 'randomforestclassifier__n_estimators': 50}\n",
      " 0.919125 (0.010015) with: {'randomforestclassifier__criterion': 'entropy', 'randomforestclassifier__max_features': 4, 'randomforestclassifier__min_samples_split': 8, 'randomforestclassifier__n_estimators': 100}\n",
      " 0.919107 (0.010047) with: {'randomforestclassifier__criterion': 'entropy', 'randomforestclassifier__max_features': 4, 'randomforestclassifier__min_samples_split': 8, 'randomforestclassifier__n_estimators': 150}\n",
      " 0.919313 (0.009959) with: {'randomforestclassifier__criterion': 'entropy', 'randomforestclassifier__max_features': 4, 'randomforestclassifier__min_samples_split': 8, 'randomforestclassifier__n_estimators': 200}\n",
      " 0.911102 (0.010537) with: {'randomforestclassifier__criterion': 'entropy', 'randomforestclassifier__max_features': 4, 'randomforestclassifier__min_samples_split': 16, 'randomforestclassifier__n_estimators': 10}\n",
      " 0.915286 (0.010655) with: {'randomforestclassifier__criterion': 'entropy', 'randomforestclassifier__max_features': 4, 'randomforestclassifier__min_samples_split': 16, 'randomforestclassifier__n_estimators': 30}\n",
      " 0.915813 (0.010968) with: {'randomforestclassifier__criterion': 'entropy', 'randomforestclassifier__max_features': 4, 'randomforestclassifier__min_samples_split': 16, 'randomforestclassifier__n_estimators': 50}\n",
      " 0.916026 (0.011040) with: {'randomforestclassifier__criterion': 'entropy', 'randomforestclassifier__max_features': 4, 'randomforestclassifier__min_samples_split': 16, 'randomforestclassifier__n_estimators': 100}\n",
      " 0.916028 (0.011275) with: {'randomforestclassifier__criterion': 'entropy', 'randomforestclassifier__max_features': 4, 'randomforestclassifier__min_samples_split': 16, 'randomforestclassifier__n_estimators': 150}\n",
      " 0.916241 (0.011223) with: {'randomforestclassifier__criterion': 'entropy', 'randomforestclassifier__max_features': 4, 'randomforestclassifier__min_samples_split': 16, 'randomforestclassifier__n_estimators': 200}\n",
      " 0.905671 (0.013835) with: {'randomforestclassifier__criterion': 'entropy', 'randomforestclassifier__max_features': 4, 'randomforestclassifier__min_samples_split': 32, 'randomforestclassifier__n_estimators': 10}\n",
      " 0.908516 (0.013022) with: {'randomforestclassifier__criterion': 'entropy', 'randomforestclassifier__max_features': 4, 'randomforestclassifier__min_samples_split': 32, 'randomforestclassifier__n_estimators': 30}\n",
      " 0.909364 (0.013057) with: {'randomforestclassifier__criterion': 'entropy', 'randomforestclassifier__max_features': 4, 'randomforestclassifier__min_samples_split': 32, 'randomforestclassifier__n_estimators': 50}\n",
      " 0.910337 (0.012528) with: {'randomforestclassifier__criterion': 'entropy', 'randomforestclassifier__max_features': 4, 'randomforestclassifier__min_samples_split': 32, 'randomforestclassifier__n_estimators': 100}\n",
      " 0.910407 (0.012545) with: {'randomforestclassifier__criterion': 'entropy', 'randomforestclassifier__max_features': 4, 'randomforestclassifier__min_samples_split': 32, 'randomforestclassifier__n_estimators': 150}\n",
      " 0.910453 (0.012667) with: {'randomforestclassifier__criterion': 'entropy', 'randomforestclassifier__max_features': 4, 'randomforestclassifier__min_samples_split': 32, 'randomforestclassifier__n_estimators': 200}\n",
      " 0.896577 (0.014111) with: {'randomforestclassifier__criterion': 'entropy', 'randomforestclassifier__max_features': 4, 'randomforestclassifier__min_samples_split': 64, 'randomforestclassifier__n_estimators': 10}\n",
      " 0.899996 (0.014290) with: {'randomforestclassifier__criterion': 'entropy', 'randomforestclassifier__max_features': 4, 'randomforestclassifier__min_samples_split': 64, 'randomforestclassifier__n_estimators': 30}\n",
      " 0.900260 (0.014348) with: {'randomforestclassifier__criterion': 'entropy', 'randomforestclassifier__max_features': 4, 'randomforestclassifier__min_samples_split': 64, 'randomforestclassifier__n_estimators': 50}\n",
      " 0.900616 (0.013694) with: {'randomforestclassifier__criterion': 'entropy', 'randomforestclassifier__max_features': 4, 'randomforestclassifier__min_samples_split': 64, 'randomforestclassifier__n_estimators': 100}\n",
      " 0.900513 (0.013725) with: {'randomforestclassifier__criterion': 'entropy', 'randomforestclassifier__max_features': 4, 'randomforestclassifier__min_samples_split': 64, 'randomforestclassifier__n_estimators': 150}\n",
      " 0.900778 (0.013751) with: {'randomforestclassifier__criterion': 'entropy', 'randomforestclassifier__max_features': 4, 'randomforestclassifier__min_samples_split': 64, 'randomforestclassifier__n_estimators': 200}\n",
      " 0.908305 (0.011411) with: {'randomforestclassifier__criterion': 'entropy', 'randomforestclassifier__max_features': 5, 'randomforestclassifier__min_samples_split': 2, 'randomforestclassifier__n_estimators': 10}\n",
      " 0.914767 (0.010188) with: {'randomforestclassifier__criterion': 'entropy', 'randomforestclassifier__max_features': 5, 'randomforestclassifier__min_samples_split': 2, 'randomforestclassifier__n_estimators': 30}\n",
      " 0.916319 (0.010341) with: {'randomforestclassifier__criterion': 'entropy', 'randomforestclassifier__max_features': 5, 'randomforestclassifier__min_samples_split': 2, 'randomforestclassifier__n_estimators': 50}\n",
      " 0.917249 (0.010538) with: {'randomforestclassifier__criterion': 'entropy', 'randomforestclassifier__max_features': 5, 'randomforestclassifier__min_samples_split': 2, 'randomforestclassifier__n_estimators': 100}\n",
      " 0.917469 (0.010174) with: {'randomforestclassifier__criterion': 'entropy', 'randomforestclassifier__max_features': 5, 'randomforestclassifier__min_samples_split': 2, 'randomforestclassifier__n_estimators': 150}\n",
      " 0.917818 (0.009905) with: {'randomforestclassifier__criterion': 'entropy', 'randomforestclassifier__max_features': 5, 'randomforestclassifier__min_samples_split': 2, 'randomforestclassifier__n_estimators': 200}\n",
      " 0.912163 (0.010260) with: {'randomforestclassifier__criterion': 'entropy', 'randomforestclassifier__max_features': 5, 'randomforestclassifier__min_samples_split': 4, 'randomforestclassifier__n_estimators': 10}\n",
      " 0.917668 (0.009847) with: {'randomforestclassifier__criterion': 'entropy', 'randomforestclassifier__max_features': 5, 'randomforestclassifier__min_samples_split': 4, 'randomforestclassifier__n_estimators': 30}\n",
      " 0.918776 (0.009627) with: {'randomforestclassifier__criterion': 'entropy', 'randomforestclassifier__max_features': 5, 'randomforestclassifier__min_samples_split': 4, 'randomforestclassifier__n_estimators': 50}\n",
      " 0.919500 (0.009604) with: {'randomforestclassifier__criterion': 'entropy', 'randomforestclassifier__max_features': 5, 'randomforestclassifier__min_samples_split': 4, 'randomforestclassifier__n_estimators': 100}\n",
      " 0.919659 (0.009830) with: {'randomforestclassifier__criterion': 'entropy', 'randomforestclassifier__max_features': 5, 'randomforestclassifier__min_samples_split': 4, 'randomforestclassifier__n_estimators': 150}\n",
      " 0.919866 (0.009683) with: {'randomforestclassifier__criterion': 'entropy', 'randomforestclassifier__max_features': 5, 'randomforestclassifier__min_samples_split': 4, 'randomforestclassifier__n_estimators': 200}\n",
      " 0.914506 (0.009283) with: {'randomforestclassifier__criterion': 'entropy', 'randomforestclassifier__max_features': 5, 'randomforestclassifier__min_samples_split': 8, 'randomforestclassifier__n_estimators': 10}\n",
      " 0.918776 (0.009325) with: {'randomforestclassifier__criterion': 'entropy', 'randomforestclassifier__max_features': 5, 'randomforestclassifier__min_samples_split': 8, 'randomforestclassifier__n_estimators': 30}\n",
      " 0.919765 (0.009604) with: {'randomforestclassifier__criterion': 'entropy', 'randomforestclassifier__max_features': 5, 'randomforestclassifier__min_samples_split': 8, 'randomforestclassifier__n_estimators': 50}\n",
      " 0.920776 (0.009662) with: {'randomforestclassifier__criterion': 'entropy', 'randomforestclassifier__max_features': 5, 'randomforestclassifier__min_samples_split': 8, 'randomforestclassifier__n_estimators': 100}\n",
      " 0.920804 (0.009846) with: {'randomforestclassifier__criterion': 'entropy', 'randomforestclassifier__max_features': 5, 'randomforestclassifier__min_samples_split': 8, 'randomforestclassifier__n_estimators': 150}\n",
      " 0.921198 (0.009674) with: {'randomforestclassifier__criterion': 'entropy', 'randomforestclassifier__max_features': 5, 'randomforestclassifier__min_samples_split': 8, 'randomforestclassifier__n_estimators': 200}\n",
      " 0.912974 (0.011045) with: {'randomforestclassifier__criterion': 'entropy', 'randomforestclassifier__max_features': 5, 'randomforestclassifier__min_samples_split': 16, 'randomforestclassifier__n_estimators': 10}\n",
      " 0.916605 (0.010679) with: {'randomforestclassifier__criterion': 'entropy', 'randomforestclassifier__max_features': 5, 'randomforestclassifier__min_samples_split': 16, 'randomforestclassifier__n_estimators': 30}\n",
      " 0.917356 (0.011021) with: {'randomforestclassifier__criterion': 'entropy', 'randomforestclassifier__max_features': 5, 'randomforestclassifier__min_samples_split': 16, 'randomforestclassifier__n_estimators': 50}\n",
      " 0.917708 (0.011107) with: {'randomforestclassifier__criterion': 'entropy', 'randomforestclassifier__max_features': 5, 'randomforestclassifier__min_samples_split': 16, 'randomforestclassifier__n_estimators': 100}\n",
      " 0.917875 (0.010939) with: {'randomforestclassifier__criterion': 'entropy', 'randomforestclassifier__max_features': 5, 'randomforestclassifier__min_samples_split': 16, 'randomforestclassifier__n_estimators': 150}\n",
      " 0.918067 (0.010789) with: {'randomforestclassifier__criterion': 'entropy', 'randomforestclassifier__max_features': 5, 'randomforestclassifier__min_samples_split': 16, 'randomforestclassifier__n_estimators': 200}\n",
      " 0.907578 (0.012136) with: {'randomforestclassifier__criterion': 'entropy', 'randomforestclassifier__max_features': 5, 'randomforestclassifier__min_samples_split': 32, 'randomforestclassifier__n_estimators': 10}\n",
      " 0.910985 (0.011975) with: {'randomforestclassifier__criterion': 'entropy', 'randomforestclassifier__max_features': 5, 'randomforestclassifier__min_samples_split': 32, 'randomforestclassifier__n_estimators': 30}\n",
      " 0.911353 (0.012359) with: {'randomforestclassifier__criterion': 'entropy', 'randomforestclassifier__max_features': 5, 'randomforestclassifier__min_samples_split': 32, 'randomforestclassifier__n_estimators': 50}\n",
      " 0.912435 (0.012132) with: {'randomforestclassifier__criterion': 'entropy', 'randomforestclassifier__max_features': 5, 'randomforestclassifier__min_samples_split': 32, 'randomforestclassifier__n_estimators': 100}\n",
      " 0.912225 (0.012189) with: {'randomforestclassifier__criterion': 'entropy', 'randomforestclassifier__max_features': 5, 'randomforestclassifier__min_samples_split': 32, 'randomforestclassifier__n_estimators': 150}\n",
      " 0.912331 (0.012288) with: {'randomforestclassifier__criterion': 'entropy', 'randomforestclassifier__max_features': 5, 'randomforestclassifier__min_samples_split': 32, 'randomforestclassifier__n_estimators': 200}\n",
      " 0.898199 (0.012647) with: {'randomforestclassifier__criterion': 'entropy', 'randomforestclassifier__max_features': 5, 'randomforestclassifier__min_samples_split': 64, 'randomforestclassifier__n_estimators': 10}\n",
      " 0.901605 (0.013473) with: {'randomforestclassifier__criterion': 'entropy', 'randomforestclassifier__max_features': 5, 'randomforestclassifier__min_samples_split': 64, 'randomforestclassifier__n_estimators': 30}\n",
      " 0.902523 (0.013539) with: {'randomforestclassifier__criterion': 'entropy', 'randomforestclassifier__max_features': 5, 'randomforestclassifier__min_samples_split': 64, 'randomforestclassifier__n_estimators': 50}\n",
      " 0.902868 (0.013302) with: {'randomforestclassifier__criterion': 'entropy', 'randomforestclassifier__max_features': 5, 'randomforestclassifier__min_samples_split': 64, 'randomforestclassifier__n_estimators': 100}\n",
      " 0.902870 (0.013441) with: {'randomforestclassifier__criterion': 'entropy', 'randomforestclassifier__max_features': 5, 'randomforestclassifier__min_samples_split': 64, 'randomforestclassifier__n_estimators': 150}\n",
      " 0.903118 (0.013521) with: {'randomforestclassifier__criterion': 'entropy', 'randomforestclassifier__max_features': 5, 'randomforestclassifier__min_samples_split': 64, 'randomforestclassifier__n_estimators': 200}\n",
      " 0.908779 (0.010163) with: {'randomforestclassifier__criterion': 'entropy', 'randomforestclassifier__max_features': 6, 'randomforestclassifier__min_samples_split': 2, 'randomforestclassifier__n_estimators': 10}\n",
      " 0.915818 (0.008792) with: {'randomforestclassifier__criterion': 'entropy', 'randomforestclassifier__max_features': 6, 'randomforestclassifier__min_samples_split': 2, 'randomforestclassifier__n_estimators': 30}\n",
      " 0.916642 (0.009046) with: {'randomforestclassifier__criterion': 'entropy', 'randomforestclassifier__max_features': 6, 'randomforestclassifier__min_samples_split': 2, 'randomforestclassifier__n_estimators': 50}\n",
      " 0.917790 (0.009403) with: {'randomforestclassifier__criterion': 'entropy', 'randomforestclassifier__max_features': 6, 'randomforestclassifier__min_samples_split': 2, 'randomforestclassifier__n_estimators': 100}\n",
      " 0.918319 (0.009350) with: {'randomforestclassifier__criterion': 'entropy', 'randomforestclassifier__max_features': 6, 'randomforestclassifier__min_samples_split': 2, 'randomforestclassifier__n_estimators': 150}\n",
      " 0.918543 (0.009321) with: {'randomforestclassifier__criterion': 'entropy', 'randomforestclassifier__max_features': 6, 'randomforestclassifier__min_samples_split': 2, 'randomforestclassifier__n_estimators': 200}\n",
      " 0.915532 (0.009625) with: {'randomforestclassifier__criterion': 'entropy', 'randomforestclassifier__max_features': 6, 'randomforestclassifier__min_samples_split': 4, 'randomforestclassifier__n_estimators': 10}\n",
      " 0.918869 (0.008829) with: {'randomforestclassifier__criterion': 'entropy', 'randomforestclassifier__max_features': 6, 'randomforestclassifier__min_samples_split': 4, 'randomforestclassifier__n_estimators': 30}\n",
      " 0.919377 (0.009254) with: {'randomforestclassifier__criterion': 'entropy', 'randomforestclassifier__max_features': 6, 'randomforestclassifier__min_samples_split': 4, 'randomforestclassifier__n_estimators': 50}\n",
      " 0.920436 (0.009407) with: {'randomforestclassifier__criterion': 'entropy', 'randomforestclassifier__max_features': 6, 'randomforestclassifier__min_samples_split': 4, 'randomforestclassifier__n_estimators': 100}\n",
      " 0.920523 (0.009474) with: {'randomforestclassifier__criterion': 'entropy', 'randomforestclassifier__max_features': 6, 'randomforestclassifier__min_samples_split': 4, 'randomforestclassifier__n_estimators': 150}\n",
      " 0.920732 (0.009380) with: {'randomforestclassifier__criterion': 'entropy', 'randomforestclassifier__max_features': 6, 'randomforestclassifier__min_samples_split': 4, 'randomforestclassifier__n_estimators': 200}\n",
      " 0.916713 (0.008992) with: {'randomforestclassifier__criterion': 'entropy', 'randomforestclassifier__max_features': 6, 'randomforestclassifier__min_samples_split': 8, 'randomforestclassifier__n_estimators': 10}\n",
      " 0.919935 (0.009669) with: {'randomforestclassifier__criterion': 'entropy', 'randomforestclassifier__max_features': 6, 'randomforestclassifier__min_samples_split': 8, 'randomforestclassifier__n_estimators': 30}\n",
      " 0.920854 (0.009574) with: {'randomforestclassifier__criterion': 'entropy', 'randomforestclassifier__max_features': 6, 'randomforestclassifier__min_samples_split': 8, 'randomforestclassifier__n_estimators': 50}\n",
      " 0.921616 (0.009662) with: {'randomforestclassifier__criterion': 'entropy', 'randomforestclassifier__max_features': 6, 'randomforestclassifier__min_samples_split': 8, 'randomforestclassifier__n_estimators': 100}\n",
      " 0.922064 (0.009787) with: {'randomforestclassifier__criterion': 'entropy', 'randomforestclassifier__max_features': 6, 'randomforestclassifier__min_samples_split': 8, 'randomforestclassifier__n_estimators': 150}\n",
      " 0.922302 (0.009734) with: {'randomforestclassifier__criterion': 'entropy', 'randomforestclassifier__max_features': 6, 'randomforestclassifier__min_samples_split': 8, 'randomforestclassifier__n_estimators': 200}\n",
      " 0.915437 (0.011474) with: {'randomforestclassifier__criterion': 'entropy', 'randomforestclassifier__max_features': 6, 'randomforestclassifier__min_samples_split': 16, 'randomforestclassifier__n_estimators': 10}\n",
      " 0.918479 (0.010463) with: {'randomforestclassifier__criterion': 'entropy', 'randomforestclassifier__max_features': 6, 'randomforestclassifier__min_samples_split': 16, 'randomforestclassifier__n_estimators': 30}\n",
      " 0.919026 (0.010395) with: {'randomforestclassifier__criterion': 'entropy', 'randomforestclassifier__max_features': 6, 'randomforestclassifier__min_samples_split': 16, 'randomforestclassifier__n_estimators': 50}\n",
      " 0.919649 (0.010593) with: {'randomforestclassifier__criterion': 'entropy', 'randomforestclassifier__max_features': 6, 'randomforestclassifier__min_samples_split': 16, 'randomforestclassifier__n_estimators': 100}\n",
      " 0.919845 (0.010925) with: {'randomforestclassifier__criterion': 'entropy', 'randomforestclassifier__max_features': 6, 'randomforestclassifier__min_samples_split': 16, 'randomforestclassifier__n_estimators': 150}\n",
      " 0.919928 (0.010934) with: {'randomforestclassifier__criterion': 'entropy', 'randomforestclassifier__max_features': 6, 'randomforestclassifier__min_samples_split': 16, 'randomforestclassifier__n_estimators': 200}\n",
      " 0.908690 (0.013326) with: {'randomforestclassifier__criterion': 'entropy', 'randomforestclassifier__max_features': 6, 'randomforestclassifier__min_samples_split': 32, 'randomforestclassifier__n_estimators': 10}\n",
      " 0.912168 (0.012907) with: {'randomforestclassifier__criterion': 'entropy', 'randomforestclassifier__max_features': 6, 'randomforestclassifier__min_samples_split': 32, 'randomforestclassifier__n_estimators': 30}\n",
      " 0.912942 (0.012658) with: {'randomforestclassifier__criterion': 'entropy', 'randomforestclassifier__max_features': 6, 'randomforestclassifier__min_samples_split': 32, 'randomforestclassifier__n_estimators': 50}\n",
      " 0.913380 (0.012397) with: {'randomforestclassifier__criterion': 'entropy', 'randomforestclassifier__max_features': 6, 'randomforestclassifier__min_samples_split': 32, 'randomforestclassifier__n_estimators': 100}\n",
      " 0.913700 (0.012457) with: {'randomforestclassifier__criterion': 'entropy', 'randomforestclassifier__max_features': 6, 'randomforestclassifier__min_samples_split': 32, 'randomforestclassifier__n_estimators': 150}\n",
      " 0.913808 (0.012359) with: {'randomforestclassifier__criterion': 'entropy', 'randomforestclassifier__max_features': 6, 'randomforestclassifier__min_samples_split': 32, 'randomforestclassifier__n_estimators': 200}\n",
      " 0.900539 (0.013612) with: {'randomforestclassifier__criterion': 'entropy', 'randomforestclassifier__max_features': 6, 'randomforestclassifier__min_samples_split': 64, 'randomforestclassifier__n_estimators': 10}\n",
      " 0.903029 (0.013378) with: {'randomforestclassifier__criterion': 'entropy', 'randomforestclassifier__max_features': 6, 'randomforestclassifier__min_samples_split': 64, 'randomforestclassifier__n_estimators': 30}\n",
      " 0.903566 (0.013632) with: {'randomforestclassifier__criterion': 'entropy', 'randomforestclassifier__max_features': 6, 'randomforestclassifier__min_samples_split': 64, 'randomforestclassifier__n_estimators': 50}\n",
      " 0.904423 (0.013599) with: {'randomforestclassifier__criterion': 'entropy', 'randomforestclassifier__max_features': 6, 'randomforestclassifier__min_samples_split': 64, 'randomforestclassifier__n_estimators': 100}\n",
      " 0.904677 (0.013618) with: {'randomforestclassifier__criterion': 'entropy', 'randomforestclassifier__max_features': 6, 'randomforestclassifier__min_samples_split': 64, 'randomforestclassifier__n_estimators': 150}\n",
      " 0.904903 (0.013451) with: {'randomforestclassifier__criterion': 'entropy', 'randomforestclassifier__max_features': 6, 'randomforestclassifier__min_samples_split': 64, 'randomforestclassifier__n_estimators': 200}\n",
      " 0.910379 (0.011747) with: {'randomforestclassifier__criterion': 'entropy', 'randomforestclassifier__max_features': 7, 'randomforestclassifier__min_samples_split': 2, 'randomforestclassifier__n_estimators': 10}\n",
      " 0.916729 (0.009969) with: {'randomforestclassifier__criterion': 'entropy', 'randomforestclassifier__max_features': 7, 'randomforestclassifier__min_samples_split': 2, 'randomforestclassifier__n_estimators': 30}\n",
      " 0.917698 (0.010220) with: {'randomforestclassifier__criterion': 'entropy', 'randomforestclassifier__max_features': 7, 'randomforestclassifier__min_samples_split': 2, 'randomforestclassifier__n_estimators': 50}\n",
      " 0.919096 (0.010057) with: {'randomforestclassifier__criterion': 'entropy', 'randomforestclassifier__max_features': 7, 'randomforestclassifier__min_samples_split': 2, 'randomforestclassifier__n_estimators': 100}\n",
      " 0.919543 (0.009792) with: {'randomforestclassifier__criterion': 'entropy', 'randomforestclassifier__max_features': 7, 'randomforestclassifier__min_samples_split': 2, 'randomforestclassifier__n_estimators': 150}\n",
      " 0.919660 (0.009756) with: {'randomforestclassifier__criterion': 'entropy', 'randomforestclassifier__max_features': 7, 'randomforestclassifier__min_samples_split': 2, 'randomforestclassifier__n_estimators': 200}\n",
      " 0.914018 (0.010325) with: {'randomforestclassifier__criterion': 'entropy', 'randomforestclassifier__max_features': 7, 'randomforestclassifier__min_samples_split': 4, 'randomforestclassifier__n_estimators': 10}\n",
      " 0.919512 (0.009857) with: {'randomforestclassifier__criterion': 'entropy', 'randomforestclassifier__max_features': 7, 'randomforestclassifier__min_samples_split': 4, 'randomforestclassifier__n_estimators': 30}\n",
      " 0.920448 (0.009940) with: {'randomforestclassifier__criterion': 'entropy', 'randomforestclassifier__max_features': 7, 'randomforestclassifier__min_samples_split': 4, 'randomforestclassifier__n_estimators': 50}\n",
      " 0.921378 (0.010031) with: {'randomforestclassifier__criterion': 'entropy', 'randomforestclassifier__max_features': 7, 'randomforestclassifier__min_samples_split': 4, 'randomforestclassifier__n_estimators': 100}\n",
      " 0.921678 (0.009630) with: {'randomforestclassifier__criterion': 'entropy', 'randomforestclassifier__max_features': 7, 'randomforestclassifier__min_samples_split': 4, 'randomforestclassifier__n_estimators': 150}\n",
      " 0.921881 (0.009613) with: {'randomforestclassifier__criterion': 'entropy', 'randomforestclassifier__max_features': 7, 'randomforestclassifier__min_samples_split': 4, 'randomforestclassifier__n_estimators': 200}\n",
      " 0.916412 (0.009949) with: {'randomforestclassifier__criterion': 'entropy', 'randomforestclassifier__max_features': 7, 'randomforestclassifier__min_samples_split': 8, 'randomforestclassifier__n_estimators': 10}\n",
      " 0.921386 (0.009640) with: {'randomforestclassifier__criterion': 'entropy', 'randomforestclassifier__max_features': 7, 'randomforestclassifier__min_samples_split': 8, 'randomforestclassifier__n_estimators': 30}\n",
      " 0.922027 (0.009758) with: {'randomforestclassifier__criterion': 'entropy', 'randomforestclassifier__max_features': 7, 'randomforestclassifier__min_samples_split': 8, 'randomforestclassifier__n_estimators': 50}\n",
      " 0.922769 (0.009553) with: {'randomforestclassifier__criterion': 'entropy', 'randomforestclassifier__max_features': 7, 'randomforestclassifier__min_samples_split': 8, 'randomforestclassifier__n_estimators': 100}\n",
      " 0.922835 (0.009702) with: {'randomforestclassifier__criterion': 'entropy', 'randomforestclassifier__max_features': 7, 'randomforestclassifier__min_samples_split': 8, 'randomforestclassifier__n_estimators': 150}\n",
      " 0.922907 (0.009647) with: {'randomforestclassifier__criterion': 'entropy', 'randomforestclassifier__max_features': 7, 'randomforestclassifier__min_samples_split': 8, 'randomforestclassifier__n_estimators': 200}\n",
      " 0.914746 (0.011217) with: {'randomforestclassifier__criterion': 'entropy', 'randomforestclassifier__max_features': 7, 'randomforestclassifier__min_samples_split': 16, 'randomforestclassifier__n_estimators': 10}\n",
      " 0.919336 (0.010292) with: {'randomforestclassifier__criterion': 'entropy', 'randomforestclassifier__max_features': 7, 'randomforestclassifier__min_samples_split': 16, 'randomforestclassifier__n_estimators': 30}\n",
      " 0.919841 (0.010471) with: {'randomforestclassifier__criterion': 'entropy', 'randomforestclassifier__max_features': 7, 'randomforestclassifier__min_samples_split': 16, 'randomforestclassifier__n_estimators': 50}\n",
      " 0.920198 (0.010310) with: {'randomforestclassifier__criterion': 'entropy', 'randomforestclassifier__max_features': 7, 'randomforestclassifier__min_samples_split': 16, 'randomforestclassifier__n_estimators': 100}\n",
      " 0.920576 (0.010491) with: {'randomforestclassifier__criterion': 'entropy', 'randomforestclassifier__max_features': 7, 'randomforestclassifier__min_samples_split': 16, 'randomforestclassifier__n_estimators': 150}\n",
      " 0.920708 (0.010369) with: {'randomforestclassifier__criterion': 'entropy', 'randomforestclassifier__max_features': 7, 'randomforestclassifier__min_samples_split': 16, 'randomforestclassifier__n_estimators': 200}\n",
      " 0.911861 (0.012400) with: {'randomforestclassifier__criterion': 'entropy', 'randomforestclassifier__max_features': 7, 'randomforestclassifier__min_samples_split': 32, 'randomforestclassifier__n_estimators': 10}\n",
      " 0.914303 (0.011319) with: {'randomforestclassifier__criterion': 'entropy', 'randomforestclassifier__max_features': 7, 'randomforestclassifier__min_samples_split': 32, 'randomforestclassifier__n_estimators': 30}\n",
      " 0.914832 (0.011644) with: {'randomforestclassifier__criterion': 'entropy', 'randomforestclassifier__max_features': 7, 'randomforestclassifier__min_samples_split': 32, 'randomforestclassifier__n_estimators': 50}\n",
      " 0.915368 (0.011548) with: {'randomforestclassifier__criterion': 'entropy', 'randomforestclassifier__max_features': 7, 'randomforestclassifier__min_samples_split': 32, 'randomforestclassifier__n_estimators': 100}\n",
      " 0.915714 (0.011507) with: {'randomforestclassifier__criterion': 'entropy', 'randomforestclassifier__max_features': 7, 'randomforestclassifier__min_samples_split': 32, 'randomforestclassifier__n_estimators': 150}\n",
      " 0.915732 (0.011614) with: {'randomforestclassifier__criterion': 'entropy', 'randomforestclassifier__max_features': 7, 'randomforestclassifier__min_samples_split': 32, 'randomforestclassifier__n_estimators': 200}\n",
      " 0.902334 (0.013963) with: {'randomforestclassifier__criterion': 'entropy', 'randomforestclassifier__max_features': 7, 'randomforestclassifier__min_samples_split': 64, 'randomforestclassifier__n_estimators': 10}\n",
      " 0.905341 (0.013459) with: {'randomforestclassifier__criterion': 'entropy', 'randomforestclassifier__max_features': 7, 'randomforestclassifier__min_samples_split': 64, 'randomforestclassifier__n_estimators': 30}\n",
      " 0.905474 (0.013497) with: {'randomforestclassifier__criterion': 'entropy', 'randomforestclassifier__max_features': 7, 'randomforestclassifier__min_samples_split': 64, 'randomforestclassifier__n_estimators': 50}\n",
      " 0.906204 (0.013295) with: {'randomforestclassifier__criterion': 'entropy', 'randomforestclassifier__max_features': 7, 'randomforestclassifier__min_samples_split': 64, 'randomforestclassifier__n_estimators': 100}\n",
      " 0.906176 (0.013367) with: {'randomforestclassifier__criterion': 'entropy', 'randomforestclassifier__max_features': 7, 'randomforestclassifier__min_samples_split': 64, 'randomforestclassifier__n_estimators': 150}\n",
      " 0.906467 (0.013300) with: {'randomforestclassifier__criterion': 'entropy', 'randomforestclassifier__max_features': 7, 'randomforestclassifier__min_samples_split': 64, 'randomforestclassifier__n_estimators': 200}\n",
      " 0.911013 (0.009189) with: {'randomforestclassifier__criterion': 'entropy', 'randomforestclassifier__max_features': 8, 'randomforestclassifier__min_samples_split': 2, 'randomforestclassifier__n_estimators': 10}\n",
      " 0.916871 (0.009075) with: {'randomforestclassifier__criterion': 'entropy', 'randomforestclassifier__max_features': 8, 'randomforestclassifier__min_samples_split': 2, 'randomforestclassifier__n_estimators': 30}\n",
      " 0.917766 (0.009283) with: {'randomforestclassifier__criterion': 'entropy', 'randomforestclassifier__max_features': 8, 'randomforestclassifier__min_samples_split': 2, 'randomforestclassifier__n_estimators': 50}\n",
      " 0.918612 (0.009896) with: {'randomforestclassifier__criterion': 'entropy', 'randomforestclassifier__max_features': 8, 'randomforestclassifier__min_samples_split': 2, 'randomforestclassifier__n_estimators': 100}\n",
      " 0.919084 (0.009619) with: {'randomforestclassifier__criterion': 'entropy', 'randomforestclassifier__max_features': 8, 'randomforestclassifier__min_samples_split': 2, 'randomforestclassifier__n_estimators': 150}\n",
      " 0.919318 (0.009701) with: {'randomforestclassifier__criterion': 'entropy', 'randomforestclassifier__max_features': 8, 'randomforestclassifier__min_samples_split': 2, 'randomforestclassifier__n_estimators': 200}\n",
      " 0.915590 (0.010182) with: {'randomforestclassifier__criterion': 'entropy', 'randomforestclassifier__max_features': 8, 'randomforestclassifier__min_samples_split': 4, 'randomforestclassifier__n_estimators': 10}\n",
      " 0.920149 (0.009847) with: {'randomforestclassifier__criterion': 'entropy', 'randomforestclassifier__max_features': 8, 'randomforestclassifier__min_samples_split': 4, 'randomforestclassifier__n_estimators': 30}\n",
      " 0.921156 (0.009447) with: {'randomforestclassifier__criterion': 'entropy', 'randomforestclassifier__max_features': 8, 'randomforestclassifier__min_samples_split': 4, 'randomforestclassifier__n_estimators': 50}\n",
      " 0.921737 (0.009673) with: {'randomforestclassifier__criterion': 'entropy', 'randomforestclassifier__max_features': 8, 'randomforestclassifier__min_samples_split': 4, 'randomforestclassifier__n_estimators': 100}\n",
      " 0.921991 (0.009664) with: {'randomforestclassifier__criterion': 'entropy', 'randomforestclassifier__max_features': 8, 'randomforestclassifier__min_samples_split': 4, 'randomforestclassifier__n_estimators': 150}\n",
      " 0.922108 (0.009518) with: {'randomforestclassifier__criterion': 'entropy', 'randomforestclassifier__max_features': 8, 'randomforestclassifier__min_samples_split': 4, 'randomforestclassifier__n_estimators': 200}\n",
      " 0.918572 (0.010073) with: {'randomforestclassifier__criterion': 'entropy', 'randomforestclassifier__max_features': 8, 'randomforestclassifier__min_samples_split': 8, 'randomforestclassifier__n_estimators': 10}\n",
      " 0.922078 (0.009374) with: {'randomforestclassifier__criterion': 'entropy', 'randomforestclassifier__max_features': 8, 'randomforestclassifier__min_samples_split': 8, 'randomforestclassifier__n_estimators': 30}\n",
      " 0.922236 (0.009505) with: {'randomforestclassifier__criterion': 'entropy', 'randomforestclassifier__max_features': 8, 'randomforestclassifier__min_samples_split': 8, 'randomforestclassifier__n_estimators': 50}\n",
      " 0.923130 (0.009664) with: {'randomforestclassifier__criterion': 'entropy', 'randomforestclassifier__max_features': 8, 'randomforestclassifier__min_samples_split': 8, 'randomforestclassifier__n_estimators': 100}\n",
      " 0.923257 (0.009658) with: {'randomforestclassifier__criterion': 'entropy', 'randomforestclassifier__max_features': 8, 'randomforestclassifier__min_samples_split': 8, 'randomforestclassifier__n_estimators': 150}\n",
      " 0.923435 (0.009496) with: {'randomforestclassifier__criterion': 'entropy', 'randomforestclassifier__max_features': 8, 'randomforestclassifier__min_samples_split': 8, 'randomforestclassifier__n_estimators': 200}\n",
      " 0.917051 (0.010356) with: {'randomforestclassifier__criterion': 'entropy', 'randomforestclassifier__max_features': 8, 'randomforestclassifier__min_samples_split': 16, 'randomforestclassifier__n_estimators': 10}\n",
      " 0.920593 (0.010534) with: {'randomforestclassifier__criterion': 'entropy', 'randomforestclassifier__max_features': 8, 'randomforestclassifier__min_samples_split': 16, 'randomforestclassifier__n_estimators': 30}\n",
      " 0.920954 (0.010472) with: {'randomforestclassifier__criterion': 'entropy', 'randomforestclassifier__max_features': 8, 'randomforestclassifier__min_samples_split': 16, 'randomforestclassifier__n_estimators': 50}\n",
      " 0.921268 (0.010087) with: {'randomforestclassifier__criterion': 'entropy', 'randomforestclassifier__max_features': 8, 'randomforestclassifier__min_samples_split': 16, 'randomforestclassifier__n_estimators': 100}\n",
      " 0.921385 (0.010307) with: {'randomforestclassifier__criterion': 'entropy', 'randomforestclassifier__max_features': 8, 'randomforestclassifier__min_samples_split': 16, 'randomforestclassifier__n_estimators': 150}\n",
      " 0.921639 (0.010226) with: {'randomforestclassifier__criterion': 'entropy', 'randomforestclassifier__max_features': 8, 'randomforestclassifier__min_samples_split': 16, 'randomforestclassifier__n_estimators': 200}\n",
      " 0.912697 (0.011372) with: {'randomforestclassifier__criterion': 'entropy', 'randomforestclassifier__max_features': 8, 'randomforestclassifier__min_samples_split': 32, 'randomforestclassifier__n_estimators': 10}\n",
      " 0.915338 (0.011125) with: {'randomforestclassifier__criterion': 'entropy', 'randomforestclassifier__max_features': 8, 'randomforestclassifier__min_samples_split': 32, 'randomforestclassifier__n_estimators': 30}\n",
      " 0.915862 (0.011627) with: {'randomforestclassifier__criterion': 'entropy', 'randomforestclassifier__max_features': 8, 'randomforestclassifier__min_samples_split': 32, 'randomforestclassifier__n_estimators': 50}\n",
      " 0.916091 (0.011752) with: {'randomforestclassifier__criterion': 'entropy', 'randomforestclassifier__max_features': 8, 'randomforestclassifier__min_samples_split': 32, 'randomforestclassifier__n_estimators': 100}\n",
      " 0.916062 (0.011807) with: {'randomforestclassifier__criterion': 'entropy', 'randomforestclassifier__max_features': 8, 'randomforestclassifier__min_samples_split': 32, 'randomforestclassifier__n_estimators': 150}\n",
      " 0.916206 (0.011703) with: {'randomforestclassifier__criterion': 'entropy', 'randomforestclassifier__max_features': 8, 'randomforestclassifier__min_samples_split': 32, 'randomforestclassifier__n_estimators': 200}\n",
      " 0.905270 (0.013872) with: {'randomforestclassifier__criterion': 'entropy', 'randomforestclassifier__max_features': 8, 'randomforestclassifier__min_samples_split': 64, 'randomforestclassifier__n_estimators': 10}\n",
      " 0.906838 (0.013420) with: {'randomforestclassifier__criterion': 'entropy', 'randomforestclassifier__max_features': 8, 'randomforestclassifier__min_samples_split': 64, 'randomforestclassifier__n_estimators': 30}\n",
      " 0.906941 (0.013396) with: {'randomforestclassifier__criterion': 'entropy', 'randomforestclassifier__max_features': 8, 'randomforestclassifier__min_samples_split': 64, 'randomforestclassifier__n_estimators': 50}\n",
      " 0.907349 (0.013239) with: {'randomforestclassifier__criterion': 'entropy', 'randomforestclassifier__max_features': 8, 'randomforestclassifier__min_samples_split': 64, 'randomforestclassifier__n_estimators': 100}\n",
      " 0.907479 (0.013108) with: {'randomforestclassifier__criterion': 'entropy', 'randomforestclassifier__max_features': 8, 'randomforestclassifier__min_samples_split': 64, 'randomforestclassifier__n_estimators': 150}\n",
      " 0.907380 (0.013101) with: {'randomforestclassifier__criterion': 'entropy', 'randomforestclassifier__max_features': 8, 'randomforestclassifier__min_samples_split': 64, 'randomforestclassifier__n_estimators': 200}\n"
     ]
    }
   ],
   "source": [
    "model = rf_pipeline\n",
    "rf_param=[{\n",
    "    'randomforestclassifier__criterion': ['gini', 'entropy'],\n",
    "    'randomforestclassifier__n_estimators': [10,30, 50, 100,150,200],\n",
    "    'randomforestclassifier__min_samples_split': [2, 4, 8, 16, 32, 64],\n",
    "    'randomforestclassifier__max_features': ['auto', 'sqrt', 'log2'],\n",
    "    'randomforestclassifier__max_features': [2, 3, 4, 5, 6, 7, 8]\n",
    "}]\n",
    "\n",
    "cv = RepeatedStratifiedKFold(n_splits=10,n_repeats=3)\n",
    "grid_search_rf = GridSearchCV(estimator=model, param_grid=rf_param, n_jobs=-1,cv=cv, scoring='roc_auc', error_score=8)\n",
    "grid_result_rf = grid_search_rf.fit(X_train,y_train)\n",
    "\n",
    "print(\"Best:%fusing%s\" % (grid_search_rf.best_score_,grid_search_rf.best_params_))\n",
    "means = grid_search_rf.cv_results_['mean_test_score']        \n",
    "stds = grid_search_rf.cv_results_['std_test_score']\n",
    "params = grid_search_rf.cv_results_['params']\n",
    "for mean, stdev, param in zip(means,stds,params):\n",
    "    print(\" %f (%f) with: %r\" %(mean,stdev,param))"
   ]
  },
  {
   "cell_type": "markdown",
   "metadata": {},
   "source": [
    "- Setelah dilakukan hyperparameter tuning, didapatkan hyperparameter terbaik untuk random forest,'randomforestclassifier__criterion': 'entropy', 'randomforestclassifier__max_features': 8, 'randomforestclassifier__min_samples_split': 8, 'randomforestclassifier__n_estimators': 200, \n",
    "dengan parameter tersebut mendapatkan rata-rata nilai roc-auc sebesar 0.924376"
   ]
  },
  {
   "cell_type": "markdown",
   "metadata": {},
   "source": [
    "Melakukan prediksi grid_search best_estimator"
   ]
  },
  {
   "cell_type": "code",
   "execution_count": 44,
   "metadata": {},
   "outputs": [],
   "source": [
    "y_pred_train_rf_best=grid_search_rf.best_estimator_.predict(X_train)\n",
    "y_pred_test_rf_best=grid_search_rf.best_estimator_.predict(X_test)"
   ]
  },
  {
   "cell_type": "markdown",
   "metadata": {},
   "source": [
    "Melihat hasil prediksi"
   ]
  },
  {
   "cell_type": "code",
   "execution_count": 45,
   "metadata": {},
   "outputs": [
    {
     "name": "stdout",
     "output_type": "stream",
     "text": [
      "ROC AUC Train Results Random Forest\n",
      "0.9268292682926829\n",
      "ROC AUC Test Results Random Forest\n",
      "0.7800651091535811\n",
      "-------------------------------------------------\n",
      "ROC AUC Train Results Random Forest with Hyperparameter Tuning\n",
      "0.9057055749128922\n",
      "ROC AUC Test Results Random Forest with Hyperparameter Tuning\n",
      "0.7901187284565301\n"
     ]
    }
   ],
   "source": [
    "#Performance Metrics\n",
    "print('ROC AUC Train Results Random Forest')\n",
    "print(roc_auc_score(y_train, rf_pipeline.predict(X_train)))\n",
    "\n",
    "print('ROC AUC Test Results Random Forest')\n",
    "print(roc_auc_score(y_test, rf_pipeline.predict(X_test)))\n",
    "print ('-------------------------------------------------')\n",
    "\n",
    "print('ROC AUC Train Results Random Forest with Hyperparameter Tuning')\n",
    "print(roc_auc_score(y_train, y_pred_train_rf_best))\n",
    "\n",
    "print('ROC AUC Test Results Random Forest with Hyperparameter Tuning')\n",
    "print(roc_auc_score(y_test, y_pred_test_rf_best))"
   ]
  },
  {
   "cell_type": "markdown",
   "metadata": {},
   "source": [
    "- Setelah dilakukan hyperparameter tuning, selisih antara nilai train dan test sudah berkurang, dan terdapat kenaikan nilai roc-auc sebesar 0.01 atau 1% pada test set setelah dilakukan hyperparameter tuning"
   ]
  },
  {
   "cell_type": "code",
   "execution_count": 46,
   "metadata": {},
   "outputs": [
    {
     "name": "stdout",
     "output_type": "stream",
     "text": [
      "[16:54:42] WARNING: ..\\src\\learner.cc:1115: Starting in XGBoost 1.3.0, the default evaluation metric used with the objective 'binary:logistic' was changed from 'error' to 'logloss'. Explicitly set eval_metric if you'd like to restore the old behavior.\n",
      "Best:0.922385using{'xgbclassifier__booster': 'gbtree', 'xgbclassifier__max_depth': 10, 'xgbclassifier__n_estimators': 30, 'xgbclassifier__tree_method': 'exact'}\n",
      " 0.919249 (0.008501) with: {'xgbclassifier__booster': 'gbtree', 'xgbclassifier__max_depth': 10, 'xgbclassifier__n_estimators': 10, 'xgbclassifier__tree_method': 'exact'}\n",
      " 0.922385 (0.008836) with: {'xgbclassifier__booster': 'gbtree', 'xgbclassifier__max_depth': 10, 'xgbclassifier__n_estimators': 30, 'xgbclassifier__tree_method': 'exact'}\n",
      " 0.921885 (0.008768) with: {'xgbclassifier__booster': 'gbtree', 'xgbclassifier__max_depth': 10, 'xgbclassifier__n_estimators': 50, 'xgbclassifier__tree_method': 'exact'}\n",
      " 0.920216 (0.009057) with: {'xgbclassifier__booster': 'gbtree', 'xgbclassifier__max_depth': 10, 'xgbclassifier__n_estimators': 100, 'xgbclassifier__tree_method': 'exact'}\n",
      " 0.918832 (0.009236) with: {'xgbclassifier__booster': 'gbtree', 'xgbclassifier__max_depth': 10, 'xgbclassifier__n_estimators': 150, 'xgbclassifier__tree_method': 'exact'}\n",
      " 0.917834 (0.009218) with: {'xgbclassifier__booster': 'gbtree', 'xgbclassifier__max_depth': 10, 'xgbclassifier__n_estimators': 200, 'xgbclassifier__tree_method': 'exact'}\n",
      " 0.920544 (0.008864) with: {'xgbclassifier__booster': 'gbtree', 'xgbclassifier__max_depth': 15, 'xgbclassifier__n_estimators': 10, 'xgbclassifier__tree_method': 'exact'}\n",
      " 0.922293 (0.008797) with: {'xgbclassifier__booster': 'gbtree', 'xgbclassifier__max_depth': 15, 'xgbclassifier__n_estimators': 30, 'xgbclassifier__tree_method': 'exact'}\n",
      " 0.921342 (0.008851) with: {'xgbclassifier__booster': 'gbtree', 'xgbclassifier__max_depth': 15, 'xgbclassifier__n_estimators': 50, 'xgbclassifier__tree_method': 'exact'}\n",
      " 0.919659 (0.009119) with: {'xgbclassifier__booster': 'gbtree', 'xgbclassifier__max_depth': 15, 'xgbclassifier__n_estimators': 100, 'xgbclassifier__tree_method': 'exact'}\n",
      " 0.918537 (0.009093) with: {'xgbclassifier__booster': 'gbtree', 'xgbclassifier__max_depth': 15, 'xgbclassifier__n_estimators': 150, 'xgbclassifier__tree_method': 'exact'}\n",
      " 0.917599 (0.009088) with: {'xgbclassifier__booster': 'gbtree', 'xgbclassifier__max_depth': 15, 'xgbclassifier__n_estimators': 200, 'xgbclassifier__tree_method': 'exact'}\n",
      " 0.920180 (0.009047) with: {'xgbclassifier__booster': 'gbtree', 'xgbclassifier__max_depth': 17, 'xgbclassifier__n_estimators': 10, 'xgbclassifier__tree_method': 'exact'}\n",
      " 0.921938 (0.009073) with: {'xgbclassifier__booster': 'gbtree', 'xgbclassifier__max_depth': 17, 'xgbclassifier__n_estimators': 30, 'xgbclassifier__tree_method': 'exact'}\n",
      " 0.920948 (0.009222) with: {'xgbclassifier__booster': 'gbtree', 'xgbclassifier__max_depth': 17, 'xgbclassifier__n_estimators': 50, 'xgbclassifier__tree_method': 'exact'}\n",
      " 0.919489 (0.009230) with: {'xgbclassifier__booster': 'gbtree', 'xgbclassifier__max_depth': 17, 'xgbclassifier__n_estimators': 100, 'xgbclassifier__tree_method': 'exact'}\n",
      " 0.918467 (0.009120) with: {'xgbclassifier__booster': 'gbtree', 'xgbclassifier__max_depth': 17, 'xgbclassifier__n_estimators': 150, 'xgbclassifier__tree_method': 'exact'}\n",
      " 0.917627 (0.009096) with: {'xgbclassifier__booster': 'gbtree', 'xgbclassifier__max_depth': 17, 'xgbclassifier__n_estimators': 200, 'xgbclassifier__tree_method': 'exact'}\n",
      " 0.920072 (0.009093) with: {'xgbclassifier__booster': 'gbtree', 'xgbclassifier__max_depth': 19, 'xgbclassifier__n_estimators': 10, 'xgbclassifier__tree_method': 'exact'}\n",
      " 0.921722 (0.008943) with: {'xgbclassifier__booster': 'gbtree', 'xgbclassifier__max_depth': 19, 'xgbclassifier__n_estimators': 30, 'xgbclassifier__tree_method': 'exact'}\n",
      " 0.920851 (0.009237) with: {'xgbclassifier__booster': 'gbtree', 'xgbclassifier__max_depth': 19, 'xgbclassifier__n_estimators': 50, 'xgbclassifier__tree_method': 'exact'}\n",
      " 0.919382 (0.009194) with: {'xgbclassifier__booster': 'gbtree', 'xgbclassifier__max_depth': 19, 'xgbclassifier__n_estimators': 100, 'xgbclassifier__tree_method': 'exact'}\n",
      " 0.918396 (0.009218) with: {'xgbclassifier__booster': 'gbtree', 'xgbclassifier__max_depth': 19, 'xgbclassifier__n_estimators': 150, 'xgbclassifier__tree_method': 'exact'}\n",
      " 0.917628 (0.009197) with: {'xgbclassifier__booster': 'gbtree', 'xgbclassifier__max_depth': 19, 'xgbclassifier__n_estimators': 200, 'xgbclassifier__tree_method': 'exact'}\n",
      " 0.920078 (0.008999) with: {'xgbclassifier__booster': 'gbtree', 'xgbclassifier__max_depth': 21, 'xgbclassifier__n_estimators': 10, 'xgbclassifier__tree_method': 'exact'}\n",
      " 0.921872 (0.008788) with: {'xgbclassifier__booster': 'gbtree', 'xgbclassifier__max_depth': 21, 'xgbclassifier__n_estimators': 30, 'xgbclassifier__tree_method': 'exact'}\n",
      " 0.920909 (0.009013) with: {'xgbclassifier__booster': 'gbtree', 'xgbclassifier__max_depth': 21, 'xgbclassifier__n_estimators': 50, 'xgbclassifier__tree_method': 'exact'}\n",
      " 0.919314 (0.009117) with: {'xgbclassifier__booster': 'gbtree', 'xgbclassifier__max_depth': 21, 'xgbclassifier__n_estimators': 100, 'xgbclassifier__tree_method': 'exact'}\n",
      " 0.918308 (0.009223) with: {'xgbclassifier__booster': 'gbtree', 'xgbclassifier__max_depth': 21, 'xgbclassifier__n_estimators': 150, 'xgbclassifier__tree_method': 'exact'}\n",
      " 0.917473 (0.009173) with: {'xgbclassifier__booster': 'gbtree', 'xgbclassifier__max_depth': 21, 'xgbclassifier__n_estimators': 200, 'xgbclassifier__tree_method': 'exact'}\n",
      " 0.920098 (0.008986) with: {'xgbclassifier__booster': 'gbtree', 'xgbclassifier__max_depth': 23, 'xgbclassifier__n_estimators': 10, 'xgbclassifier__tree_method': 'exact'}\n",
      " 0.921717 (0.008809) with: {'xgbclassifier__booster': 'gbtree', 'xgbclassifier__max_depth': 23, 'xgbclassifier__n_estimators': 30, 'xgbclassifier__tree_method': 'exact'}\n",
      " 0.920701 (0.008932) with: {'xgbclassifier__booster': 'gbtree', 'xgbclassifier__max_depth': 23, 'xgbclassifier__n_estimators': 50, 'xgbclassifier__tree_method': 'exact'}\n",
      " 0.919352 (0.009115) with: {'xgbclassifier__booster': 'gbtree', 'xgbclassifier__max_depth': 23, 'xgbclassifier__n_estimators': 100, 'xgbclassifier__tree_method': 'exact'}\n",
      " 0.918452 (0.009037) with: {'xgbclassifier__booster': 'gbtree', 'xgbclassifier__max_depth': 23, 'xgbclassifier__n_estimators': 150, 'xgbclassifier__tree_method': 'exact'}\n",
      " 0.917549 (0.009031) with: {'xgbclassifier__booster': 'gbtree', 'xgbclassifier__max_depth': 23, 'xgbclassifier__n_estimators': 200, 'xgbclassifier__tree_method': 'exact'}\n",
      " 0.920076 (0.008994) with: {'xgbclassifier__booster': 'gbtree', 'xgbclassifier__max_depth': 28, 'xgbclassifier__n_estimators': 10, 'xgbclassifier__tree_method': 'exact'}\n",
      " 0.921657 (0.008994) with: {'xgbclassifier__booster': 'gbtree', 'xgbclassifier__max_depth': 28, 'xgbclassifier__n_estimators': 30, 'xgbclassifier__tree_method': 'exact'}\n",
      " 0.920960 (0.008988) with: {'xgbclassifier__booster': 'gbtree', 'xgbclassifier__max_depth': 28, 'xgbclassifier__n_estimators': 50, 'xgbclassifier__tree_method': 'exact'}\n",
      " 0.919419 (0.009144) with: {'xgbclassifier__booster': 'gbtree', 'xgbclassifier__max_depth': 28, 'xgbclassifier__n_estimators': 100, 'xgbclassifier__tree_method': 'exact'}\n",
      " 0.918476 (0.009113) with: {'xgbclassifier__booster': 'gbtree', 'xgbclassifier__max_depth': 28, 'xgbclassifier__n_estimators': 150, 'xgbclassifier__tree_method': 'exact'}\n",
      " 0.917681 (0.009102) with: {'xgbclassifier__booster': 'gbtree', 'xgbclassifier__max_depth': 28, 'xgbclassifier__n_estimators': 200, 'xgbclassifier__tree_method': 'exact'}\n",
      " 0.920076 (0.008994) with: {'xgbclassifier__booster': 'gbtree', 'xgbclassifier__max_depth': 30, 'xgbclassifier__n_estimators': 10, 'xgbclassifier__tree_method': 'exact'}\n",
      " 0.921655 (0.008992) with: {'xgbclassifier__booster': 'gbtree', 'xgbclassifier__max_depth': 30, 'xgbclassifier__n_estimators': 30, 'xgbclassifier__tree_method': 'exact'}\n",
      " 0.920950 (0.008978) with: {'xgbclassifier__booster': 'gbtree', 'xgbclassifier__max_depth': 30, 'xgbclassifier__n_estimators': 50, 'xgbclassifier__tree_method': 'exact'}\n",
      " 0.919416 (0.009142) with: {'xgbclassifier__booster': 'gbtree', 'xgbclassifier__max_depth': 30, 'xgbclassifier__n_estimators': 100, 'xgbclassifier__tree_method': 'exact'}\n",
      " 0.918490 (0.009120) with: {'xgbclassifier__booster': 'gbtree', 'xgbclassifier__max_depth': 30, 'xgbclassifier__n_estimators': 150, 'xgbclassifier__tree_method': 'exact'}\n",
      " 0.917685 (0.009108) with: {'xgbclassifier__booster': 'gbtree', 'xgbclassifier__max_depth': 30, 'xgbclassifier__n_estimators': 200, 'xgbclassifier__tree_method': 'exact'}\n",
      " 0.738945 (0.015068) with: {'xgbclassifier__booster': 'gblinear', 'xgbclassifier__max_depth': 10, 'xgbclassifier__n_estimators': 10, 'xgbclassifier__tree_method': 'exact'}\n",
      " 0.738263 (0.015062) with: {'xgbclassifier__booster': 'gblinear', 'xgbclassifier__max_depth': 10, 'xgbclassifier__n_estimators': 30, 'xgbclassifier__tree_method': 'exact'}\n",
      " 0.738193 (0.015027) with: {'xgbclassifier__booster': 'gblinear', 'xgbclassifier__max_depth': 10, 'xgbclassifier__n_estimators': 50, 'xgbclassifier__tree_method': 'exact'}\n",
      " 0.738184 (0.015015) with: {'xgbclassifier__booster': 'gblinear', 'xgbclassifier__max_depth': 10, 'xgbclassifier__n_estimators': 100, 'xgbclassifier__tree_method': 'exact'}\n",
      " 0.738184 (0.015015) with: {'xgbclassifier__booster': 'gblinear', 'xgbclassifier__max_depth': 10, 'xgbclassifier__n_estimators': 150, 'xgbclassifier__tree_method': 'exact'}\n",
      " 0.738184 (0.015015) with: {'xgbclassifier__booster': 'gblinear', 'xgbclassifier__max_depth': 10, 'xgbclassifier__n_estimators': 200, 'xgbclassifier__tree_method': 'exact'}\n",
      " 0.738951 (0.015097) with: {'xgbclassifier__booster': 'gblinear', 'xgbclassifier__max_depth': 15, 'xgbclassifier__n_estimators': 10, 'xgbclassifier__tree_method': 'exact'}\n",
      " 0.738261 (0.015061) with: {'xgbclassifier__booster': 'gblinear', 'xgbclassifier__max_depth': 15, 'xgbclassifier__n_estimators': 30, 'xgbclassifier__tree_method': 'exact'}\n",
      " 0.738195 (0.015027) with: {'xgbclassifier__booster': 'gblinear', 'xgbclassifier__max_depth': 15, 'xgbclassifier__n_estimators': 50, 'xgbclassifier__tree_method': 'exact'}\n",
      " 0.738183 (0.015015) with: {'xgbclassifier__booster': 'gblinear', 'xgbclassifier__max_depth': 15, 'xgbclassifier__n_estimators': 100, 'xgbclassifier__tree_method': 'exact'}\n",
      " 0.738184 (0.015015) with: {'xgbclassifier__booster': 'gblinear', 'xgbclassifier__max_depth': 15, 'xgbclassifier__n_estimators': 150, 'xgbclassifier__tree_method': 'exact'}\n",
      " 0.738184 (0.015015) with: {'xgbclassifier__booster': 'gblinear', 'xgbclassifier__max_depth': 15, 'xgbclassifier__n_estimators': 200, 'xgbclassifier__tree_method': 'exact'}\n",
      " 0.738924 (0.015062) with: {'xgbclassifier__booster': 'gblinear', 'xgbclassifier__max_depth': 17, 'xgbclassifier__n_estimators': 10, 'xgbclassifier__tree_method': 'exact'}\n",
      " 0.738262 (0.015056) with: {'xgbclassifier__booster': 'gblinear', 'xgbclassifier__max_depth': 17, 'xgbclassifier__n_estimators': 30, 'xgbclassifier__tree_method': 'exact'}\n",
      " 0.738193 (0.015027) with: {'xgbclassifier__booster': 'gblinear', 'xgbclassifier__max_depth': 17, 'xgbclassifier__n_estimators': 50, 'xgbclassifier__tree_method': 'exact'}\n",
      " 0.738183 (0.015016) with: {'xgbclassifier__booster': 'gblinear', 'xgbclassifier__max_depth': 17, 'xgbclassifier__n_estimators': 100, 'xgbclassifier__tree_method': 'exact'}\n",
      " 0.738184 (0.015015) with: {'xgbclassifier__booster': 'gblinear', 'xgbclassifier__max_depth': 17, 'xgbclassifier__n_estimators': 150, 'xgbclassifier__tree_method': 'exact'}\n",
      " 0.738184 (0.015015) with: {'xgbclassifier__booster': 'gblinear', 'xgbclassifier__max_depth': 17, 'xgbclassifier__n_estimators': 200, 'xgbclassifier__tree_method': 'exact'}\n",
      " 0.738945 (0.015069) with: {'xgbclassifier__booster': 'gblinear', 'xgbclassifier__max_depth': 19, 'xgbclassifier__n_estimators': 10, 'xgbclassifier__tree_method': 'exact'}\n",
      " 0.738261 (0.015059) with: {'xgbclassifier__booster': 'gblinear', 'xgbclassifier__max_depth': 19, 'xgbclassifier__n_estimators': 30, 'xgbclassifier__tree_method': 'exact'}\n",
      " 0.738193 (0.015027) with: {'xgbclassifier__booster': 'gblinear', 'xgbclassifier__max_depth': 19, 'xgbclassifier__n_estimators': 50, 'xgbclassifier__tree_method': 'exact'}\n",
      " 0.738183 (0.015015) with: {'xgbclassifier__booster': 'gblinear', 'xgbclassifier__max_depth': 19, 'xgbclassifier__n_estimators': 100, 'xgbclassifier__tree_method': 'exact'}\n",
      " 0.738184 (0.015015) with: {'xgbclassifier__booster': 'gblinear', 'xgbclassifier__max_depth': 19, 'xgbclassifier__n_estimators': 150, 'xgbclassifier__tree_method': 'exact'}\n",
      " 0.738184 (0.015015) with: {'xgbclassifier__booster': 'gblinear', 'xgbclassifier__max_depth': 19, 'xgbclassifier__n_estimators': 200, 'xgbclassifier__tree_method': 'exact'}\n",
      " 0.738945 (0.015074) with: {'xgbclassifier__booster': 'gblinear', 'xgbclassifier__max_depth': 21, 'xgbclassifier__n_estimators': 10, 'xgbclassifier__tree_method': 'exact'}\n",
      " 0.738262 (0.015062) with: {'xgbclassifier__booster': 'gblinear', 'xgbclassifier__max_depth': 21, 'xgbclassifier__n_estimators': 30, 'xgbclassifier__tree_method': 'exact'}\n",
      " 0.738194 (0.015027) with: {'xgbclassifier__booster': 'gblinear', 'xgbclassifier__max_depth': 21, 'xgbclassifier__n_estimators': 50, 'xgbclassifier__tree_method': 'exact'}\n",
      " 0.738184 (0.015015) with: {'xgbclassifier__booster': 'gblinear', 'xgbclassifier__max_depth': 21, 'xgbclassifier__n_estimators': 100, 'xgbclassifier__tree_method': 'exact'}\n",
      " 0.738184 (0.015015) with: {'xgbclassifier__booster': 'gblinear', 'xgbclassifier__max_depth': 21, 'xgbclassifier__n_estimators': 150, 'xgbclassifier__tree_method': 'exact'}\n",
      " 0.738184 (0.015015) with: {'xgbclassifier__booster': 'gblinear', 'xgbclassifier__max_depth': 21, 'xgbclassifier__n_estimators': 200, 'xgbclassifier__tree_method': 'exact'}\n",
      " 0.738926 (0.015079) with: {'xgbclassifier__booster': 'gblinear', 'xgbclassifier__max_depth': 23, 'xgbclassifier__n_estimators': 10, 'xgbclassifier__tree_method': 'exact'}\n",
      " 0.738263 (0.015062) with: {'xgbclassifier__booster': 'gblinear', 'xgbclassifier__max_depth': 23, 'xgbclassifier__n_estimators': 30, 'xgbclassifier__tree_method': 'exact'}\n",
      " 0.738192 (0.015027) with: {'xgbclassifier__booster': 'gblinear', 'xgbclassifier__max_depth': 23, 'xgbclassifier__n_estimators': 50, 'xgbclassifier__tree_method': 'exact'}\n",
      " 0.738184 (0.015015) with: {'xgbclassifier__booster': 'gblinear', 'xgbclassifier__max_depth': 23, 'xgbclassifier__n_estimators': 100, 'xgbclassifier__tree_method': 'exact'}\n",
      " 0.738184 (0.015015) with: {'xgbclassifier__booster': 'gblinear', 'xgbclassifier__max_depth': 23, 'xgbclassifier__n_estimators': 150, 'xgbclassifier__tree_method': 'exact'}\n",
      " 0.738184 (0.015015) with: {'xgbclassifier__booster': 'gblinear', 'xgbclassifier__max_depth': 23, 'xgbclassifier__n_estimators': 200, 'xgbclassifier__tree_method': 'exact'}\n",
      " 0.738901 (0.015061) with: {'xgbclassifier__booster': 'gblinear', 'xgbclassifier__max_depth': 28, 'xgbclassifier__n_estimators': 10, 'xgbclassifier__tree_method': 'exact'}\n",
      " 0.738260 (0.015063) with: {'xgbclassifier__booster': 'gblinear', 'xgbclassifier__max_depth': 28, 'xgbclassifier__n_estimators': 30, 'xgbclassifier__tree_method': 'exact'}\n",
      " 0.738193 (0.015027) with: {'xgbclassifier__booster': 'gblinear', 'xgbclassifier__max_depth': 28, 'xgbclassifier__n_estimators': 50, 'xgbclassifier__tree_method': 'exact'}\n",
      " 0.738184 (0.015015) with: {'xgbclassifier__booster': 'gblinear', 'xgbclassifier__max_depth': 28, 'xgbclassifier__n_estimators': 100, 'xgbclassifier__tree_method': 'exact'}\n",
      " 0.738184 (0.015015) with: {'xgbclassifier__booster': 'gblinear', 'xgbclassifier__max_depth': 28, 'xgbclassifier__n_estimators': 150, 'xgbclassifier__tree_method': 'exact'}\n",
      " 0.738184 (0.015015) with: {'xgbclassifier__booster': 'gblinear', 'xgbclassifier__max_depth': 28, 'xgbclassifier__n_estimators': 200, 'xgbclassifier__tree_method': 'exact'}\n",
      " 0.738976 (0.015071) with: {'xgbclassifier__booster': 'gblinear', 'xgbclassifier__max_depth': 30, 'xgbclassifier__n_estimators': 10, 'xgbclassifier__tree_method': 'exact'}\n",
      " 0.738260 (0.015062) with: {'xgbclassifier__booster': 'gblinear', 'xgbclassifier__max_depth': 30, 'xgbclassifier__n_estimators': 30, 'xgbclassifier__tree_method': 'exact'}\n",
      " 0.738193 (0.015027) with: {'xgbclassifier__booster': 'gblinear', 'xgbclassifier__max_depth': 30, 'xgbclassifier__n_estimators': 50, 'xgbclassifier__tree_method': 'exact'}\n",
      " 0.738184 (0.015015) with: {'xgbclassifier__booster': 'gblinear', 'xgbclassifier__max_depth': 30, 'xgbclassifier__n_estimators': 100, 'xgbclassifier__tree_method': 'exact'}\n",
      " 0.738184 (0.015015) with: {'xgbclassifier__booster': 'gblinear', 'xgbclassifier__max_depth': 30, 'xgbclassifier__n_estimators': 150, 'xgbclassifier__tree_method': 'exact'}\n",
      " 0.738184 (0.015015) with: {'xgbclassifier__booster': 'gblinear', 'xgbclassifier__max_depth': 30, 'xgbclassifier__n_estimators': 200, 'xgbclassifier__tree_method': 'exact'}\n"
     ]
    },
    {
     "name": "stderr",
     "output_type": "stream",
     "text": [
      "c:\\Users\\rioar\\anaconda3\\lib\\site-packages\\xgboost\\sklearn.py:1224: UserWarning: The use of label encoder in XGBClassifier is deprecated and will be removed in a future release. To remove this warning, do the following: 1) Pass option use_label_encoder=False when constructing XGBClassifier object; and 2) Encode your labels (y) as integers starting with 0, i.e. 0, 1, 2, ..., [num_class - 1].\n",
      "  warnings.warn(label_encoder_deprecation_msg, UserWarning)\n"
     ]
    }
   ],
   "source": [
    "model = xgb_pipeline\n",
    "xgb_param=[{\n",
    "    'xgbclassifier__n_estimators': [10,30, 50, 100,150,200],\n",
    "    'xgbclassifier__max_depth':[ 10, 15,17,19,21,23,28,30],\n",
    "    'xgbclassifier__booster' :['gbtree','gblinear'],\n",
    "    'xgbclassifier__tree_method' :['exact']\n",
    "    }]\n",
    "\n",
    "cv = RepeatedStratifiedKFold(n_splits=5)\n",
    "grid_search_xgb = GridSearchCV(estimator=model, param_grid=xgb_param, n_jobs=-1,cv=cv, scoring='roc_auc', error_score=8)\n",
    "grid_result_xgb = grid_search_xgb.fit(X_train,y_train)\n",
    "\n",
    "print(\"Best:%fusing%s\" % (grid_result_xgb.best_score_,grid_result_xgb.best_params_))\n",
    "means = grid_result_xgb.cv_results_['mean_test_score']        \n",
    "stds = grid_result_xgb.cv_results_['std_test_score']\n",
    "params = grid_result_xgb.cv_results_['params']\n",
    "for mean, stdev, param in zip(means,stds,params):\n",
    "    print(\" %f (%f) with: %r\" %(mean,stdev,param))"
   ]
  },
  {
   "cell_type": "markdown",
   "metadata": {},
   "source": [
    "- Setelah dilakukan hyperparameter tuning, didapatkan hyperparameter terbaik untuk XGBoost adalah, 'xgbclassifier__booster': 'gbtree', 'xgbclassifier__max_depth': 10, 'xgbclassifier__n_estimators': 30, 'xgbclassifier__tree_method': 'exact', dengan parameter tersebut mendapatkan rata-rata nilai roc-auc sebesar 0.922462"
   ]
  },
  {
   "cell_type": "markdown",
   "metadata": {},
   "source": [
    "Melakukan prediksi grid_search best_estimator"
   ]
  },
  {
   "cell_type": "code",
   "execution_count": 47,
   "metadata": {},
   "outputs": [],
   "source": [
    "y_pred_train_xgb_best= grid_search_xgb.best_estimator_.predict(X_train)\n",
    "y_pred_test_xgb_best= grid_search_xgb.best_estimator_.predict(X_test)"
   ]
  },
  {
   "cell_type": "markdown",
   "metadata": {},
   "source": [
    "Melihat hasil prediksi"
   ]
  },
  {
   "cell_type": "code",
   "execution_count": 48,
   "metadata": {},
   "outputs": [
    {
     "name": "stdout",
     "output_type": "stream",
     "text": [
      "ROC AUC Train Results XGBoost\n",
      "0.9037456445993032\n",
      "ROC AUC Test Results XGBoost\n",
      "0.8007127602256425\n",
      "-------------------------------------------------\n",
      "ROC AUC Train Results XGBoost with Hyperparameter Tuning\n",
      "0.9087543554006968\n",
      "ROC AUC Test Results XGBoost with Hyperparameter Tuning\n",
      "0.7987020363650527\n"
     ]
    }
   ],
   "source": [
    "#Performance Metrics\n",
    "print('ROC AUC Train Results XGBoost')\n",
    "print(roc_auc_score(y_train, xgb_pipeline.predict(X_train)))\n",
    "\n",
    "print('ROC AUC Test Results XGBoost')\n",
    "print(roc_auc_score(y_test,xgb_pipeline.predict(X_test)))\n",
    "print ('-------------------------------------------------')\n",
    "\n",
    "print('ROC AUC Train Results XGBoost with Hyperparameter Tuning')\n",
    "print(roc_auc_score(y_train, y_pred_train_xgb_best))\n",
    "\n",
    "print('ROC AUC Test Results XGBoost with Hyperparameter Tuning')\n",
    "print(roc_auc_score(y_test, y_pred_test_xgb_best))"
   ]
  },
  {
   "cell_type": "markdown",
   "metadata": {},
   "source": [
    "- Terdapat sedikit perbedaan setelah dilakukan hyperparameter tuning, dimana pada train set terjadi sedikit peningkatan dan test set sedikit penurunan score roc-auc"
   ]
  },
  {
   "cell_type": "markdown",
   "metadata": {},
   "source": [
    "Membadingkan model Random Forest dan XGBoost setelah dilakukan hyperparameter tuning."
   ]
  },
  {
   "cell_type": "code",
   "execution_count": 49,
   "metadata": {},
   "outputs": [
    {
     "name": "stdout",
     "output_type": "stream",
     "text": [
      "ROC AUC Score Train Results Random Forest\n",
      "0.9057055749128922\n",
      "ROC AUC Score Test Results Random Forest\n",
      "0.7901187284565301\n",
      "-------------------------------------------------\n",
      "ROC AUC Score Train Results XGBoost\n",
      "0.9087543554006968\n",
      "ROC AUC Score Test Results XGBoost\n",
      "0.7987020363650527\n"
     ]
    }
   ],
   "source": [
    "#Performance Metrics\n",
    "print('ROC AUC Score Train Results Random Forest')\n",
    "print(roc_auc_score(y_train, y_pred_train_rf_best))\n",
    "\n",
    "print('ROC AUC Score Test Results Random Forest')\n",
    "print(roc_auc_score(y_test, y_pred_test_rf_best))\n",
    "print ('-------------------------------------------------')\n",
    "\n",
    "print('ROC AUC Score Train Results XGBoost')\n",
    "print(roc_auc_score(y_train, y_pred_train_xgb_best))\n",
    "\n",
    "print('ROC AUC Score Test Results XGBoost')\n",
    "print(roc_auc_score(y_test, y_pred_test_xgb_best)) "
   ]
  },
  {
   "cell_type": "code",
   "execution_count": 50,
   "metadata": {},
   "outputs": [
    {
     "name": "stdout",
     "output_type": "stream",
     "text": [
      "Recall Score Train Results Random Forest\n",
      "0.8815331010452961\n",
      "Recall Score Test Results Random Forest\n",
      "0.7142857142857143\n",
      "-------------------------------------------------\n",
      "Recall Score Train Results XGBoost\n",
      "0.877177700348432\n",
      "Recall Score Test Results XGBoost\n",
      "0.7167070217917676\n"
     ]
    }
   ],
   "source": [
    "#Performance Metrics\n",
    "print('Recall Score Train Results Random Forest')\n",
    "print(recall_score(y_train, y_pred_train_rf_best))\n",
    "\n",
    "print('Recall Score Test Results Random Forest')\n",
    "print(recall_score(y_test, y_pred_test_rf_best))\n",
    "print ('-------------------------------------------------')\n",
    "\n",
    "print('Recall Score Train Results XGBoost')\n",
    "print(recall_score(y_train, y_pred_train_xgb_best))\n",
    "\n",
    "print('Recall Score Test Results XGBoost')\n",
    "print(recall_score(y_test, y_pred_test_xgb_best))"
   ]
  },
  {
   "cell_type": "markdown",
   "metadata": {},
   "source": [
    "- Berdasarkan nilai roc-auc dan recall, terlihat model xgb sedikit lebih unggul dari model random forest, jadi model XGBOost setelah dilakukan hyperparameter tuning dipilih untuk menjadi model final"
   ]
  },
  {
   "cell_type": "code",
   "execution_count": 51,
   "metadata": {},
   "outputs": [
    {
     "name": "stdout",
     "output_type": "stream",
     "text": [
      "Clasification Report Train Set\n",
      "              precision    recall  f1-score   support\n",
      "\n",
      "        Stay       0.88      0.94      0.91      2296\n",
      "       Leave       0.94      0.88      0.91      2296\n",
      "\n",
      "    accuracy                           0.91      4592\n",
      "   macro avg       0.91      0.91      0.91      4592\n",
      "weighted avg       0.91      0.91      0.91      4592\n",
      "\n",
      "------------------------------------------------------------\n",
      "Clasification Report Test Set\n",
      "              precision    recall  f1-score   support\n",
      "\n",
      "        Stay       0.85      0.88      0.86       746\n",
      "       Leave       0.77      0.72      0.74       413\n",
      "\n",
      "    accuracy                           0.82      1159\n",
      "   macro avg       0.81      0.80      0.80      1159\n",
      "weighted avg       0.82      0.82      0.82      1159\n",
      "\n"
     ]
    }
   ],
   "source": [
    "print ('Clasification Report Train Set')\n",
    "print(classification_report(y_train,y_pred_train_xgb_best , target_names=['Stay', 'Leave']))\n",
    "print('-'*60)\n",
    "print ('Clasification Report Test Set')\n",
    "print(classification_report(y_test,y_pred_test_xgb_best ,  target_names=['Stay', 'Leave']))"
   ]
  },
  {
   "cell_type": "markdown",
   "metadata": {},
   "source": [
    "- Bersarkan Clasification report, model xgb mendapatkan nilai yang baik pada recallnya, dengan nilai 0.88 pada kelas 0 dan 0.72 pada kelas 1, terdapat perbedaan nilai yang tinggi karena perbedaan data imbalance pada test set."
   ]
  },
  {
   "cell_type": "code",
   "execution_count": 52,
   "metadata": {},
   "outputs": [
    {
     "data": {
      "text/plain": [
       "<AxesSubplot:>"
      ]
     },
     "execution_count": 52,
     "metadata": {},
     "output_type": "execute_result"
    },
    {
     "data": {
      "image/png": "[encoded data removed]",
      "text/plain": [
       "<Figure size 432x288 with 2 Axes>"
      ]
     },
     "metadata": {
      "needs_background": "light"
     },
     "output_type": "display_data"
    }
   ],
   "source": [
    "cf_matrix = confusion_matrix(y_test,y_pred_test_xgb_best)\n",
    "sns.heatmap(cf_matrix, annot=True,fmt=\"d\")"
   ]
  },
  {
   "cell_type": "markdown",
   "metadata": {},
   "source": [
    "- Terdapat 296 orang yang teprediksi resign dan benar atau True Positive (TP), dan 89 orang teprediksi resign tetapi sebenarnya tidak atau False Positive (FP).\n",
    "- Terdapat 657 orang yang terprediksi tidak resign dan benar atau True Negative (TN), dan 117 orang yang terprediksi resign tetapi sebenarnya tidak (FN)."
   ]
  },
  {
   "cell_type": "markdown",
   "metadata": {},
   "source": [
    "# Model Inference"
   ]
  },
  {
   "cell_type": "markdown",
   "metadata": {},
   "source": [
    "Membagi data inference menjadi X(feature) dan y(target)"
   ]
  },
  {
   "cell_type": "code",
   "execution_count": 53,
   "metadata": {},
   "outputs": [],
   "source": [
    "# Splitting Dataset\n",
    "\n",
    "# X will be consist of input parameter only\n",
    "X_inf = data_inf.drop(['LeaveOrNot'], axis=1)\n",
    "\n",
    "# y will be consist of target parameter only\n",
    "y_inf = data_inf['LeaveOrNot']"
   ]
  },
  {
   "cell_type": "markdown",
   "metadata": {},
   "source": [
    "Melakukan predict Best Model dengan data inference"
   ]
  },
  {
   "cell_type": "code",
   "execution_count": 54,
   "metadata": {},
   "outputs": [],
   "source": [
    "y_pred_inf_xgb = grid_search_xgb.best_estimator_.predict(X_inf)"
   ]
  },
  {
   "cell_type": "markdown",
   "metadata": {},
   "source": [
    "Merubah data hasil prediksi menjadi DataFrame"
   ]
  },
  {
   "cell_type": "code",
   "execution_count": 55,
   "metadata": {},
   "outputs": [
    {
     "data": {
      "text/html": [
       "<div>\n",
       "<style scoped>\n",
       "    .dataframe tbody tr th:only-of-type {\n",
       "        vertical-align: middle;\n",
       "    }\n",
       "\n",
       "    .dataframe tbody tr th {\n",
       "        vertical-align: top;\n",
       "    }\n",
       "\n",
       "    .dataframe thead th {\n",
       "        text-align: right;\n",
       "    }\n",
       "</style>\n",
       "<table border=\"1\" class=\"dataframe\">\n",
       "  <thead>\n",
       "    <tr style=\"text-align: right;\">\n",
       "      <th></th>\n",
       "      <th>XGBoost Prediction</th>\n",
       "    </tr>\n",
       "  </thead>\n",
       "  <tbody>\n",
       "    <tr>\n",
       "      <th>0</th>\n",
       "      <td>0</td>\n",
       "    </tr>\n",
       "    <tr>\n",
       "      <th>1</th>\n",
       "      <td>0</td>\n",
       "    </tr>\n",
       "    <tr>\n",
       "      <th>2</th>\n",
       "      <td>1</td>\n",
       "    </tr>\n",
       "    <tr>\n",
       "      <th>3</th>\n",
       "      <td>0</td>\n",
       "    </tr>\n",
       "    <tr>\n",
       "      <th>4</th>\n",
       "      <td>0</td>\n",
       "    </tr>\n",
       "    <tr>\n",
       "      <th>5</th>\n",
       "      <td>1</td>\n",
       "    </tr>\n",
       "    <tr>\n",
       "      <th>6</th>\n",
       "      <td>0</td>\n",
       "    </tr>\n",
       "    <tr>\n",
       "      <th>7</th>\n",
       "      <td>1</td>\n",
       "    </tr>\n",
       "    <tr>\n",
       "      <th>8</th>\n",
       "      <td>0</td>\n",
       "    </tr>\n",
       "    <tr>\n",
       "      <th>9</th>\n",
       "      <td>0</td>\n",
       "    </tr>\n",
       "    <tr>\n",
       "      <th>10</th>\n",
       "      <td>1</td>\n",
       "    </tr>\n",
       "    <tr>\n",
       "      <th>11</th>\n",
       "      <td>0</td>\n",
       "    </tr>\n",
       "    <tr>\n",
       "      <th>12</th>\n",
       "      <td>0</td>\n",
       "    </tr>\n",
       "    <tr>\n",
       "      <th>13</th>\n",
       "      <td>1</td>\n",
       "    </tr>\n",
       "    <tr>\n",
       "      <th>14</th>\n",
       "      <td>1</td>\n",
       "    </tr>\n",
       "    <tr>\n",
       "      <th>15</th>\n",
       "      <td>1</td>\n",
       "    </tr>\n",
       "    <tr>\n",
       "      <th>16</th>\n",
       "      <td>1</td>\n",
       "    </tr>\n",
       "    <tr>\n",
       "      <th>17</th>\n",
       "      <td>0</td>\n",
       "    </tr>\n",
       "    <tr>\n",
       "      <th>18</th>\n",
       "      <td>1</td>\n",
       "    </tr>\n",
       "    <tr>\n",
       "      <th>19</th>\n",
       "      <td>0</td>\n",
       "    </tr>\n",
       "  </tbody>\n",
       "</table>\n",
       "</div>"
      ],
      "text/plain": [
       "    XGBoost Prediction\n",
       "0                    0\n",
       "1                    0\n",
       "2                    1\n",
       "3                    0\n",
       "4                    0\n",
       "5                    1\n",
       "6                    0\n",
       "7                    1\n",
       "8                    0\n",
       "9                    0\n",
       "10                   1\n",
       "11                   0\n",
       "12                   0\n",
       "13                   1\n",
       "14                   1\n",
       "15                   1\n",
       "16                   1\n",
       "17                   0\n",
       "18                   1\n",
       "19                   0"
      ]
     },
     "execution_count": 55,
     "metadata": {},
     "output_type": "execute_result"
    }
   ],
   "source": [
    "y_pred_inf_df = pd.DataFrame(y_pred_inf_xgb, columns=['XGBoost Prediction'])\n",
    "y_pred_inf_df"
   ]
  },
  {
   "cell_type": "markdown",
   "metadata": {},
   "source": [
    "Mengggabungkan Dataframe hasil prediksi dengan data inference"
   ]
  },
  {
   "cell_type": "code",
   "execution_count": 56,
   "metadata": {},
   "outputs": [
    {
     "data": {
      "text/html": [
       "<div>\n",
       "<style scoped>\n",
       "    .dataframe tbody tr th:only-of-type {\n",
       "        vertical-align: middle;\n",
       "    }\n",
       "\n",
       "    .dataframe tbody tr th {\n",
       "        vertical-align: top;\n",
       "    }\n",
       "\n",
       "    .dataframe thead th {\n",
       "        text-align: right;\n",
       "    }\n",
       "</style>\n",
       "<table border=\"1\" class=\"dataframe\">\n",
       "  <thead>\n",
       "    <tr style=\"text-align: right;\">\n",
       "      <th></th>\n",
       "      <th>Education</th>\n",
       "      <th>JoiningYear</th>\n",
       "      <th>City</th>\n",
       "      <th>PaymentTier</th>\n",
       "      <th>Age</th>\n",
       "      <th>Gender</th>\n",
       "      <th>EverBenched</th>\n",
       "      <th>ExperienceInCurrentDomain</th>\n",
       "      <th>LeaveOrNot</th>\n",
       "      <th>XGBoost Prediction</th>\n",
       "    </tr>\n",
       "  </thead>\n",
       "  <tbody>\n",
       "    <tr>\n",
       "      <th>0</th>\n",
       "      <td>PHD</td>\n",
       "      <td>2013</td>\n",
       "      <td>New Delhi</td>\n",
       "      <td>3</td>\n",
       "      <td>27</td>\n",
       "      <td>Female</td>\n",
       "      <td>No</td>\n",
       "      <td>5</td>\n",
       "      <td>1</td>\n",
       "      <td>0</td>\n",
       "    </tr>\n",
       "    <tr>\n",
       "      <th>1</th>\n",
       "      <td>Bachelors</td>\n",
       "      <td>2014</td>\n",
       "      <td>Pune</td>\n",
       "      <td>2</td>\n",
       "      <td>26</td>\n",
       "      <td>Male</td>\n",
       "      <td>No</td>\n",
       "      <td>4</td>\n",
       "      <td>0</td>\n",
       "      <td>0</td>\n",
       "    </tr>\n",
       "    <tr>\n",
       "      <th>2</th>\n",
       "      <td>Bachelors</td>\n",
       "      <td>2017</td>\n",
       "      <td>Pune</td>\n",
       "      <td>2</td>\n",
       "      <td>38</td>\n",
       "      <td>Female</td>\n",
       "      <td>No</td>\n",
       "      <td>0</td>\n",
       "      <td>0</td>\n",
       "      <td>1</td>\n",
       "    </tr>\n",
       "    <tr>\n",
       "      <th>3</th>\n",
       "      <td>Bachelors</td>\n",
       "      <td>2017</td>\n",
       "      <td>Bangalore</td>\n",
       "      <td>3</td>\n",
       "      <td>33</td>\n",
       "      <td>Female</td>\n",
       "      <td>No</td>\n",
       "      <td>4</td>\n",
       "      <td>1</td>\n",
       "      <td>0</td>\n",
       "    </tr>\n",
       "    <tr>\n",
       "      <th>4</th>\n",
       "      <td>Bachelors</td>\n",
       "      <td>2016</td>\n",
       "      <td>Pune</td>\n",
       "      <td>3</td>\n",
       "      <td>25</td>\n",
       "      <td>Male</td>\n",
       "      <td>No</td>\n",
       "      <td>3</td>\n",
       "      <td>0</td>\n",
       "      <td>0</td>\n",
       "    </tr>\n",
       "    <tr>\n",
       "      <th>5</th>\n",
       "      <td>Masters</td>\n",
       "      <td>2018</td>\n",
       "      <td>Pune</td>\n",
       "      <td>3</td>\n",
       "      <td>26</td>\n",
       "      <td>Male</td>\n",
       "      <td>No</td>\n",
       "      <td>4</td>\n",
       "      <td>1</td>\n",
       "      <td>1</td>\n",
       "    </tr>\n",
       "    <tr>\n",
       "      <th>6</th>\n",
       "      <td>PHD</td>\n",
       "      <td>2013</td>\n",
       "      <td>Pune</td>\n",
       "      <td>3</td>\n",
       "      <td>35</td>\n",
       "      <td>Male</td>\n",
       "      <td>No</td>\n",
       "      <td>0</td>\n",
       "      <td>0</td>\n",
       "      <td>0</td>\n",
       "    </tr>\n",
       "    <tr>\n",
       "      <th>7</th>\n",
       "      <td>Masters</td>\n",
       "      <td>2014</td>\n",
       "      <td>New Delhi</td>\n",
       "      <td>3</td>\n",
       "      <td>26</td>\n",
       "      <td>Male</td>\n",
       "      <td>No</td>\n",
       "      <td>4</td>\n",
       "      <td>0</td>\n",
       "      <td>1</td>\n",
       "    </tr>\n",
       "    <tr>\n",
       "      <th>8</th>\n",
       "      <td>Masters</td>\n",
       "      <td>2014</td>\n",
       "      <td>Pune</td>\n",
       "      <td>3</td>\n",
       "      <td>38</td>\n",
       "      <td>Male</td>\n",
       "      <td>Yes</td>\n",
       "      <td>2</td>\n",
       "      <td>0</td>\n",
       "      <td>0</td>\n",
       "    </tr>\n",
       "    <tr>\n",
       "      <th>9</th>\n",
       "      <td>Masters</td>\n",
       "      <td>2017</td>\n",
       "      <td>New Delhi</td>\n",
       "      <td>2</td>\n",
       "      <td>41</td>\n",
       "      <td>Male</td>\n",
       "      <td>No</td>\n",
       "      <td>3</td>\n",
       "      <td>1</td>\n",
       "      <td>0</td>\n",
       "    </tr>\n",
       "    <tr>\n",
       "      <th>10</th>\n",
       "      <td>Bachelors</td>\n",
       "      <td>2016</td>\n",
       "      <td>Bangalore</td>\n",
       "      <td>3</td>\n",
       "      <td>40</td>\n",
       "      <td>Male</td>\n",
       "      <td>No</td>\n",
       "      <td>0</td>\n",
       "      <td>1</td>\n",
       "      <td>1</td>\n",
       "    </tr>\n",
       "    <tr>\n",
       "      <th>11</th>\n",
       "      <td>Bachelors</td>\n",
       "      <td>2017</td>\n",
       "      <td>Bangalore</td>\n",
       "      <td>3</td>\n",
       "      <td>27</td>\n",
       "      <td>Male</td>\n",
       "      <td>No</td>\n",
       "      <td>5</td>\n",
       "      <td>0</td>\n",
       "      <td>0</td>\n",
       "    </tr>\n",
       "    <tr>\n",
       "      <th>12</th>\n",
       "      <td>Bachelors</td>\n",
       "      <td>2015</td>\n",
       "      <td>Bangalore</td>\n",
       "      <td>3</td>\n",
       "      <td>28</td>\n",
       "      <td>Female</td>\n",
       "      <td>No</td>\n",
       "      <td>5</td>\n",
       "      <td>0</td>\n",
       "      <td>0</td>\n",
       "    </tr>\n",
       "    <tr>\n",
       "      <th>13</th>\n",
       "      <td>Bachelors</td>\n",
       "      <td>2015</td>\n",
       "      <td>Pune</td>\n",
       "      <td>2</td>\n",
       "      <td>28</td>\n",
       "      <td>Female</td>\n",
       "      <td>No</td>\n",
       "      <td>0</td>\n",
       "      <td>1</td>\n",
       "      <td>1</td>\n",
       "    </tr>\n",
       "    <tr>\n",
       "      <th>14</th>\n",
       "      <td>Bachelors</td>\n",
       "      <td>2014</td>\n",
       "      <td>Pune</td>\n",
       "      <td>3</td>\n",
       "      <td>24</td>\n",
       "      <td>Female</td>\n",
       "      <td>No</td>\n",
       "      <td>2</td>\n",
       "      <td>1</td>\n",
       "      <td>1</td>\n",
       "    </tr>\n",
       "    <tr>\n",
       "      <th>15</th>\n",
       "      <td>Bachelors</td>\n",
       "      <td>2018</td>\n",
       "      <td>Bangalore</td>\n",
       "      <td>3</td>\n",
       "      <td>29</td>\n",
       "      <td>Male</td>\n",
       "      <td>No</td>\n",
       "      <td>0</td>\n",
       "      <td>1</td>\n",
       "      <td>1</td>\n",
       "    </tr>\n",
       "    <tr>\n",
       "      <th>16</th>\n",
       "      <td>Masters</td>\n",
       "      <td>2012</td>\n",
       "      <td>New Delhi</td>\n",
       "      <td>3</td>\n",
       "      <td>27</td>\n",
       "      <td>Female</td>\n",
       "      <td>No</td>\n",
       "      <td>5</td>\n",
       "      <td>1</td>\n",
       "      <td>1</td>\n",
       "    </tr>\n",
       "    <tr>\n",
       "      <th>17</th>\n",
       "      <td>Bachelors</td>\n",
       "      <td>2015</td>\n",
       "      <td>Bangalore</td>\n",
       "      <td>3</td>\n",
       "      <td>32</td>\n",
       "      <td>Female</td>\n",
       "      <td>No</td>\n",
       "      <td>0</td>\n",
       "      <td>0</td>\n",
       "      <td>0</td>\n",
       "    </tr>\n",
       "    <tr>\n",
       "      <th>18</th>\n",
       "      <td>Bachelors</td>\n",
       "      <td>2013</td>\n",
       "      <td>Bangalore</td>\n",
       "      <td>3</td>\n",
       "      <td>31</td>\n",
       "      <td>Male</td>\n",
       "      <td>No</td>\n",
       "      <td>2</td>\n",
       "      <td>0</td>\n",
       "      <td>1</td>\n",
       "    </tr>\n",
       "    <tr>\n",
       "      <th>19</th>\n",
       "      <td>Bachelors</td>\n",
       "      <td>2017</td>\n",
       "      <td>Bangalore</td>\n",
       "      <td>3</td>\n",
       "      <td>24</td>\n",
       "      <td>Male</td>\n",
       "      <td>No</td>\n",
       "      <td>2</td>\n",
       "      <td>0</td>\n",
       "      <td>0</td>\n",
       "    </tr>\n",
       "  </tbody>\n",
       "</table>\n",
       "</div>"
      ],
      "text/plain": [
       "    Education  JoiningYear       City  PaymentTier  Age  Gender EverBenched  \\\n",
       "0         PHD         2013  New Delhi            3   27  Female          No   \n",
       "1   Bachelors         2014       Pune            2   26    Male          No   \n",
       "2   Bachelors         2017       Pune            2   38  Female          No   \n",
       "3   Bachelors         2017  Bangalore            3   33  Female          No   \n",
       "4   Bachelors         2016       Pune            3   25    Male          No   \n",
       "5     Masters         2018       Pune            3   26    Male          No   \n",
       "6         PHD         2013       Pune            3   35    Male          No   \n",
       "7     Masters         2014  New Delhi            3   26    Male          No   \n",
       "8     Masters         2014       Pune            3   38    Male         Yes   \n",
       "9     Masters         2017  New Delhi            2   41    Male          No   \n",
       "10  Bachelors         2016  Bangalore            3   40    Male          No   \n",
       "11  Bachelors         2017  Bangalore            3   27    Male          No   \n",
       "12  Bachelors         2015  Bangalore            3   28  Female          No   \n",
       "13  Bachelors         2015       Pune            2   28  Female          No   \n",
       "14  Bachelors         2014       Pune            3   24  Female          No   \n",
       "15  Bachelors         2018  Bangalore            3   29    Male          No   \n",
       "16    Masters         2012  New Delhi            3   27  Female          No   \n",
       "17  Bachelors         2015  Bangalore            3   32  Female          No   \n",
       "18  Bachelors         2013  Bangalore            3   31    Male          No   \n",
       "19  Bachelors         2017  Bangalore            3   24    Male          No   \n",
       "\n",
       "    ExperienceInCurrentDomain  LeaveOrNot  XGBoost Prediction  \n",
       "0                           5           1                   0  \n",
       "1                           4           0                   0  \n",
       "2                           0           0                   1  \n",
       "3                           4           1                   0  \n",
       "4                           3           0                   0  \n",
       "5                           4           1                   1  \n",
       "6                           0           0                   0  \n",
       "7                           4           0                   1  \n",
       "8                           2           0                   0  \n",
       "9                           3           1                   0  \n",
       "10                          0           1                   1  \n",
       "11                          5           0                   0  \n",
       "12                          5           0                   0  \n",
       "13                          0           1                   1  \n",
       "14                          2           1                   1  \n",
       "15                          0           1                   1  \n",
       "16                          5           1                   1  \n",
       "17                          0           0                   0  \n",
       "18                          2           0                   1  \n",
       "19                          2           0                   0  "
      ]
     },
     "execution_count": 56,
     "metadata": {},
     "output_type": "execute_result"
    }
   ],
   "source": [
    "pd.concat([data_inf, y_pred_inf_df], axis=1)"
   ]
  },
  {
   "cell_type": "markdown",
   "metadata": {},
   "source": [
    "- Data inference berhasil diprediksi, untuk hasilnya dapat dilhat pada tabel di atas pada kolom Ada Boost Prediction "
   ]
  },
  {
   "cell_type": "code",
   "execution_count": 64,
   "metadata": {},
   "outputs": [
    {
     "name": "stdout",
     "output_type": "stream",
     "text": [
      "ROC AUC Score Test Results XGBoost\n",
      "0.7\n"
     ]
    }
   ],
   "source": [
    "print('ROC AUC Score Test Results XGBoost')\n",
    "print(accuracy_score(y_inf, y_pred_inf_xgb)) "
   ]
  },
  {
   "cell_type": "code",
   "execution_count": 58,
   "metadata": {},
   "outputs": [
    {
     "data": {
      "text/plain": [
       "<AxesSubplot:>"
      ]
     },
     "execution_count": 58,
     "metadata": {},
     "output_type": "execute_result"
    },
    {
     "data": {
      "image/png": "[encoded data removed]",
      "text/plain": [
       "<Figure size 432x288 with 2 Axes>"
      ]
     },
     "metadata": {
      "needs_background": "light"
     },
     "output_type": "display_data"
    }
   ],
   "source": [
    "cf_matrix = confusion_matrix(y_inf,y_pred_inf_xgb)\n",
    "sns.heatmap(cf_matrix, annot=True,fmt=\"d\")"
   ]
  },
  {
   "cell_type": "markdown",
   "metadata": {},
   "source": [
    "# Saving Model"
   ]
  },
  {
   "cell_type": "code",
   "execution_count": 59,
   "metadata": {},
   "outputs": [],
   "source": [
    "final_pipeline = make_pipeline(grid_search_xgb.best_estimator_)"
   ]
  },
  {
   "cell_type": "code",
   "execution_count": 60,
   "metadata": {},
   "outputs": [],
   "source": [
    "with open('model_final.pkl', 'wb') as model:\n",
    "    pickle.dump(final_pipeline, model)"
   ]
  },
  {
   "cell_type": "markdown",
   "metadata": {},
   "source": [
    "# Kesimpulan"
   ]
  },
  {
   "cell_type": "markdown",
   "metadata": {},
   "source": [
    "`EDA`\n",
    "- Dilihat dari grafik persentase gender, terlihat wanita lebih dominan dengan 57.9%  sedangkan pria hanya 40.3% dari data.\n",
    "- 34.4% dari data adalah karyawan yang diprediksi akan resign sebesar 34.4% dan yang akan bertahan di perushaan sebesar 65.6%\n",
    "- 74.2% karyawan pria diprediksi akan bertahan di perusahaan dan 25.8% akan berhenti, sedangkan 52.9% karyawan wanita akan bertahan di perusahaan dan sebesar 47.1% karyawan wanita akan berhenti dari perusahaan. dari data tersebut dapat dilihat persentase wanita yang akan berhenti lebih tinggi dari pria. Terdapat beberapa kemungkinan kenapa persentase wanita lebih banyak resign daripada pria, salah satunya mungkin setelah menikah dan punya anak wanita cenderung akan resign karena ingin fokus mengurus anak dan menjadi ibu rumah tangga.\n",
    "- Berdasarkan Grafik Persentase Tingkat Pendidikan, Bachelor atau Sarjana menjadi tingkat pendidikan paling tinggi yang terdapat pada data dengan 77.4% diikuti dengan Master dengan 18.8% dan paling kecil PhD atau Doktor dengan 3.8%.\n",
    "- Pada tingkat pendidikan Sarjana, sebesar 31.4% karyawan akan berhenti dari perusahaan dan 68.6% akan tetap bekerja di perusahaan, pada tingkatan Master 51.2% karyawan memilih tetap bekerja dan 48.8% memilih berhenti dan pada tingkat pendidikan Doktor, sebesar 74.9% memilih tetap bekerja dan 25.1% akan resign. Berdasarkan data tersebut dapat dilihat persentase karyawan yang resign dengan tingkat pendidikan Master lebih tinggi dari tingkat pendidikan lainnya.\n",
    "- Bersarkan Grafik Persentase Tingkat Pengalaman, dapat dilihat karyawan dengan pengalaman 2 tahun menjadi yang tertinggi dari yang lainnya dengan 23.4%, diikuti dengan pengalaman 4 tahun dengan 20% dan yang terkecil adalah pengalaman 6 dan 7 tahun dengan 0.2%.\n",
    "- Persentase orang yang resign terlihat seimbang antar variable, tetapi pada tingkat pengalaman 3 tahun terlihat selisih persentase karyawan yang resign dan tidaknya lebih sedikit dibanding tingkat pengalaman lainnya. Dan sangat sedikit karyawan yang bertahan hingga tahun ke 6 dan 7 di perusahaan.\n",
    "- Pada grafik Education Vs Payment Tier dapat dilihat tingkat pendidikan tidak terlalu berpengaruh terhadap gaji, dimana banyak karyawan yang hanya bergelar sarjana tetap memiliki gaji tinggi.\n",
    "- Pada grafik Experience vs Payment dapat dilihat karyawan dengan tingkat pengalaman 2 tahun mendapat gaji tinggi lebih banyak dari tingkat pengalaman lainnya, tetapi tingkat pengalaman kerja di suatu domain tidak berpengaruh signifikan terhadap gaji yang didapat.\n",
    "- Berdsarikan Grafik Persentase Tahun Bergabung, terlihat bahwa banyak karyawan yang bergabung pada tahun 2017 dengan persentase 23.8% dan diikuti dengan tahun 2015 dengan 16.8%, dan yang terendah ada pada tahun 2018 dengan 7.9%.\n",
    "- Tahun 2018 juga menjadi tahun dengan selisih persentase karyawan resign tertinggi dibandingkan dengan tahun lainnya, dimana persentase karyawan resign mencapai >90% dibandingkan dengan karyawan yang bertahan di perusahaan.\n",
    "- Berdasarkan Grafik Persentase Karyawan Keluar dari Project, sebesar 87.7% karyawan tidak pernah keluar dari project yang dikerjakan, dan sebanyak 10.3% pernah meninggalkan project yang dikerjakan. Dari 10.3% itu sebanyak 54.6% karyawan bertahan kerja di perusahaan dan 45.4% lainnya resign dari perusahaan. Pernah atau tidaknya seorang karyawan keluar dari sebuah project berpengaruh terhadap karyawan tersebut akan resign atau tidak dari perusahaan, dimana persentase karyawan yang tidak pernah keluar dari project dan resign dari perusahaan lebih kecil dibandingkan dengan karyawan yang pernah meniggalkan project perusahaan.\n",
    "- Bedasarkan Grafik Persentase Tingkat Gaji, dapat dilihat karyawan dengan gaji tingkat 3 (tinggi) lebih banyak dari tingkatan lainnya dengan persentase 75% dari data, tingkat 2(sedang) sebesar 19.7 dan tingkat 1 (rendah) sebesar 5.2%.\n",
    "- Karyawan dengan gaji tingkat 3 cenderung bertahan di perusahaan. Dan persentase karyawan tier 2 yang resign dari perusahaan lebig tinggi daripada yang bertahan di perusahaan. Ada indikasi karyawan dengan gaji tingkat 2 yang resign tidak puas dengan gaji yang didapatnya di perusahaan dan mencoba mencari perusahaan lain yang menawarkan gaji yang lebih tinggi.\n",
    "- Bersarkan grafik heatmap, Payment Tier memiliki korelasi yang tinggi dengan label LeaveOrNot, dengan nilai korelasi sebesar -0.2 den label LeaveOrNot memiliki korelasi paling rendah dengan kolom ExperienceInCurrentDomain dengan poin korelasi sebesar -0.031.\n",
    "- Kolom 'Age' merupakan skewed distribution data, dan kolom ExperienceInCurrentDomain normal distribution data.\n",
    "- Tidak terdapat outlier dan mising value pada data\n",
    "\n",
    "`Modeling`\n",
    "- Melakukan modeling menggunakan algoritma Logistic Regression dan SVM Classification, Random Forest, Ada Boost, dan XGBoost model dibungkus dengan pipeline\n",
    "- Ditinjau berdasarkan score ROC-AUC nya model random forest menjadi model dengan nilai roc-auc paling tinggi dibandingkan model lainnya, dengan nilai roc-auc pada train set sebesar 0.92 dan test set sebesar 0.78, perbedaan nilai tersebut diakibatkan karena pada train set dilakukan smote, setelah dilakukan smote data kelas 0 dan 1 nya seimbang sehingga membuat nilai roc-aucnya tinggi.\n",
    "- Nilai ROC XGBoost menjadi yang tertinggi di test set dibandingkan dengan model lainnya dengan nilai 0.8, dan model logistic menjadi yang terendah nilai roc-auc pada test set dengan 0.72.\n",
    "- Melakukan Cross Validation pada semua model untuk melihat model mana yang paling baik dalam memprediksi model, CV dilakukan sebanyak 5 kali dengan roc-auc sebagai metric penilaiannya\n",
    "- Setelah dilakukan cross validation, model XGBoost menadapatkan nilai rata-rata tertinggi dibandingkan model lainnya, dengan nilai 0.9227 +- 0.0267 untuk batas atas dan bawahnya, diikuti dengan model random forest dengan mean score 0.9176 +- 0.0307 untuk batas atas dan bawahnya.\n",
    "- Setelah dilakukan hyperparameter tuning, didapatkan hyperparameter terbaik untuk random forest,'randomforestclassifier__criterion': 'entropy', 'randomforestclassifier__max_features': 8, 'randomforestclassifier__min_samples_split': 8, 'randomforestclassifier__n_estimators': 200, \n",
    "dengan parameter tersebut mendapatkan rata-rata nilai roc-auc sebesar 0.924376\n",
    "- Setelah dilakukan hyperparameter tuning, selisih antara nilai train dan test sudah berkurang, dan terdapat kenaikan nilai roc-auc sebesar 0.01 atau 1% pada test set setelah dilakukan hyperparameter tuning\n",
    "- Setelah dilakukan hyperparameter tuning, didapatkan hyperparameter terbaik untuk XGBoost adalah, 'xgbclassifier__booster': 'gbtree', 'xgbclassifier__max_depth': 10, 'xgbclassifier__n_estimators': 30, 'xgbclassifier__tree_method': 'exact', dengan parameter tersebut mendapatkan rata-rata nilai roc-auc sebesar 0.922462\n",
    "- Terdapat sedikit perbedaan setelah dilakukan hyperparameter tuning, dimana pada train set terjadi sedikit peningkatan dan test set sedikit penurunan score roc-auc\n",
    "- Berdasarkan nilai roc-auc dan recall, terlihat model xgb sedikit lebih unggul dari model random forest, jadi model XGBOost setelah dilakukan hyperparameter tuning dipilih untuk menjadi model final\n",
    "- Bersarkan Clasification report, model xgb mendapatkan nilai yang baik pada recallnya, dengan nilai 0.88 pada kelas 0 dan 0.72 pada kelas 1, terdapat perbedaan nilai yang tinggi karena perbedaan data imbalance pada test set.\n",
    "- Terdapat 296 orang yang teprediksi resign dan benar atau True Positive (TP), dan 89 orang teprediksi resign tetapi sebenarnya tidak atau False Positive (FP).\n",
    "- Terdapat 657 orang yang terprediksi tidak resign dan benar atau True Negative (TN), dan 117 orang yang terprediksi resign tetapi sebenarnya tidak (FN)."
   ]
  }
 ],
 "metadata": {
  "kernelspec": {
   "display_name": "Python 3.8.5 ('base')",
   "language": "python",
   "name": "python3"
  },
  "language_info": {
   "codemirror_mode": {
    "name": "ipython",
    "version": 3
   },
   "file_extension": ".py",
   "mimetype": "text/x-python",
   "name": "python",
   "nbconvert_exporter": "python",
   "pygments_lexer": "ipython3",
   "version": "3.8.5"
  },
  "orig_nbformat": 4,
  "vscode": {
   "interpreter": {
    "hash": "410842fc67675d5225637bfe92d44d606aacd8e77b6f07a99ebf1173ac142359"
   }
  }
 },
 "nbformat": 4,
 "nbformat_minor": 2
}
