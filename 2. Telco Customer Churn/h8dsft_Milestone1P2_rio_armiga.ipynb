{
 "cells": [
  {
   "cell_type": "markdown",
   "metadata": {},
   "source": [
    "# Milestone 1 - Phase 2"
   ]
  },
  {
   "cell_type": "markdown",
   "metadata": {},
   "source": [
    "# Perkenalan"
   ]
  },
  {
   "cell_type": "markdown",
   "metadata": {},
   "source": [
    "`Rio Armiga - FTDS012`\n",
    "\n",
    "Dataset : Telco Customer Churn Dataset"
   ]
  },
  {
   "cell_type": "markdown",
   "metadata": {},
   "source": [
    "`Problem Statements` \n",
    "\n",
    "Banyaknya pelanggan yang berhenti berlangganan layanan telco kita tanpa diketahui penyebabnya sehingga tidak dapat dilakukan preventif agar pelanggan tidak berhenti berlangganan\n",
    "\n",
    "\n",
    "`Objective`\n",
    "\n",
    "Membuat model classification menggunakan algioritma ANN untuk melakukan prediksi awal apakah pelanggan akan churn/ berhenti berlangganan atau tidak sehingga dapat dilakuakn tindakan preventif jika pelanggan diprediksi akan berhenti berlangganan."
   ]
  },
  {
   "cell_type": "code",
   "execution_count": 246,
   "metadata": {},
   "outputs": [],
   "source": [
    "import pandas as pd\n",
    "import numpy as np\n",
    "import seaborn as sns\n",
    "import matplotlib.pyplot as plt\n",
    "from sklearn.model_selection import train_test_split \n",
    "from sklearn.pipeline import make_pipeline\n",
    "from sklearn.compose import ColumnTransformer\n",
    "from sklearn.preprocessing import  LabelEncoder, OneHotEncoder, OrdinalEncoder, StandardScaler\n",
    "import tensorflow as tf\n",
    "from keras.models import Sequential, Model\n",
    "from keras.optimizers import Adamax\n",
    "from keras.layers import Dense, concatenate, Input\n",
    "from sklearn.metrics import  classification_report, confusion_matrix, accuracy_score\n",
    "import pickle"
   ]
  },
  {
   "cell_type": "markdown",
   "metadata": {},
   "source": [
    "# Data Loading"
   ]
  },
  {
   "cell_type": "code",
   "execution_count": 97,
   "metadata": {},
   "outputs": [
    {
     "data": {
      "text/html": [
       "<div>\n",
       "<style scoped>\n",
       "    .dataframe tbody tr th:only-of-type {\n",
       "        vertical-align: middle;\n",
       "    }\n",
       "\n",
       "    .dataframe tbody tr th {\n",
       "        vertical-align: top;\n",
       "    }\n",
       "\n",
       "    .dataframe thead th {\n",
       "        text-align: right;\n",
       "    }\n",
       "</style>\n",
       "<table border=\"1\" class=\"dataframe\">\n",
       "  <thead>\n",
       "    <tr style=\"text-align: right;\">\n",
       "      <th></th>\n",
       "      <th>customerID</th>\n",
       "      <th>gender</th>\n",
       "      <th>SeniorCitizen</th>\n",
       "      <th>Partner</th>\n",
       "      <th>Dependents</th>\n",
       "      <th>tenure</th>\n",
       "      <th>PhoneService</th>\n",
       "      <th>MultipleLines</th>\n",
       "      <th>InternetService</th>\n",
       "      <th>OnlineSecurity</th>\n",
       "      <th>OnlineBackup</th>\n",
       "      <th>DeviceProtection</th>\n",
       "      <th>TechSupport</th>\n",
       "      <th>StreamingTV</th>\n",
       "      <th>StreamingMovies</th>\n",
       "      <th>Contract</th>\n",
       "      <th>PaperlessBilling</th>\n",
       "      <th>PaymentMethod</th>\n",
       "      <th>MonthlyCharges</th>\n",
       "      <th>TotalCharges</th>\n",
       "      <th>Churn</th>\n",
       "    </tr>\n",
       "  </thead>\n",
       "  <tbody>\n",
       "    <tr>\n",
       "      <th>0</th>\n",
       "      <td>7590-VHVEG</td>\n",
       "      <td>Female</td>\n",
       "      <td>0</td>\n",
       "      <td>Yes</td>\n",
       "      <td>No</td>\n",
       "      <td>1</td>\n",
       "      <td>No</td>\n",
       "      <td>No phone service</td>\n",
       "      <td>DSL</td>\n",
       "      <td>No</td>\n",
       "      <td>Yes</td>\n",
       "      <td>No</td>\n",
       "      <td>No</td>\n",
       "      <td>No</td>\n",
       "      <td>No</td>\n",
       "      <td>Month-to-month</td>\n",
       "      <td>Yes</td>\n",
       "      <td>Electronic check</td>\n",
       "      <td>29.85</td>\n",
       "      <td>29.85</td>\n",
       "      <td>No</td>\n",
       "    </tr>\n",
       "    <tr>\n",
       "      <th>1</th>\n",
       "      <td>5575-GNVDE</td>\n",
       "      <td>Male</td>\n",
       "      <td>0</td>\n",
       "      <td>No</td>\n",
       "      <td>No</td>\n",
       "      <td>34</td>\n",
       "      <td>Yes</td>\n",
       "      <td>No</td>\n",
       "      <td>DSL</td>\n",
       "      <td>Yes</td>\n",
       "      <td>No</td>\n",
       "      <td>Yes</td>\n",
       "      <td>No</td>\n",
       "      <td>No</td>\n",
       "      <td>No</td>\n",
       "      <td>One year</td>\n",
       "      <td>No</td>\n",
       "      <td>Mailed check</td>\n",
       "      <td>56.95</td>\n",
       "      <td>1889.5</td>\n",
       "      <td>No</td>\n",
       "    </tr>\n",
       "    <tr>\n",
       "      <th>2</th>\n",
       "      <td>3668-QPYBK</td>\n",
       "      <td>Male</td>\n",
       "      <td>0</td>\n",
       "      <td>No</td>\n",
       "      <td>No</td>\n",
       "      <td>2</td>\n",
       "      <td>Yes</td>\n",
       "      <td>No</td>\n",
       "      <td>DSL</td>\n",
       "      <td>Yes</td>\n",
       "      <td>Yes</td>\n",
       "      <td>No</td>\n",
       "      <td>No</td>\n",
       "      <td>No</td>\n",
       "      <td>No</td>\n",
       "      <td>Month-to-month</td>\n",
       "      <td>Yes</td>\n",
       "      <td>Mailed check</td>\n",
       "      <td>53.85</td>\n",
       "      <td>108.15</td>\n",
       "      <td>Yes</td>\n",
       "    </tr>\n",
       "    <tr>\n",
       "      <th>3</th>\n",
       "      <td>7795-CFOCW</td>\n",
       "      <td>Male</td>\n",
       "      <td>0</td>\n",
       "      <td>No</td>\n",
       "      <td>No</td>\n",
       "      <td>45</td>\n",
       "      <td>No</td>\n",
       "      <td>No phone service</td>\n",
       "      <td>DSL</td>\n",
       "      <td>Yes</td>\n",
       "      <td>No</td>\n",
       "      <td>Yes</td>\n",
       "      <td>Yes</td>\n",
       "      <td>No</td>\n",
       "      <td>No</td>\n",
       "      <td>One year</td>\n",
       "      <td>No</td>\n",
       "      <td>Bank transfer (automatic)</td>\n",
       "      <td>42.30</td>\n",
       "      <td>1840.75</td>\n",
       "      <td>No</td>\n",
       "    </tr>\n",
       "    <tr>\n",
       "      <th>4</th>\n",
       "      <td>9237-HQITU</td>\n",
       "      <td>Female</td>\n",
       "      <td>0</td>\n",
       "      <td>No</td>\n",
       "      <td>No</td>\n",
       "      <td>2</td>\n",
       "      <td>Yes</td>\n",
       "      <td>No</td>\n",
       "      <td>Fiber optic</td>\n",
       "      <td>No</td>\n",
       "      <td>No</td>\n",
       "      <td>No</td>\n",
       "      <td>No</td>\n",
       "      <td>No</td>\n",
       "      <td>No</td>\n",
       "      <td>Month-to-month</td>\n",
       "      <td>Yes</td>\n",
       "      <td>Electronic check</td>\n",
       "      <td>70.70</td>\n",
       "      <td>151.65</td>\n",
       "      <td>Yes</td>\n",
       "    </tr>\n",
       "    <tr>\n",
       "      <th>...</th>\n",
       "      <td>...</td>\n",
       "      <td>...</td>\n",
       "      <td>...</td>\n",
       "      <td>...</td>\n",
       "      <td>...</td>\n",
       "      <td>...</td>\n",
       "      <td>...</td>\n",
       "      <td>...</td>\n",
       "      <td>...</td>\n",
       "      <td>...</td>\n",
       "      <td>...</td>\n",
       "      <td>...</td>\n",
       "      <td>...</td>\n",
       "      <td>...</td>\n",
       "      <td>...</td>\n",
       "      <td>...</td>\n",
       "      <td>...</td>\n",
       "      <td>...</td>\n",
       "      <td>...</td>\n",
       "      <td>...</td>\n",
       "      <td>...</td>\n",
       "    </tr>\n",
       "    <tr>\n",
       "      <th>7038</th>\n",
       "      <td>6840-RESVB</td>\n",
       "      <td>Male</td>\n",
       "      <td>0</td>\n",
       "      <td>Yes</td>\n",
       "      <td>Yes</td>\n",
       "      <td>24</td>\n",
       "      <td>Yes</td>\n",
       "      <td>Yes</td>\n",
       "      <td>DSL</td>\n",
       "      <td>Yes</td>\n",
       "      <td>No</td>\n",
       "      <td>Yes</td>\n",
       "      <td>Yes</td>\n",
       "      <td>Yes</td>\n",
       "      <td>Yes</td>\n",
       "      <td>One year</td>\n",
       "      <td>Yes</td>\n",
       "      <td>Mailed check</td>\n",
       "      <td>84.80</td>\n",
       "      <td>1990.5</td>\n",
       "      <td>No</td>\n",
       "    </tr>\n",
       "    <tr>\n",
       "      <th>7039</th>\n",
       "      <td>2234-XADUH</td>\n",
       "      <td>Female</td>\n",
       "      <td>0</td>\n",
       "      <td>Yes</td>\n",
       "      <td>Yes</td>\n",
       "      <td>72</td>\n",
       "      <td>Yes</td>\n",
       "      <td>Yes</td>\n",
       "      <td>Fiber optic</td>\n",
       "      <td>No</td>\n",
       "      <td>Yes</td>\n",
       "      <td>Yes</td>\n",
       "      <td>No</td>\n",
       "      <td>Yes</td>\n",
       "      <td>Yes</td>\n",
       "      <td>One year</td>\n",
       "      <td>Yes</td>\n",
       "      <td>Credit card (automatic)</td>\n",
       "      <td>103.20</td>\n",
       "      <td>7362.9</td>\n",
       "      <td>No</td>\n",
       "    </tr>\n",
       "    <tr>\n",
       "      <th>7040</th>\n",
       "      <td>4801-JZAZL</td>\n",
       "      <td>Female</td>\n",
       "      <td>0</td>\n",
       "      <td>Yes</td>\n",
       "      <td>Yes</td>\n",
       "      <td>11</td>\n",
       "      <td>No</td>\n",
       "      <td>No phone service</td>\n",
       "      <td>DSL</td>\n",
       "      <td>Yes</td>\n",
       "      <td>No</td>\n",
       "      <td>No</td>\n",
       "      <td>No</td>\n",
       "      <td>No</td>\n",
       "      <td>No</td>\n",
       "      <td>Month-to-month</td>\n",
       "      <td>Yes</td>\n",
       "      <td>Electronic check</td>\n",
       "      <td>29.60</td>\n",
       "      <td>346.45</td>\n",
       "      <td>No</td>\n",
       "    </tr>\n",
       "    <tr>\n",
       "      <th>7041</th>\n",
       "      <td>8361-LTMKD</td>\n",
       "      <td>Male</td>\n",
       "      <td>1</td>\n",
       "      <td>Yes</td>\n",
       "      <td>No</td>\n",
       "      <td>4</td>\n",
       "      <td>Yes</td>\n",
       "      <td>Yes</td>\n",
       "      <td>Fiber optic</td>\n",
       "      <td>No</td>\n",
       "      <td>No</td>\n",
       "      <td>No</td>\n",
       "      <td>No</td>\n",
       "      <td>No</td>\n",
       "      <td>No</td>\n",
       "      <td>Month-to-month</td>\n",
       "      <td>Yes</td>\n",
       "      <td>Mailed check</td>\n",
       "      <td>74.40</td>\n",
       "      <td>306.6</td>\n",
       "      <td>Yes</td>\n",
       "    </tr>\n",
       "    <tr>\n",
       "      <th>7042</th>\n",
       "      <td>3186-AJIEK</td>\n",
       "      <td>Male</td>\n",
       "      <td>0</td>\n",
       "      <td>No</td>\n",
       "      <td>No</td>\n",
       "      <td>66</td>\n",
       "      <td>Yes</td>\n",
       "      <td>No</td>\n",
       "      <td>Fiber optic</td>\n",
       "      <td>Yes</td>\n",
       "      <td>No</td>\n",
       "      <td>Yes</td>\n",
       "      <td>Yes</td>\n",
       "      <td>Yes</td>\n",
       "      <td>Yes</td>\n",
       "      <td>Two year</td>\n",
       "      <td>Yes</td>\n",
       "      <td>Bank transfer (automatic)</td>\n",
       "      <td>105.65</td>\n",
       "      <td>6844.5</td>\n",
       "      <td>No</td>\n",
       "    </tr>\n",
       "  </tbody>\n",
       "</table>\n",
       "<p>7043 rows × 21 columns</p>\n",
       "</div>"
      ],
      "text/plain": [
       "      customerID  gender  SeniorCitizen Partner Dependents  tenure  \\\n",
       "0     7590-VHVEG  Female              0     Yes         No       1   \n",
       "1     5575-GNVDE    Male              0      No         No      34   \n",
       "2     3668-QPYBK    Male              0      No         No       2   \n",
       "3     7795-CFOCW    Male              0      No         No      45   \n",
       "4     9237-HQITU  Female              0      No         No       2   \n",
       "...          ...     ...            ...     ...        ...     ...   \n",
       "7038  6840-RESVB    Male              0     Yes        Yes      24   \n",
       "7039  2234-XADUH  Female              0     Yes        Yes      72   \n",
       "7040  4801-JZAZL  Female              0     Yes        Yes      11   \n",
       "7041  8361-LTMKD    Male              1     Yes         No       4   \n",
       "7042  3186-AJIEK    Male              0      No         No      66   \n",
       "\n",
       "     PhoneService     MultipleLines InternetService OnlineSecurity  \\\n",
       "0              No  No phone service             DSL             No   \n",
       "1             Yes                No             DSL            Yes   \n",
       "2             Yes                No             DSL            Yes   \n",
       "3              No  No phone service             DSL            Yes   \n",
       "4             Yes                No     Fiber optic             No   \n",
       "...           ...               ...             ...            ...   \n",
       "7038          Yes               Yes             DSL            Yes   \n",
       "7039          Yes               Yes     Fiber optic             No   \n",
       "7040           No  No phone service             DSL            Yes   \n",
       "7041          Yes               Yes     Fiber optic             No   \n",
       "7042          Yes                No     Fiber optic            Yes   \n",
       "\n",
       "     OnlineBackup DeviceProtection TechSupport StreamingTV StreamingMovies  \\\n",
       "0             Yes               No          No          No              No   \n",
       "1              No              Yes          No          No              No   \n",
       "2             Yes               No          No          No              No   \n",
       "3              No              Yes         Yes          No              No   \n",
       "4              No               No          No          No              No   \n",
       "...           ...              ...         ...         ...             ...   \n",
       "7038           No              Yes         Yes         Yes             Yes   \n",
       "7039          Yes              Yes          No         Yes             Yes   \n",
       "7040           No               No          No          No              No   \n",
       "7041           No               No          No          No              No   \n",
       "7042           No              Yes         Yes         Yes             Yes   \n",
       "\n",
       "            Contract PaperlessBilling              PaymentMethod  \\\n",
       "0     Month-to-month              Yes           Electronic check   \n",
       "1           One year               No               Mailed check   \n",
       "2     Month-to-month              Yes               Mailed check   \n",
       "3           One year               No  Bank transfer (automatic)   \n",
       "4     Month-to-month              Yes           Electronic check   \n",
       "...              ...              ...                        ...   \n",
       "7038        One year              Yes               Mailed check   \n",
       "7039        One year              Yes    Credit card (automatic)   \n",
       "7040  Month-to-month              Yes           Electronic check   \n",
       "7041  Month-to-month              Yes               Mailed check   \n",
       "7042        Two year              Yes  Bank transfer (automatic)   \n",
       "\n",
       "      MonthlyCharges TotalCharges Churn  \n",
       "0              29.85        29.85    No  \n",
       "1              56.95       1889.5    No  \n",
       "2              53.85       108.15   Yes  \n",
       "3              42.30      1840.75    No  \n",
       "4              70.70       151.65   Yes  \n",
       "...              ...          ...   ...  \n",
       "7038           84.80       1990.5    No  \n",
       "7039          103.20       7362.9    No  \n",
       "7040           29.60       346.45    No  \n",
       "7041           74.40        306.6   Yes  \n",
       "7042          105.65       6844.5    No  \n",
       "\n",
       "[7043 rows x 21 columns]"
      ]
     },
     "execution_count": 97,
     "metadata": {},
     "output_type": "execute_result"
    }
   ],
   "source": [
    "data = pd.read_csv('Telco_Customer_Churn.csv')\n",
    "pd.set_option('display.max.columns', None)\n",
    "data"
   ]
  },
  {
   "cell_type": "code",
   "execution_count": 98,
   "metadata": {},
   "outputs": [
    {
     "name": "stdout",
     "output_type": "stream",
     "text": [
      "<class 'pandas.core.frame.DataFrame'>\n",
      "RangeIndex: 7043 entries, 0 to 7042\n",
      "Data columns (total 21 columns):\n",
      " #   Column            Non-Null Count  Dtype  \n",
      "---  ------            --------------  -----  \n",
      " 0   customerID        7043 non-null   object \n",
      " 1   gender            7043 non-null   object \n",
      " 2   SeniorCitizen     7043 non-null   int64  \n",
      " 3   Partner           7043 non-null   object \n",
      " 4   Dependents        7043 non-null   object \n",
      " 5   tenure            7043 non-null   int64  \n",
      " 6   PhoneService      7043 non-null   object \n",
      " 7   MultipleLines     7043 non-null   object \n",
      " 8   InternetService   7043 non-null   object \n",
      " 9   OnlineSecurity    7043 non-null   object \n",
      " 10  OnlineBackup      7043 non-null   object \n",
      " 11  DeviceProtection  7043 non-null   object \n",
      " 12  TechSupport       7043 non-null   object \n",
      " 13  StreamingTV       7043 non-null   object \n",
      " 14  StreamingMovies   7043 non-null   object \n",
      " 15  Contract          7043 non-null   object \n",
      " 16  PaperlessBilling  7043 non-null   object \n",
      " 17  PaymentMethod     7043 non-null   object \n",
      " 18  MonthlyCharges    7043 non-null   float64\n",
      " 19  TotalCharges      7043 non-null   object \n",
      " 20  Churn             7043 non-null   object \n",
      "dtypes: float64(1), int64(2), object(18)\n",
      "memory usage: 1.1+ MB\n"
     ]
    }
   ],
   "source": [
    "data.info()"
   ]
  },
  {
   "cell_type": "markdown",
   "metadata": {},
   "source": [
    "- Mengganti tipe data pada kolom TotalCharges karena kolom TotalCharges bertipe data object, tetapi seharusnya bertipe data int atau float karena data merupakan data numeric."
   ]
  },
  {
   "cell_type": "code",
   "execution_count": 99,
   "metadata": {},
   "outputs": [],
   "source": [
    "# data[\"TotalCharges\"] = pd.to_numeric(data[\"TotalCharges\"], downcast=\"float\")\n",
    "# print(data.dtypes)"
   ]
  },
  {
   "cell_type": "markdown",
   "metadata": {},
   "source": [
    "- Terdapat error saat melakuakan pergantian tipe data, karena terdapat string kosong pada kolom TotalCharges."
   ]
  },
  {
   "cell_type": "markdown",
   "metadata": {},
   "source": [
    "Mengganti data string kosong dengan np.nan agar mudah dideteksi sebagai missing value"
   ]
  },
  {
   "cell_type": "code",
   "execution_count": 100,
   "metadata": {},
   "outputs": [],
   "source": [
    "data = data.replace(\" \", np.nan)"
   ]
  },
  {
   "cell_type": "markdown",
   "metadata": {},
   "source": [
    "Melakukan check missing value pada data."
   ]
  },
  {
   "cell_type": "code",
   "execution_count": 101,
   "metadata": {},
   "outputs": [
    {
     "data": {
      "text/plain": [
       "TotalCharges      11\n",
       "Churn              0\n",
       "OnlineSecurity     0\n",
       "dtype: int64"
      ]
     },
     "execution_count": 101,
     "metadata": {},
     "output_type": "execute_result"
    }
   ],
   "source": [
    "data.isna().sum().sort_values(ascending=False).head(3)"
   ]
  },
  {
   "cell_type": "markdown",
   "metadata": {},
   "source": [
    "- Sudah terdeteksi missing value pada kolom TotalCharges"
   ]
  },
  {
   "cell_type": "markdown",
   "metadata": {},
   "source": [
    "Melakukan drop baris pada data missing value"
   ]
  },
  {
   "cell_type": "code",
   "execution_count": 102,
   "metadata": {},
   "outputs": [],
   "source": [
    "data = data.dropna(axis=0)"
   ]
  },
  {
   "cell_type": "code",
   "execution_count": 103,
   "metadata": {},
   "outputs": [
    {
     "data": {
      "text/plain": [
       "Churn             0\n",
       "OnlineSecurity    0\n",
       "gender            0\n",
       "dtype: int64"
      ]
     },
     "execution_count": 103,
     "metadata": {},
     "output_type": "execute_result"
    }
   ],
   "source": [
    "data.isna().sum().sort_values(ascending=False).head(3)"
   ]
  },
  {
   "cell_type": "markdown",
   "metadata": {},
   "source": [
    "Missing value berhasil di drop."
   ]
  },
  {
   "cell_type": "markdown",
   "metadata": {},
   "source": [
    "Merubah tipe data pada kolom TotalCharges"
   ]
  },
  {
   "cell_type": "code",
   "execution_count": 104,
   "metadata": {},
   "outputs": [
    {
     "name": "stdout",
     "output_type": "stream",
     "text": [
      "customerID           object\n",
      "gender               object\n",
      "SeniorCitizen         int64\n",
      "Partner              object\n",
      "Dependents           object\n",
      "tenure                int64\n",
      "PhoneService         object\n",
      "MultipleLines        object\n",
      "InternetService      object\n",
      "OnlineSecurity       object\n",
      "OnlineBackup         object\n",
      "DeviceProtection     object\n",
      "TechSupport          object\n",
      "StreamingTV          object\n",
      "StreamingMovies      object\n",
      "Contract             object\n",
      "PaperlessBilling     object\n",
      "PaymentMethod        object\n",
      "MonthlyCharges      float64\n",
      "TotalCharges        float32\n",
      "Churn                object\n",
      "dtype: object\n"
     ]
    }
   ],
   "source": [
    "data[\"TotalCharges\"] = pd.to_numeric(data[\"TotalCharges\"], downcast=\"float\")\n",
    "print(data.dtypes)"
   ]
  },
  {
   "cell_type": "markdown",
   "metadata": {},
   "source": [
    "- Tipe data pada kolom TotalCharges berhasil dirubah"
   ]
  },
  {
   "cell_type": "markdown",
   "metadata": {},
   "source": [
    "# Exploratory Data Analysis (EDA)"
   ]
  },
  {
   "cell_type": "markdown",
   "metadata": {},
   "source": [
    "Function untuk menunjukkan persentase pada grafik."
   ]
  },
  {
   "cell_type": "code",
   "execution_count": 105,
   "metadata": {},
   "outputs": [],
   "source": [
    "def with_hue(ax, feature, Number_of_categories, hue_categories):\n",
    "    a = [p.get_height() for p in ax.patches]\n",
    "    patch = [p for p in ax.patches]\n",
    "    for i in range(Number_of_categories):\n",
    "        total = feature.value_counts().values[i]\n",
    "        for j in range(hue_categories):\n",
    "            percentage = '{:.1f}%'.format(100 * a[(j*Number_of_categories + i)]/total)\n",
    "            x = patch[(j*Number_of_categories + i)].get_x() + patch[(j*Number_of_categories + i)].get_width() / 2 - 0.15\n",
    "            y = patch[(j*Number_of_categories + i)].get_y() + patch[(j*Number_of_categories + i)].get_height() \n",
    "            ax.annotate(percentage, (x, y), size = 12)\n",
    "\n",
    "def without_hue(ax, feature):\n",
    "    total = len(feature)\n",
    "    for p in ax.patches:\n",
    "        percentage = '{:.1f}%'.format(100 * p.get_height()/total)\n",
    "        x = p.get_x() + p.get_width() / 2 - 0.05\n",
    "        y = p.get_y() + p.get_height()\n",
    "        ax.annotate(percentage, (x, y), size = 12)"
   ]
  },
  {
   "cell_type": "markdown",
   "metadata": {},
   "source": [
    "Melihat presentase churn"
   ]
  },
  {
   "cell_type": "code",
   "execution_count": 106,
   "metadata": {},
   "outputs": [
    {
     "data": {
      "image/png": "[encoded data removed]",
      "text/plain": [
       "<Figure size 576x432 with 1 Axes>"
      ]
     },
     "metadata": {
      "needs_background": "light"
     },
     "output_type": "display_data"
    }
   ],
   "source": [
    "plt.figure(figsize=(8, 6))\n",
    "plt.suptitle('Grafik Persentase Churn')\n",
    "ax = sns.countplot(data=data, x='Churn', palette='dark:salmon_r')\n",
    "without_hue(ax, data.Churn)"
   ]
  },
  {
   "cell_type": "markdown",
   "metadata": {},
   "source": [
    "- Sebesar 73.4% pelanggan tetap menggunakan produk yang kita tawarkan sedangkan 26.6% pelanggan akan berhenti berlangganan."
   ]
  },
  {
   "cell_type": "markdown",
   "metadata": {},
   "source": [
    "Apakah metode pembayaran berpengaruh terhadap churn?"
   ]
  },
  {
   "cell_type": "code",
   "execution_count": 107,
   "metadata": {},
   "outputs": [
    {
     "data": {
      "image/png": "[encoded data removed]",
      "text/plain": [
       "<Figure size 1440x432 with 2 Axes>"
      ]
     },
     "metadata": {
      "needs_background": "light"
     },
     "output_type": "display_data"
    }
   ],
   "source": [
    "plt.figure(figsize=(20, 6))\n",
    "plt.suptitle('Grafik Persentase Payment Method')\n",
    "plt.subplot(1,2,1)\n",
    "ax = sns.countplot(data=data, x='PaymentMethod', palette='dark:salmon_r')\n",
    "without_hue(ax, data.PaymentMethod)\n",
    "\n",
    "plt.subplot(1,2,2)\n",
    "ax = sns.countplot(data=data, x='PaymentMethod', hue='Churn', palette='dark:salmon_r')\n",
    "with_hue(ax, data.PaymentMethod, 4,2)"
   ]
  },
  {
   "cell_type": "markdown",
   "metadata": {},
   "source": [
    "- Berdasarkan Grafik Persentase Payment Method, terlihat pelanggan yang membayar tagihan dengan electronic check menjadi yang tertinggi di data dengan 33.6% dan yang terendah adalah dengan credit card (auto) dengan 21.6%.\n",
    "- Dapat dilihat pula pelanggan dengan yang membayar tagihan dengan electronic check juga menjadi pelanggan yang paling tinggi persentase churnnya dengan persentase sebesar 45.3% pelanggan akan churn, sedangkan pelanggan dengan loyalitas tinggi adalah pelanggan dengan metode pembayaran credit card (auto) dengan presentase 15.3% yang berhenti berlangganan dan 84.7% yang masih tetap berlangganan."
   ]
  },
  {
   "cell_type": "markdown",
   "metadata": {},
   "source": [
    "Apakah gender berpengaruh terhadap churn?"
   ]
  },
  {
   "cell_type": "code",
   "execution_count": 108,
   "metadata": {},
   "outputs": [
    {
     "data": {
      "image/png": "[encoded data removed]",
      "text/plain": [
       "<Figure size 1440x432 with 2 Axes>"
      ]
     },
     "metadata": {
      "needs_background": "light"
     },
     "output_type": "display_data"
    }
   ],
   "source": [
    "plt.figure(figsize=(20, 6))\n",
    "plt.suptitle('Grafik Persentase Gender')\n",
    "plt.subplot(1,2,1)\n",
    "ax = sns.countplot(data=data, x='gender',  palette='dark:salmon_r')\n",
    "without_hue(ax, data.gender)\n",
    "\n",
    "plt.subplot(1,2,2)\n",
    "ax = sns.countplot(data=data, x='gender', hue='Churn', palette='dark:salmon_r')\n",
    "with_hue(ax, data.gender, 2, 2)"
   ]
  },
  {
   "cell_type": "markdown",
   "metadata": {},
   "source": [
    "- Berdasarkan Grafik Persentase Gender, presentase pelanggan pria dan wanita cukup seimbang dengan presentase pria sebesar 50.5% dan wanita sebesar 49.5%, dapat dilihat pula gender tidak berpengaruh terhadap tingginya pelanggan yang berhenti berlangganan, karena persentase wanita dan pria yang churn juga cukup seimbang di angka 26%."
   ]
  },
  {
   "cell_type": "markdown",
   "metadata": {},
   "source": [
    "Apakah Senior Citizen berpengaruh terhadap churn"
   ]
  },
  {
   "cell_type": "code",
   "execution_count": 109,
   "metadata": {},
   "outputs": [
    {
     "data": {
      "image/png": "[encoded data removed]",
      "text/plain": [
       "<Figure size 1440x432 with 2 Axes>"
      ]
     },
     "metadata": {
      "needs_background": "light"
     },
     "output_type": "display_data"
    }
   ],
   "source": [
    "plt.figure(figsize=(20, 6))\n",
    "plt.suptitle('Grafik Persentase Senior Citizen')\n",
    "plt.subplot(1,2,1)\n",
    "ax = sns.countplot(data=data, x='SeniorCitizen', palette='dark:salmon_r')\n",
    "without_hue(ax, data.SeniorCitizen)\n",
    "\n",
    "plt.subplot(1,2,2)\n",
    "ax = sns.countplot(data=data, x='SeniorCitizen', hue='Churn', palette='dark:salmon_r')\n",
    "with_hue(ax, data.SeniorCitizen, 2, 2)"
   ]
  },
  {
   "cell_type": "markdown",
   "metadata": {},
   "source": [
    "- Berdasarkan Grafik Persentase Senior Citizen, sebesar 16.2% pelanggan merupakan senior citizen dan 83.8% lainnya bukan, dan pelanggan yang senior citizen cenderung churn lebih tinggi dengan persentase sebesar 41.7% dibandingkan dengan pelanggan yang bukan senior citizen dengan 23.7%."
   ]
  },
  {
   "cell_type": "markdown",
   "metadata": {},
   "source": [
    "Apakah jenis layanan internet berpengaruh terhadap churn?"
   ]
  },
  {
   "cell_type": "code",
   "execution_count": 110,
   "metadata": {},
   "outputs": [
    {
     "data": {
      "image/png": "[encoded data removed]",
      "text/plain": [
       "<Figure size 1440x432 with 2 Axes>"
      ]
     },
     "metadata": {
      "needs_background": "light"
     },
     "output_type": "display_data"
    }
   ],
   "source": [
    "plt.figure(figsize=(20, 6))\n",
    "plt.suptitle('Grafik Persentase Jenis Internet Service')\n",
    "plt.subplot(1,2,1)\n",
    "ax = sns.countplot(data=data, x='InternetService', palette='dark:salmon_r')\n",
    "without_hue(ax, data.InternetService)\n",
    "\n",
    "plt.subplot(1,2,2)\n",
    "ax = sns.countplot(data=data, x='Churn', hue='InternetService', palette='dark:salmon_r')\n",
    "with_hue(ax, data.Churn, Number_of_categories=2, hue_categories=3)"
   ]
  },
  {
   "cell_type": "markdown",
   "metadata": {},
   "source": [
    "- Berdasarkan Grafik Persentase Jenis Internet Service, pelanggan dengan layanan internet fiber optic menjadi yang tertinggi persentasenya dengan 44%, layanan DSL dengan 34.4% dan tidak memiliki layanan internet dengan 21.6%. \n",
    "- Dapat dilihat pula pelanggan dengan layanan internet fiber optic menjadi yang paling tinggi persentase pelanggan yang churn dengan persentase 69.4% dibandingkan dengan pelanggan layanan internet DSL dengan 24.6%"
   ]
  },
  {
   "cell_type": "markdown",
   "metadata": {},
   "source": [
    "Apakah tenure berpengaruh terhadap churn?"
   ]
  },
  {
   "cell_type": "code",
   "execution_count": 111,
   "metadata": {},
   "outputs": [
    {
     "data": {
      "text/plain": [
       "<AxesSubplot:xlabel='tenure', ylabel='Count'>"
      ]
     },
     "execution_count": 111,
     "metadata": {},
     "output_type": "execute_result"
    },
    {
     "data": {
      "image/png": "[encoded data removed]",
      "text/plain": [
       "<Figure size 576x360 with 1 Axes>"
      ]
     },
     "metadata": {
      "needs_background": "light"
     },
     "output_type": "display_data"
    }
   ],
   "source": [
    "plt.figure(figsize=(8,5))\n",
    "plt.suptitle('Grafik Histogram Tenure')\n",
    "sns.histplot(data=data, x='tenure', hue='Churn', palette='dark:salmon_r')"
   ]
  },
  {
   "cell_type": "markdown",
   "metadata": {},
   "source": [
    "- Dapat dilihat pada Grafik Histogram Tenure, pelanggan dengan bulan berlangganan tinggi cenderung lebih sedikit yang berhenti berlangganan, dan pelanggan dengan bulan berlangganan dibawah 10 bulan yang memiliki tingkat churn tinggi."
   ]
  },
  {
   "cell_type": "markdown",
   "metadata": {},
   "source": [
    "Apakah tagihan bulanan berpengaruh terhadap churn?"
   ]
  },
  {
   "cell_type": "code",
   "execution_count": 112,
   "metadata": {},
   "outputs": [
    {
     "data": {
      "text/plain": [
       "<AxesSubplot:xlabel='MonthlyCharges', ylabel='Count'>"
      ]
     },
     "execution_count": 112,
     "metadata": {},
     "output_type": "execute_result"
    },
    {
     "data": {
      "text/plain": [
       "<Figure size 432x288 with 0 Axes>"
      ]
     },
     "metadata": {},
     "output_type": "display_data"
    },
    {
     "data": {
      "image/png": "[encoded data removed]",
      "text/plain": [
       "<Figure size 576x360 with 1 Axes>"
      ]
     },
     "metadata": {
      "needs_background": "light"
     },
     "output_type": "display_data"
    }
   ],
   "source": [
    "plt.suptitle('Grafik Histogram Monthly Charges')\n",
    "plt.figure(figsize=(8,5))\n",
    "sns.histplot(data=data, x='MonthlyCharges', hue='Churn', palette='dark:salmon_r')"
   ]
  },
  {
   "cell_type": "markdown",
   "metadata": {},
   "source": [
    "- Dapat dilihat dari Grafik Histogram Monthly Charges, pelanggan dengan tingkat churn tinggi terdapat pada pelanggan dengan tagihan yang menengah hingga tinggi."
   ]
  },
  {
   "cell_type": "markdown",
   "metadata": {},
   "source": [
    "# Data Preprocessing"
   ]
  },
  {
   "cell_type": "markdown",
   "metadata": {},
   "source": [
    "## Memisakan Data untuk Model Inference"
   ]
  },
  {
   "cell_type": "markdown",
   "metadata": {},
   "source": [
    "Membagi data inference untuk menguji model dengan data baru."
   ]
  },
  {
   "cell_type": "code",
   "execution_count": 113,
   "metadata": {},
   "outputs": [
    {
     "data": {
      "text/html": [
       "<div>\n",
       "<style scoped>\n",
       "    .dataframe tbody tr th:only-of-type {\n",
       "        vertical-align: middle;\n",
       "    }\n",
       "\n",
       "    .dataframe tbody tr th {\n",
       "        vertical-align: top;\n",
       "    }\n",
       "\n",
       "    .dataframe thead th {\n",
       "        text-align: right;\n",
       "    }\n",
       "</style>\n",
       "<table border=\"1\" class=\"dataframe\">\n",
       "  <thead>\n",
       "    <tr style=\"text-align: right;\">\n",
       "      <th></th>\n",
       "      <th>customerID</th>\n",
       "      <th>gender</th>\n",
       "      <th>SeniorCitizen</th>\n",
       "      <th>Partner</th>\n",
       "      <th>Dependents</th>\n",
       "      <th>tenure</th>\n",
       "      <th>PhoneService</th>\n",
       "      <th>MultipleLines</th>\n",
       "      <th>InternetService</th>\n",
       "      <th>OnlineSecurity</th>\n",
       "      <th>OnlineBackup</th>\n",
       "      <th>DeviceProtection</th>\n",
       "      <th>TechSupport</th>\n",
       "      <th>StreamingTV</th>\n",
       "      <th>StreamingMovies</th>\n",
       "      <th>Contract</th>\n",
       "      <th>PaperlessBilling</th>\n",
       "      <th>PaymentMethod</th>\n",
       "      <th>MonthlyCharges</th>\n",
       "      <th>TotalCharges</th>\n",
       "      <th>Churn</th>\n",
       "    </tr>\n",
       "  </thead>\n",
       "  <tbody>\n",
       "    <tr>\n",
       "      <th>0</th>\n",
       "      <td>7590-VHVEG</td>\n",
       "      <td>Female</td>\n",
       "      <td>0</td>\n",
       "      <td>Yes</td>\n",
       "      <td>No</td>\n",
       "      <td>1</td>\n",
       "      <td>No</td>\n",
       "      <td>No phone service</td>\n",
       "      <td>DSL</td>\n",
       "      <td>No</td>\n",
       "      <td>Yes</td>\n",
       "      <td>No</td>\n",
       "      <td>No</td>\n",
       "      <td>No</td>\n",
       "      <td>No</td>\n",
       "      <td>Month-to-month</td>\n",
       "      <td>Yes</td>\n",
       "      <td>Electronic check</td>\n",
       "      <td>29.85</td>\n",
       "      <td>29.850000</td>\n",
       "      <td>No</td>\n",
       "    </tr>\n",
       "    <tr>\n",
       "      <th>1</th>\n",
       "      <td>5575-GNVDE</td>\n",
       "      <td>Male</td>\n",
       "      <td>0</td>\n",
       "      <td>No</td>\n",
       "      <td>No</td>\n",
       "      <td>34</td>\n",
       "      <td>Yes</td>\n",
       "      <td>No</td>\n",
       "      <td>DSL</td>\n",
       "      <td>Yes</td>\n",
       "      <td>No</td>\n",
       "      <td>Yes</td>\n",
       "      <td>No</td>\n",
       "      <td>No</td>\n",
       "      <td>No</td>\n",
       "      <td>One year</td>\n",
       "      <td>No</td>\n",
       "      <td>Mailed check</td>\n",
       "      <td>56.95</td>\n",
       "      <td>1889.500000</td>\n",
       "      <td>No</td>\n",
       "    </tr>\n",
       "    <tr>\n",
       "      <th>2</th>\n",
       "      <td>3668-QPYBK</td>\n",
       "      <td>Male</td>\n",
       "      <td>0</td>\n",
       "      <td>No</td>\n",
       "      <td>No</td>\n",
       "      <td>2</td>\n",
       "      <td>Yes</td>\n",
       "      <td>No</td>\n",
       "      <td>DSL</td>\n",
       "      <td>Yes</td>\n",
       "      <td>Yes</td>\n",
       "      <td>No</td>\n",
       "      <td>No</td>\n",
       "      <td>No</td>\n",
       "      <td>No</td>\n",
       "      <td>Month-to-month</td>\n",
       "      <td>Yes</td>\n",
       "      <td>Mailed check</td>\n",
       "      <td>53.85</td>\n",
       "      <td>108.150002</td>\n",
       "      <td>Yes</td>\n",
       "    </tr>\n",
       "    <tr>\n",
       "      <th>3</th>\n",
       "      <td>7795-CFOCW</td>\n",
       "      <td>Male</td>\n",
       "      <td>0</td>\n",
       "      <td>No</td>\n",
       "      <td>No</td>\n",
       "      <td>45</td>\n",
       "      <td>No</td>\n",
       "      <td>No phone service</td>\n",
       "      <td>DSL</td>\n",
       "      <td>Yes</td>\n",
       "      <td>No</td>\n",
       "      <td>Yes</td>\n",
       "      <td>Yes</td>\n",
       "      <td>No</td>\n",
       "      <td>No</td>\n",
       "      <td>One year</td>\n",
       "      <td>No</td>\n",
       "      <td>Bank transfer (automatic)</td>\n",
       "      <td>42.30</td>\n",
       "      <td>1840.750000</td>\n",
       "      <td>No</td>\n",
       "    </tr>\n",
       "    <tr>\n",
       "      <th>4</th>\n",
       "      <td>9237-HQITU</td>\n",
       "      <td>Female</td>\n",
       "      <td>0</td>\n",
       "      <td>No</td>\n",
       "      <td>No</td>\n",
       "      <td>2</td>\n",
       "      <td>Yes</td>\n",
       "      <td>No</td>\n",
       "      <td>Fiber optic</td>\n",
       "      <td>No</td>\n",
       "      <td>No</td>\n",
       "      <td>No</td>\n",
       "      <td>No</td>\n",
       "      <td>No</td>\n",
       "      <td>No</td>\n",
       "      <td>Month-to-month</td>\n",
       "      <td>Yes</td>\n",
       "      <td>Electronic check</td>\n",
       "      <td>70.70</td>\n",
       "      <td>151.649994</td>\n",
       "      <td>Yes</td>\n",
       "    </tr>\n",
       "    <tr>\n",
       "      <th>...</th>\n",
       "      <td>...</td>\n",
       "      <td>...</td>\n",
       "      <td>...</td>\n",
       "      <td>...</td>\n",
       "      <td>...</td>\n",
       "      <td>...</td>\n",
       "      <td>...</td>\n",
       "      <td>...</td>\n",
       "      <td>...</td>\n",
       "      <td>...</td>\n",
       "      <td>...</td>\n",
       "      <td>...</td>\n",
       "      <td>...</td>\n",
       "      <td>...</td>\n",
       "      <td>...</td>\n",
       "      <td>...</td>\n",
       "      <td>...</td>\n",
       "      <td>...</td>\n",
       "      <td>...</td>\n",
       "      <td>...</td>\n",
       "      <td>...</td>\n",
       "    </tr>\n",
       "    <tr>\n",
       "      <th>7007</th>\n",
       "      <td>6840-RESVB</td>\n",
       "      <td>Male</td>\n",
       "      <td>0</td>\n",
       "      <td>Yes</td>\n",
       "      <td>Yes</td>\n",
       "      <td>24</td>\n",
       "      <td>Yes</td>\n",
       "      <td>Yes</td>\n",
       "      <td>DSL</td>\n",
       "      <td>Yes</td>\n",
       "      <td>No</td>\n",
       "      <td>Yes</td>\n",
       "      <td>Yes</td>\n",
       "      <td>Yes</td>\n",
       "      <td>Yes</td>\n",
       "      <td>One year</td>\n",
       "      <td>Yes</td>\n",
       "      <td>Mailed check</td>\n",
       "      <td>84.80</td>\n",
       "      <td>1990.500000</td>\n",
       "      <td>No</td>\n",
       "    </tr>\n",
       "    <tr>\n",
       "      <th>7008</th>\n",
       "      <td>2234-XADUH</td>\n",
       "      <td>Female</td>\n",
       "      <td>0</td>\n",
       "      <td>Yes</td>\n",
       "      <td>Yes</td>\n",
       "      <td>72</td>\n",
       "      <td>Yes</td>\n",
       "      <td>Yes</td>\n",
       "      <td>Fiber optic</td>\n",
       "      <td>No</td>\n",
       "      <td>Yes</td>\n",
       "      <td>Yes</td>\n",
       "      <td>No</td>\n",
       "      <td>Yes</td>\n",
       "      <td>Yes</td>\n",
       "      <td>One year</td>\n",
       "      <td>Yes</td>\n",
       "      <td>Credit card (automatic)</td>\n",
       "      <td>103.20</td>\n",
       "      <td>7362.899902</td>\n",
       "      <td>No</td>\n",
       "    </tr>\n",
       "    <tr>\n",
       "      <th>7009</th>\n",
       "      <td>4801-JZAZL</td>\n",
       "      <td>Female</td>\n",
       "      <td>0</td>\n",
       "      <td>Yes</td>\n",
       "      <td>Yes</td>\n",
       "      <td>11</td>\n",
       "      <td>No</td>\n",
       "      <td>No phone service</td>\n",
       "      <td>DSL</td>\n",
       "      <td>Yes</td>\n",
       "      <td>No</td>\n",
       "      <td>No</td>\n",
       "      <td>No</td>\n",
       "      <td>No</td>\n",
       "      <td>No</td>\n",
       "      <td>Month-to-month</td>\n",
       "      <td>Yes</td>\n",
       "      <td>Electronic check</td>\n",
       "      <td>29.60</td>\n",
       "      <td>346.450012</td>\n",
       "      <td>No</td>\n",
       "    </tr>\n",
       "    <tr>\n",
       "      <th>7010</th>\n",
       "      <td>8361-LTMKD</td>\n",
       "      <td>Male</td>\n",
       "      <td>1</td>\n",
       "      <td>Yes</td>\n",
       "      <td>No</td>\n",
       "      <td>4</td>\n",
       "      <td>Yes</td>\n",
       "      <td>Yes</td>\n",
       "      <td>Fiber optic</td>\n",
       "      <td>No</td>\n",
       "      <td>No</td>\n",
       "      <td>No</td>\n",
       "      <td>No</td>\n",
       "      <td>No</td>\n",
       "      <td>No</td>\n",
       "      <td>Month-to-month</td>\n",
       "      <td>Yes</td>\n",
       "      <td>Mailed check</td>\n",
       "      <td>74.40</td>\n",
       "      <td>306.600006</td>\n",
       "      <td>Yes</td>\n",
       "    </tr>\n",
       "    <tr>\n",
       "      <th>7011</th>\n",
       "      <td>3186-AJIEK</td>\n",
       "      <td>Male</td>\n",
       "      <td>0</td>\n",
       "      <td>No</td>\n",
       "      <td>No</td>\n",
       "      <td>66</td>\n",
       "      <td>Yes</td>\n",
       "      <td>No</td>\n",
       "      <td>Fiber optic</td>\n",
       "      <td>Yes</td>\n",
       "      <td>No</td>\n",
       "      <td>Yes</td>\n",
       "      <td>Yes</td>\n",
       "      <td>Yes</td>\n",
       "      <td>Yes</td>\n",
       "      <td>Two year</td>\n",
       "      <td>Yes</td>\n",
       "      <td>Bank transfer (automatic)</td>\n",
       "      <td>105.65</td>\n",
       "      <td>6844.500000</td>\n",
       "      <td>No</td>\n",
       "    </tr>\n",
       "  </tbody>\n",
       "</table>\n",
       "<p>7012 rows × 21 columns</p>\n",
       "</div>"
      ],
      "text/plain": [
       "      customerID  gender  SeniorCitizen Partner Dependents  tenure  \\\n",
       "0     7590-VHVEG  Female              0     Yes         No       1   \n",
       "1     5575-GNVDE    Male              0      No         No      34   \n",
       "2     3668-QPYBK    Male              0      No         No       2   \n",
       "3     7795-CFOCW    Male              0      No         No      45   \n",
       "4     9237-HQITU  Female              0      No         No       2   \n",
       "...          ...     ...            ...     ...        ...     ...   \n",
       "7007  6840-RESVB    Male              0     Yes        Yes      24   \n",
       "7008  2234-XADUH  Female              0     Yes        Yes      72   \n",
       "7009  4801-JZAZL  Female              0     Yes        Yes      11   \n",
       "7010  8361-LTMKD    Male              1     Yes         No       4   \n",
       "7011  3186-AJIEK    Male              0      No         No      66   \n",
       "\n",
       "     PhoneService     MultipleLines InternetService OnlineSecurity  \\\n",
       "0              No  No phone service             DSL             No   \n",
       "1             Yes                No             DSL            Yes   \n",
       "2             Yes                No             DSL            Yes   \n",
       "3              No  No phone service             DSL            Yes   \n",
       "4             Yes                No     Fiber optic             No   \n",
       "...           ...               ...             ...            ...   \n",
       "7007          Yes               Yes             DSL            Yes   \n",
       "7008          Yes               Yes     Fiber optic             No   \n",
       "7009           No  No phone service             DSL            Yes   \n",
       "7010          Yes               Yes     Fiber optic             No   \n",
       "7011          Yes                No     Fiber optic            Yes   \n",
       "\n",
       "     OnlineBackup DeviceProtection TechSupport StreamingTV StreamingMovies  \\\n",
       "0             Yes               No          No          No              No   \n",
       "1              No              Yes          No          No              No   \n",
       "2             Yes               No          No          No              No   \n",
       "3              No              Yes         Yes          No              No   \n",
       "4              No               No          No          No              No   \n",
       "...           ...              ...         ...         ...             ...   \n",
       "7007           No              Yes         Yes         Yes             Yes   \n",
       "7008          Yes              Yes          No         Yes             Yes   \n",
       "7009           No               No          No          No              No   \n",
       "7010           No               No          No          No              No   \n",
       "7011           No              Yes         Yes         Yes             Yes   \n",
       "\n",
       "            Contract PaperlessBilling              PaymentMethod  \\\n",
       "0     Month-to-month              Yes           Electronic check   \n",
       "1           One year               No               Mailed check   \n",
       "2     Month-to-month              Yes               Mailed check   \n",
       "3           One year               No  Bank transfer (automatic)   \n",
       "4     Month-to-month              Yes           Electronic check   \n",
       "...              ...              ...                        ...   \n",
       "7007        One year              Yes               Mailed check   \n",
       "7008        One year              Yes    Credit card (automatic)   \n",
       "7009  Month-to-month              Yes           Electronic check   \n",
       "7010  Month-to-month              Yes               Mailed check   \n",
       "7011        Two year              Yes  Bank transfer (automatic)   \n",
       "\n",
       "      MonthlyCharges  TotalCharges Churn  \n",
       "0              29.85     29.850000    No  \n",
       "1              56.95   1889.500000    No  \n",
       "2              53.85    108.150002   Yes  \n",
       "3              42.30   1840.750000    No  \n",
       "4              70.70    151.649994   Yes  \n",
       "...              ...           ...   ...  \n",
       "7007           84.80   1990.500000    No  \n",
       "7008          103.20   7362.899902    No  \n",
       "7009           29.60    346.450012    No  \n",
       "7010           74.40    306.600006   Yes  \n",
       "7011          105.65   6844.500000    No  \n",
       "\n",
       "[7012 rows x 21 columns]"
      ]
     },
     "execution_count": 113,
     "metadata": {},
     "output_type": "execute_result"
    }
   ],
   "source": [
    "# Membagi data Inference dan Data train_test\n",
    "data_inf = data.sample(20, random_state=4)\n",
    "data_train_test = data.drop(data_inf.index)\n",
    "# Reset index pada data Inference dan Data train_test\n",
    "data_inf.reset_index(drop=True, inplace=True) \n",
    "data_train_test.reset_index(drop=True, inplace=True)\n",
    "\n",
    "data_train_test"
   ]
  },
  {
   "cell_type": "code",
   "execution_count": 114,
   "metadata": {},
   "outputs": [
    {
     "data": {
      "text/html": [
       "<div>\n",
       "<style scoped>\n",
       "    .dataframe tbody tr th:only-of-type {\n",
       "        vertical-align: middle;\n",
       "    }\n",
       "\n",
       "    .dataframe tbody tr th {\n",
       "        vertical-align: top;\n",
       "    }\n",
       "\n",
       "    .dataframe thead th {\n",
       "        text-align: right;\n",
       "    }\n",
       "</style>\n",
       "<table border=\"1\" class=\"dataframe\">\n",
       "  <thead>\n",
       "    <tr style=\"text-align: right;\">\n",
       "      <th></th>\n",
       "      <th>gender</th>\n",
       "      <th>SeniorCitizen</th>\n",
       "      <th>Partner</th>\n",
       "      <th>Dependents</th>\n",
       "      <th>tenure</th>\n",
       "      <th>PhoneService</th>\n",
       "      <th>MultipleLines</th>\n",
       "      <th>InternetService</th>\n",
       "      <th>OnlineSecurity</th>\n",
       "      <th>OnlineBackup</th>\n",
       "      <th>DeviceProtection</th>\n",
       "      <th>TechSupport</th>\n",
       "      <th>StreamingTV</th>\n",
       "      <th>StreamingMovies</th>\n",
       "      <th>Contract</th>\n",
       "      <th>PaperlessBilling</th>\n",
       "      <th>PaymentMethod</th>\n",
       "      <th>MonthlyCharges</th>\n",
       "      <th>TotalCharges</th>\n",
       "    </tr>\n",
       "  </thead>\n",
       "  <tbody>\n",
       "    <tr>\n",
       "      <th>0</th>\n",
       "      <td>Female</td>\n",
       "      <td>0</td>\n",
       "      <td>Yes</td>\n",
       "      <td>No</td>\n",
       "      <td>1</td>\n",
       "      <td>No</td>\n",
       "      <td>No phone service</td>\n",
       "      <td>DSL</td>\n",
       "      <td>No</td>\n",
       "      <td>Yes</td>\n",
       "      <td>No</td>\n",
       "      <td>No</td>\n",
       "      <td>No</td>\n",
       "      <td>No</td>\n",
       "      <td>Month-to-month</td>\n",
       "      <td>Yes</td>\n",
       "      <td>Electronic check</td>\n",
       "      <td>29.85</td>\n",
       "      <td>29.85</td>\n",
       "    </tr>\n",
       "    <tr>\n",
       "      <th>1</th>\n",
       "      <td>Male</td>\n",
       "      <td>0</td>\n",
       "      <td>No</td>\n",
       "      <td>No</td>\n",
       "      <td>34</td>\n",
       "      <td>Yes</td>\n",
       "      <td>No</td>\n",
       "      <td>DSL</td>\n",
       "      <td>Yes</td>\n",
       "      <td>No</td>\n",
       "      <td>Yes</td>\n",
       "      <td>No</td>\n",
       "      <td>No</td>\n",
       "      <td>No</td>\n",
       "      <td>One year</td>\n",
       "      <td>No</td>\n",
       "      <td>Mailed check</td>\n",
       "      <td>56.95</td>\n",
       "      <td>1889.50</td>\n",
       "    </tr>\n",
       "  </tbody>\n",
       "</table>\n",
       "</div>"
      ],
      "text/plain": [
       "   gender  SeniorCitizen Partner Dependents  tenure PhoneService  \\\n",
       "0  Female              0     Yes         No       1           No   \n",
       "1    Male              0      No         No      34          Yes   \n",
       "\n",
       "      MultipleLines InternetService OnlineSecurity OnlineBackup  \\\n",
       "0  No phone service             DSL             No          Yes   \n",
       "1                No             DSL            Yes           No   \n",
       "\n",
       "  DeviceProtection TechSupport StreamingTV StreamingMovies        Contract  \\\n",
       "0               No          No          No              No  Month-to-month   \n",
       "1              Yes          No          No              No        One year   \n",
       "\n",
       "  PaperlessBilling     PaymentMethod  MonthlyCharges  TotalCharges  \n",
       "0              Yes  Electronic check           29.85         29.85  \n",
       "1               No      Mailed check           56.95       1889.50  "
      ]
     },
     "execution_count": 114,
     "metadata": {},
     "output_type": "execute_result"
    }
   ],
   "source": [
    "# X : Feature\n",
    "# y : label/target\n",
    "X = data_train_test.drop(['Churn', 'customerID'], axis=1)\n",
    "y = data_train_test['Churn']\n",
    "X.head(2)"
   ]
  },
  {
   "cell_type": "code",
   "execution_count": 115,
   "metadata": {},
   "outputs": [],
   "source": [
    "X_train, X_test, y_train, y_test = train_test_split(X, y, train_size=0.9)\n",
    "\n",
    "X_train, X_val, y_train, y_val = train_test_split(X_train, y_train, train_size=0.8)"
   ]
  },
  {
   "cell_type": "markdown",
   "metadata": {},
   "source": [
    "Mendefinisikan numerical column untuk dilakukan penegecekan distribusi data serta outlier dan missing value handling"
   ]
  },
  {
   "cell_type": "code",
   "execution_count": 116,
   "metadata": {},
   "outputs": [],
   "source": [
    "# Numerical Column \n",
    "numerical_col = data[['tenure','MonthlyCharges','TotalCharges']]"
   ]
  },
  {
   "cell_type": "markdown",
   "metadata": {},
   "source": [
    "Melakukan pengecekan distribusi data"
   ]
  },
  {
   "cell_type": "code",
   "execution_count": 117,
   "metadata": {},
   "outputs": [],
   "source": [
    "# Input Paramater Distribution  Check\n",
    "dis_check = numerical_col.skew()\n",
    "\n",
    "normal_dis = []\n",
    "skew_dis = []\n",
    "\n",
    "for i in range(len(dis_check)):\n",
    "    if dis_check.values[i] < -0.5:\n",
    "        skew_dis.append(dis_check.index[i])\n",
    "    elif dis_check.values[i] > 0.5:\n",
    "        skew_dis.append(dis_check.index[i])\n",
    "    else:\n",
    "        normal_dis.append(dis_check.index[i])"
   ]
  },
  {
   "cell_type": "markdown",
   "metadata": {},
   "source": [
    "Melihat distribusi data"
   ]
  },
  {
   "cell_type": "code",
   "execution_count": 118,
   "metadata": {},
   "outputs": [
    {
     "name": "stdout",
     "output_type": "stream",
     "text": [
      "skew_dist : ['TotalCharges']\n",
      "==============================================================================================================================================================================================\n",
      "normal_dist : ['tenure', 'MonthlyCharges']\n",
      "==============================================================================================================================================================================================\n"
     ]
    }
   ],
   "source": [
    "# Skew dist\n",
    "print('skew_dist :', skew_dis)\n",
    "print(\"===================\" *10)\n",
    "# normal_dist\n",
    "print('normal_dist :',normal_dis)\n",
    "print(\"===================\" *10)"
   ]
  },
  {
   "cell_type": "markdown",
   "metadata": {},
   "source": [
    "- Kolom tenure dan MonthlyCharges merupakan normal distribution data, dan kolom TotalCharges skew distribution data."
   ]
  },
  {
   "cell_type": "markdown",
   "metadata": {},
   "source": [
    "## Handle Outlier"
   ]
  },
  {
   "cell_type": "code",
   "execution_count": 119,
   "metadata": {},
   "outputs": [],
   "source": [
    "# Outliers Detection Function\n",
    "# for Normally Distributed Data\n",
    "\n",
    "def detect_normal(df, parameter):\n",
    "    \n",
    "    threshold = 3\n",
    "    mean_ = np.mean(df[parameter])\n",
    "    std_ = np.std(df[parameter])\n",
    "\n",
    "    upper_count = df[\n",
    "                    ((df[parameter]-mean_)/std_) > threshold\n",
    "                    ][parameter].count()\n",
    "\n",
    "    bottom_count = df[\n",
    "                    ((df[parameter]-mean_)/std_) < -threshold\n",
    "                    ][parameter].count()\n",
    "\n",
    "    total_count = upper_count + bottom_count\n",
    "\n",
    "    percentage = (total_count/len(df[parameter])*100).round(2)\n",
    "\n",
    "    a = ({'Parameter':parameter, 'Total Outliers':total_count, 'Percentage':percentage})\n",
    "\n",
    "    return print(a)"
   ]
  },
  {
   "cell_type": "code",
   "execution_count": 120,
   "metadata": {},
   "outputs": [],
   "source": [
    "# Outliers Detection Function\n",
    "# for Skew Distributed Data\n",
    "\n",
    "def detect_skew(df, parameter, fold=1.5):\n",
    "    \n",
    "    for i in parameter:\n",
    "        \n",
    "        IQR = df[parameter].quantile(0.75) - df[parameter].quantile(0.25)\n",
    "        upper = df[parameter].quantile(0.75) + (fold*IQR)\n",
    "        bottom = df[parameter].quantile(0.25) - (fold*IQR)\n",
    "\n",
    "        upper_count = df[\n",
    "            (df[parameter] > upper)\n",
    "        ][parameter].count()\n",
    "\n",
    "        bottom_count = df[\n",
    "            (df[parameter] < bottom)\n",
    "        ][parameter].count()\n",
    "        \n",
    "        total_count = upper_count + bottom_count\n",
    "\n",
    "        percentage = (total_count/len(df[parameter])*100).round(2)\n",
    "\n",
    "        a = ({'Parameter':parameter, 'Total Outliers':total_count, 'Percentage':percentage})\n",
    "\n",
    "    return print(a)"
   ]
  },
  {
   "cell_type": "markdown",
   "metadata": {},
   "source": [
    "Check Oulier Normal Dist Data"
   ]
  },
  {
   "cell_type": "code",
   "execution_count": 121,
   "metadata": {},
   "outputs": [
    {
     "name": "stdout",
     "output_type": "stream",
     "text": [
      "{'Parameter': 'tenure', 'Total Outliers': 0, 'Percentage': 0.0}\n",
      "{'Parameter': 'MonthlyCharges', 'Total Outliers': 0, 'Percentage': 0.0}\n"
     ]
    }
   ],
   "source": [
    "# Outlier summary\n",
    "# For normally distributed input parameter\n",
    "\n",
    "for i in normal_dis:\n",
    "    detect_normal(X_train, parameter=i)"
   ]
  },
  {
   "cell_type": "markdown",
   "metadata": {},
   "source": [
    "Check outlier Skewed Dist Data"
   ]
  },
  {
   "cell_type": "code",
   "execution_count": 122,
   "metadata": {},
   "outputs": [
    {
     "name": "stdout",
     "output_type": "stream",
     "text": [
      "{'Parameter': 'TotalCharges', 'Total Outliers': 0, 'Percentage': 0.0}\n"
     ]
    }
   ],
   "source": [
    "# Outlier summary\n",
    "# For skew distributed input parameter\n",
    "\n",
    "for i in skew_dis:\n",
    "    detect_skew(X_train, parameter=i)"
   ]
  },
  {
   "cell_type": "markdown",
   "metadata": {},
   "source": [
    "- Tidak terdapat outlier pada data"
   ]
  },
  {
   "cell_type": "markdown",
   "metadata": {},
   "source": [
    "## Handling Missing Value"
   ]
  },
  {
   "cell_type": "code",
   "execution_count": 123,
   "metadata": {},
   "outputs": [
    {
     "data": {
      "text/plain": [
       "customerID          0\n",
       "gender              0\n",
       "SeniorCitizen       0\n",
       "Partner             0\n",
       "Dependents          0\n",
       "tenure              0\n",
       "PhoneService        0\n",
       "MultipleLines       0\n",
       "InternetService     0\n",
       "OnlineSecurity      0\n",
       "OnlineBackup        0\n",
       "DeviceProtection    0\n",
       "TechSupport         0\n",
       "StreamingTV         0\n",
       "StreamingMovies     0\n",
       "Contract            0\n",
       "PaperlessBilling    0\n",
       "PaymentMethod       0\n",
       "MonthlyCharges      0\n",
       "TotalCharges        0\n",
       "Churn               0\n",
       "dtype: int64"
      ]
     },
     "execution_count": 123,
     "metadata": {},
     "output_type": "execute_result"
    }
   ],
   "source": [
    "data.isna().sum()"
   ]
  },
  {
   "cell_type": "markdown",
   "metadata": {},
   "source": [
    "- sudah tidak terdapat missing value pada data"
   ]
  },
  {
   "cell_type": "markdown",
   "metadata": {},
   "source": [
    "## Columns categorization"
   ]
  },
  {
   "cell_type": "markdown",
   "metadata": {},
   "source": [
    "Memisahkan numerical column, dan categorical column nominal dan ordinal"
   ]
  },
  {
   "cell_type": "code",
   "execution_count": 124,
   "metadata": {},
   "outputs": [],
   "source": [
    "# Numerical Column\n",
    "numerical = X[['MonthlyCharges','TotalCharges', 'tenure']].columns.tolist()\n",
    "\n",
    "# Cat column nominal\n",
    "categorical_nom = X[['gender','PaymentMethod','Contract','InternetService']].columns.tolist()\n",
    "\n",
    "# Cat column ordinal\n",
    "categorical_or = X[['SeniorCitizen', 'Partner', 'Dependents', 'PhoneService', 'MultipleLines', \n",
    "       'OnlineSecurity', 'OnlineBackup', 'DeviceProtection', 'TechSupport',\n",
    "       'StreamingTV', 'StreamingMovies', 'PaperlessBilling']].columns.tolist()"
   ]
  },
  {
   "cell_type": "markdown",
   "metadata": {},
   "source": [
    "## Feature Engineer"
   ]
  },
  {
   "cell_type": "code",
   "execution_count": 125,
   "metadata": {},
   "outputs": [],
   "source": [
    "# Menggunakan StandarScaller karena data numerical dominan normal distribution\n",
    "numerical_pipe = make_pipeline(StandardScaler())\n",
    "\n",
    "# Menggunakan OneHotEncoder untuk data categorical nominal\n",
    "nominal_pipe = make_pipeline(OneHotEncoder())\n",
    "\n",
    "# Menggunakan OrdinalEncoder untuk data categorical ordinal\n",
    "ordinal_pipe = make_pipeline(OrdinalEncoder())\n",
    "\n",
    "# Label encoder untuk label\n",
    "label_encoder = LabelEncoder()\n",
    "\n",
    "data_pipeline = ColumnTransformer([\n",
    "    ('numerical_pipe', numerical_pipe, numerical),\n",
    "    ('nominal_pipe', nominal_pipe, categorical_nom),\n",
    "    ('ordinal_pipe', ordinal_pipe, categorical_or)])"
   ]
  },
  {
   "cell_type": "code",
   "execution_count": 126,
   "metadata": {},
   "outputs": [],
   "source": [
    "X_train_scaled = data_pipeline.fit_transform(X_train)\n",
    "X_test_scaled = data_pipeline.transform(X_test)\n",
    "X_val_scaled = data_pipeline.transform(X_val)\n",
    "\n",
    "y_train = label_encoder.fit_transform(y_train)\n",
    "y_test = label_encoder.transform(y_test)\n",
    "y_val = label_encoder.transform(y_val)\n"
   ]
  },
  {
   "cell_type": "markdown",
   "metadata": {},
   "source": [
    "## Building Input Pipeline"
   ]
  },
  {
   "cell_type": "code",
   "execution_count": 127,
   "metadata": {},
   "outputs": [],
   "source": [
    "AUTOTUNE = tf.data.AUTOTUNE"
   ]
  },
  {
   "cell_type": "code",
   "execution_count": 128,
   "metadata": {},
   "outputs": [],
   "source": [
    "def preprocessing(data, label):\n",
    "    \n",
    "    \"\"\"function that takes the data and labels, \n",
    "    standarize the data and return the standarized\n",
    "    data and the labels\"\"\"\n",
    "    \n",
    "    mean = tf.reduce_mean(data, axis=0)\n",
    "    std = tf.math.reduce_std(data, axis=0)\n",
    "    \n",
    "    preprocessed_data = (data - mean) / std\n",
    "    \n",
    "    return preprocessed_data, label"
   ]
  },
  {
   "cell_type": "code",
   "execution_count": 129,
   "metadata": {},
   "outputs": [],
   "source": [
    "def get_batches(x, y, shuffle_buffer_size, batch_size, shuffle=False):\n",
    "    \n",
    "    #Building a pipeline from a data that exists in memory\n",
    "    data_ds = tf.data.Dataset.from_tensor_slices((x, y))\n",
    "    #mapping the fuction we alredy made to the data\n",
    "    preprocessed_data = data_ds.map(preprocessing)\n",
    "    \n",
    "    \n",
    "    if shuffle:\n",
    "        # if we want to shuffle the dataset given a buffer size\n",
    "        shuffled_data = preprocessed_data.shuffle(shuffle_buffer_size)\n",
    "        \n",
    "        # prefetch` lets the dataset fetch batches in the background while the model is training.\n",
    "        data_batches = shuffled_data.batch(batch_size).cache().prefetch(AUTOTUNE) #berapa banyak batch yg ingin di prefetch\n",
    "        \n",
    "    else: \n",
    "        \n",
    "        data_batches = preprocessed_data.batch(batch_size).cache().prefetch(AUTOTUNE)\n",
    "    \n",
    "    \n",
    "    return data_batches "
   ]
  },
  {
   "cell_type": "code",
   "execution_count": 130,
   "metadata": {},
   "outputs": [],
   "source": [
    "training_data = get_batches(X_train_scaled, y_train, 1024, 64, shuffle=True)\n",
    "validation_data = get_batches(X_val_scaled, y_val, 256, 64, shuffle=False)\n",
    "testing_data = get_batches(X_test_scaled, y_test, 256, 64, shuffle=False)"
   ]
  },
  {
   "cell_type": "markdown",
   "metadata": {},
   "source": [
    "# Modeling"
   ]
  },
  {
   "cell_type": "code",
   "execution_count": 131,
   "metadata": {},
   "outputs": [
    {
     "data": {
      "text/plain": [
       "(5048, 27)"
      ]
     },
     "execution_count": 131,
     "metadata": {},
     "output_type": "execute_result"
    }
   ],
   "source": [
    "X_train_scaled.shape"
   ]
  },
  {
   "cell_type": "markdown",
   "metadata": {},
   "source": [
    "## Model Sequential"
   ]
  },
  {
   "cell_type": "markdown",
   "metadata": {},
   "source": [
    "Membangun model sequential dengan 27 node input layer, 2 hidden layer dengan 32 neuron per layer dan 1 output layer. memilih loss fucntion binary_crossentropy karena label merupakan binary, dengan metrics accuracy untuk mengukur outputnya. dilakukan training sebanyak 20 kali dengan batch size 32."
   ]
  },
  {
   "cell_type": "code",
   "execution_count": 132,
   "metadata": {},
   "outputs": [
    {
     "name": "stdout",
     "output_type": "stream",
     "text": [
      "Epoch 1/20\n",
      "79/79 [==============================] - 1s 7ms/step - loss: 3.6093 - accuracy: 0.7233 - val_loss: 2.8894 - val_accuracy: 0.7575\n",
      "Epoch 2/20\n",
      "79/79 [==============================] - 0s 4ms/step - loss: 3.1758 - accuracy: 0.7407 - val_loss: 3.0005 - val_accuracy: 0.7290\n",
      "Epoch 3/20\n",
      "79/79 [==============================] - 0s 4ms/step - loss: 2.9960 - accuracy: 0.7237 - val_loss: 2.5991 - val_accuracy: 0.7789\n",
      "Epoch 4/20\n",
      "79/79 [==============================] - 0s 4ms/step - loss: 2.6516 - accuracy: 0.7447 - val_loss: 2.2096 - val_accuracy: 0.7742\n",
      "Epoch 5/20\n",
      "79/79 [==============================] - 0s 4ms/step - loss: 2.0827 - accuracy: 0.7730 - val_loss: 1.7454 - val_accuracy: 0.7702\n",
      "Epoch 6/20\n",
      "79/79 [==============================] - 0s 4ms/step - loss: 1.4661 - accuracy: 0.7639 - val_loss: 1.1567 - val_accuracy: 0.7750\n",
      "Epoch 7/20\n",
      "79/79 [==============================] - 0s 4ms/step - loss: 0.9931 - accuracy: 0.7656 - val_loss: 0.7633 - val_accuracy: 0.7750\n",
      "Epoch 8/20\n",
      "79/79 [==============================] - 0s 4ms/step - loss: 0.7002 - accuracy: 0.7742 - val_loss: 0.6322 - val_accuracy: 0.7670\n",
      "Epoch 9/20\n",
      "79/79 [==============================] - 0s 4ms/step - loss: 0.6203 - accuracy: 0.7696 - val_loss: 0.6839 - val_accuracy: 0.7837\n",
      "Epoch 10/20\n",
      "79/79 [==============================] - 0s 4ms/step - loss: 0.6301 - accuracy: 0.7756 - val_loss: 0.6124 - val_accuracy: 0.7884\n",
      "Epoch 11/20\n",
      "79/79 [==============================] - 0s 4ms/step - loss: 0.6638 - accuracy: 0.7577 - val_loss: 0.5098 - val_accuracy: 0.7765\n",
      "Epoch 12/20\n",
      "79/79 [==============================] - 0s 4ms/step - loss: 0.5933 - accuracy: 0.7716 - val_loss: 0.5983 - val_accuracy: 0.7971\n",
      "Epoch 13/20\n",
      "79/79 [==============================] - 0s 4ms/step - loss: 0.6294 - accuracy: 0.7823 - val_loss: 0.6164 - val_accuracy: 0.7900\n",
      "Epoch 14/20\n",
      "79/79 [==============================] - 0s 4ms/step - loss: 0.6251 - accuracy: 0.7906 - val_loss: 0.6094 - val_accuracy: 0.7932\n",
      "Epoch 15/20\n",
      "79/79 [==============================] - 0s 4ms/step - loss: 0.6186 - accuracy: 0.7829 - val_loss: 0.6044 - val_accuracy: 0.7924\n",
      "Epoch 16/20\n",
      "79/79 [==============================] - 0s 4ms/step - loss: 0.6271 - accuracy: 0.7775 - val_loss: 0.4848 - val_accuracy: 0.7837\n",
      "Epoch 17/20\n",
      "79/79 [==============================] - 0s 4ms/step - loss: 0.5611 - accuracy: 0.7807 - val_loss: 0.5220 - val_accuracy: 0.7924\n",
      "Epoch 18/20\n",
      "79/79 [==============================] - 0s 4ms/step - loss: 0.5493 - accuracy: 0.7831 - val_loss: 0.5300 - val_accuracy: 0.7781\n",
      "Epoch 19/20\n",
      "79/79 [==============================] - 0s 4ms/step - loss: 0.5457 - accuracy: 0.7783 - val_loss: 0.4578 - val_accuracy: 0.7987\n",
      "Epoch 20/20\n",
      "79/79 [==============================] - 0s 4ms/step - loss: 0.6049 - accuracy: 0.7589 - val_loss: 0.4693 - val_accuracy: 0.7670\n"
     ]
    }
   ],
   "source": [
    "model_seq1 = Sequential()\n",
    "model_seq1.add(Dense(32, input_shape=(27,)))\n",
    "model_seq1.add(Dense(32))\n",
    "model_seq1.add(Dense(1))\n",
    "\n",
    "\n",
    "model_seq1.compile(loss='binary_crossentropy',\n",
    "              metrics=['accuracy'])\n",
    "\n",
    "\n",
    "history_seq1 = model_seq1.fit(training_data, epochs=20, batch_size=32,\n",
    "                    validation_data=validation_data,\n",
    "                    verbose=1)"
   ]
  },
  {
   "cell_type": "code",
   "execution_count": 133,
   "metadata": {},
   "outputs": [
    {
     "data": {
      "text/plain": [
       "<matplotlib.legend.Legend at 0x147f0861d90>"
      ]
     },
     "execution_count": 133,
     "metadata": {},
     "output_type": "execute_result"
    },
    {
     "data": {
      "image/png": "[encoded data removed]",
      "text/plain": [
       "<Figure size 864x720 with 2 Axes>"
      ]
     },
     "metadata": {
      "needs_background": "light"
     },
     "output_type": "display_data"
    }
   ],
   "source": [
    "metrics_seq1 = pd.DataFrame(history_seq1.history)\n",
    "\n",
    "fig, axs = plt.subplots(2, figsize=(12,10))\n",
    "axs[0].plot(metrics_seq1[['loss', 'val_loss']], label=['loss', 'val_loss'])\n",
    "axs[0].legend(loc='upper right')\n",
    "axs[1].plot(metrics_seq1[['accuracy', 'val_accuracy']], label=['accuracy', 'val_accuracy'])\n",
    "axs[1].legend(loc='lower right')\n"
   ]
  },
  {
   "cell_type": "markdown",
   "metadata": {},
   "source": [
    "- Berdasarkan grafik perbandingan loss pada train data dan validation data pada model sequential, dapat dilihat loss pada percobaan dibawah 5 masih tinggi dan terus menurun hingga 0.5, dan loss antara train data dan val data cenderung konvergen.\n",
    "- Pada grafik perbandingan accurasi train data dan validation data pada model sequential, accuracy tertinggi mendekati 0.8, tetapi grafik masih memiliki nilai naik turun yang drastis antar percobaannya, masih perlu dilakukan model improvement"
   ]
  },
  {
   "cell_type": "markdown",
   "metadata": {},
   "source": [
    "## Model Functional"
   ]
  },
  {
   "cell_type": "markdown",
   "metadata": {},
   "source": [
    "Membangun model Functional API dengan 27 node input layer, 1 hidden layer dengan 32 neuron, 1 concat layer dan 1 output layer. memilih loss fucntion binary_crossentropy karena label merupakan binary, dengan metrics accuracy untuk mengukur outputnya. dilakukan training sebanyak 20 kali."
   ]
  },
  {
   "cell_type": "code",
   "execution_count": 134,
   "metadata": {},
   "outputs": [
    {
     "name": "stdout",
     "output_type": "stream",
     "text": [
      "Epoch 1/20\n",
      "79/79 [==============================] - 1s 4ms/step - loss: 2.5002 - accuracy: 0.7383 - val_loss: 2.0894 - val_accuracy: 0.7631\n",
      "Epoch 2/20\n",
      "79/79 [==============================] - 0s 3ms/step - loss: 2.0684 - accuracy: 0.7666 - val_loss: 1.7801 - val_accuracy: 0.7702\n",
      "Epoch 3/20\n",
      "79/79 [==============================] - 0s 4ms/step - loss: 1.7700 - accuracy: 0.7660 - val_loss: 1.8233 - val_accuracy: 0.7567\n",
      "Epoch 4/20\n",
      "79/79 [==============================] - 0s 3ms/step - loss: 1.5868 - accuracy: 0.7708 - val_loss: 1.3907 - val_accuracy: 0.7710\n",
      "Epoch 5/20\n",
      "79/79 [==============================] - 0s 3ms/step - loss: 1.3022 - accuracy: 0.7833 - val_loss: 1.2701 - val_accuracy: 0.7916\n",
      "Epoch 6/20\n",
      "79/79 [==============================] - 0s 3ms/step - loss: 1.2251 - accuracy: 0.7863 - val_loss: 1.2120 - val_accuracy: 0.7940\n",
      "Epoch 7/20\n",
      "79/79 [==============================] - 0s 4ms/step - loss: 1.2148 - accuracy: 0.7962 - val_loss: 1.2197 - val_accuracy: 0.7900\n",
      "Epoch 8/20\n",
      "79/79 [==============================] - 0s 3ms/step - loss: 1.1941 - accuracy: 0.7924 - val_loss: 1.2267 - val_accuracy: 0.7750\n",
      "Epoch 9/20\n",
      "79/79 [==============================] - 0s 4ms/step - loss: 1.2009 - accuracy: 0.7853 - val_loss: 1.2146 - val_accuracy: 0.7908\n",
      "Epoch 10/20\n",
      "79/79 [==============================] - 0s 4ms/step - loss: 1.2023 - accuracy: 0.7918 - val_loss: 1.2246 - val_accuracy: 0.7837\n",
      "Epoch 11/20\n",
      "79/79 [==============================] - 0s 3ms/step - loss: 1.1892 - accuracy: 0.7855 - val_loss: 1.2047 - val_accuracy: 0.7924\n",
      "Epoch 12/20\n",
      "79/79 [==============================] - 0s 3ms/step - loss: 1.1934 - accuracy: 0.7934 - val_loss: 1.2129 - val_accuracy: 0.7916\n",
      "Epoch 13/20\n",
      "79/79 [==============================] - 0s 3ms/step - loss: 1.1940 - accuracy: 0.7928 - val_loss: 1.2105 - val_accuracy: 0.7940\n",
      "Epoch 14/20\n",
      "79/79 [==============================] - 0s 3ms/step - loss: 1.1973 - accuracy: 0.7948 - val_loss: 1.2120 - val_accuracy: 0.7932\n",
      "Epoch 15/20\n",
      "79/79 [==============================] - 0s 3ms/step - loss: 1.2019 - accuracy: 0.7971 - val_loss: 1.2121 - val_accuracy: 0.7964\n",
      "Epoch 16/20\n",
      "79/79 [==============================] - 0s 4ms/step - loss: 1.2016 - accuracy: 0.7940 - val_loss: 1.2113 - val_accuracy: 0.7979\n",
      "Epoch 17/20\n",
      "79/79 [==============================] - 0s 4ms/step - loss: 1.2019 - accuracy: 0.7892 - val_loss: 1.2355 - val_accuracy: 0.7884\n",
      "Epoch 18/20\n",
      "79/79 [==============================] - 0s 3ms/step - loss: 1.1908 - accuracy: 0.7924 - val_loss: 1.2124 - val_accuracy: 0.7956\n",
      "Epoch 19/20\n",
      "79/79 [==============================] - 0s 3ms/step - loss: 1.2096 - accuracy: 0.7938 - val_loss: 1.2082 - val_accuracy: 0.7979\n",
      "Epoch 20/20\n",
      "79/79 [==============================] - 0s 3ms/step - loss: 1.2040 - accuracy: 0.7936 - val_loss: 1.2222 - val_accuracy: 0.7924\n"
     ]
    }
   ],
   "source": [
    "input_ = Input(shape=(27,))\n",
    "hidden1 = Dense(32)(input_)\n",
    "concat = concatenate([input_, hidden1])\n",
    "output = Dense(1)(concat)\n",
    "model_func1 = Model(inputs=[input_], outputs=[output])\n",
    "\n",
    "model_func1.compile(loss='binary_crossentropy',\n",
    "              metrics=['accuracy'])\n",
    "              \n",
    "history_func1 = model_func1.fit(training_data, epochs=20,\n",
    "                    validation_data=validation_data,\n",
    "                    verbose=1)"
   ]
  },
  {
   "cell_type": "code",
   "execution_count": 135,
   "metadata": {},
   "outputs": [
    {
     "data": {
      "text/plain": [
       "<matplotlib.legend.Legend at 0x147e83ef8e0>"
      ]
     },
     "execution_count": 135,
     "metadata": {},
     "output_type": "execute_result"
    },
    {
     "data": {
      "image/png": "[encoded data removed]",
      "text/plain": [
       "<Figure size 864x720 with 2 Axes>"
      ]
     },
     "metadata": {
      "needs_background": "light"
     },
     "output_type": "display_data"
    }
   ],
   "source": [
    "metrics_func1 = pd.DataFrame(history_func1.history)\n",
    "\n",
    "fig, axs = plt.subplots(2, figsize=(12,10))\n",
    "axs[0].plot(metrics_func1[['loss', 'val_loss']], label=['loss', 'val_loss'])\n",
    "axs[0].legend(loc='upper right')\n",
    "axs[1].plot(metrics_func1[['accuracy', 'val_accuracy']], label=['accuracy', 'val_accuracy'])\n",
    "axs[1].legend(loc='lower right')\n",
    "\n"
   ]
  },
  {
   "cell_type": "markdown",
   "metadata": {},
   "source": [
    "- Berdasarkan grafik perbandingan loss pada train data dan validation data pada model functional, dapat dilihat loss pada percobaan dibawah 5 juga masih tinggi dan terus menurun hingga 1.2, dan loss antara train data dan val data sudah konvergen.\n",
    "- Pada grafik perbandingan accurasi train data dan validation data, accuracy tertinggi mendekati 0.8, tetapi grafik masih memiliki nilai naik turun yang drastis antar percobaannya, masih perlu dilakukan model improvement"
   ]
  },
  {
   "cell_type": "markdown",
   "metadata": {},
   "source": [
    "# Model Improvement"
   ]
  },
  {
   "cell_type": "markdown",
   "metadata": {},
   "source": [
    "## Model Sequential"
   ]
  },
  {
   "cell_type": "markdown",
   "metadata": {},
   "source": [
    "Membangun model improvement sequential dengan 27 node input layer, 3 hidden layer dengan 32 neuron pada layer 1, 16 neuron pada layer 2, dan 4 neuron pada layer 3 serta 1 output layer. menggunakan activation function relu pada hidden layer, dan activation function sigmoid pada output layer, memilih loss fucntion binary_crossentropy karena label merupakan binary, ditambahkan optimizer Adamax, dan menggunakan metrics accuracy untuk mengukur outputnya. dilakukan training sebanyak 70 kali dengan batch size 20."
   ]
  },
  {
   "cell_type": "code",
   "execution_count": 160,
   "metadata": {},
   "outputs": [
    {
     "name": "stdout",
     "output_type": "stream",
     "text": [
      "Epoch 1/70\n",
      "79/79 [==============================] - 1s 6ms/step - loss: 0.5795 - accuracy: 0.7239 - val_loss: 0.5012 - val_accuracy: 0.7401\n",
      "Epoch 2/70\n",
      "79/79 [==============================] - 0s 4ms/step - loss: 0.4787 - accuracy: 0.7544 - val_loss: 0.4559 - val_accuracy: 0.7472\n",
      "Epoch 3/70\n",
      "79/79 [==============================] - 0s 4ms/step - loss: 0.4524 - accuracy: 0.7769 - val_loss: 0.4379 - val_accuracy: 0.7750\n",
      "Epoch 4/70\n",
      "79/79 [==============================] - 0s 3ms/step - loss: 0.4400 - accuracy: 0.7928 - val_loss: 0.4288 - val_accuracy: 0.7861\n",
      "Epoch 5/70\n",
      "79/79 [==============================] - 0s 4ms/step - loss: 0.4336 - accuracy: 0.7950 - val_loss: 0.4241 - val_accuracy: 0.7876\n",
      "Epoch 6/70\n",
      "79/79 [==============================] - 0s 3ms/step - loss: 0.4293 - accuracy: 0.7995 - val_loss: 0.4211 - val_accuracy: 0.7876\n",
      "Epoch 7/70\n",
      "79/79 [==============================] - 0s 3ms/step - loss: 0.4261 - accuracy: 0.7993 - val_loss: 0.4193 - val_accuracy: 0.7845\n",
      "Epoch 8/70\n",
      "79/79 [==============================] - 0s 3ms/step - loss: 0.4236 - accuracy: 0.8007 - val_loss: 0.4182 - val_accuracy: 0.7861\n",
      "Epoch 9/70\n",
      "79/79 [==============================] - 0s 3ms/step - loss: 0.4214 - accuracy: 0.8029 - val_loss: 0.4175 - val_accuracy: 0.7900\n",
      "Epoch 10/70\n",
      "79/79 [==============================] - 0s 4ms/step - loss: 0.4195 - accuracy: 0.8039 - val_loss: 0.4172 - val_accuracy: 0.7932\n",
      "Epoch 11/70\n",
      "79/79 [==============================] - 0s 4ms/step - loss: 0.4178 - accuracy: 0.8059 - val_loss: 0.4170 - val_accuracy: 0.7956\n",
      "Epoch 12/70\n",
      "79/79 [==============================] - 0s 4ms/step - loss: 0.4163 - accuracy: 0.8071 - val_loss: 0.4170 - val_accuracy: 0.7948\n",
      "Epoch 13/70\n",
      "79/79 [==============================] - 0s 3ms/step - loss: 0.4148 - accuracy: 0.8088 - val_loss: 0.4170 - val_accuracy: 0.7940\n",
      "Epoch 14/70\n",
      "79/79 [==============================] - 0s 4ms/step - loss: 0.4135 - accuracy: 0.8106 - val_loss: 0.4170 - val_accuracy: 0.7924\n",
      "Epoch 15/70\n",
      "79/79 [==============================] - 0s 5ms/step - loss: 0.4123 - accuracy: 0.8112 - val_loss: 0.4171 - val_accuracy: 0.7940\n",
      "Epoch 16/70\n",
      "79/79 [==============================] - 0s 4ms/step - loss: 0.4111 - accuracy: 0.8122 - val_loss: 0.4173 - val_accuracy: 0.7932\n",
      "Epoch 17/70\n",
      "79/79 [==============================] - 0s 4ms/step - loss: 0.4099 - accuracy: 0.8120 - val_loss: 0.4174 - val_accuracy: 0.7916\n",
      "Epoch 18/70\n",
      "79/79 [==============================] - 0s 4ms/step - loss: 0.4088 - accuracy: 0.8128 - val_loss: 0.4175 - val_accuracy: 0.7908\n",
      "Epoch 19/70\n",
      "79/79 [==============================] - 0s 4ms/step - loss: 0.4077 - accuracy: 0.8134 - val_loss: 0.4176 - val_accuracy: 0.7908\n",
      "Epoch 20/70\n",
      "79/79 [==============================] - 0s 4ms/step - loss: 0.4066 - accuracy: 0.8142 - val_loss: 0.4178 - val_accuracy: 0.7908\n",
      "Epoch 21/70\n",
      "79/79 [==============================] - 0s 4ms/step - loss: 0.4056 - accuracy: 0.8144 - val_loss: 0.4180 - val_accuracy: 0.7916\n",
      "Epoch 22/70\n",
      "79/79 [==============================] - 0s 4ms/step - loss: 0.4047 - accuracy: 0.8162 - val_loss: 0.4182 - val_accuracy: 0.7924\n",
      "Epoch 23/70\n",
      "79/79 [==============================] - 0s 4ms/step - loss: 0.4038 - accuracy: 0.8172 - val_loss: 0.4183 - val_accuracy: 0.7916\n",
      "Epoch 24/70\n",
      "79/79 [==============================] - 0s 4ms/step - loss: 0.4029 - accuracy: 0.8174 - val_loss: 0.4184 - val_accuracy: 0.7916\n",
      "Epoch 25/70\n",
      "79/79 [==============================] - 0s 4ms/step - loss: 0.4021 - accuracy: 0.8170 - val_loss: 0.4185 - val_accuracy: 0.7932\n",
      "Epoch 26/70\n",
      "79/79 [==============================] - 0s 4ms/step - loss: 0.4013 - accuracy: 0.8181 - val_loss: 0.4187 - val_accuracy: 0.7924\n",
      "Epoch 27/70\n",
      "79/79 [==============================] - 0s 4ms/step - loss: 0.4005 - accuracy: 0.8185 - val_loss: 0.4189 - val_accuracy: 0.7932\n",
      "Epoch 28/70\n",
      "79/79 [==============================] - 0s 4ms/step - loss: 0.3998 - accuracy: 0.8189 - val_loss: 0.4191 - val_accuracy: 0.7940\n",
      "Epoch 29/70\n",
      "79/79 [==============================] - 0s 4ms/step - loss: 0.3989 - accuracy: 0.8203 - val_loss: 0.4193 - val_accuracy: 0.7924\n",
      "Epoch 30/70\n",
      "79/79 [==============================] - 0s 4ms/step - loss: 0.3982 - accuracy: 0.8205 - val_loss: 0.4195 - val_accuracy: 0.7940\n",
      "Epoch 31/70\n",
      "79/79 [==============================] - 0s 4ms/step - loss: 0.3974 - accuracy: 0.8213 - val_loss: 0.4197 - val_accuracy: 0.7924\n",
      "Epoch 32/70\n",
      "79/79 [==============================] - 0s 4ms/step - loss: 0.3966 - accuracy: 0.8229 - val_loss: 0.4200 - val_accuracy: 0.7940\n",
      "Epoch 33/70\n",
      "79/79 [==============================] - 0s 4ms/step - loss: 0.3959 - accuracy: 0.8235 - val_loss: 0.4205 - val_accuracy: 0.7940\n",
      "Epoch 34/70\n",
      "79/79 [==============================] - 0s 4ms/step - loss: 0.3951 - accuracy: 0.8231 - val_loss: 0.4206 - val_accuracy: 0.7932\n",
      "Epoch 35/70\n",
      "79/79 [==============================] - 0s 4ms/step - loss: 0.3944 - accuracy: 0.8229 - val_loss: 0.4209 - val_accuracy: 0.7924\n",
      "Epoch 36/70\n",
      "79/79 [==============================] - 0s 4ms/step - loss: 0.3937 - accuracy: 0.8233 - val_loss: 0.4211 - val_accuracy: 0.7916\n",
      "Epoch 37/70\n",
      "79/79 [==============================] - 0s 4ms/step - loss: 0.3930 - accuracy: 0.8235 - val_loss: 0.4213 - val_accuracy: 0.7908\n",
      "Epoch 38/70\n",
      "79/79 [==============================] - 0s 4ms/step - loss: 0.3923 - accuracy: 0.8233 - val_loss: 0.4214 - val_accuracy: 0.7908\n",
      "Epoch 39/70\n",
      "79/79 [==============================] - 0s 4ms/step - loss: 0.3914 - accuracy: 0.8237 - val_loss: 0.4215 - val_accuracy: 0.7900\n",
      "Epoch 40/70\n",
      "79/79 [==============================] - 0s 4ms/step - loss: 0.3907 - accuracy: 0.8239 - val_loss: 0.4215 - val_accuracy: 0.7884\n",
      "Epoch 41/70\n",
      "79/79 [==============================] - 0s 4ms/step - loss: 0.3899 - accuracy: 0.8239 - val_loss: 0.4218 - val_accuracy: 0.7868\n",
      "Epoch 42/70\n",
      "79/79 [==============================] - 0s 4ms/step - loss: 0.3893 - accuracy: 0.8249 - val_loss: 0.4217 - val_accuracy: 0.7884\n",
      "Epoch 43/70\n",
      "79/79 [==============================] - 0s 4ms/step - loss: 0.3886 - accuracy: 0.8239 - val_loss: 0.4218 - val_accuracy: 0.7876\n",
      "Epoch 44/70\n",
      "79/79 [==============================] - 0s 4ms/step - loss: 0.3879 - accuracy: 0.8251 - val_loss: 0.4219 - val_accuracy: 0.7884\n",
      "Epoch 45/70\n",
      "79/79 [==============================] - 0s 4ms/step - loss: 0.3873 - accuracy: 0.8251 - val_loss: 0.4221 - val_accuracy: 0.7868\n",
      "Epoch 46/70\n",
      "79/79 [==============================] - 0s 4ms/step - loss: 0.3867 - accuracy: 0.8249 - val_loss: 0.4222 - val_accuracy: 0.7868\n",
      "Epoch 47/70\n",
      "79/79 [==============================] - 0s 4ms/step - loss: 0.3860 - accuracy: 0.8263 - val_loss: 0.4223 - val_accuracy: 0.7861\n",
      "Epoch 48/70\n",
      "79/79 [==============================] - 0s 4ms/step - loss: 0.3855 - accuracy: 0.8265 - val_loss: 0.4224 - val_accuracy: 0.7861\n",
      "Epoch 49/70\n",
      "79/79 [==============================] - 0s 4ms/step - loss: 0.3848 - accuracy: 0.8273 - val_loss: 0.4226 - val_accuracy: 0.7853\n",
      "Epoch 50/70\n",
      "79/79 [==============================] - 0s 4ms/step - loss: 0.3842 - accuracy: 0.8275 - val_loss: 0.4228 - val_accuracy: 0.7853\n",
      "Epoch 51/70\n",
      "79/79 [==============================] - 0s 4ms/step - loss: 0.3836 - accuracy: 0.8282 - val_loss: 0.4231 - val_accuracy: 0.7845\n",
      "Epoch 52/70\n",
      "79/79 [==============================] - 0s 4ms/step - loss: 0.3830 - accuracy: 0.8288 - val_loss: 0.4234 - val_accuracy: 0.7853\n",
      "Epoch 53/70\n",
      "79/79 [==============================] - 0s 4ms/step - loss: 0.3824 - accuracy: 0.8294 - val_loss: 0.4236 - val_accuracy: 0.7853\n",
      "Epoch 54/70\n",
      "79/79 [==============================] - 0s 4ms/step - loss: 0.3818 - accuracy: 0.8296 - val_loss: 0.4238 - val_accuracy: 0.7853\n",
      "Epoch 55/70\n",
      "79/79 [==============================] - 0s 4ms/step - loss: 0.3812 - accuracy: 0.8300 - val_loss: 0.4241 - val_accuracy: 0.7861\n",
      "Epoch 56/70\n",
      "79/79 [==============================] - 0s 4ms/step - loss: 0.3807 - accuracy: 0.8306 - val_loss: 0.4244 - val_accuracy: 0.7853\n",
      "Epoch 57/70\n",
      "79/79 [==============================] - 0s 4ms/step - loss: 0.3800 - accuracy: 0.8302 - val_loss: 0.4246 - val_accuracy: 0.7861\n",
      "Epoch 58/70\n",
      "79/79 [==============================] - 0s 4ms/step - loss: 0.3794 - accuracy: 0.8306 - val_loss: 0.4250 - val_accuracy: 0.7853\n",
      "Epoch 59/70\n",
      "79/79 [==============================] - 0s 4ms/step - loss: 0.3789 - accuracy: 0.8310 - val_loss: 0.4252 - val_accuracy: 0.7853\n",
      "Epoch 60/70\n",
      "79/79 [==============================] - 0s 4ms/step - loss: 0.3782 - accuracy: 0.8304 - val_loss: 0.4255 - val_accuracy: 0.7861\n",
      "Epoch 61/70\n",
      "79/79 [==============================] - 0s 4ms/step - loss: 0.3777 - accuracy: 0.8306 - val_loss: 0.4257 - val_accuracy: 0.7861\n",
      "Epoch 62/70\n",
      "79/79 [==============================] - 0s 4ms/step - loss: 0.3770 - accuracy: 0.8298 - val_loss: 0.4259 - val_accuracy: 0.7876\n",
      "Epoch 63/70\n",
      "79/79 [==============================] - 0s 4ms/step - loss: 0.3765 - accuracy: 0.8306 - val_loss: 0.4263 - val_accuracy: 0.7868\n",
      "Epoch 64/70\n",
      "79/79 [==============================] - 0s 4ms/step - loss: 0.3759 - accuracy: 0.8312 - val_loss: 0.4265 - val_accuracy: 0.7868\n",
      "Epoch 65/70\n",
      "79/79 [==============================] - 0s 4ms/step - loss: 0.3753 - accuracy: 0.8322 - val_loss: 0.4267 - val_accuracy: 0.7876\n",
      "Epoch 66/70\n",
      "79/79 [==============================] - 0s 4ms/step - loss: 0.3748 - accuracy: 0.8316 - val_loss: 0.4270 - val_accuracy: 0.7868\n",
      "Epoch 67/70\n",
      "79/79 [==============================] - 0s 4ms/step - loss: 0.3742 - accuracy: 0.8318 - val_loss: 0.4272 - val_accuracy: 0.7837\n",
      "Epoch 68/70\n",
      "79/79 [==============================] - 0s 4ms/step - loss: 0.3737 - accuracy: 0.8316 - val_loss: 0.4274 - val_accuracy: 0.7829\n",
      "Epoch 69/70\n",
      "79/79 [==============================] - 0s 4ms/step - loss: 0.3732 - accuracy: 0.8330 - val_loss: 0.4278 - val_accuracy: 0.7837\n",
      "Epoch 70/70\n",
      "79/79 [==============================] - 0s 4ms/step - loss: 0.3727 - accuracy: 0.8332 - val_loss: 0.4280 - val_accuracy: 0.7829\n"
     ]
    }
   ],
   "source": [
    "model_seq2 = Sequential()\n",
    "model_seq2.add(Dense(32, activation='relu', input_shape=(27,)))\n",
    "model_seq2.add(Dense(16, activation='relu'))\n",
    "model_seq2.add(Dense(4, activation='relu'))\n",
    "model_seq2.add(Dense(1, activation='sigmoid'))\n",
    "\n",
    "model_seq2.compile(loss='binary_crossentropy',\n",
    "              optimizer=Adamax(),\n",
    "              metrics=['accuracy'])\n",
    "\n",
    "history_seq2 = model_seq2.fit(training_data, epochs=70, batch_size=20,\n",
    "                    validation_data=validation_data,\n",
    "                    verbose=1)"
   ]
  },
  {
   "cell_type": "code",
   "execution_count": 161,
   "metadata": {},
   "outputs": [
    {
     "data": {
      "text/plain": [
       "<matplotlib.legend.Legend at 0x148949052b0>"
      ]
     },
     "execution_count": 161,
     "metadata": {},
     "output_type": "execute_result"
    },
    {
     "data": {
      "image/png": "[encoded data removed]",
      "text/plain": [
       "<Figure size 864x720 with 2 Axes>"
      ]
     },
     "metadata": {
      "needs_background": "light"
     },
     "output_type": "display_data"
    }
   ],
   "source": [
    "metrics_seq2 = pd.DataFrame(history_seq2.history)\n",
    "\n",
    "fig, axs = plt.subplots(2, figsize=(12,10))\n",
    "\n",
    "axs[0].plot(metrics_seq2[['loss', 'val_loss']], label=['loss', 'val_loss'])\n",
    "axs[0].legend(loc='upper right')\n",
    "\n",
    "axs[1].plot(metrics_seq2[['accuracy', 'val_accuracy']], label=['accuracy', 'val_accuracy'])\n",
    "axs[1].legend(loc='lower right')\n"
   ]
  },
  {
   "cell_type": "markdown",
   "metadata": {},
   "source": [
    "- pada model Sequential setelah dilakukan improvement dengan menambahkan hidden layer dan actifation function, model menjadi lebih stabil, dapat dilihat dari grafik accuracy, tidak terjadi lagi kenaikan dan penurunan nilai accuracy yang tinggi seperti pada model sequential sebelum dilakuakn model improvement. dengan nilai accuracy tertinggi mencapai 0.83"
   ]
  },
  {
   "cell_type": "markdown",
   "metadata": {},
   "source": [
    "## Model Functional"
   ]
  },
  {
   "cell_type": "markdown",
   "metadata": {},
   "source": [
    "Membangun model Improvement Functional API dengan 27 node input layer, 1 hidden layer dengan 32 neuron, 1 concat layer dan 1 output layer, menambahkan activation function relu pada hidden layer dan sigmoid pada output layer. memilih loss fucntion binary_crossentropy karena label merupakan binary, dengan metrics accuracy untuk mengukur outputnya. dilakukan training sebanyak 70 kali, ditambahkan pula optimizer Adamax agar mendapat hasil lebih baik."
   ]
  },
  {
   "cell_type": "code",
   "execution_count": 162,
   "metadata": {},
   "outputs": [
    {
     "name": "stdout",
     "output_type": "stream",
     "text": [
      "Epoch 1/70\n",
      "79/79 [==============================] - 1s 4ms/step - loss: 0.7658 - accuracy: 0.5442 - val_loss: 0.5867 - val_accuracy: 0.7068\n",
      "Epoch 2/70\n",
      "79/79 [==============================] - 0s 3ms/step - loss: 0.5360 - accuracy: 0.7328 - val_loss: 0.4797 - val_accuracy: 0.7631\n",
      "Epoch 3/70\n",
      "79/79 [==============================] - 0s 3ms/step - loss: 0.4761 - accuracy: 0.7688 - val_loss: 0.4450 - val_accuracy: 0.7813\n",
      "Epoch 4/70\n",
      "79/79 [==============================] - 0s 3ms/step - loss: 0.4548 - accuracy: 0.7775 - val_loss: 0.4307 - val_accuracy: 0.7853\n",
      "Epoch 5/70\n",
      "79/79 [==============================] - 0s 3ms/step - loss: 0.4444 - accuracy: 0.7841 - val_loss: 0.4235 - val_accuracy: 0.7900\n",
      "Epoch 6/70\n",
      "79/79 [==============================] - 0s 3ms/step - loss: 0.4381 - accuracy: 0.7886 - val_loss: 0.4193 - val_accuracy: 0.7861\n",
      "Epoch 7/70\n",
      "79/79 [==============================] - 0s 3ms/step - loss: 0.4337 - accuracy: 0.7922 - val_loss: 0.4165 - val_accuracy: 0.7908\n",
      "Epoch 8/70\n",
      "79/79 [==============================] - 0s 3ms/step - loss: 0.4304 - accuracy: 0.7966 - val_loss: 0.4146 - val_accuracy: 0.7940\n",
      "Epoch 9/70\n",
      "79/79 [==============================] - 0s 3ms/step - loss: 0.4277 - accuracy: 0.7993 - val_loss: 0.4132 - val_accuracy: 0.7995\n",
      "Epoch 10/70\n",
      "79/79 [==============================] - 0s 3ms/step - loss: 0.4256 - accuracy: 0.8001 - val_loss: 0.4123 - val_accuracy: 0.8003\n",
      "Epoch 11/70\n",
      "79/79 [==============================] - 0s 3ms/step - loss: 0.4239 - accuracy: 0.8019 - val_loss: 0.4116 - val_accuracy: 0.8003\n",
      "Epoch 12/70\n",
      "79/79 [==============================] - 0s 3ms/step - loss: 0.4224 - accuracy: 0.8033 - val_loss: 0.4111 - val_accuracy: 0.8011\n",
      "Epoch 13/70\n",
      "79/79 [==============================] - 0s 4ms/step - loss: 0.4212 - accuracy: 0.8049 - val_loss: 0.4107 - val_accuracy: 0.7995\n",
      "Epoch 14/70\n",
      "79/79 [==============================] - 0s 3ms/step - loss: 0.4201 - accuracy: 0.8071 - val_loss: 0.4105 - val_accuracy: 0.7995\n",
      "Epoch 15/70\n",
      "79/79 [==============================] - 0s 4ms/step - loss: 0.4191 - accuracy: 0.8088 - val_loss: 0.4103 - val_accuracy: 0.7987\n",
      "Epoch 16/70\n",
      "79/79 [==============================] - 0s 3ms/step - loss: 0.4182 - accuracy: 0.8092 - val_loss: 0.4102 - val_accuracy: 0.7987\n",
      "Epoch 17/70\n",
      "79/79 [==============================] - 0s 4ms/step - loss: 0.4174 - accuracy: 0.8100 - val_loss: 0.4102 - val_accuracy: 0.7987\n",
      "Epoch 18/70\n",
      "79/79 [==============================] - 0s 3ms/step - loss: 0.4166 - accuracy: 0.8104 - val_loss: 0.4101 - val_accuracy: 0.7956\n",
      "Epoch 19/70\n",
      "79/79 [==============================] - 0s 3ms/step - loss: 0.4159 - accuracy: 0.8098 - val_loss: 0.4101 - val_accuracy: 0.7964\n",
      "Epoch 20/70\n",
      "79/79 [==============================] - 0s 3ms/step - loss: 0.4153 - accuracy: 0.8096 - val_loss: 0.4101 - val_accuracy: 0.7971\n",
      "Epoch 21/70\n",
      "79/79 [==============================] - 0s 3ms/step - loss: 0.4147 - accuracy: 0.8100 - val_loss: 0.4101 - val_accuracy: 0.7971\n",
      "Epoch 22/70\n",
      "79/79 [==============================] - 0s 3ms/step - loss: 0.4142 - accuracy: 0.8104 - val_loss: 0.4101 - val_accuracy: 0.7987\n",
      "Epoch 23/70\n",
      "79/79 [==============================] - 0s 4ms/step - loss: 0.4137 - accuracy: 0.8108 - val_loss: 0.4101 - val_accuracy: 0.8003\n",
      "Epoch 24/70\n",
      "79/79 [==============================] - 0s 3ms/step - loss: 0.4132 - accuracy: 0.8118 - val_loss: 0.4102 - val_accuracy: 0.8011\n",
      "Epoch 25/70\n",
      "79/79 [==============================] - 0s 3ms/step - loss: 0.4127 - accuracy: 0.8122 - val_loss: 0.4103 - val_accuracy: 0.8003\n",
      "Epoch 26/70\n",
      "79/79 [==============================] - 0s 3ms/step - loss: 0.4122 - accuracy: 0.8118 - val_loss: 0.4103 - val_accuracy: 0.8003\n",
      "Epoch 27/70\n",
      "79/79 [==============================] - 0s 3ms/step - loss: 0.4117 - accuracy: 0.8124 - val_loss: 0.4105 - val_accuracy: 0.7995\n",
      "Epoch 28/70\n",
      "79/79 [==============================] - 0s 3ms/step - loss: 0.4113 - accuracy: 0.8130 - val_loss: 0.4106 - val_accuracy: 0.7995\n",
      "Epoch 29/70\n",
      "79/79 [==============================] - 0s 3ms/step - loss: 0.4109 - accuracy: 0.8132 - val_loss: 0.4107 - val_accuracy: 0.8011\n",
      "Epoch 30/70\n",
      "79/79 [==============================] - 0s 3ms/step - loss: 0.4104 - accuracy: 0.8130 - val_loss: 0.4108 - val_accuracy: 0.8011\n",
      "Epoch 31/70\n",
      "79/79 [==============================] - 0s 4ms/step - loss: 0.4100 - accuracy: 0.8130 - val_loss: 0.4109 - val_accuracy: 0.8011\n",
      "Epoch 32/70\n",
      "79/79 [==============================] - 0s 4ms/step - loss: 0.4096 - accuracy: 0.8128 - val_loss: 0.4110 - val_accuracy: 0.8003\n",
      "Epoch 33/70\n",
      "79/79 [==============================] - 0s 4ms/step - loss: 0.4092 - accuracy: 0.8128 - val_loss: 0.4112 - val_accuracy: 0.8003\n",
      "Epoch 34/70\n",
      "79/79 [==============================] - 0s 3ms/step - loss: 0.4088 - accuracy: 0.8140 - val_loss: 0.4113 - val_accuracy: 0.8003\n",
      "Epoch 35/70\n",
      "79/79 [==============================] - 0s 3ms/step - loss: 0.4085 - accuracy: 0.8136 - val_loss: 0.4115 - val_accuracy: 0.8003\n",
      "Epoch 36/70\n",
      "79/79 [==============================] - 0s 3ms/step - loss: 0.4081 - accuracy: 0.8138 - val_loss: 0.4116 - val_accuracy: 0.8011\n",
      "Epoch 37/70\n",
      "79/79 [==============================] - 0s 3ms/step - loss: 0.4077 - accuracy: 0.8144 - val_loss: 0.4118 - val_accuracy: 0.8003\n",
      "Epoch 38/70\n",
      "79/79 [==============================] - 0s 3ms/step - loss: 0.4074 - accuracy: 0.8146 - val_loss: 0.4119 - val_accuracy: 0.7995\n",
      "Epoch 39/70\n",
      "79/79 [==============================] - 0s 3ms/step - loss: 0.4071 - accuracy: 0.8146 - val_loss: 0.4121 - val_accuracy: 0.7995\n",
      "Epoch 40/70\n",
      "79/79 [==============================] - 0s 3ms/step - loss: 0.4067 - accuracy: 0.8144 - val_loss: 0.4122 - val_accuracy: 0.7995\n",
      "Epoch 41/70\n",
      "79/79 [==============================] - 0s 3ms/step - loss: 0.4064 - accuracy: 0.8152 - val_loss: 0.4123 - val_accuracy: 0.8011\n",
      "Epoch 42/70\n",
      "79/79 [==============================] - 0s 3ms/step - loss: 0.4061 - accuracy: 0.8156 - val_loss: 0.4124 - val_accuracy: 0.8003\n",
      "Epoch 43/70\n",
      "79/79 [==============================] - 0s 3ms/step - loss: 0.4058 - accuracy: 0.8162 - val_loss: 0.4125 - val_accuracy: 0.7987\n",
      "Epoch 44/70\n",
      "79/79 [==============================] - 0s 3ms/step - loss: 0.4055 - accuracy: 0.8160 - val_loss: 0.4126 - val_accuracy: 0.7987\n",
      "Epoch 45/70\n",
      "79/79 [==============================] - 0s 3ms/step - loss: 0.4052 - accuracy: 0.8164 - val_loss: 0.4127 - val_accuracy: 0.7995\n",
      "Epoch 46/70\n",
      "79/79 [==============================] - 0s 3ms/step - loss: 0.4049 - accuracy: 0.8162 - val_loss: 0.4128 - val_accuracy: 0.7995\n",
      "Epoch 47/70\n",
      "79/79 [==============================] - 0s 3ms/step - loss: 0.4047 - accuracy: 0.8162 - val_loss: 0.4129 - val_accuracy: 0.8011\n",
      "Epoch 48/70\n",
      "79/79 [==============================] - 0s 3ms/step - loss: 0.4044 - accuracy: 0.8158 - val_loss: 0.4130 - val_accuracy: 0.8011\n",
      "Epoch 49/70\n",
      "79/79 [==============================] - 0s 3ms/step - loss: 0.4041 - accuracy: 0.8158 - val_loss: 0.4131 - val_accuracy: 0.8011\n",
      "Epoch 50/70\n",
      "79/79 [==============================] - 0s 3ms/step - loss: 0.4039 - accuracy: 0.8160 - val_loss: 0.4132 - val_accuracy: 0.8011\n",
      "Epoch 51/70\n",
      "79/79 [==============================] - 0s 3ms/step - loss: 0.4036 - accuracy: 0.8154 - val_loss: 0.4133 - val_accuracy: 0.8011\n",
      "Epoch 52/70\n",
      "79/79 [==============================] - 0s 3ms/step - loss: 0.4034 - accuracy: 0.8158 - val_loss: 0.4134 - val_accuracy: 0.8011\n",
      "Epoch 53/70\n",
      "79/79 [==============================] - 0s 3ms/step - loss: 0.4032 - accuracy: 0.8160 - val_loss: 0.4135 - val_accuracy: 0.8003\n",
      "Epoch 54/70\n",
      "79/79 [==============================] - 0s 3ms/step - loss: 0.4029 - accuracy: 0.8162 - val_loss: 0.4136 - val_accuracy: 0.8003\n",
      "Epoch 55/70\n",
      "79/79 [==============================] - 0s 3ms/step - loss: 0.4027 - accuracy: 0.8164 - val_loss: 0.4137 - val_accuracy: 0.8003\n",
      "Epoch 56/70\n",
      "79/79 [==============================] - 0s 3ms/step - loss: 0.4025 - accuracy: 0.8166 - val_loss: 0.4138 - val_accuracy: 0.8003\n",
      "Epoch 57/70\n",
      "79/79 [==============================] - 0s 3ms/step - loss: 0.4022 - accuracy: 0.8166 - val_loss: 0.4139 - val_accuracy: 0.8003\n",
      "Epoch 58/70\n",
      "79/79 [==============================] - 0s 3ms/step - loss: 0.4020 - accuracy: 0.8170 - val_loss: 0.4140 - val_accuracy: 0.8003\n",
      "Epoch 59/70\n",
      "79/79 [==============================] - 0s 3ms/step - loss: 0.4018 - accuracy: 0.8172 - val_loss: 0.4141 - val_accuracy: 0.7995\n",
      "Epoch 60/70\n",
      "79/79 [==============================] - 0s 3ms/step - loss: 0.4016 - accuracy: 0.8172 - val_loss: 0.4142 - val_accuracy: 0.7995\n",
      "Epoch 61/70\n",
      "79/79 [==============================] - 0s 3ms/step - loss: 0.4013 - accuracy: 0.8176 - val_loss: 0.4143 - val_accuracy: 0.7995\n",
      "Epoch 62/70\n",
      "79/79 [==============================] - 0s 4ms/step - loss: 0.4011 - accuracy: 0.8176 - val_loss: 0.4143 - val_accuracy: 0.7995\n",
      "Epoch 63/70\n",
      "79/79 [==============================] - 0s 3ms/step - loss: 0.4009 - accuracy: 0.8179 - val_loss: 0.4144 - val_accuracy: 0.7995\n",
      "Epoch 64/70\n",
      "79/79 [==============================] - 0s 3ms/step - loss: 0.4007 - accuracy: 0.8181 - val_loss: 0.4145 - val_accuracy: 0.8011\n",
      "Epoch 65/70\n",
      "79/79 [==============================] - 0s 3ms/step - loss: 0.4005 - accuracy: 0.8183 - val_loss: 0.4146 - val_accuracy: 0.7995\n",
      "Epoch 66/70\n",
      "79/79 [==============================] - 0s 3ms/step - loss: 0.4003 - accuracy: 0.8181 - val_loss: 0.4147 - val_accuracy: 0.7995\n",
      "Epoch 67/70\n",
      "79/79 [==============================] - 0s 3ms/step - loss: 0.4000 - accuracy: 0.8181 - val_loss: 0.4147 - val_accuracy: 0.7995\n",
      "Epoch 68/70\n",
      "79/79 [==============================] - 0s 3ms/step - loss: 0.3998 - accuracy: 0.8187 - val_loss: 0.4148 - val_accuracy: 0.7995\n",
      "Epoch 69/70\n",
      "79/79 [==============================] - 0s 3ms/step - loss: 0.3996 - accuracy: 0.8187 - val_loss: 0.4149 - val_accuracy: 0.7995\n",
      "Epoch 70/70\n",
      "79/79 [==============================] - 0s 3ms/step - loss: 0.3994 - accuracy: 0.8181 - val_loss: 0.4150 - val_accuracy: 0.7995\n"
     ]
    }
   ],
   "source": [
    "input_ = Input(shape=(27,))\n",
    "hidden1 = Dense(32, activation=\"relu\")(input_)\n",
    "concat = concatenate([input_, hidden1])\n",
    "output = Dense(1, activation='sigmoid')(concat)\n",
    "model_func2 = Model(inputs=[input_], outputs=[output])\n",
    "\n",
    "\n",
    "model_func2.compile(loss='binary_crossentropy',\n",
    "              optimizer=Adamax(),\n",
    "              metrics=['accuracy'])\n",
    "              \n",
    "\n",
    "history_func2 = model_func2.fit(training_data, epochs=70,\n",
    "                    validation_data=validation_data,\n",
    "                    verbose=1)"
   ]
  },
  {
   "cell_type": "code",
   "execution_count": 163,
   "metadata": {},
   "outputs": [
    {
     "data": {
      "text/plain": [
       "<matplotlib.legend.Legend at 0x1485140e3a0>"
      ]
     },
     "execution_count": 163,
     "metadata": {},
     "output_type": "execute_result"
    },
    {
     "data": {
      "image/png": "[encoded data removed]",
      "text/plain": [
       "<Figure size 864x720 with 2 Axes>"
      ]
     },
     "metadata": {
      "needs_background": "light"
     },
     "output_type": "display_data"
    }
   ],
   "source": [
    "metrics_func2 = pd.DataFrame(history_func2.history)\n",
    "\n",
    "fig, axs = plt.subplots(2, figsize=(12,10))\n",
    "axs[0].plot(metrics_func2[['loss', 'val_loss']], label=['loss', 'val_loss'])\n",
    "axs[0].legend(loc='upper right')\n",
    "axs[1].plot(metrics_func2[['accuracy', 'val_accuracy']], label=['accuracy', 'val_accuracy'])\n",
    "axs[1].legend(loc='lower right')"
   ]
  },
  {
   "cell_type": "markdown",
   "metadata": {},
   "source": [
    "- Setelah dilakuakan model improvement dengan menambahkan activation function relu pada hidden layer, sigmoid pada output layer dan optimizer Adamax, accuracy yang didapat pada train set dan validation set lebih stabil dan konvergen, loss yang didapat juga menurun dengan loss terkecil 0.4."
   ]
  },
  {
   "cell_type": "markdown",
   "metadata": {},
   "source": [
    "## Evaluation"
   ]
  },
  {
   "cell_type": "markdown",
   "metadata": {},
   "source": [
    "Melihat clasification report pada model setelah dilakukan improvement dan mencoba pada data test. Treshold 0.3 dipilih karena data imbalance antara kelas 1 dan 0"
   ]
  },
  {
   "cell_type": "code",
   "execution_count": 199,
   "metadata": {},
   "outputs": [
    {
     "name": "stdout",
     "output_type": "stream",
     "text": [
      "22/22 [==============================] - 0s 1ms/step\n",
      "Model Sequential\n",
      "              precision    recall  f1-score   support\n",
      "\n",
      "           0       0.89      0.79      0.84       511\n",
      "           1       0.56      0.73      0.64       191\n",
      "\n",
      "    accuracy                           0.77       702\n",
      "   macro avg       0.73      0.76      0.74       702\n",
      "weighted avg       0.80      0.77      0.78       702\n",
      "\n"
     ]
    }
   ],
   "source": [
    "y_pred_seq2 = model_seq2.predict(X_test_scaled)\n",
    "y_pred_seq2 = np.where(y_pred_seq2 > 0.3, 1, 0)\n",
    "print('Model Sequential')\n",
    "print(classification_report(y_test, y_pred_seq2))"
   ]
  },
  {
   "cell_type": "code",
   "execution_count": 200,
   "metadata": {},
   "outputs": [
    {
     "name": "stdout",
     "output_type": "stream",
     "text": [
      "22/22 [==============================] - 0s 2ms/step\n",
      "Model Functional\n",
      "              precision    recall  f1-score   support\n",
      "\n",
      "           0       0.87      0.82      0.84       511\n",
      "           1       0.58      0.68      0.63       191\n",
      "\n",
      "    accuracy                           0.78       702\n",
      "   macro avg       0.73      0.75      0.74       702\n",
      "weighted avg       0.79      0.78      0.79       702\n",
      "\n"
     ]
    }
   ],
   "source": [
    "y_pred_func2 = model_func2.predict(X_test_scaled)\n",
    "y_pred_func2 = np.where(y_pred_func2 > 0.3, 1, 0)\n",
    "print('Model Functional')\n",
    "print(classification_report(y_test, y_pred_func2))"
   ]
  },
  {
   "cell_type": "markdown",
   "metadata": {},
   "source": [
    "- Berdasarkan Classfication Report, model functional lebih tinggi nilai accuracynya dibandingkan model sequential, tetapi model sequential memiliki nilai recall pada kelas 1 lebih tinggi dengan nilai 0.73 dibandingkan model functional dengan 0.68, itu artinya model sequential lebih baik dalam memprediksi TP(True positive) pada kelas 1 dengan baik dibandingkan model functional."
   ]
  },
  {
   "cell_type": "code",
   "execution_count": 201,
   "metadata": {},
   "outputs": [
    {
     "data": {
      "text/plain": [
       "<AxesSubplot:>"
      ]
     },
     "execution_count": 201,
     "metadata": {},
     "output_type": "execute_result"
    },
    {
     "data": {
      "image/png": "[encoded data removed]",
      "text/plain": [
       "<Figure size 432x288 with 2 Axes>"
      ]
     },
     "metadata": {
      "needs_background": "light"
     },
     "output_type": "display_data"
    }
   ],
   "source": [
    "cf_matrix = confusion_matrix(y_test, y_pred_seq2)\n",
    "sns.heatmap(cf_matrix, annot=True,fmt=\"d\")"
   ]
  },
  {
   "cell_type": "code",
   "execution_count": 202,
   "metadata": {},
   "outputs": [
    {
     "data": {
      "text/plain": [
       "<AxesSubplot:>"
      ]
     },
     "execution_count": 202,
     "metadata": {},
     "output_type": "execute_result"
    },
    {
     "data": {
      "image/png": "[encoded data removed]",
      "text/plain": [
       "<Figure size 432x288 with 2 Axes>"
      ]
     },
     "metadata": {
      "needs_background": "light"
     },
     "output_type": "display_data"
    }
   ],
   "source": [
    "cf_matrix = confusion_matrix(y_test, y_pred_func2)\n",
    "sns.heatmap(cf_matrix, annot=True,fmt=\"d\")"
   ]
  },
  {
   "cell_type": "markdown",
   "metadata": {},
   "source": [
    "- Berdasarkan confusion matrix, nilai TP model Sequential lebih tinggi dengan 140 data diprediksi TP, dari model functional dengan 129 data diprediksi TP. jadi dipilihlah model sequential untuk menjadi model akhir untuk memprediksi apakah customer akan berhenti berlangganan atau tidak dari layanan telco."
   ]
  },
  {
   "cell_type": "markdown",
   "metadata": {},
   "source": [
    "# Model Infernce"
   ]
  },
  {
   "cell_type": "markdown",
   "metadata": {},
   "source": [
    "Membagi data inference menjadi X(feature) dan y(target)"
   ]
  },
  {
   "cell_type": "code",
   "execution_count": 217,
   "metadata": {},
   "outputs": [],
   "source": [
    "# Splitting Dataset\n",
    "\n",
    "# X will be consist of input parameter only\n",
    "X_inf = data_inf.drop(['Churn'], axis=1)\n",
    "\n",
    "# y will be consist of target parameter only\n",
    "y_inf = data_inf['Churn']"
   ]
  },
  {
   "cell_type": "markdown",
   "metadata": {},
   "source": [
    "Melakuakan scaling dan encoding pada data infernece"
   ]
  },
  {
   "cell_type": "code",
   "execution_count": 218,
   "metadata": {},
   "outputs": [],
   "source": [
    "X_inf_scaled = data_pipeline.transform(X_inf)\n",
    "\n",
    "y_inf = label_encoder.transform(y_inf)"
   ]
  },
  {
   "cell_type": "markdown",
   "metadata": {},
   "source": [
    "Melakukan prediksi pada data inference"
   ]
  },
  {
   "cell_type": "code",
   "execution_count": 219,
   "metadata": {},
   "outputs": [
    {
     "name": "stdout",
     "output_type": "stream",
     "text": [
      "1/1 [==============================] - 0s 14ms/step\n"
     ]
    },
    {
     "name": "stderr",
     "output_type": "stream",
     "text": [
      "c:\\Users\\rioar\\anaconda3\\lib\\site-packages\\sklearn\\preprocessing\\_label.py:154: DataConversionWarning: A column-vector y was passed when a 1d array was expected. Please change the shape of y to (n_samples, ), for example using ravel().\n",
      "  y = column_or_1d(y, warn=True)\n"
     ]
    }
   ],
   "source": [
    "y_pred_inf = model_seq2.predict(X_inf_scaled)\n",
    "y_pred_inf = np.where(y_pred_inf > 0.3, 1, 0)\n",
    "y_pred_inf_decode = label_encoder.inverse_transform(y_pred_inf)"
   ]
  },
  {
   "cell_type": "code",
   "execution_count": 220,
   "metadata": {},
   "outputs": [
    {
     "data": {
      "text/html": [
       "<div>\n",
       "<style scoped>\n",
       "    .dataframe tbody tr th:only-of-type {\n",
       "        vertical-align: middle;\n",
       "    }\n",
       "\n",
       "    .dataframe tbody tr th {\n",
       "        vertical-align: top;\n",
       "    }\n",
       "\n",
       "    .dataframe thead th {\n",
       "        text-align: right;\n",
       "    }\n",
       "</style>\n",
       "<table border=\"1\" class=\"dataframe\">\n",
       "  <thead>\n",
       "    <tr style=\"text-align: right;\">\n",
       "      <th></th>\n",
       "      <th>Prediction</th>\n",
       "    </tr>\n",
       "  </thead>\n",
       "  <tbody>\n",
       "    <tr>\n",
       "      <th>0</th>\n",
       "      <td>No</td>\n",
       "    </tr>\n",
       "    <tr>\n",
       "      <th>1</th>\n",
       "      <td>No</td>\n",
       "    </tr>\n",
       "    <tr>\n",
       "      <th>2</th>\n",
       "      <td>No</td>\n",
       "    </tr>\n",
       "    <tr>\n",
       "      <th>3</th>\n",
       "      <td>Yes</td>\n",
       "    </tr>\n",
       "    <tr>\n",
       "      <th>4</th>\n",
       "      <td>Yes</td>\n",
       "    </tr>\n",
       "    <tr>\n",
       "      <th>5</th>\n",
       "      <td>No</td>\n",
       "    </tr>\n",
       "    <tr>\n",
       "      <th>6</th>\n",
       "      <td>No</td>\n",
       "    </tr>\n",
       "    <tr>\n",
       "      <th>7</th>\n",
       "      <td>No</td>\n",
       "    </tr>\n",
       "    <tr>\n",
       "      <th>8</th>\n",
       "      <td>No</td>\n",
       "    </tr>\n",
       "    <tr>\n",
       "      <th>9</th>\n",
       "      <td>Yes</td>\n",
       "    </tr>\n",
       "    <tr>\n",
       "      <th>10</th>\n",
       "      <td>No</td>\n",
       "    </tr>\n",
       "    <tr>\n",
       "      <th>11</th>\n",
       "      <td>No</td>\n",
       "    </tr>\n",
       "    <tr>\n",
       "      <th>12</th>\n",
       "      <td>No</td>\n",
       "    </tr>\n",
       "    <tr>\n",
       "      <th>13</th>\n",
       "      <td>No</td>\n",
       "    </tr>\n",
       "    <tr>\n",
       "      <th>14</th>\n",
       "      <td>No</td>\n",
       "    </tr>\n",
       "    <tr>\n",
       "      <th>15</th>\n",
       "      <td>Yes</td>\n",
       "    </tr>\n",
       "    <tr>\n",
       "      <th>16</th>\n",
       "      <td>Yes</td>\n",
       "    </tr>\n",
       "    <tr>\n",
       "      <th>17</th>\n",
       "      <td>Yes</td>\n",
       "    </tr>\n",
       "    <tr>\n",
       "      <th>18</th>\n",
       "      <td>Yes</td>\n",
       "    </tr>\n",
       "    <tr>\n",
       "      <th>19</th>\n",
       "      <td>No</td>\n",
       "    </tr>\n",
       "  </tbody>\n",
       "</table>\n",
       "</div>"
      ],
      "text/plain": [
       "   Prediction\n",
       "0          No\n",
       "1          No\n",
       "2          No\n",
       "3         Yes\n",
       "4         Yes\n",
       "5          No\n",
       "6          No\n",
       "7          No\n",
       "8          No\n",
       "9         Yes\n",
       "10         No\n",
       "11         No\n",
       "12         No\n",
       "13         No\n",
       "14         No\n",
       "15        Yes\n",
       "16        Yes\n",
       "17        Yes\n",
       "18        Yes\n",
       "19         No"
      ]
     },
     "execution_count": 220,
     "metadata": {},
     "output_type": "execute_result"
    }
   ],
   "source": [
    "y_pred_inf_df = pd.DataFrame(y_pred_inf_decode, columns=['Prediction'])\n",
    "y_pred_inf_df"
   ]
  },
  {
   "cell_type": "code",
   "execution_count": 221,
   "metadata": {},
   "outputs": [
    {
     "data": {
      "text/html": [
       "<div>\n",
       "<style scoped>\n",
       "    .dataframe tbody tr th:only-of-type {\n",
       "        vertical-align: middle;\n",
       "    }\n",
       "\n",
       "    .dataframe tbody tr th {\n",
       "        vertical-align: top;\n",
       "    }\n",
       "\n",
       "    .dataframe thead th {\n",
       "        text-align: right;\n",
       "    }\n",
       "</style>\n",
       "<table border=\"1\" class=\"dataframe\">\n",
       "  <thead>\n",
       "    <tr style=\"text-align: right;\">\n",
       "      <th></th>\n",
       "      <th>customerID</th>\n",
       "      <th>gender</th>\n",
       "      <th>SeniorCitizen</th>\n",
       "      <th>Partner</th>\n",
       "      <th>Dependents</th>\n",
       "      <th>tenure</th>\n",
       "      <th>PhoneService</th>\n",
       "      <th>MultipleLines</th>\n",
       "      <th>InternetService</th>\n",
       "      <th>OnlineSecurity</th>\n",
       "      <th>OnlineBackup</th>\n",
       "      <th>DeviceProtection</th>\n",
       "      <th>TechSupport</th>\n",
       "      <th>StreamingTV</th>\n",
       "      <th>StreamingMovies</th>\n",
       "      <th>Contract</th>\n",
       "      <th>PaperlessBilling</th>\n",
       "      <th>PaymentMethod</th>\n",
       "      <th>MonthlyCharges</th>\n",
       "      <th>TotalCharges</th>\n",
       "      <th>Churn</th>\n",
       "      <th>Prediction</th>\n",
       "    </tr>\n",
       "  </thead>\n",
       "  <tbody>\n",
       "    <tr>\n",
       "      <th>0</th>\n",
       "      <td>8008-ESFLK</td>\n",
       "      <td>Female</td>\n",
       "      <td>0</td>\n",
       "      <td>Yes</td>\n",
       "      <td>No</td>\n",
       "      <td>53</td>\n",
       "      <td>Yes</td>\n",
       "      <td>No</td>\n",
       "      <td>Fiber optic</td>\n",
       "      <td>Yes</td>\n",
       "      <td>Yes</td>\n",
       "      <td>Yes</td>\n",
       "      <td>Yes</td>\n",
       "      <td>Yes</td>\n",
       "      <td>Yes</td>\n",
       "      <td>One year</td>\n",
       "      <td>No</td>\n",
       "      <td>Electronic check</td>\n",
       "      <td>110.50</td>\n",
       "      <td>5835.500000</td>\n",
       "      <td>No</td>\n",
       "      <td>No</td>\n",
       "    </tr>\n",
       "    <tr>\n",
       "      <th>1</th>\n",
       "      <td>6791-YBNAK</td>\n",
       "      <td>Male</td>\n",
       "      <td>0</td>\n",
       "      <td>Yes</td>\n",
       "      <td>Yes</td>\n",
       "      <td>18</td>\n",
       "      <td>No</td>\n",
       "      <td>No phone service</td>\n",
       "      <td>DSL</td>\n",
       "      <td>No</td>\n",
       "      <td>No</td>\n",
       "      <td>No</td>\n",
       "      <td>No</td>\n",
       "      <td>No</td>\n",
       "      <td>No</td>\n",
       "      <td>Month-to-month</td>\n",
       "      <td>No</td>\n",
       "      <td>Credit card (automatic)</td>\n",
       "      <td>25.55</td>\n",
       "      <td>467.850006</td>\n",
       "      <td>No</td>\n",
       "      <td>No</td>\n",
       "    </tr>\n",
       "    <tr>\n",
       "      <th>2</th>\n",
       "      <td>8169-SAEJD</td>\n",
       "      <td>Male</td>\n",
       "      <td>1</td>\n",
       "      <td>Yes</td>\n",
       "      <td>No</td>\n",
       "      <td>69</td>\n",
       "      <td>No</td>\n",
       "      <td>No phone service</td>\n",
       "      <td>DSL</td>\n",
       "      <td>Yes</td>\n",
       "      <td>Yes</td>\n",
       "      <td>No</td>\n",
       "      <td>No</td>\n",
       "      <td>Yes</td>\n",
       "      <td>Yes</td>\n",
       "      <td>Two year</td>\n",
       "      <td>No</td>\n",
       "      <td>Credit card (automatic)</td>\n",
       "      <td>56.55</td>\n",
       "      <td>3952.649902</td>\n",
       "      <td>No</td>\n",
       "      <td>No</td>\n",
       "    </tr>\n",
       "    <tr>\n",
       "      <th>3</th>\n",
       "      <td>9804-ICWBG</td>\n",
       "      <td>Male</td>\n",
       "      <td>0</td>\n",
       "      <td>No</td>\n",
       "      <td>No</td>\n",
       "      <td>1</td>\n",
       "      <td>Yes</td>\n",
       "      <td>No</td>\n",
       "      <td>Fiber optic</td>\n",
       "      <td>No</td>\n",
       "      <td>No</td>\n",
       "      <td>No</td>\n",
       "      <td>No</td>\n",
       "      <td>No</td>\n",
       "      <td>No</td>\n",
       "      <td>Month-to-month</td>\n",
       "      <td>Yes</td>\n",
       "      <td>Electronic check</td>\n",
       "      <td>69.90</td>\n",
       "      <td>69.900002</td>\n",
       "      <td>Yes</td>\n",
       "      <td>Yes</td>\n",
       "    </tr>\n",
       "    <tr>\n",
       "      <th>4</th>\n",
       "      <td>8008-HAWED</td>\n",
       "      <td>Male</td>\n",
       "      <td>0</td>\n",
       "      <td>No</td>\n",
       "      <td>No</td>\n",
       "      <td>14</td>\n",
       "      <td>No</td>\n",
       "      <td>No phone service</td>\n",
       "      <td>DSL</td>\n",
       "      <td>No</td>\n",
       "      <td>No</td>\n",
       "      <td>Yes</td>\n",
       "      <td>No</td>\n",
       "      <td>Yes</td>\n",
       "      <td>Yes</td>\n",
       "      <td>Month-to-month</td>\n",
       "      <td>Yes</td>\n",
       "      <td>Electronic check</td>\n",
       "      <td>50.75</td>\n",
       "      <td>712.750000</td>\n",
       "      <td>Yes</td>\n",
       "      <td>Yes</td>\n",
       "    </tr>\n",
       "    <tr>\n",
       "      <th>5</th>\n",
       "      <td>1120-BMWUB</td>\n",
       "      <td>Female</td>\n",
       "      <td>0</td>\n",
       "      <td>No</td>\n",
       "      <td>No</td>\n",
       "      <td>16</td>\n",
       "      <td>Yes</td>\n",
       "      <td>No</td>\n",
       "      <td>DSL</td>\n",
       "      <td>No</td>\n",
       "      <td>Yes</td>\n",
       "      <td>No</td>\n",
       "      <td>Yes</td>\n",
       "      <td>No</td>\n",
       "      <td>No</td>\n",
       "      <td>Month-to-month</td>\n",
       "      <td>Yes</td>\n",
       "      <td>Mailed check</td>\n",
       "      <td>53.90</td>\n",
       "      <td>834.150024</td>\n",
       "      <td>Yes</td>\n",
       "      <td>No</td>\n",
       "    </tr>\n",
       "    <tr>\n",
       "      <th>6</th>\n",
       "      <td>7317-GGVPB</td>\n",
       "      <td>Male</td>\n",
       "      <td>0</td>\n",
       "      <td>Yes</td>\n",
       "      <td>No</td>\n",
       "      <td>71</td>\n",
       "      <td>Yes</td>\n",
       "      <td>Yes</td>\n",
       "      <td>Fiber optic</td>\n",
       "      <td>No</td>\n",
       "      <td>Yes</td>\n",
       "      <td>Yes</td>\n",
       "      <td>Yes</td>\n",
       "      <td>Yes</td>\n",
       "      <td>Yes</td>\n",
       "      <td>Two year</td>\n",
       "      <td>Yes</td>\n",
       "      <td>Credit card (automatic)</td>\n",
       "      <td>108.60</td>\n",
       "      <td>7690.899902</td>\n",
       "      <td>Yes</td>\n",
       "      <td>No</td>\n",
       "    </tr>\n",
       "    <tr>\n",
       "      <th>7</th>\n",
       "      <td>3511-BFTJW</td>\n",
       "      <td>Male</td>\n",
       "      <td>0</td>\n",
       "      <td>Yes</td>\n",
       "      <td>Yes</td>\n",
       "      <td>72</td>\n",
       "      <td>No</td>\n",
       "      <td>No phone service</td>\n",
       "      <td>DSL</td>\n",
       "      <td>Yes</td>\n",
       "      <td>Yes</td>\n",
       "      <td>Yes</td>\n",
       "      <td>No</td>\n",
       "      <td>No</td>\n",
       "      <td>No</td>\n",
       "      <td>Two year</td>\n",
       "      <td>No</td>\n",
       "      <td>Credit card (automatic)</td>\n",
       "      <td>38.50</td>\n",
       "      <td>2763.000000</td>\n",
       "      <td>No</td>\n",
       "      <td>No</td>\n",
       "    </tr>\n",
       "    <tr>\n",
       "      <th>8</th>\n",
       "      <td>7869-ZYDST</td>\n",
       "      <td>Male</td>\n",
       "      <td>0</td>\n",
       "      <td>Yes</td>\n",
       "      <td>No</td>\n",
       "      <td>31</td>\n",
       "      <td>Yes</td>\n",
       "      <td>Yes</td>\n",
       "      <td>DSL</td>\n",
       "      <td>No</td>\n",
       "      <td>No</td>\n",
       "      <td>No</td>\n",
       "      <td>No</td>\n",
       "      <td>Yes</td>\n",
       "      <td>No</td>\n",
       "      <td>Month-to-month</td>\n",
       "      <td>Yes</td>\n",
       "      <td>Credit card (automatic)</td>\n",
       "      <td>59.05</td>\n",
       "      <td>1882.800049</td>\n",
       "      <td>No</td>\n",
       "      <td>No</td>\n",
       "    </tr>\n",
       "    <tr>\n",
       "      <th>9</th>\n",
       "      <td>7439-DKZTW</td>\n",
       "      <td>Male</td>\n",
       "      <td>0</td>\n",
       "      <td>No</td>\n",
       "      <td>No</td>\n",
       "      <td>1</td>\n",
       "      <td>Yes</td>\n",
       "      <td>No</td>\n",
       "      <td>Fiber optic</td>\n",
       "      <td>No</td>\n",
       "      <td>No</td>\n",
       "      <td>No</td>\n",
       "      <td>No</td>\n",
       "      <td>Yes</td>\n",
       "      <td>No</td>\n",
       "      <td>Month-to-month</td>\n",
       "      <td>Yes</td>\n",
       "      <td>Electronic check</td>\n",
       "      <td>80.55</td>\n",
       "      <td>80.550003</td>\n",
       "      <td>No</td>\n",
       "      <td>Yes</td>\n",
       "    </tr>\n",
       "    <tr>\n",
       "      <th>10</th>\n",
       "      <td>6650-BWFRT</td>\n",
       "      <td>Female</td>\n",
       "      <td>0</td>\n",
       "      <td>Yes</td>\n",
       "      <td>No</td>\n",
       "      <td>72</td>\n",
       "      <td>Yes</td>\n",
       "      <td>Yes</td>\n",
       "      <td>Fiber optic</td>\n",
       "      <td>Yes</td>\n",
       "      <td>Yes</td>\n",
       "      <td>Yes</td>\n",
       "      <td>Yes</td>\n",
       "      <td>Yes</td>\n",
       "      <td>Yes</td>\n",
       "      <td>Two year</td>\n",
       "      <td>Yes</td>\n",
       "      <td>Credit card (automatic)</td>\n",
       "      <td>117.15</td>\n",
       "      <td>8529.500000</td>\n",
       "      <td>No</td>\n",
       "      <td>No</td>\n",
       "    </tr>\n",
       "    <tr>\n",
       "      <th>11</th>\n",
       "      <td>5231-FIQPA</td>\n",
       "      <td>Female</td>\n",
       "      <td>0</td>\n",
       "      <td>No</td>\n",
       "      <td>No</td>\n",
       "      <td>41</td>\n",
       "      <td>Yes</td>\n",
       "      <td>No</td>\n",
       "      <td>No</td>\n",
       "      <td>No internet service</td>\n",
       "      <td>No internet service</td>\n",
       "      <td>No internet service</td>\n",
       "      <td>No internet service</td>\n",
       "      <td>No internet service</td>\n",
       "      <td>No internet service</td>\n",
       "      <td>Two year</td>\n",
       "      <td>Yes</td>\n",
       "      <td>Mailed check</td>\n",
       "      <td>19.85</td>\n",
       "      <td>810.450012</td>\n",
       "      <td>No</td>\n",
       "      <td>No</td>\n",
       "    </tr>\n",
       "    <tr>\n",
       "      <th>12</th>\n",
       "      <td>1349-WXNGG</td>\n",
       "      <td>Male</td>\n",
       "      <td>0</td>\n",
       "      <td>No</td>\n",
       "      <td>No</td>\n",
       "      <td>1</td>\n",
       "      <td>Yes</td>\n",
       "      <td>No</td>\n",
       "      <td>No</td>\n",
       "      <td>No internet service</td>\n",
       "      <td>No internet service</td>\n",
       "      <td>No internet service</td>\n",
       "      <td>No internet service</td>\n",
       "      <td>No internet service</td>\n",
       "      <td>No internet service</td>\n",
       "      <td>Month-to-month</td>\n",
       "      <td>No</td>\n",
       "      <td>Bank transfer (automatic)</td>\n",
       "      <td>20.05</td>\n",
       "      <td>20.049999</td>\n",
       "      <td>Yes</td>\n",
       "      <td>No</td>\n",
       "    </tr>\n",
       "    <tr>\n",
       "      <th>13</th>\n",
       "      <td>9092-GDZKO</td>\n",
       "      <td>Male</td>\n",
       "      <td>0</td>\n",
       "      <td>No</td>\n",
       "      <td>No</td>\n",
       "      <td>22</td>\n",
       "      <td>Yes</td>\n",
       "      <td>Yes</td>\n",
       "      <td>No</td>\n",
       "      <td>No internet service</td>\n",
       "      <td>No internet service</td>\n",
       "      <td>No internet service</td>\n",
       "      <td>No internet service</td>\n",
       "      <td>No internet service</td>\n",
       "      <td>No internet service</td>\n",
       "      <td>Month-to-month</td>\n",
       "      <td>Yes</td>\n",
       "      <td>Credit card (automatic)</td>\n",
       "      <td>24.85</td>\n",
       "      <td>493.399994</td>\n",
       "      <td>No</td>\n",
       "      <td>No</td>\n",
       "    </tr>\n",
       "    <tr>\n",
       "      <th>14</th>\n",
       "      <td>6345-FZOQH</td>\n",
       "      <td>Male</td>\n",
       "      <td>0</td>\n",
       "      <td>Yes</td>\n",
       "      <td>No</td>\n",
       "      <td>69</td>\n",
       "      <td>Yes</td>\n",
       "      <td>No</td>\n",
       "      <td>No</td>\n",
       "      <td>No internet service</td>\n",
       "      <td>No internet service</td>\n",
       "      <td>No internet service</td>\n",
       "      <td>No internet service</td>\n",
       "      <td>No internet service</td>\n",
       "      <td>No internet service</td>\n",
       "      <td>Two year</td>\n",
       "      <td>No</td>\n",
       "      <td>Mailed check</td>\n",
       "      <td>19.90</td>\n",
       "      <td>1363.449951</td>\n",
       "      <td>No</td>\n",
       "      <td>No</td>\n",
       "    </tr>\n",
       "    <tr>\n",
       "      <th>15</th>\n",
       "      <td>0428-IKYCP</td>\n",
       "      <td>Male</td>\n",
       "      <td>0</td>\n",
       "      <td>Yes</td>\n",
       "      <td>No</td>\n",
       "      <td>22</td>\n",
       "      <td>Yes</td>\n",
       "      <td>No</td>\n",
       "      <td>Fiber optic</td>\n",
       "      <td>No</td>\n",
       "      <td>No</td>\n",
       "      <td>Yes</td>\n",
       "      <td>No</td>\n",
       "      <td>Yes</td>\n",
       "      <td>No</td>\n",
       "      <td>Month-to-month</td>\n",
       "      <td>Yes</td>\n",
       "      <td>Bank transfer (automatic)</td>\n",
       "      <td>87.00</td>\n",
       "      <td>1850.650024</td>\n",
       "      <td>No</td>\n",
       "      <td>Yes</td>\n",
       "    </tr>\n",
       "    <tr>\n",
       "      <th>16</th>\n",
       "      <td>2903-YYTBW</td>\n",
       "      <td>Male</td>\n",
       "      <td>0</td>\n",
       "      <td>Yes</td>\n",
       "      <td>Yes</td>\n",
       "      <td>1</td>\n",
       "      <td>Yes</td>\n",
       "      <td>No</td>\n",
       "      <td>DSL</td>\n",
       "      <td>No</td>\n",
       "      <td>No</td>\n",
       "      <td>No</td>\n",
       "      <td>No</td>\n",
       "      <td>No</td>\n",
       "      <td>No</td>\n",
       "      <td>Month-to-month</td>\n",
       "      <td>No</td>\n",
       "      <td>Electronic check</td>\n",
       "      <td>44.55</td>\n",
       "      <td>44.549999</td>\n",
       "      <td>No</td>\n",
       "      <td>Yes</td>\n",
       "    </tr>\n",
       "    <tr>\n",
       "      <th>17</th>\n",
       "      <td>4192-GORJT</td>\n",
       "      <td>Male</td>\n",
       "      <td>0</td>\n",
       "      <td>Yes</td>\n",
       "      <td>No</td>\n",
       "      <td>5</td>\n",
       "      <td>Yes</td>\n",
       "      <td>No</td>\n",
       "      <td>Fiber optic</td>\n",
       "      <td>No</td>\n",
       "      <td>No</td>\n",
       "      <td>Yes</td>\n",
       "      <td>No</td>\n",
       "      <td>Yes</td>\n",
       "      <td>Yes</td>\n",
       "      <td>Month-to-month</td>\n",
       "      <td>Yes</td>\n",
       "      <td>Electronic check</td>\n",
       "      <td>94.45</td>\n",
       "      <td>498.100006</td>\n",
       "      <td>Yes</td>\n",
       "      <td>Yes</td>\n",
       "    </tr>\n",
       "    <tr>\n",
       "      <th>18</th>\n",
       "      <td>4822-YCXMX</td>\n",
       "      <td>Male</td>\n",
       "      <td>0</td>\n",
       "      <td>No</td>\n",
       "      <td>No</td>\n",
       "      <td>25</td>\n",
       "      <td>Yes</td>\n",
       "      <td>Yes</td>\n",
       "      <td>Fiber optic</td>\n",
       "      <td>No</td>\n",
       "      <td>No</td>\n",
       "      <td>No</td>\n",
       "      <td>No</td>\n",
       "      <td>No</td>\n",
       "      <td>Yes</td>\n",
       "      <td>Month-to-month</td>\n",
       "      <td>Yes</td>\n",
       "      <td>Electronic check</td>\n",
       "      <td>84.80</td>\n",
       "      <td>2043.449951</td>\n",
       "      <td>Yes</td>\n",
       "      <td>Yes</td>\n",
       "    </tr>\n",
       "    <tr>\n",
       "      <th>19</th>\n",
       "      <td>3132-TVFDZ</td>\n",
       "      <td>Male</td>\n",
       "      <td>1</td>\n",
       "      <td>Yes</td>\n",
       "      <td>No</td>\n",
       "      <td>57</td>\n",
       "      <td>No</td>\n",
       "      <td>No phone service</td>\n",
       "      <td>DSL</td>\n",
       "      <td>No</td>\n",
       "      <td>No</td>\n",
       "      <td>No</td>\n",
       "      <td>No</td>\n",
       "      <td>Yes</td>\n",
       "      <td>Yes</td>\n",
       "      <td>Month-to-month</td>\n",
       "      <td>Yes</td>\n",
       "      <td>Electronic check</td>\n",
       "      <td>44.85</td>\n",
       "      <td>2572.949951</td>\n",
       "      <td>Yes</td>\n",
       "      <td>No</td>\n",
       "    </tr>\n",
       "  </tbody>\n",
       "</table>\n",
       "</div>"
      ],
      "text/plain": [
       "    customerID  gender  SeniorCitizen Partner Dependents  tenure PhoneService  \\\n",
       "0   8008-ESFLK  Female              0     Yes         No      53          Yes   \n",
       "1   6791-YBNAK    Male              0     Yes        Yes      18           No   \n",
       "2   8169-SAEJD    Male              1     Yes         No      69           No   \n",
       "3   9804-ICWBG    Male              0      No         No       1          Yes   \n",
       "4   8008-HAWED    Male              0      No         No      14           No   \n",
       "5   1120-BMWUB  Female              0      No         No      16          Yes   \n",
       "6   7317-GGVPB    Male              0     Yes         No      71          Yes   \n",
       "7   3511-BFTJW    Male              0     Yes        Yes      72           No   \n",
       "8   7869-ZYDST    Male              0     Yes         No      31          Yes   \n",
       "9   7439-DKZTW    Male              0      No         No       1          Yes   \n",
       "10  6650-BWFRT  Female              0     Yes         No      72          Yes   \n",
       "11  5231-FIQPA  Female              0      No         No      41          Yes   \n",
       "12  1349-WXNGG    Male              0      No         No       1          Yes   \n",
       "13  9092-GDZKO    Male              0      No         No      22          Yes   \n",
       "14  6345-FZOQH    Male              0     Yes         No      69          Yes   \n",
       "15  0428-IKYCP    Male              0     Yes         No      22          Yes   \n",
       "16  2903-YYTBW    Male              0     Yes        Yes       1          Yes   \n",
       "17  4192-GORJT    Male              0     Yes         No       5          Yes   \n",
       "18  4822-YCXMX    Male              0      No         No      25          Yes   \n",
       "19  3132-TVFDZ    Male              1     Yes         No      57           No   \n",
       "\n",
       "       MultipleLines InternetService       OnlineSecurity  \\\n",
       "0                 No     Fiber optic                  Yes   \n",
       "1   No phone service             DSL                   No   \n",
       "2   No phone service             DSL                  Yes   \n",
       "3                 No     Fiber optic                   No   \n",
       "4   No phone service             DSL                   No   \n",
       "5                 No             DSL                   No   \n",
       "6                Yes     Fiber optic                   No   \n",
       "7   No phone service             DSL                  Yes   \n",
       "8                Yes             DSL                   No   \n",
       "9                 No     Fiber optic                   No   \n",
       "10               Yes     Fiber optic                  Yes   \n",
       "11                No              No  No internet service   \n",
       "12                No              No  No internet service   \n",
       "13               Yes              No  No internet service   \n",
       "14                No              No  No internet service   \n",
       "15                No     Fiber optic                   No   \n",
       "16                No             DSL                   No   \n",
       "17                No     Fiber optic                   No   \n",
       "18               Yes     Fiber optic                   No   \n",
       "19  No phone service             DSL                   No   \n",
       "\n",
       "           OnlineBackup     DeviceProtection          TechSupport  \\\n",
       "0                   Yes                  Yes                  Yes   \n",
       "1                    No                   No                   No   \n",
       "2                   Yes                   No                   No   \n",
       "3                    No                   No                   No   \n",
       "4                    No                  Yes                   No   \n",
       "5                   Yes                   No                  Yes   \n",
       "6                   Yes                  Yes                  Yes   \n",
       "7                   Yes                  Yes                   No   \n",
       "8                    No                   No                   No   \n",
       "9                    No                   No                   No   \n",
       "10                  Yes                  Yes                  Yes   \n",
       "11  No internet service  No internet service  No internet service   \n",
       "12  No internet service  No internet service  No internet service   \n",
       "13  No internet service  No internet service  No internet service   \n",
       "14  No internet service  No internet service  No internet service   \n",
       "15                   No                  Yes                   No   \n",
       "16                   No                   No                   No   \n",
       "17                   No                  Yes                   No   \n",
       "18                   No                   No                   No   \n",
       "19                   No                   No                   No   \n",
       "\n",
       "            StreamingTV      StreamingMovies        Contract PaperlessBilling  \\\n",
       "0                   Yes                  Yes        One year               No   \n",
       "1                    No                   No  Month-to-month               No   \n",
       "2                   Yes                  Yes        Two year               No   \n",
       "3                    No                   No  Month-to-month              Yes   \n",
       "4                   Yes                  Yes  Month-to-month              Yes   \n",
       "5                    No                   No  Month-to-month              Yes   \n",
       "6                   Yes                  Yes        Two year              Yes   \n",
       "7                    No                   No        Two year               No   \n",
       "8                   Yes                   No  Month-to-month              Yes   \n",
       "9                   Yes                   No  Month-to-month              Yes   \n",
       "10                  Yes                  Yes        Two year              Yes   \n",
       "11  No internet service  No internet service        Two year              Yes   \n",
       "12  No internet service  No internet service  Month-to-month               No   \n",
       "13  No internet service  No internet service  Month-to-month              Yes   \n",
       "14  No internet service  No internet service        Two year               No   \n",
       "15                  Yes                   No  Month-to-month              Yes   \n",
       "16                   No                   No  Month-to-month               No   \n",
       "17                  Yes                  Yes  Month-to-month              Yes   \n",
       "18                   No                  Yes  Month-to-month              Yes   \n",
       "19                  Yes                  Yes  Month-to-month              Yes   \n",
       "\n",
       "                PaymentMethod  MonthlyCharges  TotalCharges Churn Prediction  \n",
       "0            Electronic check          110.50   5835.500000    No         No  \n",
       "1     Credit card (automatic)           25.55    467.850006    No         No  \n",
       "2     Credit card (automatic)           56.55   3952.649902    No         No  \n",
       "3            Electronic check           69.90     69.900002   Yes        Yes  \n",
       "4            Electronic check           50.75    712.750000   Yes        Yes  \n",
       "5                Mailed check           53.90    834.150024   Yes         No  \n",
       "6     Credit card (automatic)          108.60   7690.899902   Yes         No  \n",
       "7     Credit card (automatic)           38.50   2763.000000    No         No  \n",
       "8     Credit card (automatic)           59.05   1882.800049    No         No  \n",
       "9            Electronic check           80.55     80.550003    No        Yes  \n",
       "10    Credit card (automatic)          117.15   8529.500000    No         No  \n",
       "11               Mailed check           19.85    810.450012    No         No  \n",
       "12  Bank transfer (automatic)           20.05     20.049999   Yes         No  \n",
       "13    Credit card (automatic)           24.85    493.399994    No         No  \n",
       "14               Mailed check           19.90   1363.449951    No         No  \n",
       "15  Bank transfer (automatic)           87.00   1850.650024    No        Yes  \n",
       "16           Electronic check           44.55     44.549999    No        Yes  \n",
       "17           Electronic check           94.45    498.100006   Yes        Yes  \n",
       "18           Electronic check           84.80   2043.449951   Yes        Yes  \n",
       "19           Electronic check           44.85   2572.949951   Yes         No  "
      ]
     },
     "execution_count": 221,
     "metadata": {},
     "output_type": "execute_result"
    }
   ],
   "source": [
    "pd.concat([data_inf, y_pred_inf_df], axis=1)"
   ]
  },
  {
   "cell_type": "markdown",
   "metadata": {},
   "source": [
    "- Data inference berhasil diprediski"
   ]
  },
  {
   "cell_type": "markdown",
   "metadata": {},
   "source": [
    "# Model Saving"
   ]
  },
  {
   "cell_type": "markdown",
   "metadata": {},
   "source": [
    "Melakukan model saving agar bisa dilakuakan depoyment model di website."
   ]
  },
  {
   "cell_type": "code",
   "execution_count": 225,
   "metadata": {},
   "outputs": [],
   "source": [
    "# freeze model\n",
    "for layer in model_seq2.layers:\n",
    "  layer.trainable = False"
   ]
  },
  {
   "cell_type": "code",
   "execution_count": 226,
   "metadata": {},
   "outputs": [
    {
     "name": "stdout",
     "output_type": "stream",
     "text": [
      "INFO:tensorflow:Assets written to: churn\\assets\n"
     ]
    }
   ],
   "source": [
    "model_seq2.save(\"churn\")"
   ]
  },
  {
   "cell_type": "code",
   "execution_count": 247,
   "metadata": {},
   "outputs": [],
   "source": [
    "with open(\"preprop.pkl\", \"wb\") as model_file:\n",
    "    pickle.dump(data_pipeline, model_file)\n"
   ]
  },
  {
   "cell_type": "markdown",
   "metadata": {},
   "source": [
    "# Kesimpulan"
   ]
  },
  {
   "cell_type": "markdown",
   "metadata": {},
   "source": [
    "`EDA`\n",
    "- Mengganti tipe data pada kolom TotalCharges karena kolom TotalCharges bertipe data object, tetapi seharusnya bertipe data int atau float karena data merupakan data numeric.\n",
    "- Sebesar 73.4% pelanggan tetap menggunakan produk yang kita tawarkan sedangkan 26.6% pelanggan akan berhenti berlangganan.\n",
    "- Berdasarkan Grafik Persentase Payment Method, terlihat pelanggan yang membayar tagihan dengan electronic check menjadi yang tertinggi di data dengan 33.6% dan yang terendah adalah dengan credit card (auto) dengan 21.6%.\n",
    "- Dapat dilihat pula pelanggan dengan yang membayar tagihan dengan electronic check juga menjadi pelanggan yang paling tinggi persentase churnnya dengan persentase sebesar 45.3% pelanggan akan churn, sedangkan pelanggan dengan loyalitas tinggi adalah pelanggan dengan metode pembayaran credit card (auto) dengan presentase 15.3% yang berhenti berlangganan dan 84.7% yang masih tetap berlangganan.\n",
    "- Berdasarkan Grafik Persentase Gender, presentase pelanggan pria dan wanita cukup seimbang dengan presentase pria sebesar 50.5% dan wanita sebesar 49.5%, dapat dilihat pula gender tidak berpengaruh terhadap tingginya pelanggan yang berhenti berlangganan, karena persentase wanita dan pria yang churn juga cukup seimbang di angka 26%.\n",
    "- Berdasarkan Grafik Persentase Senior Citizen, sebesar 16.2% pelanggan merupakan senior citizen dan 83.8% lainnya bukan, dan pelanggan yang senior citizen cenderung churn lebih tinggi dengan persentase sebesar 41.7% dibandingkan dengan pelanggan yang bukan senior citizen dengan 23.7%.\n",
    "- Berdasarkan Grafik Persentase Jenis Internet Service, pelanggan dengan layanan internet fiber optic menjadi yang tertinggi persentasenya dengan 44%, layanan DSL dengan 34.4% dan tidak memiliki layanan internet dengan 21.6%. \n",
    "- Dapat dilihat pula pelanggan dengan layanan internet fiber optic menjadi yang paling tinggi persentase pelanggan yang churn dengan persentase 69.4% dibandingkan dengan pelanggan layanan internet DSL dengan 24.6%\n",
    "- Dapat dilihat pada Grafik Histogram Tenure, pelanggan dengan bulan berlangganan tinggi cenderung lebih sedikit yang berhenti berlangganan, dan pelanggan dengan bulan berlangganan dibawah 10 bulan yang memiliki tingkat churn tinggi.\n",
    "- Dapat dilihat dari Grafik Histogram Monthly Charges, pelanggan dengan tingkat churn tinggi terdapat pada pelanggan dengan tagihan yang menengah hingga tinggi.\n",
    "\n",
    "`Modeling`\n",
    "- Membangun model sequential dengan 27 node input layer, 2 hidden layer dengan 32 neuron per layer dan 1 output layer. memilih loss fucntion binary_crossentropy karena label merupakan binary, dengan metrics accuracy untuk mengukur outputnya. dilakukan training sebanyak 20 kali dengan batch size 32.\n",
    "- Berdasarkan grafik perbandingan loss pada train data dan validation data pada model sequential, dapat dilihat loss pada percobaan dibawah 5 masih tinggi dan terus menurun hingga 0.5, dan loss antara train data dan val data cenderung konvergen.\n",
    "- Pada grafik perbandingan accurasi train data dan validation data pada model sequential, accuracy tertinggi mendekati 0.8, tetapi grafik masih memiliki nilai naik turun yang drastis antar percobaannya, masih perlu dilakukan model improvement\n",
    "- Membangun model Functional API dengan 27 node input layer, 1 hidden layer dengan 32 neuron, 1 concat layer dan 1 output layer. memilih loss fucntion binary_crossentropy karena label merupakan binary, dengan metrics accuracy untuk mengukur outputnya. dilakukan training sebanyak 20 kali.\n",
    "- Berdasarkan grafik perbandingan loss pada train data dan validation data pada model functional, dapat dilihat loss pada percobaan dibawah 5 juga masih tinggi dan terus menurun hingga 1.2, dan loss antara train data dan val data sudah konvergen.\n",
    "- Pada grafik perbandingan accurasi train data dan validation data, accuracy tertinggi mendekati 0.8, tetapi grafik masih memiliki nilai naik turun yang drastis antar percobaannya, masih perlu dilakukan model improvement\n",
    "- Membangun model improvement sequential dengan 27 node input layer, 3 hidden layer dengan 32 neuron pada layer 1, 16 neuron pada layer 2, dan 4 neuron pada layer 3 serta 1 output layer. menggunakan activation function relu pada hidden layer, dan activation function sigmoid pada output layer, memilih loss fucntion binary_crossentropy karena label merupakan binary, ditambahkan optimizer Adamax, dan menggunakan metrics accuracy untuk mengukur outputnya. dilakukan training sebanyak 70 kali dengan batch size 20.\n",
    "- pada model Sequential setelah dilakukan improvement dengan menambahkan hidden layer dan actifation function, model menjadi lebih stabil, dapat dilihat dari grafik accuracy, tidak terjadi lagi kenaikan dan penurunan nilai accuracy yang tinggi seperti pada model sequential sebelum dilakuakn model improvement. dengan nilai accuracy tertinggi mencapai 0.83\n",
    "- Membangun model Improvement Functional API dengan 27 node input layer, 1 hidden layer dengan 32 neuron, 1 concat layer dan 1 output layer, menambahkan activation function relu pada hidden layer dan sigmoid pada output layer. memilih loss fucntion binary_crossentropy karena label merupakan binary, dengan metrics accuracy untuk mengukur outputnya. dilakukan training sebanyak 70 kali, ditambahkan pula optimizer Adamax agar mendapat hasil lebih baik.\n",
    "- Setelah dilakuakan model improvement dengan menambahkan activation function relu pada hidden layer, sigmoid pada output layer dan optimizer Adamax, accuracy yang didapat pada train set dan validation set lebih stabil dan konvergen, loss yang didapat juga menurun dengan loss terkecil 0.4.\n",
    "- Melihat clasification report pada model setelah dilakukan improvement dan mencoba pada data test. Treshold 0.3 dipilih karena data imbalance antara kelas 1 dan 0\n",
    "- Berdasarkan Classfication Report, model functional lebih tinggi nilai accuracynya dibandingkan model sequential, tetapi model sequential memiliki nilai recall pada kelas 1 lebih tinggi dengan nilai 0.73 dibandingkan model functional dengan 0.68, itu artinya model sequential lebih baik dalam memprediksi TP(True positive) pada kelas 1 dengan baik dibandingkan model functional.\n",
    "- Berdasarkan confusion matrix, nilai TP model Sequential lebih tinggi dengan 140 data diprediksi TP, dari model functional dengan 129 data diprediksi TP. jadi dipilihlah model sequential untuk menjadi model akhir untuk memprediksi apakah customer akan berhenti berlangganan atau tidak dari layanan telco.\n",
    "- Model berhasil dibuat dan berhasil memprediksi pelanggan yang akan berhenti berlangganan produk telco agar bisa dilakukan tindakan preventif agar pelanggan tetap berlangganan produk telco."
   ]
  },
  {
   "cell_type": "markdown",
   "metadata": {},
   "source": [
    "# Referensi"
   ]
  },
  {
   "cell_type": "markdown",
   "metadata": {},
   "source": [
    "Function inpur pipeline : https://www.kaggle.com/code/sardiirfansyah/tensorflow-input-pipeline-prefetch-tf-data\n",
    "\n",
    "https://colab.research.google.com/drive/1anbQI3r7Tt_SfPD2pW7uaNGlV6_Tdy95?usp=sharing#scrollTo=Nz4XBuLdRm29\n",
    "\n",
    "https://colab.research.google.com/drive/1mAWGh27QOQULHHqKqaUiz60xtbwD5q3W?usp=sharing#scrollTo=WJ5ffV6VJrUY"
   ]
  }
 ],
 "metadata": {
  "kernelspec": {
   "display_name": "Python 3.8.5 ('base')",
   "language": "python",
   "name": "python3"
  },
  "language_info": {
   "codemirror_mode": {
    "name": "ipython",
    "version": 3
   },
   "file_extension": ".py",
   "mimetype": "text/x-python",
   "name": "python",
   "nbconvert_exporter": "python",
   "pygments_lexer": "ipython3",
   "version": "3.8.5"
  },
  "orig_nbformat": 4,
  "vscode": {
   "interpreter": {
    "hash": "410842fc67675d5225637bfe92d44d606aacd8e77b6f07a99ebf1173ac142359"
   }
  }
 },
 "nbformat": 4,
 "nbformat_minor": 2
}
