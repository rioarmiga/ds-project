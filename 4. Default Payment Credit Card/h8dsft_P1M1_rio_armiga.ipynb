{
 "cells": [
  {
   "cell_type": "markdown",
   "metadata": {},
   "source": [
    "# Milestone 1 Phase 1"
   ]
  },
  {
   "cell_type": "markdown",
   "metadata": {},
   "source": [
    "# Perkenalan"
   ]
  },
  {
   "cell_type": "markdown",
   "metadata": {},
   "source": [
    "> Bab pengenalan harus diisi dengan identitas, query yang telah kalian buat pada Google Cloud Platform!, dan objective yang ingin dicapai."
   ]
  },
  {
   "cell_type": "markdown",
   "metadata": {},
   "source": [
    "`Rio Armiga - FTDS-012`\n",
    "\n",
    "Dataset : https://console.cloud.google.com/bigquery?sq=1005126397141:5fc9cc617e6144e19fe7e0e024a7c219\n",
    "\n",
    "Objective : Predict whether a person will default in payment next month or not with Logistic Regression, SVM, Decission Tree, Random Forest, KNN, Naive Bayes, dan other Algoritm, and implementing model improvement using Cross Validation and Grid Search"
   ]
  },
  {
   "cell_type": "markdown",
   "metadata": {},
   "source": [
    "# Import Library"
   ]
  },
  {
   "cell_type": "markdown",
   "metadata": {},
   "source": [
    "> Cell pertama pada notebook harus berisi dan hanya berisi semua library yang digunakan dalam project."
   ]
  },
  {
   "cell_type": "code",
   "execution_count": 1,
   "metadata": {},
   "outputs": [],
   "source": [
    "import pandas as pd\n",
    "import numpy as np\n",
    "import seaborn as sns\n",
    "import matplotlib.pyplot as plt\n",
    "from sklearn.model_selection import train_test_split \n",
    "from feature_engine.outliers import Winsorizer\n",
    "from sklearn.pipeline import make_pipeline\n",
    "from sklearn.compose import ColumnTransformer\n",
    "from sklearn.preprocessing import  MinMaxScaler, OneHotEncoder, OrdinalEncoder\n",
    "from imblearn.over_sampling import SMOTE\n",
    "from sklearn.linear_model import LogisticRegression\n",
    "from sklearn.svm import SVC\n",
    "from sklearn.tree import DecisionTreeClassifier\n",
    "from sklearn.ensemble import RandomForestClassifier\n",
    "from sklearn.neighbors import KNeighborsClassifier\n",
    "from sklearn.naive_bayes import CategoricalNB\n",
    "from sklearn.ensemble import AdaBoostClassifier\n",
    "from sklearn.metrics import classification_report, roc_auc_score, confusion_matrix, recall_score\n",
    "from sklearn.model_selection import cross_val_score, GridSearchCV, RepeatedStratifiedKFold"
   ]
  },
  {
   "cell_type": "markdown",
   "metadata": {},
   "source": [
    "# Data Loading"
   ]
  },
  {
   "cell_type": "markdown",
   "metadata": {},
   "source": [
    "> Bagian ini berisi proses penyiapan data sebelum dilakukan eksplorasi data lebih lanjut. Proses Data Loading dapat berupa memberi nama baru untuk setiap kolom, mengecek ukuran dataset, dll."
   ]
  },
  {
   "cell_type": "code",
   "execution_count": 2,
   "metadata": {},
   "outputs": [
    {
     "data": {
      "text/html": [
       "<div>\n",
       "<style scoped>\n",
       "    .dataframe tbody tr th:only-of-type {\n",
       "        vertical-align: middle;\n",
       "    }\n",
       "\n",
       "    .dataframe tbody tr th {\n",
       "        vertical-align: top;\n",
       "    }\n",
       "\n",
       "    .dataframe thead th {\n",
       "        text-align: right;\n",
       "    }\n",
       "</style>\n",
       "<table border=\"1\" class=\"dataframe\">\n",
       "  <thead>\n",
       "    <tr style=\"text-align: right;\">\n",
       "      <th></th>\n",
       "      <th>limit_balance</th>\n",
       "      <th>sex</th>\n",
       "      <th>education_level</th>\n",
       "      <th>marital_status</th>\n",
       "      <th>age</th>\n",
       "      <th>pay_0</th>\n",
       "      <th>pay_2</th>\n",
       "      <th>pay_3</th>\n",
       "      <th>pay_4</th>\n",
       "      <th>pay_5</th>\n",
       "      <th>pay_6</th>\n",
       "      <th>bill_amt_1</th>\n",
       "      <th>bill_amt_2</th>\n",
       "      <th>bill_amt_3</th>\n",
       "      <th>bill_amt_4</th>\n",
       "      <th>bill_amt_5</th>\n",
       "      <th>bill_amt_6</th>\n",
       "      <th>pay_amt_1</th>\n",
       "      <th>pay_amt_2</th>\n",
       "      <th>pay_amt_3</th>\n",
       "      <th>pay_amt_4</th>\n",
       "      <th>pay_amt_5</th>\n",
       "      <th>pay_amt_6</th>\n",
       "      <th>default_payment_next_month</th>\n",
       "    </tr>\n",
       "  </thead>\n",
       "  <tbody>\n",
       "    <tr>\n",
       "      <th>0</th>\n",
       "      <td>50000</td>\n",
       "      <td>1</td>\n",
       "      <td>1</td>\n",
       "      <td>2</td>\n",
       "      <td>39</td>\n",
       "      <td>0</td>\n",
       "      <td>0</td>\n",
       "      <td>0</td>\n",
       "      <td>0</td>\n",
       "      <td>0</td>\n",
       "      <td>0</td>\n",
       "      <td>47174</td>\n",
       "      <td>47974</td>\n",
       "      <td>48630</td>\n",
       "      <td>50803</td>\n",
       "      <td>30789</td>\n",
       "      <td>15874</td>\n",
       "      <td>1800</td>\n",
       "      <td>2000</td>\n",
       "      <td>3000</td>\n",
       "      <td>2000</td>\n",
       "      <td>2000</td>\n",
       "      <td>2000</td>\n",
       "      <td>0</td>\n",
       "    </tr>\n",
       "    <tr>\n",
       "      <th>1</th>\n",
       "      <td>110000</td>\n",
       "      <td>2</td>\n",
       "      <td>1</td>\n",
       "      <td>2</td>\n",
       "      <td>29</td>\n",
       "      <td>0</td>\n",
       "      <td>0</td>\n",
       "      <td>0</td>\n",
       "      <td>0</td>\n",
       "      <td>0</td>\n",
       "      <td>0</td>\n",
       "      <td>48088</td>\n",
       "      <td>45980</td>\n",
       "      <td>44231</td>\n",
       "      <td>32489</td>\n",
       "      <td>26354</td>\n",
       "      <td>20221</td>\n",
       "      <td>2000</td>\n",
       "      <td>2010</td>\n",
       "      <td>3000</td>\n",
       "      <td>3000</td>\n",
       "      <td>3000</td>\n",
       "      <td>1000</td>\n",
       "      <td>0</td>\n",
       "    </tr>\n",
       "    <tr>\n",
       "      <th>2</th>\n",
       "      <td>270000</td>\n",
       "      <td>1</td>\n",
       "      <td>1</td>\n",
       "      <td>2</td>\n",
       "      <td>36</td>\n",
       "      <td>0</td>\n",
       "      <td>0</td>\n",
       "      <td>0</td>\n",
       "      <td>2</td>\n",
       "      <td>0</td>\n",
       "      <td>0</td>\n",
       "      <td>78630</td>\n",
       "      <td>68921</td>\n",
       "      <td>46512</td>\n",
       "      <td>40335</td>\n",
       "      <td>37165</td>\n",
       "      <td>22156</td>\n",
       "      <td>10076</td>\n",
       "      <td>4018</td>\n",
       "      <td>14</td>\n",
       "      <td>2051</td>\n",
       "      <td>2000</td>\n",
       "      <td>0</td>\n",
       "      <td>0</td>\n",
       "    </tr>\n",
       "    <tr>\n",
       "      <th>3</th>\n",
       "      <td>130000</td>\n",
       "      <td>1</td>\n",
       "      <td>1</td>\n",
       "      <td>1</td>\n",
       "      <td>45</td>\n",
       "      <td>0</td>\n",
       "      <td>0</td>\n",
       "      <td>0</td>\n",
       "      <td>0</td>\n",
       "      <td>0</td>\n",
       "      <td>0</td>\n",
       "      <td>58180</td>\n",
       "      <td>59134</td>\n",
       "      <td>61156</td>\n",
       "      <td>62377</td>\n",
       "      <td>63832</td>\n",
       "      <td>65099</td>\n",
       "      <td>2886</td>\n",
       "      <td>2908</td>\n",
       "      <td>2129</td>\n",
       "      <td>2354</td>\n",
       "      <td>2366</td>\n",
       "      <td>2291</td>\n",
       "      <td>0</td>\n",
       "    </tr>\n",
       "    <tr>\n",
       "      <th>4</th>\n",
       "      <td>50000</td>\n",
       "      <td>1</td>\n",
       "      <td>1</td>\n",
       "      <td>2</td>\n",
       "      <td>24</td>\n",
       "      <td>0</td>\n",
       "      <td>0</td>\n",
       "      <td>0</td>\n",
       "      <td>0</td>\n",
       "      <td>0</td>\n",
       "      <td>0</td>\n",
       "      <td>42058</td>\n",
       "      <td>35340</td>\n",
       "      <td>22110</td>\n",
       "      <td>19837</td>\n",
       "      <td>19855</td>\n",
       "      <td>20151</td>\n",
       "      <td>1367</td>\n",
       "      <td>1606</td>\n",
       "      <td>692</td>\n",
       "      <td>709</td>\n",
       "      <td>721</td>\n",
       "      <td>692</td>\n",
       "      <td>0</td>\n",
       "    </tr>\n",
       "    <tr>\n",
       "      <th>...</th>\n",
       "      <td>...</td>\n",
       "      <td>...</td>\n",
       "      <td>...</td>\n",
       "      <td>...</td>\n",
       "      <td>...</td>\n",
       "      <td>...</td>\n",
       "      <td>...</td>\n",
       "      <td>...</td>\n",
       "      <td>...</td>\n",
       "      <td>...</td>\n",
       "      <td>...</td>\n",
       "      <td>...</td>\n",
       "      <td>...</td>\n",
       "      <td>...</td>\n",
       "      <td>...</td>\n",
       "      <td>...</td>\n",
       "      <td>...</td>\n",
       "      <td>...</td>\n",
       "      <td>...</td>\n",
       "      <td>...</td>\n",
       "      <td>...</td>\n",
       "      <td>...</td>\n",
       "      <td>...</td>\n",
       "      <td>...</td>\n",
       "    </tr>\n",
       "    <tr>\n",
       "      <th>2960</th>\n",
       "      <td>210000</td>\n",
       "      <td>2</td>\n",
       "      <td>2</td>\n",
       "      <td>1</td>\n",
       "      <td>39</td>\n",
       "      <td>-1</td>\n",
       "      <td>-1</td>\n",
       "      <td>-1</td>\n",
       "      <td>-1</td>\n",
       "      <td>-2</td>\n",
       "      <td>-1</td>\n",
       "      <td>44100</td>\n",
       "      <td>0</td>\n",
       "      <td>28428</td>\n",
       "      <td>0</td>\n",
       "      <td>0</td>\n",
       "      <td>12000</td>\n",
       "      <td>0</td>\n",
       "      <td>28428</td>\n",
       "      <td>0</td>\n",
       "      <td>0</td>\n",
       "      <td>12000</td>\n",
       "      <td>33664</td>\n",
       "      <td>0</td>\n",
       "    </tr>\n",
       "    <tr>\n",
       "      <th>2961</th>\n",
       "      <td>280000</td>\n",
       "      <td>2</td>\n",
       "      <td>1</td>\n",
       "      <td>1</td>\n",
       "      <td>41</td>\n",
       "      <td>2</td>\n",
       "      <td>-1</td>\n",
       "      <td>-1</td>\n",
       "      <td>-1</td>\n",
       "      <td>-2</td>\n",
       "      <td>-1</td>\n",
       "      <td>280</td>\n",
       "      <td>6852</td>\n",
       "      <td>486</td>\n",
       "      <td>0</td>\n",
       "      <td>0</td>\n",
       "      <td>244</td>\n",
       "      <td>6859</td>\n",
       "      <td>486</td>\n",
       "      <td>0</td>\n",
       "      <td>0</td>\n",
       "      <td>244</td>\n",
       "      <td>0</td>\n",
       "      <td>0</td>\n",
       "    </tr>\n",
       "    <tr>\n",
       "      <th>2962</th>\n",
       "      <td>80000</td>\n",
       "      <td>1</td>\n",
       "      <td>1</td>\n",
       "      <td>2</td>\n",
       "      <td>28</td>\n",
       "      <td>1</td>\n",
       "      <td>-1</td>\n",
       "      <td>-1</td>\n",
       "      <td>-1</td>\n",
       "      <td>-2</td>\n",
       "      <td>-2</td>\n",
       "      <td>0</td>\n",
       "      <td>47</td>\n",
       "      <td>207</td>\n",
       "      <td>0</td>\n",
       "      <td>0</td>\n",
       "      <td>0</td>\n",
       "      <td>47</td>\n",
       "      <td>207</td>\n",
       "      <td>0</td>\n",
       "      <td>0</td>\n",
       "      <td>0</td>\n",
       "      <td>0</td>\n",
       "      <td>0</td>\n",
       "    </tr>\n",
       "    <tr>\n",
       "      <th>2963</th>\n",
       "      <td>200000</td>\n",
       "      <td>1</td>\n",
       "      <td>2</td>\n",
       "      <td>1</td>\n",
       "      <td>53</td>\n",
       "      <td>1</td>\n",
       "      <td>-1</td>\n",
       "      <td>-1</td>\n",
       "      <td>-2</td>\n",
       "      <td>-2</td>\n",
       "      <td>-1</td>\n",
       "      <td>0</td>\n",
       "      <td>2920</td>\n",
       "      <td>0</td>\n",
       "      <td>0</td>\n",
       "      <td>0</td>\n",
       "      <td>6753</td>\n",
       "      <td>2920</td>\n",
       "      <td>0</td>\n",
       "      <td>0</td>\n",
       "      <td>0</td>\n",
       "      <td>6753</td>\n",
       "      <td>0</td>\n",
       "      <td>1</td>\n",
       "    </tr>\n",
       "    <tr>\n",
       "      <th>2964</th>\n",
       "      <td>20000</td>\n",
       "      <td>2</td>\n",
       "      <td>1</td>\n",
       "      <td>2</td>\n",
       "      <td>24</td>\n",
       "      <td>-1</td>\n",
       "      <td>-1</td>\n",
       "      <td>-2</td>\n",
       "      <td>-2</td>\n",
       "      <td>-2</td>\n",
       "      <td>-2</td>\n",
       "      <td>379</td>\n",
       "      <td>0</td>\n",
       "      <td>0</td>\n",
       "      <td>0</td>\n",
       "      <td>0</td>\n",
       "      <td>0</td>\n",
       "      <td>0</td>\n",
       "      <td>0</td>\n",
       "      <td>0</td>\n",
       "      <td>0</td>\n",
       "      <td>0</td>\n",
       "      <td>0</td>\n",
       "      <td>0</td>\n",
       "    </tr>\n",
       "  </tbody>\n",
       "</table>\n",
       "<p>2965 rows × 24 columns</p>\n",
       "</div>"
      ],
      "text/plain": [
       "      limit_balance  sex  education_level  marital_status  age  pay_0  pay_2  \\\n",
       "0             50000    1                1               2   39      0      0   \n",
       "1            110000    2                1               2   29      0      0   \n",
       "2            270000    1                1               2   36      0      0   \n",
       "3            130000    1                1               1   45      0      0   \n",
       "4             50000    1                1               2   24      0      0   \n",
       "...             ...  ...              ...             ...  ...    ...    ...   \n",
       "2960         210000    2                2               1   39     -1     -1   \n",
       "2961         280000    2                1               1   41      2     -1   \n",
       "2962          80000    1                1               2   28      1     -1   \n",
       "2963         200000    1                2               1   53      1     -1   \n",
       "2964          20000    2                1               2   24     -1     -1   \n",
       "\n",
       "      pay_3  pay_4  pay_5  pay_6  bill_amt_1  bill_amt_2  bill_amt_3  \\\n",
       "0         0      0      0      0       47174       47974       48630   \n",
       "1         0      0      0      0       48088       45980       44231   \n",
       "2         0      2      0      0       78630       68921       46512   \n",
       "3         0      0      0      0       58180       59134       61156   \n",
       "4         0      0      0      0       42058       35340       22110   \n",
       "...     ...    ...    ...    ...         ...         ...         ...   \n",
       "2960     -1     -1     -2     -1       44100           0       28428   \n",
       "2961     -1     -1     -2     -1         280        6852         486   \n",
       "2962     -1     -1     -2     -2           0          47         207   \n",
       "2963     -1     -2     -2     -1           0        2920           0   \n",
       "2964     -2     -2     -2     -2         379           0           0   \n",
       "\n",
       "      bill_amt_4  bill_amt_5  bill_amt_6  pay_amt_1  pay_amt_2  pay_amt_3  \\\n",
       "0          50803       30789       15874       1800       2000       3000   \n",
       "1          32489       26354       20221       2000       2010       3000   \n",
       "2          40335       37165       22156      10076       4018         14   \n",
       "3          62377       63832       65099       2886       2908       2129   \n",
       "4          19837       19855       20151       1367       1606        692   \n",
       "...          ...         ...         ...        ...        ...        ...   \n",
       "2960           0           0       12000          0      28428          0   \n",
       "2961           0           0         244       6859        486          0   \n",
       "2962           0           0           0         47        207          0   \n",
       "2963           0           0        6753       2920          0          0   \n",
       "2964           0           0           0          0          0          0   \n",
       "\n",
       "      pay_amt_4  pay_amt_5  pay_amt_6  default_payment_next_month  \n",
       "0          2000       2000       2000                           0  \n",
       "1          3000       3000       1000                           0  \n",
       "2          2051       2000          0                           0  \n",
       "3          2354       2366       2291                           0  \n",
       "4           709        721        692                           0  \n",
       "...         ...        ...        ...                         ...  \n",
       "2960          0      12000      33664                           0  \n",
       "2961          0        244          0                           0  \n",
       "2962          0          0          0                           0  \n",
       "2963          0       6753          0                           1  \n",
       "2964          0          0          0                           0  \n",
       "\n",
       "[2965 rows x 24 columns]"
      ]
     },
     "execution_count": 2,
     "metadata": {},
     "output_type": "execute_result"
    }
   ],
   "source": [
    "data = pd.read_csv('h8dsft_P1M1_rio_armiga.csv')\n",
    "pd.set_option('display.max.columns', None)\n",
    "data"
   ]
  },
  {
   "cell_type": "markdown",
   "metadata": {},
   "source": [
    "Deskripsi dari Nama Kolom"
   ]
  },
  {
   "cell_type": "markdown",
   "metadata": {},
   "source": [
    "- limit_balance: Amount of given credit in NT dollars (includes individual and family/supplementary credit\n",
    "- sex: Gender, 1=male, 2=female\n",
    "- education_level: 1=graduate school, 2=university, 3=high school, 4=others, 5=unknown, 6=unknown\n",
    "- Marital_status 1=married, 2=single, 3=others\n",
    "- pay_0: Repayment status in September, 2005 (-1=pay duly, 1=payment delay for one month, 2=payment delay for two months, ... 8=payment delay for eight months, 9=payment delay for nine months and above)\n",
    "- pay_2: Repayment status in August, 2005\n",
    "- pay_3: Repayment status in July, 2005\n",
    "- pay_4: Repayment status in June, 2005\n",
    "- pay_5: Repayment status in May, 2005\n",
    "- pay_6: Repayment status in April, 2005\n",
    "- bill_amt_1 - bill_amt_6: Amount of bill statement in September - April Desc, 2005 (NT dollar)\n",
    "- pay_amt_1 - pay_amt_6: Amount of previous payment in September - April desc, 2005 (NT dollar)\n",
    "-default_payment_next_month: Default payment (1=yes, 0=no)"
   ]
  },
  {
   "cell_type": "markdown",
   "metadata": {},
   "source": [
    "Mengubah nama kolom pay_0 menjadi pay_1, agar seragam seperti bill_amt_1 dan pay_amt_1, dimulai dari 1 untuk bulan septermber"
   ]
  },
  {
   "cell_type": "code",
   "execution_count": 3,
   "metadata": {},
   "outputs": [],
   "source": [
    "data = data.rename(columns = {'sex':'gender', 'pay_0':'pay_1'})"
   ]
  },
  {
   "cell_type": "markdown",
   "metadata": {},
   "source": [
    "# Exploratory Data Analysis (EDA)"
   ]
  },
  {
   "cell_type": "markdown",
   "metadata": {},
   "source": [
    "> Bagian ini berisi eksplorasi data pada dataset di atas dengan menggunakan query, grouping, visualisasi sederhana, dan lain sebagainya."
   ]
  },
  {
   "cell_type": "code",
   "execution_count": 4,
   "metadata": {},
   "outputs": [
    {
     "data": {
      "text/html": [
       "<div>\n",
       "<style scoped>\n",
       "    .dataframe tbody tr th:only-of-type {\n",
       "        vertical-align: middle;\n",
       "    }\n",
       "\n",
       "    .dataframe tbody tr th {\n",
       "        vertical-align: top;\n",
       "    }\n",
       "\n",
       "    .dataframe thead th {\n",
       "        text-align: right;\n",
       "    }\n",
       "</style>\n",
       "<table border=\"1\" class=\"dataframe\">\n",
       "  <thead>\n",
       "    <tr style=\"text-align: right;\">\n",
       "      <th></th>\n",
       "      <th>limit_balance</th>\n",
       "      <th>gender</th>\n",
       "      <th>education_level</th>\n",
       "      <th>marital_status</th>\n",
       "      <th>age</th>\n",
       "      <th>pay_1</th>\n",
       "      <th>pay_2</th>\n",
       "      <th>pay_3</th>\n",
       "      <th>pay_4</th>\n",
       "      <th>pay_5</th>\n",
       "      <th>pay_6</th>\n",
       "      <th>bill_amt_1</th>\n",
       "      <th>bill_amt_2</th>\n",
       "      <th>bill_amt_3</th>\n",
       "      <th>bill_amt_4</th>\n",
       "      <th>bill_amt_5</th>\n",
       "      <th>bill_amt_6</th>\n",
       "      <th>pay_amt_1</th>\n",
       "      <th>pay_amt_2</th>\n",
       "      <th>pay_amt_3</th>\n",
       "      <th>pay_amt_4</th>\n",
       "      <th>pay_amt_5</th>\n",
       "      <th>pay_amt_6</th>\n",
       "      <th>default_payment_next_month</th>\n",
       "    </tr>\n",
       "  </thead>\n",
       "  <tbody>\n",
       "    <tr>\n",
       "      <th>0</th>\n",
       "      <td>50000</td>\n",
       "      <td>1</td>\n",
       "      <td>1</td>\n",
       "      <td>2</td>\n",
       "      <td>39</td>\n",
       "      <td>0</td>\n",
       "      <td>0</td>\n",
       "      <td>0</td>\n",
       "      <td>0</td>\n",
       "      <td>0</td>\n",
       "      <td>0</td>\n",
       "      <td>47174</td>\n",
       "      <td>47974</td>\n",
       "      <td>48630</td>\n",
       "      <td>50803</td>\n",
       "      <td>30789</td>\n",
       "      <td>15874</td>\n",
       "      <td>1800</td>\n",
       "      <td>2000</td>\n",
       "      <td>3000</td>\n",
       "      <td>2000</td>\n",
       "      <td>2000</td>\n",
       "      <td>2000</td>\n",
       "      <td>0</td>\n",
       "    </tr>\n",
       "    <tr>\n",
       "      <th>1</th>\n",
       "      <td>110000</td>\n",
       "      <td>2</td>\n",
       "      <td>1</td>\n",
       "      <td>2</td>\n",
       "      <td>29</td>\n",
       "      <td>0</td>\n",
       "      <td>0</td>\n",
       "      <td>0</td>\n",
       "      <td>0</td>\n",
       "      <td>0</td>\n",
       "      <td>0</td>\n",
       "      <td>48088</td>\n",
       "      <td>45980</td>\n",
       "      <td>44231</td>\n",
       "      <td>32489</td>\n",
       "      <td>26354</td>\n",
       "      <td>20221</td>\n",
       "      <td>2000</td>\n",
       "      <td>2010</td>\n",
       "      <td>3000</td>\n",
       "      <td>3000</td>\n",
       "      <td>3000</td>\n",
       "      <td>1000</td>\n",
       "      <td>0</td>\n",
       "    </tr>\n",
       "  </tbody>\n",
       "</table>\n",
       "</div>"
      ],
      "text/plain": [
       "   limit_balance  gender  education_level  marital_status  age  pay_1  pay_2  \\\n",
       "0          50000       1                1               2   39      0      0   \n",
       "1         110000       2                1               2   29      0      0   \n",
       "\n",
       "   pay_3  pay_4  pay_5  pay_6  bill_amt_1  bill_amt_2  bill_amt_3  bill_amt_4  \\\n",
       "0      0      0      0      0       47174       47974       48630       50803   \n",
       "1      0      0      0      0       48088       45980       44231       32489   \n",
       "\n",
       "   bill_amt_5  bill_amt_6  pay_amt_1  pay_amt_2  pay_amt_3  pay_amt_4  \\\n",
       "0       30789       15874       1800       2000       3000       2000   \n",
       "1       26354       20221       2000       2010       3000       3000   \n",
       "\n",
       "   pay_amt_5  pay_amt_6  default_payment_next_month  \n",
       "0       2000       2000                           0  \n",
       "1       3000       1000                           0  "
      ]
     },
     "execution_count": 4,
     "metadata": {},
     "output_type": "execute_result"
    }
   ],
   "source": [
    "data.head(2)"
   ]
  },
  {
   "cell_type": "markdown",
   "metadata": {},
   "source": [
    "Melihat data gender"
   ]
  },
  {
   "cell_type": "code",
   "execution_count": 5,
   "metadata": {},
   "outputs": [
    {
     "data": {
      "image/png": "[encoded data removed]",
      "text/plain": [
       "<Figure size 504x360 with 1 Axes>"
      ]
     },
     "metadata": {
      "needs_background": "light"
     },
     "output_type": "display_data"
    }
   ],
   "source": [
    "plt.figure(figsize=(7, 5))\n",
    "plt.title('Grafik Perbandingan Gender')\n",
    "ax =sns.countplot(data=data,x='gender', palette='Set2')\n",
    "plt.xticks([0,1],['Pria','Wanita'], fontsize = 11)\n",
    "for p in ax.patches:\n",
    "   ax.annotate('{:.1f}'.format(p.get_height()), (p.get_x()+0.29, p.get_height()+0.6))"
   ]
  },
  {
   "cell_type": "markdown",
   "metadata": {},
   "source": [
    "- Terdapat 1.802 orang wanita dan 1.163 pria pada dataset ini"
   ]
  },
  {
   "cell_type": "code",
   "execution_count": 6,
   "metadata": {},
   "outputs": [
    {
     "data": {
      "image/png": "[encoded data removed]",
      "text/plain": [
       "<Figure size 504x360 with 1 Axes>"
      ]
     },
     "metadata": {
      "needs_background": "light"
     },
     "output_type": "display_data"
    }
   ],
   "source": [
    "plt.figure(figsize=(7, 5))\n",
    "plt.title('Grafik Perbandingan Gender')\n",
    "ax =sns.countplot(data=data,x='gender', hue='default_payment_next_month', palette='Set2')\n",
    "plt.xticks([0,1],['Pria','Wanita'], fontsize = 11)\n",
    "for p in ax.patches:\n",
    "   ax.annotate('{:.1f}'.format(p.get_height()), (p.get_x()+0.15, p.get_height()+0.6))"
   ]
  },
  {
   "cell_type": "markdown",
   "metadata": {},
   "source": [
    "Melihat data education level"
   ]
  },
  {
   "cell_type": "code",
   "execution_count": 7,
   "metadata": {},
   "outputs": [
    {
     "data": {
      "text/plain": [
       "2    1400\n",
       "1    1039\n",
       "3     483\n",
       "5      24\n",
       "4      13\n",
       "6       4\n",
       "0       2\n",
       "Name: education_level, dtype: int64"
      ]
     },
     "execution_count": 7,
     "metadata": {},
     "output_type": "execute_result"
    }
   ],
   "source": [
    "data.education_level.value_counts()"
   ]
  },
  {
   "cell_type": "markdown",
   "metadata": {},
   "source": [
    "- Karena tingkatan 0, 4, 5, dan 6 mewakili data unkwon dan other, data akan disatukan menjadi 0"
   ]
  },
  {
   "cell_type": "code",
   "execution_count": 8,
   "metadata": {},
   "outputs": [],
   "source": [
    "data.education_level = data.education_level.replace([4,5,6],0)"
   ]
  },
  {
   "cell_type": "code",
   "execution_count": 9,
   "metadata": {},
   "outputs": [
    {
     "data": {
      "image/png": "[encoded data removed]",
      "text/plain": [
       "<Figure size 504x360 with 1 Axes>"
      ]
     },
     "metadata": {
      "needs_background": "light"
     },
     "output_type": "display_data"
    }
   ],
   "source": [
    "plt.figure(figsize=(7, 5))\n",
    "plt.title('Grafik Tingkat Pendidikan')\n",
    "ax = sns.countplot(data=data, x='education_level', palette='Set2',order = data['education_level'].value_counts().index)\n",
    "plt.xticks([0,1,2,3],['University','Grad School','High School','Other'], fontsize = 11,rotation=45)\n",
    "for p in ax.patches:\n",
    "   ax.annotate('{:.1f}'.format(p.get_height()), (p.get_x()+0.17, p.get_height()+0.6))"
   ]
  },
  {
   "cell_type": "markdown",
   "metadata": {},
   "source": [
    "- 1.039 Orang lulus sekolah\n",
    "- 1.400 orang lulusan universitas\n",
    "- 483 orang lulusan SMA\n",
    "- 43 orang dengan tingkat pendidikan tidak diketahui"
   ]
  },
  {
   "cell_type": "code",
   "execution_count": 72,
   "metadata": {},
   "outputs": [
    {
     "data": {
      "image/png": "[encoded data removed]",
      "text/plain": [
       "<Figure size 504x360 with 1 Axes>"
      ]
     },
     "metadata": {
      "needs_background": "light"
     },
     "output_type": "display_data"
    }
   ],
   "source": [
    "plt.figure(figsize=(7, 5))\n",
    "total = float(len(data.education_level))\n",
    "plt.title('Grafik Tingkat Pendidikan')\n",
    "ax = sns.countplot(data=data, x='education_level', hue='default_payment_next_month', palette='Set2',order = data['education_level'].value_counts().index)\n",
    "plt.xticks([0,1,2,3],['University','Grad School','High School','Other'], fontsize = 11,rotation=45)\n",
    "for p in ax.patches:\n",
    "   ax.annotate('{:.1f}'.format(p.get_height()), (p.get_x()+0.1, p.get_height()+0.6))"
   ]
  },
  {
   "cell_type": "markdown",
   "metadata": {},
   "source": [
    "Melihat data marital status"
   ]
  },
  {
   "cell_type": "code",
   "execution_count": 11,
   "metadata": {},
   "outputs": [
    {
     "data": {
      "text/plain": [
       "2    1594\n",
       "1    1332\n",
       "3      35\n",
       "0       4\n",
       "Name: marital_status, dtype: int64"
      ]
     },
     "execution_count": 11,
     "metadata": {},
     "output_type": "execute_result"
    }
   ],
   "source": [
    "data.marital_status.value_counts()"
   ]
  },
  {
   "cell_type": "markdown",
   "metadata": {},
   "source": [
    "Menggabungkan data dengan value 0 dan 4 dan mengasumsikan nilai 3 adalah client dengan marital status devorce."
   ]
  },
  {
   "cell_type": "code",
   "execution_count": 12,
   "metadata": {},
   "outputs": [],
   "source": [
    "data.marital_status = data.marital_status.replace([0],3)"
   ]
  },
  {
   "cell_type": "code",
   "execution_count": 13,
   "metadata": {},
   "outputs": [
    {
     "data": {
      "text/plain": [
       "2    1594\n",
       "1    1332\n",
       "3      39\n",
       "Name: marital_status, dtype: int64"
      ]
     },
     "execution_count": 13,
     "metadata": {},
     "output_type": "execute_result"
    }
   ],
   "source": [
    "data.marital_status.value_counts()"
   ]
  },
  {
   "cell_type": "code",
   "execution_count": 70,
   "metadata": {},
   "outputs": [
    {
     "data": {
      "image/png": "[encoded data removed]",
      "text/plain": [
       "<Figure size 504x360 with 1 Axes>"
      ]
     },
     "metadata": {
      "needs_background": "light"
     },
     "output_type": "display_data"
    }
   ],
   "source": [
    "plt.figure(figsize=(7,5))\n",
    "plt.title('Grafik Marital Status')\n",
    "ax = sns.countplot(data=data,x='marital_status', palette='Set2', order = data['marital_status'].value_counts().index)\n",
    "plt.xticks([0,1,2],['Singgle','Married','Devorce'], fontsize = 11)\n",
    "for p in ax.patches:\n",
    "   ax.annotate('{:.1f}'.format(p.get_height()), (p.get_x()+0.2, p.get_height()+0.6))"
   ]
  },
  {
   "cell_type": "markdown",
   "metadata": {},
   "source": [
    "- Terdapat 1.332 orang dengan status Married, 1.594 dengan status Single, dan 39 orang dengan status devorce"
   ]
  },
  {
   "cell_type": "code",
   "execution_count": 15,
   "metadata": {},
   "outputs": [
    {
     "data": {
      "image/png": "[encoded data removed]",
      "text/plain": [
       "<Figure size 504x360 with 1 Axes>"
      ]
     },
     "metadata": {
      "needs_background": "light"
     },
     "output_type": "display_data"
    }
   ],
   "source": [
    "plt.figure(figsize=(7,5))\n",
    "plt.title('Default?')\n",
    "ax=sns.countplot(data=data,x='default_payment_next_month',palette='Set2', order = data['default_payment_next_month'].value_counts().index)\n",
    "plt.xticks([0,1],['No','Yes'], fontsize = 11)\n",
    "for p in ax.patches:\n",
    "   ax.annotate('{:.1f}'.format(p.get_height()), (p.get_x()+0.3, p.get_height()+0.6))"
   ]
  },
  {
   "cell_type": "markdown",
   "metadata": {},
   "source": [
    "- Terdapat 2.330 yang atau 78.59% client yang diprediksi tidak lalai dalam membayar tagihan dan 635 atau sekitar 21.41% yang diprediksi akan lalai dalam membayar tagihan "
   ]
  },
  {
   "cell_type": "markdown",
   "metadata": {},
   "source": [
    "Melihat Sebaran Umur Client"
   ]
  },
  {
   "cell_type": "code",
   "execution_count": 16,
   "metadata": {},
   "outputs": [
    {
     "data": {
      "text/plain": [
       "<AxesSubplot:xlabel='age', ylabel='Count'>"
      ]
     },
     "execution_count": 16,
     "metadata": {},
     "output_type": "execute_result"
    },
    {
     "data": {
      "image/png": "[encoded data removed]",
      "text/plain": [
       "<Figure size 1080x360 with 1 Axes>"
      ]
     },
     "metadata": {
      "needs_background": "light"
     },
     "output_type": "display_data"
    }
   ],
   "source": [
    "plt.figure(figsize=(15, 5))\n",
    "sns.histplot(data.age, bins=30, kde=True, palette='Set2')"
   ]
  },
  {
   "cell_type": "markdown",
   "metadata": {},
   "source": [
    "- Sebaran umur terbanyak terdapat pada range 20-40 tahun\n",
    "- Dari grafik juga dapat dilihat bahwa feature age merupakan skewed distribution data."
   ]
  },
  {
   "cell_type": "code",
   "execution_count": 17,
   "metadata": {},
   "outputs": [
    {
     "data": {
      "text/plain": [
       "[Text(0.5, 1.0, 'Grafik Hubungan Umur Vs Limit Balance')]"
      ]
     },
     "execution_count": 17,
     "metadata": {},
     "output_type": "execute_result"
    },
    {
     "data": {
      "image/png": "[encoded data removed]",
      "text/plain": [
       "<Figure size 648x432 with 1 Axes>"
      ]
     },
     "metadata": {
      "needs_background": "light"
     },
     "output_type": "display_data"
    }
   ],
   "source": [
    "plt.figure(figsize=(9,6))\n",
    "sns.scatterplot(x='age',y='limit_balance',data=data, hue='default_payment_next_month', style='default_payment_next_month',palette='Set2').set(title='Grafik Hubungan Umur Vs Limit Balance')"
   ]
  },
  {
   "cell_type": "markdown",
   "metadata": {},
   "source": [
    "- Mayoritas Client yang akan lalai dalam membayar tagihan bulan depan memiliki limit balance <400.000 \n",
    "- Umur tidak berpengaruh siginifikan terhadap client akan lalai dalam membayar tahihan kartu kredit atau tidak di bulan depan"
   ]
  },
  {
   "cell_type": "markdown",
   "metadata": {},
   "source": [
    "Apakah gender mempengaruhi limit balance?"
   ]
  },
  {
   "cell_type": "code",
   "execution_count": 18,
   "metadata": {},
   "outputs": [
    {
     "name": "stderr",
     "output_type": "stream",
     "text": [
      "c:\\Users\\rioar\\anaconda3\\lib\\site-packages\\seaborn\\categorical.py:1296: UserWarning: 55.0% of the points cannot be placed; you may want to decrease the size of the markers or use stripplot.\n",
      "  warnings.warn(msg, UserWarning)\n",
      "c:\\Users\\rioar\\anaconda3\\lib\\site-packages\\seaborn\\categorical.py:1296: UserWarning: 69.0% of the points cannot be placed; you may want to decrease the size of the markers or use stripplot.\n",
      "  warnings.warn(msg, UserWarning)\n"
     ]
    },
    {
     "data": {
      "text/plain": [
       "([<matplotlib.axis.XTick at 0x1a657535dc0>,\n",
       "  <matplotlib.axis.XTick at 0x1a657535c70>],\n",
       " [Text(0, 0, 'Pria'), Text(1, 0, 'Wanita')])"
      ]
     },
     "execution_count": 18,
     "metadata": {},
     "output_type": "execute_result"
    },
    {
     "data": {
      "image/png": "[encoded data removed]",
      "text/plain": [
       "<Figure size 432x288 with 1 Axes>"
      ]
     },
     "metadata": {
      "needs_background": "light"
     },
     "output_type": "display_data"
    }
   ],
   "source": [
    "sns.swarmplot(x=\"gender\", y=\"limit_balance\", data=data).set(title='Grafik Hubungan Gender Vs Limit Balance')\n",
    "plt.xticks([0,1],['Pria','Wanita'], fontsize = 11)"
   ]
  },
  {
   "cell_type": "markdown",
   "metadata": {},
   "source": [
    "- Dari sebaran data pada grafik Grafik Hubungan Gender Vs Limit Balance dapat dilihat bahwa limit tingginya limit balance tidak ditentukan oleh gender"
   ]
  },
  {
   "cell_type": "markdown",
   "metadata": {},
   "source": [
    "Apakah education level mempengaruhi limit balance?"
   ]
  },
  {
   "cell_type": "code",
   "execution_count": 19,
   "metadata": {},
   "outputs": [
    {
     "name": "stderr",
     "output_type": "stream",
     "text": [
      "c:\\Users\\rioar\\anaconda3\\lib\\site-packages\\seaborn\\categorical.py:1296: UserWarning: 69.5% of the points cannot be placed; you may want to decrease the size of the markers or use stripplot.\n",
      "  warnings.warn(msg, UserWarning)\n",
      "c:\\Users\\rioar\\anaconda3\\lib\\site-packages\\seaborn\\categorical.py:1296: UserWarning: 79.4% of the points cannot be placed; you may want to decrease the size of the markers or use stripplot.\n",
      "  warnings.warn(msg, UserWarning)\n",
      "c:\\Users\\rioar\\anaconda3\\lib\\site-packages\\seaborn\\categorical.py:1296: UserWarning: 55.1% of the points cannot be placed; you may want to decrease the size of the markers or use stripplot.\n",
      "  warnings.warn(msg, UserWarning)\n"
     ]
    },
    {
     "data": {
      "text/plain": [
       "([<matplotlib.axis.XTick at 0x1a657845880>,\n",
       "  <matplotlib.axis.XTick at 0x1a657845850>,\n",
       "  <matplotlib.axis.XTick at 0x1a65783b310>,\n",
       "  <matplotlib.axis.XTick at 0x1a65787d670>],\n",
       " [Text(0, 0, 'Other'),\n",
       "  Text(1, 0, 'Grad School'),\n",
       "  Text(2, 0, 'University'),\n",
       "  Text(3, 0, 'High School')])"
      ]
     },
     "execution_count": 19,
     "metadata": {},
     "output_type": "execute_result"
    },
    {
     "data": {
      "image/png": "[encoded data removed]",
      "text/plain": [
       "<Figure size 432x288 with 1 Axes>"
      ]
     },
     "metadata": {
      "needs_background": "light"
     },
     "output_type": "display_data"
    }
   ],
   "source": [
    "sns.swarmplot(x=\"education_level\", y=\"limit_balance\", data=data).set(title='Grafik Hubungan Education Level Vs Limit Balance')\n",
    "plt.xticks([0,1,2,3],['Other','Grad School','University','High School'], fontsize = 11)"
   ]
  },
  {
   "cell_type": "markdown",
   "metadata": {},
   "source": [
    "- Dari grafik Hubungan Education Level Vs Limit Balance dapat dilihat bahwa, client yang tingkat pendidikan dengan kategori oher memiliki limit balance yang rendah."
   ]
  },
  {
   "cell_type": "markdown",
   "metadata": {},
   "source": [
    "Apakah client dengan limit balance rendah cenderung lalai dalam membayarkan tagihan?"
   ]
  },
  {
   "cell_type": "code",
   "execution_count": 20,
   "metadata": {},
   "outputs": [
    {
     "data": {
      "text/plain": [
       "(array([ 0,  1,  2,  3,  4,  5,  6,  7,  8,  9, 10, 11, 12, 13, 14, 15, 16,\n",
       "        17, 18, 19, 20, 21, 22, 23, 24, 25, 26, 27, 28, 29, 30, 31, 32, 33,\n",
       "        34, 35, 36, 37, 38, 39, 40, 41, 42, 43, 44, 45, 46, 47, 48, 49, 50,\n",
       "        51, 52, 53, 54, 55, 56, 57, 58]),\n",
       " [Text(0, 0, '10000'),\n",
       "  Text(1, 0, '20000'),\n",
       "  Text(2, 0, '30000'),\n",
       "  Text(3, 0, '40000'),\n",
       "  Text(4, 0, '50000'),\n",
       "  Text(5, 0, '60000'),\n",
       "  Text(6, 0, '70000'),\n",
       "  Text(7, 0, '80000'),\n",
       "  Text(8, 0, '90000'),\n",
       "  Text(9, 0, '100000'),\n",
       "  Text(10, 0, '110000'),\n",
       "  Text(11, 0, '120000'),\n",
       "  Text(12, 0, '130000'),\n",
       "  Text(13, 0, '140000'),\n",
       "  Text(14, 0, '150000'),\n",
       "  Text(15, 0, '160000'),\n",
       "  Text(16, 0, '170000'),\n",
       "  Text(17, 0, '180000'),\n",
       "  Text(18, 0, '190000'),\n",
       "  Text(19, 0, '200000'),\n",
       "  Text(20, 0, '210000'),\n",
       "  Text(21, 0, '220000'),\n",
       "  Text(22, 0, '230000'),\n",
       "  Text(23, 0, '240000'),\n",
       "  Text(24, 0, '250000'),\n",
       "  Text(25, 0, '260000'),\n",
       "  Text(26, 0, '270000'),\n",
       "  Text(27, 0, '280000'),\n",
       "  Text(28, 0, '290000'),\n",
       "  Text(29, 0, '300000'),\n",
       "  Text(30, 0, '310000'),\n",
       "  Text(31, 0, '320000'),\n",
       "  Text(32, 0, '330000'),\n",
       "  Text(33, 0, '340000'),\n",
       "  Text(34, 0, '350000'),\n",
       "  Text(35, 0, '360000'),\n",
       "  Text(36, 0, '370000'),\n",
       "  Text(37, 0, '380000'),\n",
       "  Text(38, 0, '390000'),\n",
       "  Text(39, 0, '400000'),\n",
       "  Text(40, 0, '410000'),\n",
       "  Text(41, 0, '420000'),\n",
       "  Text(42, 0, '430000'),\n",
       "  Text(43, 0, '440000'),\n",
       "  Text(44, 0, '450000'),\n",
       "  Text(45, 0, '460000'),\n",
       "  Text(46, 0, '470000'),\n",
       "  Text(47, 0, '480000'),\n",
       "  Text(48, 0, '490000'),\n",
       "  Text(49, 0, '500000'),\n",
       "  Text(50, 0, '510000'),\n",
       "  Text(51, 0, '530000'),\n",
       "  Text(52, 0, '560000'),\n",
       "  Text(53, 0, '620000'),\n",
       "  Text(54, 0, '680000'),\n",
       "  Text(55, 0, '700000'),\n",
       "  Text(56, 0, '750000'),\n",
       "  Text(57, 0, '780000'),\n",
       "  Text(58, 0, '800000')])"
      ]
     },
     "execution_count": 20,
     "metadata": {},
     "output_type": "execute_result"
    },
    {
     "data": {
      "image/png": "[encoded data removed]",
      "text/plain": [
       "<Figure size 1080x360 with 1 Axes>"
      ]
     },
     "metadata": {
      "needs_background": "light"
     },
     "output_type": "display_data"
    }
   ],
   "source": [
    "plt.figure(figsize=(15,5))\n",
    "sns.countplot( x=\"limit_balance\", data=data, hue='default_payment_next_month')\n",
    "plt.xticks(rotation=45)"
   ]
  },
  {
   "cell_type": "code",
   "execution_count": 21,
   "metadata": {},
   "outputs": [
    {
     "name": "stderr",
     "output_type": "stream",
     "text": [
      "c:\\Users\\rioar\\anaconda3\\lib\\site-packages\\seaborn\\categorical.py:1296: UserWarning: 74.3% of the points cannot be placed; you may want to decrease the size of the markers or use stripplot.\n",
      "  warnings.warn(msg, UserWarning)\n",
      "c:\\Users\\rioar\\anaconda3\\lib\\site-packages\\seaborn\\categorical.py:1296: UserWarning: 41.4% of the points cannot be placed; you may want to decrease the size of the markers or use stripplot.\n",
      "  warnings.warn(msg, UserWarning)\n"
     ]
    },
    {
     "data": {
      "text/plain": [
       "([<matplotlib.axis.XTick at 0x1a658d4f280>,\n",
       "  <matplotlib.axis.XTick at 0x1a658d4f250>],\n",
       " [Text(0, 0, 'Tidak'), Text(1, 0, 'Ya')])"
      ]
     },
     "execution_count": 21,
     "metadata": {},
     "output_type": "execute_result"
    },
    {
     "data": {
      "image/png": "[encoded data removed]",
      "text/plain": [
       "<Figure size 432x288 with 1 Axes>"
      ]
     },
     "metadata": {
      "needs_background": "light"
     },
     "output_type": "display_data"
    }
   ],
   "source": [
    "sns.swarmplot(x=\"default_payment_next_month\", y=\"limit_balance\", data=data).set(title='Grafik Hubungan Default Vs Limit Balance')\n",
    "plt.xticks([0,1],['Tidak','Ya'], fontsize = 11)"
   ]
  },
  {
   "cell_type": "markdown",
   "metadata": {},
   "source": [
    "- Dari grafik Hubungan Default Vs Limit Balance dapat dilihat bahwa, client dengan limit balance rendah cenderung akan lalai dalam membayar tagihan bulan."
   ]
  },
  {
   "cell_type": "markdown",
   "metadata": {},
   "source": [
    "Membagi data menjadi untuk melihat korelasi menggunakan heatmap"
   ]
  },
  {
   "cell_type": "code",
   "execution_count": 22,
   "metadata": {},
   "outputs": [],
   "source": [
    "data_corr=data[['limit_balance', 'gender', 'education_level', 'marital_status', 'age', 'pay_1', 'pay_2', 'pay_3', 'pay_4', 'pay_5', 'pay_6','default_payment_next_month']]\n",
    "data_corr2=data[['bill_amt_1','bill_amt_2', 'bill_amt_3', 'bill_amt_4', 'bill_amt_5', 'bill_amt_6', 'pay_amt_1', 'pay_amt_2', 'pay_amt_3', 'pay_amt_4', 'pay_amt_5','pay_amt_6', 'default_payment_next_month']]"
   ]
  },
  {
   "cell_type": "markdown",
   "metadata": {},
   "source": [
    "Melihat korelasi data_corr menggunakan heatmap"
   ]
  },
  {
   "cell_type": "code",
   "execution_count": 23,
   "metadata": {},
   "outputs": [
    {
     "data": {
      "text/plain": [
       "<AxesSubplot:>"
      ]
     },
     "execution_count": 23,
     "metadata": {},
     "output_type": "execute_result"
    },
    {
     "data": {
      "image/png": "[encoded data removed]",
      "text/plain": [
       "<Figure size 1080x1080 with 2 Axes>"
      ]
     },
     "metadata": {
      "needs_background": "light"
     },
     "output_type": "display_data"
    }
   ],
   "source": [
    "plt.figure(figsize=(15,15))\n",
    "sns.heatmap(data_corr.corr(), annot=True)"
   ]
  },
  {
   "cell_type": "markdown",
   "metadata": {},
   "source": [
    "- Kolom Default next month memiliki korelasi paling tinggi dengan kelompok pay, dengan korelasi tertinggi terdapat pada pay_1 dengan nilai korelasi 0.36, dan paling kecil korelasinya dengan marital status dengan -0.03.\n",
    "- Kelompok kolom pay memiliki korelasi yang tinggi antarkolomnya dengan poin korelasi paling tinggi sebesar 0.81 antara pay_5 dan pay_6"
   ]
  },
  {
   "cell_type": "code",
   "execution_count": 24,
   "metadata": {},
   "outputs": [
    {
     "data": {
      "text/plain": [
       "(array([ 0.5,  1.5,  2.5,  3.5,  4.5,  5.5,  6.5,  7.5,  8.5,  9.5, 10.5,\n",
       "        11.5, 12.5]),\n",
       " [Text(0, 0.5, 'bill_amt_1'),\n",
       "  Text(0, 1.5, 'bill_amt_2'),\n",
       "  Text(0, 2.5, 'bill_amt_3'),\n",
       "  Text(0, 3.5, 'bill_amt_4'),\n",
       "  Text(0, 4.5, 'bill_amt_5'),\n",
       "  Text(0, 5.5, 'bill_amt_6'),\n",
       "  Text(0, 6.5, 'pay_amt_1'),\n",
       "  Text(0, 7.5, 'pay_amt_2'),\n",
       "  Text(0, 8.5, 'pay_amt_3'),\n",
       "  Text(0, 9.5, 'pay_amt_4'),\n",
       "  Text(0, 10.5, 'pay_amt_5'),\n",
       "  Text(0, 11.5, 'pay_amt_6'),\n",
       "  Text(0, 12.5, 'default_payment_next_month')])"
      ]
     },
     "execution_count": 24,
     "metadata": {},
     "output_type": "execute_result"
    },
    {
     "data": {
      "image/png": "[encoded data removed]",
      "text/plain": [
       "<Figure size 1080x1080 with 2 Axes>"
      ]
     },
     "metadata": {
      "needs_background": "light"
     },
     "output_type": "display_data"
    }
   ],
   "source": [
    "plt.figure(figsize=(15,15))\n",
    "sns.heatmap(data_corr2.corr(), annot=True)\n",
    "plt.yticks(rotation=0)"
   ]
  },
  {
   "cell_type": "markdown",
   "metadata": {},
   "source": [
    "- Kelompok kolom bill_amt memiliki korelasi sangat kecil dengan kolom default payment, korelasi terbesar pada kelompok tersebut hanya 0.0061 poin pada kolom bill_amt_6 dengan kolom default payment\n",
    "- Kelompok pay_amt juga memiliki korelasi yang kecil dengan kolom default payment, dengan score korelasi tertinggi terdapat pada pay_amt_3 dengan score korelasi -0.09 dengan kolom default payment"
   ]
  },
  {
   "cell_type": "markdown",
   "metadata": {},
   "source": [
    "# Data Preprocessing"
   ]
  },
  {
   "cell_type": "markdown",
   "metadata": {},
   "source": [
    ">Bagian ini berisi proses penyiapan data untuk proses pelatihan model, seperti pembagian data menjadi train-dev-test, transformasi data (normalisasi, encoding, dll.), dan proses-proses lain yang dibutuhkan."
   ]
  },
  {
   "cell_type": "markdown",
   "metadata": {},
   "source": [
    "## Memisakan Data untuk Model Inference"
   ]
  },
  {
   "cell_type": "markdown",
   "metadata": {},
   "source": [
    "Membagi data inference untuk menguji model dengan data baru."
   ]
  },
  {
   "cell_type": "code",
   "execution_count": 25,
   "metadata": {},
   "outputs": [
    {
     "data": {
      "text/html": [
       "<div>\n",
       "<style scoped>\n",
       "    .dataframe tbody tr th:only-of-type {\n",
       "        vertical-align: middle;\n",
       "    }\n",
       "\n",
       "    .dataframe tbody tr th {\n",
       "        vertical-align: top;\n",
       "    }\n",
       "\n",
       "    .dataframe thead th {\n",
       "        text-align: right;\n",
       "    }\n",
       "</style>\n",
       "<table border=\"1\" class=\"dataframe\">\n",
       "  <thead>\n",
       "    <tr style=\"text-align: right;\">\n",
       "      <th></th>\n",
       "      <th>limit_balance</th>\n",
       "      <th>gender</th>\n",
       "      <th>education_level</th>\n",
       "      <th>marital_status</th>\n",
       "      <th>age</th>\n",
       "      <th>pay_1</th>\n",
       "      <th>pay_2</th>\n",
       "      <th>pay_3</th>\n",
       "      <th>pay_4</th>\n",
       "      <th>pay_5</th>\n",
       "      <th>pay_6</th>\n",
       "      <th>bill_amt_1</th>\n",
       "      <th>bill_amt_2</th>\n",
       "      <th>bill_amt_3</th>\n",
       "      <th>bill_amt_4</th>\n",
       "      <th>bill_amt_5</th>\n",
       "      <th>bill_amt_6</th>\n",
       "      <th>pay_amt_1</th>\n",
       "      <th>pay_amt_2</th>\n",
       "      <th>pay_amt_3</th>\n",
       "      <th>pay_amt_4</th>\n",
       "      <th>pay_amt_5</th>\n",
       "      <th>pay_amt_6</th>\n",
       "      <th>default_payment_next_month</th>\n",
       "    </tr>\n",
       "  </thead>\n",
       "  <tbody>\n",
       "    <tr>\n",
       "      <th>0</th>\n",
       "      <td>50000</td>\n",
       "      <td>1</td>\n",
       "      <td>1</td>\n",
       "      <td>2</td>\n",
       "      <td>39</td>\n",
       "      <td>0</td>\n",
       "      <td>0</td>\n",
       "      <td>0</td>\n",
       "      <td>0</td>\n",
       "      <td>0</td>\n",
       "      <td>0</td>\n",
       "      <td>47174</td>\n",
       "      <td>47974</td>\n",
       "      <td>48630</td>\n",
       "      <td>50803</td>\n",
       "      <td>30789</td>\n",
       "      <td>15874</td>\n",
       "      <td>1800</td>\n",
       "      <td>2000</td>\n",
       "      <td>3000</td>\n",
       "      <td>2000</td>\n",
       "      <td>2000</td>\n",
       "      <td>2000</td>\n",
       "      <td>0</td>\n",
       "    </tr>\n",
       "    <tr>\n",
       "      <th>1</th>\n",
       "      <td>110000</td>\n",
       "      <td>2</td>\n",
       "      <td>1</td>\n",
       "      <td>2</td>\n",
       "      <td>29</td>\n",
       "      <td>0</td>\n",
       "      <td>0</td>\n",
       "      <td>0</td>\n",
       "      <td>0</td>\n",
       "      <td>0</td>\n",
       "      <td>0</td>\n",
       "      <td>48088</td>\n",
       "      <td>45980</td>\n",
       "      <td>44231</td>\n",
       "      <td>32489</td>\n",
       "      <td>26354</td>\n",
       "      <td>20221</td>\n",
       "      <td>2000</td>\n",
       "      <td>2010</td>\n",
       "      <td>3000</td>\n",
       "      <td>3000</td>\n",
       "      <td>3000</td>\n",
       "      <td>1000</td>\n",
       "      <td>0</td>\n",
       "    </tr>\n",
       "    <tr>\n",
       "      <th>2</th>\n",
       "      <td>270000</td>\n",
       "      <td>1</td>\n",
       "      <td>1</td>\n",
       "      <td>2</td>\n",
       "      <td>36</td>\n",
       "      <td>0</td>\n",
       "      <td>0</td>\n",
       "      <td>0</td>\n",
       "      <td>2</td>\n",
       "      <td>0</td>\n",
       "      <td>0</td>\n",
       "      <td>78630</td>\n",
       "      <td>68921</td>\n",
       "      <td>46512</td>\n",
       "      <td>40335</td>\n",
       "      <td>37165</td>\n",
       "      <td>22156</td>\n",
       "      <td>10076</td>\n",
       "      <td>4018</td>\n",
       "      <td>14</td>\n",
       "      <td>2051</td>\n",
       "      <td>2000</td>\n",
       "      <td>0</td>\n",
       "      <td>0</td>\n",
       "    </tr>\n",
       "    <tr>\n",
       "      <th>3</th>\n",
       "      <td>130000</td>\n",
       "      <td>1</td>\n",
       "      <td>1</td>\n",
       "      <td>1</td>\n",
       "      <td>45</td>\n",
       "      <td>0</td>\n",
       "      <td>0</td>\n",
       "      <td>0</td>\n",
       "      <td>0</td>\n",
       "      <td>0</td>\n",
       "      <td>0</td>\n",
       "      <td>58180</td>\n",
       "      <td>59134</td>\n",
       "      <td>61156</td>\n",
       "      <td>62377</td>\n",
       "      <td>63832</td>\n",
       "      <td>65099</td>\n",
       "      <td>2886</td>\n",
       "      <td>2908</td>\n",
       "      <td>2129</td>\n",
       "      <td>2354</td>\n",
       "      <td>2366</td>\n",
       "      <td>2291</td>\n",
       "      <td>0</td>\n",
       "    </tr>\n",
       "    <tr>\n",
       "      <th>4</th>\n",
       "      <td>50000</td>\n",
       "      <td>1</td>\n",
       "      <td>1</td>\n",
       "      <td>2</td>\n",
       "      <td>24</td>\n",
       "      <td>0</td>\n",
       "      <td>0</td>\n",
       "      <td>0</td>\n",
       "      <td>0</td>\n",
       "      <td>0</td>\n",
       "      <td>0</td>\n",
       "      <td>42058</td>\n",
       "      <td>35340</td>\n",
       "      <td>22110</td>\n",
       "      <td>19837</td>\n",
       "      <td>19855</td>\n",
       "      <td>20151</td>\n",
       "      <td>1367</td>\n",
       "      <td>1606</td>\n",
       "      <td>692</td>\n",
       "      <td>709</td>\n",
       "      <td>721</td>\n",
       "      <td>692</td>\n",
       "      <td>0</td>\n",
       "    </tr>\n",
       "    <tr>\n",
       "      <th>...</th>\n",
       "      <td>...</td>\n",
       "      <td>...</td>\n",
       "      <td>...</td>\n",
       "      <td>...</td>\n",
       "      <td>...</td>\n",
       "      <td>...</td>\n",
       "      <td>...</td>\n",
       "      <td>...</td>\n",
       "      <td>...</td>\n",
       "      <td>...</td>\n",
       "      <td>...</td>\n",
       "      <td>...</td>\n",
       "      <td>...</td>\n",
       "      <td>...</td>\n",
       "      <td>...</td>\n",
       "      <td>...</td>\n",
       "      <td>...</td>\n",
       "      <td>...</td>\n",
       "      <td>...</td>\n",
       "      <td>...</td>\n",
       "      <td>...</td>\n",
       "      <td>...</td>\n",
       "      <td>...</td>\n",
       "      <td>...</td>\n",
       "    </tr>\n",
       "    <tr>\n",
       "      <th>2950</th>\n",
       "      <td>210000</td>\n",
       "      <td>2</td>\n",
       "      <td>2</td>\n",
       "      <td>1</td>\n",
       "      <td>39</td>\n",
       "      <td>-1</td>\n",
       "      <td>-1</td>\n",
       "      <td>-1</td>\n",
       "      <td>-1</td>\n",
       "      <td>-2</td>\n",
       "      <td>-1</td>\n",
       "      <td>44100</td>\n",
       "      <td>0</td>\n",
       "      <td>28428</td>\n",
       "      <td>0</td>\n",
       "      <td>0</td>\n",
       "      <td>12000</td>\n",
       "      <td>0</td>\n",
       "      <td>28428</td>\n",
       "      <td>0</td>\n",
       "      <td>0</td>\n",
       "      <td>12000</td>\n",
       "      <td>33664</td>\n",
       "      <td>0</td>\n",
       "    </tr>\n",
       "    <tr>\n",
       "      <th>2951</th>\n",
       "      <td>280000</td>\n",
       "      <td>2</td>\n",
       "      <td>1</td>\n",
       "      <td>1</td>\n",
       "      <td>41</td>\n",
       "      <td>2</td>\n",
       "      <td>-1</td>\n",
       "      <td>-1</td>\n",
       "      <td>-1</td>\n",
       "      <td>-2</td>\n",
       "      <td>-1</td>\n",
       "      <td>280</td>\n",
       "      <td>6852</td>\n",
       "      <td>486</td>\n",
       "      <td>0</td>\n",
       "      <td>0</td>\n",
       "      <td>244</td>\n",
       "      <td>6859</td>\n",
       "      <td>486</td>\n",
       "      <td>0</td>\n",
       "      <td>0</td>\n",
       "      <td>244</td>\n",
       "      <td>0</td>\n",
       "      <td>0</td>\n",
       "    </tr>\n",
       "    <tr>\n",
       "      <th>2952</th>\n",
       "      <td>80000</td>\n",
       "      <td>1</td>\n",
       "      <td>1</td>\n",
       "      <td>2</td>\n",
       "      <td>28</td>\n",
       "      <td>1</td>\n",
       "      <td>-1</td>\n",
       "      <td>-1</td>\n",
       "      <td>-1</td>\n",
       "      <td>-2</td>\n",
       "      <td>-2</td>\n",
       "      <td>0</td>\n",
       "      <td>47</td>\n",
       "      <td>207</td>\n",
       "      <td>0</td>\n",
       "      <td>0</td>\n",
       "      <td>0</td>\n",
       "      <td>47</td>\n",
       "      <td>207</td>\n",
       "      <td>0</td>\n",
       "      <td>0</td>\n",
       "      <td>0</td>\n",
       "      <td>0</td>\n",
       "      <td>0</td>\n",
       "    </tr>\n",
       "    <tr>\n",
       "      <th>2953</th>\n",
       "      <td>200000</td>\n",
       "      <td>1</td>\n",
       "      <td>2</td>\n",
       "      <td>1</td>\n",
       "      <td>53</td>\n",
       "      <td>1</td>\n",
       "      <td>-1</td>\n",
       "      <td>-1</td>\n",
       "      <td>-2</td>\n",
       "      <td>-2</td>\n",
       "      <td>-1</td>\n",
       "      <td>0</td>\n",
       "      <td>2920</td>\n",
       "      <td>0</td>\n",
       "      <td>0</td>\n",
       "      <td>0</td>\n",
       "      <td>6753</td>\n",
       "      <td>2920</td>\n",
       "      <td>0</td>\n",
       "      <td>0</td>\n",
       "      <td>0</td>\n",
       "      <td>6753</td>\n",
       "      <td>0</td>\n",
       "      <td>1</td>\n",
       "    </tr>\n",
       "    <tr>\n",
       "      <th>2954</th>\n",
       "      <td>20000</td>\n",
       "      <td>2</td>\n",
       "      <td>1</td>\n",
       "      <td>2</td>\n",
       "      <td>24</td>\n",
       "      <td>-1</td>\n",
       "      <td>-1</td>\n",
       "      <td>-2</td>\n",
       "      <td>-2</td>\n",
       "      <td>-2</td>\n",
       "      <td>-2</td>\n",
       "      <td>379</td>\n",
       "      <td>0</td>\n",
       "      <td>0</td>\n",
       "      <td>0</td>\n",
       "      <td>0</td>\n",
       "      <td>0</td>\n",
       "      <td>0</td>\n",
       "      <td>0</td>\n",
       "      <td>0</td>\n",
       "      <td>0</td>\n",
       "      <td>0</td>\n",
       "      <td>0</td>\n",
       "      <td>0</td>\n",
       "    </tr>\n",
       "  </tbody>\n",
       "</table>\n",
       "<p>2955 rows × 24 columns</p>\n",
       "</div>"
      ],
      "text/plain": [
       "      limit_balance  gender  education_level  marital_status  age  pay_1  \\\n",
       "0             50000       1                1               2   39      0   \n",
       "1            110000       2                1               2   29      0   \n",
       "2            270000       1                1               2   36      0   \n",
       "3            130000       1                1               1   45      0   \n",
       "4             50000       1                1               2   24      0   \n",
       "...             ...     ...              ...             ...  ...    ...   \n",
       "2950         210000       2                2               1   39     -1   \n",
       "2951         280000       2                1               1   41      2   \n",
       "2952          80000       1                1               2   28      1   \n",
       "2953         200000       1                2               1   53      1   \n",
       "2954          20000       2                1               2   24     -1   \n",
       "\n",
       "      pay_2  pay_3  pay_4  pay_5  pay_6  bill_amt_1  bill_amt_2  bill_amt_3  \\\n",
       "0         0      0      0      0      0       47174       47974       48630   \n",
       "1         0      0      0      0      0       48088       45980       44231   \n",
       "2         0      0      2      0      0       78630       68921       46512   \n",
       "3         0      0      0      0      0       58180       59134       61156   \n",
       "4         0      0      0      0      0       42058       35340       22110   \n",
       "...     ...    ...    ...    ...    ...         ...         ...         ...   \n",
       "2950     -1     -1     -1     -2     -1       44100           0       28428   \n",
       "2951     -1     -1     -1     -2     -1         280        6852         486   \n",
       "2952     -1     -1     -1     -2     -2           0          47         207   \n",
       "2953     -1     -1     -2     -2     -1           0        2920           0   \n",
       "2954     -1     -2     -2     -2     -2         379           0           0   \n",
       "\n",
       "      bill_amt_4  bill_amt_5  bill_amt_6  pay_amt_1  pay_amt_2  pay_amt_3  \\\n",
       "0          50803       30789       15874       1800       2000       3000   \n",
       "1          32489       26354       20221       2000       2010       3000   \n",
       "2          40335       37165       22156      10076       4018         14   \n",
       "3          62377       63832       65099       2886       2908       2129   \n",
       "4          19837       19855       20151       1367       1606        692   \n",
       "...          ...         ...         ...        ...        ...        ...   \n",
       "2950           0           0       12000          0      28428          0   \n",
       "2951           0           0         244       6859        486          0   \n",
       "2952           0           0           0         47        207          0   \n",
       "2953           0           0        6753       2920          0          0   \n",
       "2954           0           0           0          0          0          0   \n",
       "\n",
       "      pay_amt_4  pay_amt_5  pay_amt_6  default_payment_next_month  \n",
       "0          2000       2000       2000                           0  \n",
       "1          3000       3000       1000                           0  \n",
       "2          2051       2000          0                           0  \n",
       "3          2354       2366       2291                           0  \n",
       "4           709        721        692                           0  \n",
       "...         ...        ...        ...                         ...  \n",
       "2950          0      12000      33664                           0  \n",
       "2951          0        244          0                           0  \n",
       "2952          0          0          0                           0  \n",
       "2953          0       6753          0                           1  \n",
       "2954          0          0          0                           0  \n",
       "\n",
       "[2955 rows x 24 columns]"
      ]
     },
     "execution_count": 25,
     "metadata": {},
     "output_type": "execute_result"
    }
   ],
   "source": [
    "# Membagi data Inference dan Data train_test\n",
    "data_inf = data.sample(10, random_state=4)\n",
    "data_train_test = data.drop(data_inf.index)\n",
    "# Reset index pada data Inference dan Data train_test\n",
    "data_inf.reset_index(drop=True, inplace=True) \n",
    "data_train_test.reset_index(drop=True, inplace=True)\n",
    "\n",
    "data_train_test"
   ]
  },
  {
   "cell_type": "markdown",
   "metadata": {},
   "source": [
    "- Data sudah berkurang 10 baris, dari semula 2.965  baris, sekarang data brejumlah 2.955 baris\n",
    "- Pemisahan data_inf bertujuan untuk menjadi data yang diprediksi ketika model sudah berhasil dibuat"
   ]
  },
  {
   "cell_type": "markdown",
   "metadata": {},
   "source": [
    "## Memisahkan Feature (X) dan label (y)"
   ]
  },
  {
   "cell_type": "markdown",
   "metadata": {},
   "source": [
    "Melakukan splitting data X (Feature), y (label/target), yang menjadi target adalah kolom income_bracket"
   ]
  },
  {
   "cell_type": "code",
   "execution_count": 26,
   "metadata": {},
   "outputs": [
    {
     "data": {
      "text/html": [
       "<div>\n",
       "<style scoped>\n",
       "    .dataframe tbody tr th:only-of-type {\n",
       "        vertical-align: middle;\n",
       "    }\n",
       "\n",
       "    .dataframe tbody tr th {\n",
       "        vertical-align: top;\n",
       "    }\n",
       "\n",
       "    .dataframe thead th {\n",
       "        text-align: right;\n",
       "    }\n",
       "</style>\n",
       "<table border=\"1\" class=\"dataframe\">\n",
       "  <thead>\n",
       "    <tr style=\"text-align: right;\">\n",
       "      <th></th>\n",
       "      <th>limit_balance</th>\n",
       "      <th>gender</th>\n",
       "      <th>education_level</th>\n",
       "      <th>marital_status</th>\n",
       "      <th>age</th>\n",
       "      <th>pay_1</th>\n",
       "      <th>pay_2</th>\n",
       "      <th>pay_3</th>\n",
       "      <th>pay_4</th>\n",
       "      <th>pay_5</th>\n",
       "      <th>pay_6</th>\n",
       "      <th>bill_amt_1</th>\n",
       "      <th>bill_amt_2</th>\n",
       "      <th>bill_amt_3</th>\n",
       "      <th>bill_amt_4</th>\n",
       "      <th>bill_amt_5</th>\n",
       "      <th>bill_amt_6</th>\n",
       "      <th>pay_amt_1</th>\n",
       "      <th>pay_amt_2</th>\n",
       "      <th>pay_amt_3</th>\n",
       "      <th>pay_amt_4</th>\n",
       "      <th>pay_amt_5</th>\n",
       "      <th>pay_amt_6</th>\n",
       "    </tr>\n",
       "  </thead>\n",
       "  <tbody>\n",
       "    <tr>\n",
       "      <th>0</th>\n",
       "      <td>50000</td>\n",
       "      <td>1</td>\n",
       "      <td>1</td>\n",
       "      <td>2</td>\n",
       "      <td>39</td>\n",
       "      <td>0</td>\n",
       "      <td>0</td>\n",
       "      <td>0</td>\n",
       "      <td>0</td>\n",
       "      <td>0</td>\n",
       "      <td>0</td>\n",
       "      <td>47174</td>\n",
       "      <td>47974</td>\n",
       "      <td>48630</td>\n",
       "      <td>50803</td>\n",
       "      <td>30789</td>\n",
       "      <td>15874</td>\n",
       "      <td>1800</td>\n",
       "      <td>2000</td>\n",
       "      <td>3000</td>\n",
       "      <td>2000</td>\n",
       "      <td>2000</td>\n",
       "      <td>2000</td>\n",
       "    </tr>\n",
       "    <tr>\n",
       "      <th>1</th>\n",
       "      <td>110000</td>\n",
       "      <td>2</td>\n",
       "      <td>1</td>\n",
       "      <td>2</td>\n",
       "      <td>29</td>\n",
       "      <td>0</td>\n",
       "      <td>0</td>\n",
       "      <td>0</td>\n",
       "      <td>0</td>\n",
       "      <td>0</td>\n",
       "      <td>0</td>\n",
       "      <td>48088</td>\n",
       "      <td>45980</td>\n",
       "      <td>44231</td>\n",
       "      <td>32489</td>\n",
       "      <td>26354</td>\n",
       "      <td>20221</td>\n",
       "      <td>2000</td>\n",
       "      <td>2010</td>\n",
       "      <td>3000</td>\n",
       "      <td>3000</td>\n",
       "      <td>3000</td>\n",
       "      <td>1000</td>\n",
       "    </tr>\n",
       "  </tbody>\n",
       "</table>\n",
       "</div>"
      ],
      "text/plain": [
       "   limit_balance  gender  education_level  marital_status  age  pay_1  pay_2  \\\n",
       "0          50000       1                1               2   39      0      0   \n",
       "1         110000       2                1               2   29      0      0   \n",
       "\n",
       "   pay_3  pay_4  pay_5  pay_6  bill_amt_1  bill_amt_2  bill_amt_3  bill_amt_4  \\\n",
       "0      0      0      0      0       47174       47974       48630       50803   \n",
       "1      0      0      0      0       48088       45980       44231       32489   \n",
       "\n",
       "   bill_amt_5  bill_amt_6  pay_amt_1  pay_amt_2  pay_amt_3  pay_amt_4  \\\n",
       "0       30789       15874       1800       2000       3000       2000   \n",
       "1       26354       20221       2000       2010       3000       3000   \n",
       "\n",
       "   pay_amt_5  pay_amt_6  \n",
       "0       2000       2000  \n",
       "1       3000       1000  "
      ]
     },
     "execution_count": 26,
     "metadata": {},
     "output_type": "execute_result"
    }
   ],
   "source": [
    "# X : Feature\n",
    "# y : label/target\n",
    "X = data_train_test.drop('default_payment_next_month', axis=1)\n",
    "y = data_train_test['default_payment_next_month']\n",
    "X.head(2)"
   ]
  },
  {
   "cell_type": "markdown",
   "metadata": {},
   "source": [
    "Memisahkan data train dan test"
   ]
  },
  {
   "cell_type": "code",
   "execution_count": 27,
   "metadata": {},
   "outputs": [
    {
     "name": "stdout",
     "output_type": "stream",
     "text": [
      "Train Size :  (2659, 23)\n",
      "Test Size  :  (296, 23)\n",
      "Test Size  :  (2659,)\n",
      "Test Size  :  (296,)\n"
     ]
    }
   ],
   "source": [
    "# Memisahkan data Train dan Test\n",
    "\n",
    "X_train, X_test, y_train, y_test = train_test_split(X, y, test_size=0.1, random_state=21)\n",
    "\n",
    "print('Train Size : ', X_train.shape)\n",
    "print('Test Size  : ', X_test.shape)\n",
    "print('Test Size  : ', y_train.shape)\n",
    "print('Test Size  : ', y_test.shape)"
   ]
  },
  {
   "cell_type": "markdown",
   "metadata": {},
   "source": [
    "## Columns categorization"
   ]
  },
  {
   "cell_type": "markdown",
   "metadata": {},
   "source": [
    "Memisahkan numerical column categorical column nominal dan categorical column ordinal"
   ]
  },
  {
   "cell_type": "code",
   "execution_count": 28,
   "metadata": {},
   "outputs": [
    {
     "data": {
      "text/html": [
       "<div>\n",
       "<style scoped>\n",
       "    .dataframe tbody tr th:only-of-type {\n",
       "        vertical-align: middle;\n",
       "    }\n",
       "\n",
       "    .dataframe tbody tr th {\n",
       "        vertical-align: top;\n",
       "    }\n",
       "\n",
       "    .dataframe thead th {\n",
       "        text-align: right;\n",
       "    }\n",
       "</style>\n",
       "<table border=\"1\" class=\"dataframe\">\n",
       "  <thead>\n",
       "    <tr style=\"text-align: right;\">\n",
       "      <th></th>\n",
       "      <th>limit_balance</th>\n",
       "      <th>age</th>\n",
       "      <th>bill_amt_1</th>\n",
       "      <th>bill_amt_2</th>\n",
       "      <th>bill_amt_3</th>\n",
       "      <th>bill_amt_4</th>\n",
       "      <th>bill_amt_5</th>\n",
       "      <th>bill_amt_6</th>\n",
       "      <th>pay_amt_1</th>\n",
       "      <th>pay_amt_2</th>\n",
       "      <th>pay_amt_3</th>\n",
       "      <th>pay_amt_4</th>\n",
       "      <th>pay_amt_5</th>\n",
       "      <th>pay_amt_6</th>\n",
       "    </tr>\n",
       "  </thead>\n",
       "  <tbody>\n",
       "    <tr>\n",
       "      <th>2119</th>\n",
       "      <td>220000</td>\n",
       "      <td>33</td>\n",
       "      <td>9649</td>\n",
       "      <td>8300</td>\n",
       "      <td>1590</td>\n",
       "      <td>1341</td>\n",
       "      <td>8171</td>\n",
       "      <td>14253</td>\n",
       "      <td>8300</td>\n",
       "      <td>1590</td>\n",
       "      <td>1341</td>\n",
       "      <td>8171</td>\n",
       "      <td>14253</td>\n",
       "      <td>3513</td>\n",
       "    </tr>\n",
       "    <tr>\n",
       "      <th>1781</th>\n",
       "      <td>50000</td>\n",
       "      <td>26</td>\n",
       "      <td>38160</td>\n",
       "      <td>40213</td>\n",
       "      <td>41167</td>\n",
       "      <td>41890</td>\n",
       "      <td>42605</td>\n",
       "      <td>41792</td>\n",
       "      <td>3000</td>\n",
       "      <td>1900</td>\n",
       "      <td>1700</td>\n",
       "      <td>1700</td>\n",
       "      <td>0</td>\n",
       "      <td>2500</td>\n",
       "    </tr>\n",
       "    <tr>\n",
       "      <th>365</th>\n",
       "      <td>180000</td>\n",
       "      <td>25</td>\n",
       "      <td>12891</td>\n",
       "      <td>14275</td>\n",
       "      <td>15737</td>\n",
       "      <td>16603</td>\n",
       "      <td>17395</td>\n",
       "      <td>17182</td>\n",
       "      <td>1600</td>\n",
       "      <td>2000</td>\n",
       "      <td>1500</td>\n",
       "      <td>1003</td>\n",
       "      <td>1003</td>\n",
       "      <td>1006</td>\n",
       "    </tr>\n",
       "    <tr>\n",
       "      <th>812</th>\n",
       "      <td>80000</td>\n",
       "      <td>41</td>\n",
       "      <td>35646</td>\n",
       "      <td>38040</td>\n",
       "      <td>39562</td>\n",
       "      <td>40427</td>\n",
       "      <td>43417</td>\n",
       "      <td>46878</td>\n",
       "      <td>3000</td>\n",
       "      <td>2135</td>\n",
       "      <td>2000</td>\n",
       "      <td>3500</td>\n",
       "      <td>4000</td>\n",
       "      <td>3000</td>\n",
       "    </tr>\n",
       "    <tr>\n",
       "      <th>2878</th>\n",
       "      <td>10000</td>\n",
       "      <td>30</td>\n",
       "      <td>390</td>\n",
       "      <td>0</td>\n",
       "      <td>780</td>\n",
       "      <td>0</td>\n",
       "      <td>0</td>\n",
       "      <td>0</td>\n",
       "      <td>0</td>\n",
       "      <td>780</td>\n",
       "      <td>0</td>\n",
       "      <td>0</td>\n",
       "      <td>0</td>\n",
       "      <td>0</td>\n",
       "    </tr>\n",
       "    <tr>\n",
       "      <th>...</th>\n",
       "      <td>...</td>\n",
       "      <td>...</td>\n",
       "      <td>...</td>\n",
       "      <td>...</td>\n",
       "      <td>...</td>\n",
       "      <td>...</td>\n",
       "      <td>...</td>\n",
       "      <td>...</td>\n",
       "      <td>...</td>\n",
       "      <td>...</td>\n",
       "      <td>...</td>\n",
       "      <td>...</td>\n",
       "      <td>...</td>\n",
       "      <td>...</td>\n",
       "    </tr>\n",
       "    <tr>\n",
       "      <th>1969</th>\n",
       "      <td>130000</td>\n",
       "      <td>33</td>\n",
       "      <td>1022</td>\n",
       "      <td>0</td>\n",
       "      <td>0</td>\n",
       "      <td>0</td>\n",
       "      <td>0</td>\n",
       "      <td>0</td>\n",
       "      <td>0</td>\n",
       "      <td>0</td>\n",
       "      <td>0</td>\n",
       "      <td>0</td>\n",
       "      <td>0</td>\n",
       "      <td>0</td>\n",
       "    </tr>\n",
       "    <tr>\n",
       "      <th>2574</th>\n",
       "      <td>260000</td>\n",
       "      <td>29</td>\n",
       "      <td>1267</td>\n",
       "      <td>553</td>\n",
       "      <td>0</td>\n",
       "      <td>202</td>\n",
       "      <td>11990</td>\n",
       "      <td>3359</td>\n",
       "      <td>553</td>\n",
       "      <td>0</td>\n",
       "      <td>202</td>\n",
       "      <td>11990</td>\n",
       "      <td>3359</td>\n",
       "      <td>1035</td>\n",
       "    </tr>\n",
       "    <tr>\n",
       "      <th>2757</th>\n",
       "      <td>340000</td>\n",
       "      <td>33</td>\n",
       "      <td>411</td>\n",
       "      <td>10983</td>\n",
       "      <td>8548</td>\n",
       "      <td>11190</td>\n",
       "      <td>8210</td>\n",
       "      <td>7981</td>\n",
       "      <td>11038</td>\n",
       "      <td>8591</td>\n",
       "      <td>11246</td>\n",
       "      <td>8251</td>\n",
       "      <td>8021</td>\n",
       "      <td>0</td>\n",
       "    </tr>\n",
       "    <tr>\n",
       "      <th>128</th>\n",
       "      <td>90000</td>\n",
       "      <td>41</td>\n",
       "      <td>48276</td>\n",
       "      <td>47820</td>\n",
       "      <td>46602</td>\n",
       "      <td>47141</td>\n",
       "      <td>16114</td>\n",
       "      <td>15825</td>\n",
       "      <td>2281</td>\n",
       "      <td>1219</td>\n",
       "      <td>1164</td>\n",
       "      <td>556</td>\n",
       "      <td>595</td>\n",
       "      <td>480</td>\n",
       "    </tr>\n",
       "    <tr>\n",
       "      <th>1463</th>\n",
       "      <td>150000</td>\n",
       "      <td>28</td>\n",
       "      <td>70537</td>\n",
       "      <td>38474</td>\n",
       "      <td>9299</td>\n",
       "      <td>10299</td>\n",
       "      <td>759</td>\n",
       "      <td>0</td>\n",
       "      <td>8000</td>\n",
       "      <td>2000</td>\n",
       "      <td>1000</td>\n",
       "      <td>759</td>\n",
       "      <td>0</td>\n",
       "      <td>0</td>\n",
       "    </tr>\n",
       "  </tbody>\n",
       "</table>\n",
       "<p>296 rows × 14 columns</p>\n",
       "</div>"
      ],
      "text/plain": [
       "      limit_balance  age  bill_amt_1  bill_amt_2  bill_amt_3  bill_amt_4  \\\n",
       "2119         220000   33        9649        8300        1590        1341   \n",
       "1781          50000   26       38160       40213       41167       41890   \n",
       "365          180000   25       12891       14275       15737       16603   \n",
       "812           80000   41       35646       38040       39562       40427   \n",
       "2878          10000   30         390           0         780           0   \n",
       "...             ...  ...         ...         ...         ...         ...   \n",
       "1969         130000   33        1022           0           0           0   \n",
       "2574         260000   29        1267         553           0         202   \n",
       "2757         340000   33         411       10983        8548       11190   \n",
       "128           90000   41       48276       47820       46602       47141   \n",
       "1463         150000   28       70537       38474        9299       10299   \n",
       "\n",
       "      bill_amt_5  bill_amt_6  pay_amt_1  pay_amt_2  pay_amt_3  pay_amt_4  \\\n",
       "2119        8171       14253       8300       1590       1341       8171   \n",
       "1781       42605       41792       3000       1900       1700       1700   \n",
       "365        17395       17182       1600       2000       1500       1003   \n",
       "812        43417       46878       3000       2135       2000       3500   \n",
       "2878           0           0          0        780          0          0   \n",
       "...          ...         ...        ...        ...        ...        ...   \n",
       "1969           0           0          0          0          0          0   \n",
       "2574       11990        3359        553          0        202      11990   \n",
       "2757        8210        7981      11038       8591      11246       8251   \n",
       "128        16114       15825       2281       1219       1164        556   \n",
       "1463         759           0       8000       2000       1000        759   \n",
       "\n",
       "      pay_amt_5  pay_amt_6  \n",
       "2119      14253       3513  \n",
       "1781          0       2500  \n",
       "365        1003       1006  \n",
       "812        4000       3000  \n",
       "2878          0          0  \n",
       "...         ...        ...  \n",
       "1969          0          0  \n",
       "2574       3359       1035  \n",
       "2757       8021          0  \n",
       "128         595        480  \n",
       "1463          0          0  \n",
       "\n",
       "[296 rows x 14 columns]"
      ]
     },
     "execution_count": 28,
     "metadata": {},
     "output_type": "execute_result"
    }
   ],
   "source": [
    "# Numerical Column\n",
    "numerical_col = X_train[['limit_balance','age','bill_amt_1','bill_amt_2','bill_amt_3','bill_amt_4','bill_amt_5','bill_amt_6', 'pay_amt_1', 'pay_amt_2', 'pay_amt_3', 'pay_amt_4', 'pay_amt_5', 'pay_amt_6']].columns.tolist()\n",
    "# Cat column nominalordinal\n",
    "categorical_col_nor = X_train[['gender','marital_status']].columns.tolist()\n",
    "# Cat column ordinal\n",
    "categorical_col_or = X_train[['education_level','pay_1','pay_2','pay_3','pay_4','pay_5','pay_6']].columns.tolist()\n",
    "\n",
    "\n",
    "X_train_numerical_col = X_train[numerical_col]\n",
    "X_train_categorical_col_nor = X_train[categorical_col_nor]\n",
    "X_train_categorical_col_or = X_train[categorical_col_or]\n",
    "\n",
    "X_test_numerical_col = X_test[numerical_col]\n",
    "X_test_categorical_col_nor = X_test[categorical_col_nor]\n",
    "X_test_categorical_col_or = X_test[categorical_col_or]\n",
    "X_test_numerical_col"
   ]
  },
  {
   "cell_type": "markdown",
   "metadata": {},
   "source": [
    "## Handle Outlier"
   ]
  },
  {
   "cell_type": "markdown",
   "metadata": {},
   "source": [
    "Melihat statistika descriptive dari data train set"
   ]
  },
  {
   "cell_type": "code",
   "execution_count": 29,
   "metadata": {},
   "outputs": [
    {
     "data": {
      "text/html": [
       "<div>\n",
       "<style scoped>\n",
       "    .dataframe tbody tr th:only-of-type {\n",
       "        vertical-align: middle;\n",
       "    }\n",
       "\n",
       "    .dataframe tbody tr th {\n",
       "        vertical-align: top;\n",
       "    }\n",
       "\n",
       "    .dataframe thead th {\n",
       "        text-align: right;\n",
       "    }\n",
       "</style>\n",
       "<table border=\"1\" class=\"dataframe\">\n",
       "  <thead>\n",
       "    <tr style=\"text-align: right;\">\n",
       "      <th></th>\n",
       "      <th>limit_balance</th>\n",
       "      <th>gender</th>\n",
       "      <th>education_level</th>\n",
       "      <th>marital_status</th>\n",
       "      <th>age</th>\n",
       "      <th>pay_1</th>\n",
       "      <th>pay_2</th>\n",
       "      <th>pay_3</th>\n",
       "      <th>pay_4</th>\n",
       "      <th>pay_5</th>\n",
       "      <th>pay_6</th>\n",
       "      <th>bill_amt_1</th>\n",
       "      <th>bill_amt_2</th>\n",
       "      <th>bill_amt_3</th>\n",
       "      <th>bill_amt_4</th>\n",
       "      <th>bill_amt_5</th>\n",
       "      <th>bill_amt_6</th>\n",
       "      <th>pay_amt_1</th>\n",
       "      <th>pay_amt_2</th>\n",
       "      <th>pay_amt_3</th>\n",
       "      <th>pay_amt_4</th>\n",
       "      <th>pay_amt_5</th>\n",
       "      <th>pay_amt_6</th>\n",
       "    </tr>\n",
       "  </thead>\n",
       "  <tbody>\n",
       "    <tr>\n",
       "      <th>count</th>\n",
       "      <td>2659.000000</td>\n",
       "      <td>2659.000000</td>\n",
       "      <td>2659.000000</td>\n",
       "      <td>2659.000000</td>\n",
       "      <td>2659.000000</td>\n",
       "      <td>2659.000000</td>\n",
       "      <td>2659.000000</td>\n",
       "      <td>2659.000000</td>\n",
       "      <td>2659.000000</td>\n",
       "      <td>2659.000000</td>\n",
       "      <td>2659.000000</td>\n",
       "      <td>2659.000000</td>\n",
       "      <td>2659.000000</td>\n",
       "      <td>2659.000000</td>\n",
       "      <td>2659.000000</td>\n",
       "      <td>2659.000000</td>\n",
       "      <td>2659.00000</td>\n",
       "      <td>2659.000000</td>\n",
       "      <td>2.659000e+03</td>\n",
       "      <td>2659.000000</td>\n",
       "      <td>2659.000000</td>\n",
       "      <td>2659.000000</td>\n",
       "      <td>2659.000000</td>\n",
       "    </tr>\n",
       "    <tr>\n",
       "      <th>mean</th>\n",
       "      <td>163429.860850</td>\n",
       "      <td>1.603986</td>\n",
       "      <td>1.776984</td>\n",
       "      <td>1.567507</td>\n",
       "      <td>35.162091</td>\n",
       "      <td>0.003761</td>\n",
       "      <td>-0.130124</td>\n",
       "      <td>-0.145543</td>\n",
       "      <td>-0.183904</td>\n",
       "      <td>-0.230914</td>\n",
       "      <td>-0.264385</td>\n",
       "      <td>51584.577661</td>\n",
       "      <td>50149.655134</td>\n",
       "      <td>47923.040241</td>\n",
       "      <td>43555.586311</td>\n",
       "      <td>40476.940203</td>\n",
       "      <td>39343.23994</td>\n",
       "      <td>6225.730726</td>\n",
       "      <td>6.512518e+03</td>\n",
       "      <td>5119.084618</td>\n",
       "      <td>4630.840542</td>\n",
       "      <td>4961.000376</td>\n",
       "      <td>5560.197819</td>\n",
       "    </tr>\n",
       "    <tr>\n",
       "      <th>std</th>\n",
       "      <td>125433.964036</td>\n",
       "      <td>0.489159</td>\n",
       "      <td>0.725425</td>\n",
       "      <td>0.521412</td>\n",
       "      <td>9.140718</td>\n",
       "      <td>1.109498</td>\n",
       "      <td>1.174884</td>\n",
       "      <td>1.189159</td>\n",
       "      <td>1.191750</td>\n",
       "      <td>1.166729</td>\n",
       "      <td>1.171061</td>\n",
       "      <td>72278.519992</td>\n",
       "      <td>70857.716859</td>\n",
       "      <td>68300.844899</td>\n",
       "      <td>61501.615715</td>\n",
       "      <td>57838.144090</td>\n",
       "      <td>56802.25901</td>\n",
       "      <td>19642.179663</td>\n",
       "      <td>3.035148e+04</td>\n",
       "      <td>14005.355529</td>\n",
       "      <td>13736.712801</td>\n",
       "      <td>17265.356081</td>\n",
       "      <td>17920.770497</td>\n",
       "    </tr>\n",
       "    <tr>\n",
       "      <th>min</th>\n",
       "      <td>10000.000000</td>\n",
       "      <td>1.000000</td>\n",
       "      <td>0.000000</td>\n",
       "      <td>1.000000</td>\n",
       "      <td>21.000000</td>\n",
       "      <td>-2.000000</td>\n",
       "      <td>-2.000000</td>\n",
       "      <td>-2.000000</td>\n",
       "      <td>-2.000000</td>\n",
       "      <td>-2.000000</td>\n",
       "      <td>-2.000000</td>\n",
       "      <td>-11545.000000</td>\n",
       "      <td>-67526.000000</td>\n",
       "      <td>-25443.000000</td>\n",
       "      <td>-46627.000000</td>\n",
       "      <td>-46627.000000</td>\n",
       "      <td>-73895.00000</td>\n",
       "      <td>0.000000</td>\n",
       "      <td>0.000000e+00</td>\n",
       "      <td>0.000000</td>\n",
       "      <td>0.000000</td>\n",
       "      <td>0.000000</td>\n",
       "      <td>0.000000</td>\n",
       "    </tr>\n",
       "    <tr>\n",
       "      <th>25%</th>\n",
       "      <td>50000.000000</td>\n",
       "      <td>1.000000</td>\n",
       "      <td>1.000000</td>\n",
       "      <td>1.000000</td>\n",
       "      <td>28.000000</td>\n",
       "      <td>-1.000000</td>\n",
       "      <td>-1.000000</td>\n",
       "      <td>-1.000000</td>\n",
       "      <td>-1.000000</td>\n",
       "      <td>-1.000000</td>\n",
       "      <td>-1.000000</td>\n",
       "      <td>3742.500000</td>\n",
       "      <td>3097.500000</td>\n",
       "      <td>3130.500000</td>\n",
       "      <td>2453.000000</td>\n",
       "      <td>1699.500000</td>\n",
       "      <td>1325.00000</td>\n",
       "      <td>1000.000000</td>\n",
       "      <td>8.900000e+02</td>\n",
       "      <td>415.500000</td>\n",
       "      <td>294.000000</td>\n",
       "      <td>316.000000</td>\n",
       "      <td>171.000000</td>\n",
       "    </tr>\n",
       "    <tr>\n",
       "      <th>50%</th>\n",
       "      <td>140000.000000</td>\n",
       "      <td>2.000000</td>\n",
       "      <td>2.000000</td>\n",
       "      <td>2.000000</td>\n",
       "      <td>33.000000</td>\n",
       "      <td>0.000000</td>\n",
       "      <td>0.000000</td>\n",
       "      <td>0.000000</td>\n",
       "      <td>0.000000</td>\n",
       "      <td>0.000000</td>\n",
       "      <td>0.000000</td>\n",
       "      <td>24002.000000</td>\n",
       "      <td>22385.000000</td>\n",
       "      <td>21197.000000</td>\n",
       "      <td>19588.000000</td>\n",
       "      <td>18590.000000</td>\n",
       "      <td>18216.00000</td>\n",
       "      <td>2200.000000</td>\n",
       "      <td>2.200000e+03</td>\n",
       "      <td>1949.000000</td>\n",
       "      <td>1572.000000</td>\n",
       "      <td>1619.000000</td>\n",
       "      <td>1696.000000</td>\n",
       "    </tr>\n",
       "    <tr>\n",
       "      <th>75%</th>\n",
       "      <td>230000.000000</td>\n",
       "      <td>2.000000</td>\n",
       "      <td>2.000000</td>\n",
       "      <td>2.000000</td>\n",
       "      <td>41.000000</td>\n",
       "      <td>0.000000</td>\n",
       "      <td>0.000000</td>\n",
       "      <td>0.000000</td>\n",
       "      <td>0.000000</td>\n",
       "      <td>0.000000</td>\n",
       "      <td>0.000000</td>\n",
       "      <td>69179.000000</td>\n",
       "      <td>67721.500000</td>\n",
       "      <td>63007.500000</td>\n",
       "      <td>58134.500000</td>\n",
       "      <td>52510.500000</td>\n",
       "      <td>51864.00000</td>\n",
       "      <td>5098.500000</td>\n",
       "      <td>5.004500e+03</td>\n",
       "      <td>4600.000000</td>\n",
       "      <td>4000.000000</td>\n",
       "      <td>4021.000000</td>\n",
       "      <td>4131.000000</td>\n",
       "    </tr>\n",
       "    <tr>\n",
       "      <th>max</th>\n",
       "      <td>800000.000000</td>\n",
       "      <td>2.000000</td>\n",
       "      <td>3.000000</td>\n",
       "      <td>3.000000</td>\n",
       "      <td>69.000000</td>\n",
       "      <td>8.000000</td>\n",
       "      <td>7.000000</td>\n",
       "      <td>7.000000</td>\n",
       "      <td>8.000000</td>\n",
       "      <td>7.000000</td>\n",
       "      <td>7.000000</td>\n",
       "      <td>613860.000000</td>\n",
       "      <td>512650.000000</td>\n",
       "      <td>578971.000000</td>\n",
       "      <td>488808.000000</td>\n",
       "      <td>441981.000000</td>\n",
       "      <td>436172.00000</td>\n",
       "      <td>493358.000000</td>\n",
       "      <td>1.227082e+06</td>\n",
       "      <td>199209.000000</td>\n",
       "      <td>202076.000000</td>\n",
       "      <td>388071.000000</td>\n",
       "      <td>403500.000000</td>\n",
       "    </tr>\n",
       "  </tbody>\n",
       "</table>\n",
       "</div>"
      ],
      "text/plain": [
       "       limit_balance       gender  education_level  marital_status  \\\n",
       "count    2659.000000  2659.000000      2659.000000     2659.000000   \n",
       "mean   163429.860850     1.603986         1.776984        1.567507   \n",
       "std    125433.964036     0.489159         0.725425        0.521412   \n",
       "min     10000.000000     1.000000         0.000000        1.000000   \n",
       "25%     50000.000000     1.000000         1.000000        1.000000   \n",
       "50%    140000.000000     2.000000         2.000000        2.000000   \n",
       "75%    230000.000000     2.000000         2.000000        2.000000   \n",
       "max    800000.000000     2.000000         3.000000        3.000000   \n",
       "\n",
       "               age        pay_1        pay_2        pay_3        pay_4  \\\n",
       "count  2659.000000  2659.000000  2659.000000  2659.000000  2659.000000   \n",
       "mean     35.162091     0.003761    -0.130124    -0.145543    -0.183904   \n",
       "std       9.140718     1.109498     1.174884     1.189159     1.191750   \n",
       "min      21.000000    -2.000000    -2.000000    -2.000000    -2.000000   \n",
       "25%      28.000000    -1.000000    -1.000000    -1.000000    -1.000000   \n",
       "50%      33.000000     0.000000     0.000000     0.000000     0.000000   \n",
       "75%      41.000000     0.000000     0.000000     0.000000     0.000000   \n",
       "max      69.000000     8.000000     7.000000     7.000000     8.000000   \n",
       "\n",
       "             pay_5        pay_6     bill_amt_1     bill_amt_2     bill_amt_3  \\\n",
       "count  2659.000000  2659.000000    2659.000000    2659.000000    2659.000000   \n",
       "mean     -0.230914    -0.264385   51584.577661   50149.655134   47923.040241   \n",
       "std       1.166729     1.171061   72278.519992   70857.716859   68300.844899   \n",
       "min      -2.000000    -2.000000  -11545.000000  -67526.000000  -25443.000000   \n",
       "25%      -1.000000    -1.000000    3742.500000    3097.500000    3130.500000   \n",
       "50%       0.000000     0.000000   24002.000000   22385.000000   21197.000000   \n",
       "75%       0.000000     0.000000   69179.000000   67721.500000   63007.500000   \n",
       "max       7.000000     7.000000  613860.000000  512650.000000  578971.000000   \n",
       "\n",
       "          bill_amt_4     bill_amt_5    bill_amt_6      pay_amt_1  \\\n",
       "count    2659.000000    2659.000000    2659.00000    2659.000000   \n",
       "mean    43555.586311   40476.940203   39343.23994    6225.730726   \n",
       "std     61501.615715   57838.144090   56802.25901   19642.179663   \n",
       "min    -46627.000000  -46627.000000  -73895.00000       0.000000   \n",
       "25%      2453.000000    1699.500000    1325.00000    1000.000000   \n",
       "50%     19588.000000   18590.000000   18216.00000    2200.000000   \n",
       "75%     58134.500000   52510.500000   51864.00000    5098.500000   \n",
       "max    488808.000000  441981.000000  436172.00000  493358.000000   \n",
       "\n",
       "          pay_amt_2      pay_amt_3      pay_amt_4      pay_amt_5  \\\n",
       "count  2.659000e+03    2659.000000    2659.000000    2659.000000   \n",
       "mean   6.512518e+03    5119.084618    4630.840542    4961.000376   \n",
       "std    3.035148e+04   14005.355529   13736.712801   17265.356081   \n",
       "min    0.000000e+00       0.000000       0.000000       0.000000   \n",
       "25%    8.900000e+02     415.500000     294.000000     316.000000   \n",
       "50%    2.200000e+03    1949.000000    1572.000000    1619.000000   \n",
       "75%    5.004500e+03    4600.000000    4000.000000    4021.000000   \n",
       "max    1.227082e+06  199209.000000  202076.000000  388071.000000   \n",
       "\n",
       "           pay_amt_6  \n",
       "count    2659.000000  \n",
       "mean     5560.197819  \n",
       "std     17920.770497  \n",
       "min         0.000000  \n",
       "25%       171.000000  \n",
       "50%      1696.000000  \n",
       "75%      4131.000000  \n",
       "max    403500.000000  "
      ]
     },
     "execution_count": 29,
     "metadata": {},
     "output_type": "execute_result"
    }
   ],
   "source": [
    "X_train.describe()"
   ]
  },
  {
   "cell_type": "markdown",
   "metadata": {},
   "source": [
    "Melakukan pengecekan distribusi data"
   ]
  },
  {
   "cell_type": "code",
   "execution_count": 30,
   "metadata": {},
   "outputs": [],
   "source": [
    "# Input Paramater Distribution  Check\n",
    "dis_check = X_train_numerical_col.skew()\n",
    "\n",
    "normal_dis = []\n",
    "skew_dis = []\n",
    "\n",
    "for i in range(len(dis_check)):\n",
    "    if dis_check.values[i] < -0.5:\n",
    "        skew_dis.append(dis_check.index[i])\n",
    "    elif dis_check.values[i] > 0.5:\n",
    "        skew_dis.append(dis_check.index[i])\n",
    "    else:\n",
    "        normal_dis.append(dis_check.index[i])"
   ]
  },
  {
   "cell_type": "markdown",
   "metadata": {},
   "source": [
    "Melihat hasil dari penegecekan distribusi data"
   ]
  },
  {
   "cell_type": "code",
   "execution_count": 31,
   "metadata": {},
   "outputs": [
    {
     "name": "stdout",
     "output_type": "stream",
     "text": [
      "skew_dist : ['limit_balance', 'age', 'bill_amt_1', 'bill_amt_2', 'bill_amt_3', 'bill_amt_4', 'bill_amt_5', 'bill_amt_6', 'pay_amt_1', 'pay_amt_2', 'pay_amt_3', 'pay_amt_4', 'pay_amt_5', 'pay_amt_6']\n",
      "==============================================================================================================================================================================================\n",
      "normal_dist : []\n",
      "==============================================================================================================================================================================================\n"
     ]
    }
   ],
   "source": [
    "# Skew dist\n",
    "print('skew_dist :', skew_dis)\n",
    "print(\"===================\"*10)\n",
    "# normal_dist\n",
    "print('normal_dist :', normal_dis)\n",
    "print(\"===================\"*10)"
   ]
  },
  {
   "cell_type": "markdown",
   "metadata": {},
   "source": [
    "- Feature 'limit_balance', 'age', 'bill_amt_1', 'bill_amt_2', 'bill_amt_3', 'bill_amt_4', 'bill_amt_5', 'bill_amt_6', 'pay_amt_1', 'pay_amt_2', 'pay_amt_3', 'pay_amt_4', 'pay_amt_5', 'pay_amt_6' merupakan data dengan distribusi skewed"
   ]
  },
  {
   "cell_type": "code",
   "execution_count": 32,
   "metadata": {},
   "outputs": [],
   "source": [
    "# Outliers Detection Function\n",
    "# for Skew Distributed Data\n",
    "\n",
    "def detect_skew(df, parameter, fold=1.5):\n",
    "    \n",
    "    for i in parameter:\n",
    "        \n",
    "        IQR = df[parameter].quantile(0.75) - df[parameter].quantile(0.25)\n",
    "        upper = df[parameter].quantile(0.75) + (fold*IQR)\n",
    "        bottom = df[parameter].quantile(0.25) - (fold*IQR)\n",
    "\n",
    "        upper_count = df[\n",
    "            (df[parameter] > upper)\n",
    "        ][parameter].count()\n",
    "\n",
    "        bottom_count = df[\n",
    "            (df[parameter] < bottom)\n",
    "        ][parameter].count()\n",
    "        \n",
    "        total_count = upper_count + bottom_count\n",
    "\n",
    "        percentage = (total_count/len(df[parameter])*100).round(2)\n",
    "\n",
    "        a = ({'Parameter':parameter, 'Total Outliers':total_count, 'Percentage':percentage})\n",
    "\n",
    "    return print(a)"
   ]
  },
  {
   "cell_type": "markdown",
   "metadata": {},
   "source": [
    "Check outlier on train set"
   ]
  },
  {
   "cell_type": "code",
   "execution_count": 33,
   "metadata": {},
   "outputs": [
    {
     "name": "stdout",
     "output_type": "stream",
     "text": [
      "{'Parameter': 'limit_balance', 'Total Outliers': 12, 'Percentage': 0.45}\n",
      "{'Parameter': 'age', 'Total Outliers': 26, 'Percentage': 0.98}\n",
      "{'Parameter': 'bill_amt_1', 'Total Outliers': 199, 'Percentage': 7.48}\n",
      "{'Parameter': 'bill_amt_2', 'Total Outliers': 199, 'Percentage': 7.48}\n",
      "{'Parameter': 'bill_amt_3', 'Total Outliers': 204, 'Percentage': 7.67}\n",
      "{'Parameter': 'bill_amt_4', 'Total Outliers': 187, 'Percentage': 7.03}\n",
      "{'Parameter': 'bill_amt_5', 'Total Outliers': 215, 'Percentage': 8.09}\n",
      "{'Parameter': 'bill_amt_6', 'Total Outliers': 205, 'Percentage': 7.71}\n",
      "{'Parameter': 'pay_amt_1', 'Total Outliers': 251, 'Percentage': 9.44}\n",
      "{'Parameter': 'pay_amt_2', 'Total Outliers': 264, 'Percentage': 9.93}\n",
      "{'Parameter': 'pay_amt_3', 'Total Outliers': 232, 'Percentage': 8.73}\n",
      "{'Parameter': 'pay_amt_4', 'Total Outliers': 252, 'Percentage': 9.48}\n",
      "{'Parameter': 'pay_amt_5', 'Total Outliers': 258, 'Percentage': 9.7}\n",
      "{'Parameter': 'pay_amt_6', 'Total Outliers': 229, 'Percentage': 8.61}\n"
     ]
    }
   ],
   "source": [
    "# Outlier summary\n",
    "# For skew distributed input parameter\n",
    "\n",
    "for i in skew_dis:\n",
    "    detect_skew(X_train_numerical_col, parameter=i)"
   ]
  },
  {
   "cell_type": "markdown",
   "metadata": {},
   "source": [
    "Check outlier on test set"
   ]
  },
  {
   "cell_type": "code",
   "execution_count": 34,
   "metadata": {},
   "outputs": [
    {
     "name": "stdout",
     "output_type": "stream",
     "text": [
      "{'Parameter': 'limit_balance', 'Total Outliers': 2, 'Percentage': 0.68}\n",
      "{'Parameter': 'age', 'Total Outliers': 3, 'Percentage': 1.01}\n",
      "{'Parameter': 'bill_amt_1', 'Total Outliers': 15, 'Percentage': 5.07}\n",
      "{'Parameter': 'bill_amt_2', 'Total Outliers': 27, 'Percentage': 9.12}\n",
      "{'Parameter': 'bill_amt_3', 'Total Outliers': 26, 'Percentage': 8.78}\n",
      "{'Parameter': 'bill_amt_4', 'Total Outliers': 25, 'Percentage': 8.45}\n",
      "{'Parameter': 'bill_amt_5', 'Total Outliers': 24, 'Percentage': 8.11}\n",
      "{'Parameter': 'bill_amt_6', 'Total Outliers': 29, 'Percentage': 9.8}\n",
      "{'Parameter': 'pay_amt_1', 'Total Outliers': 25, 'Percentage': 8.45}\n",
      "{'Parameter': 'pay_amt_2', 'Total Outliers': 22, 'Percentage': 7.43}\n",
      "{'Parameter': 'pay_amt_3', 'Total Outliers': 29, 'Percentage': 9.8}\n",
      "{'Parameter': 'pay_amt_4', 'Total Outliers': 19, 'Percentage': 6.42}\n",
      "{'Parameter': 'pay_amt_5', 'Total Outliers': 26, 'Percentage': 8.78}\n",
      "{'Parameter': 'pay_amt_6', 'Total Outliers': 23, 'Percentage': 7.77}\n"
     ]
    }
   ],
   "source": [
    "# Outlier summary\n",
    "# For skew distributed input parameter\n",
    "\n",
    "for i in skew_dis:\n",
    "    detect_skew(X_test_numerical_col, parameter=i)"
   ]
  },
  {
   "cell_type": "markdown",
   "metadata": {},
   "source": [
    "Membuat capper pipeline untuk handling outlier pada model"
   ]
  },
  {
   "cell_type": "code",
   "execution_count": 35,
   "metadata": {},
   "outputs": [],
   "source": [
    "# Menggunakan Winsorizer untuk data oulier\n",
    "capper_pipeline = make_pipeline(Winsorizer(capping_method='iqr', tail='right', fold=1.5))\n",
    "\n",
    "# fit the capper\n",
    "capper_pipeline.fit(X_train_numerical_col)\n",
    "\n",
    "# transform the data\n",
    "train_t= capper_pipeline.transform(X_train_numerical_col)\n",
    "test_t= capper_pipeline.transform(X_test_numerical_col)"
   ]
  },
  {
   "cell_type": "code",
   "execution_count": 36,
   "metadata": {},
   "outputs": [
    {
     "name": "stdout",
     "output_type": "stream",
     "text": [
      "Data Before Capping\n"
     ]
    },
    {
     "data": {
      "text/html": [
       "<div>\n",
       "<style scoped>\n",
       "    .dataframe tbody tr th:only-of-type {\n",
       "        vertical-align: middle;\n",
       "    }\n",
       "\n",
       "    .dataframe tbody tr th {\n",
       "        vertical-align: top;\n",
       "    }\n",
       "\n",
       "    .dataframe thead th {\n",
       "        text-align: right;\n",
       "    }\n",
       "</style>\n",
       "<table border=\"1\" class=\"dataframe\">\n",
       "  <thead>\n",
       "    <tr style=\"text-align: right;\">\n",
       "      <th></th>\n",
       "      <th>limit_balance</th>\n",
       "      <th>age</th>\n",
       "      <th>bill_amt_1</th>\n",
       "      <th>bill_amt_2</th>\n",
       "      <th>bill_amt_3</th>\n",
       "      <th>bill_amt_4</th>\n",
       "      <th>bill_amt_5</th>\n",
       "      <th>bill_amt_6</th>\n",
       "      <th>pay_amt_1</th>\n",
       "      <th>pay_amt_2</th>\n",
       "      <th>pay_amt_3</th>\n",
       "      <th>pay_amt_4</th>\n",
       "      <th>pay_amt_5</th>\n",
       "      <th>pay_amt_6</th>\n",
       "    </tr>\n",
       "  </thead>\n",
       "  <tbody>\n",
       "    <tr>\n",
       "      <th>count</th>\n",
       "      <td>2659.000000</td>\n",
       "      <td>2659.000000</td>\n",
       "      <td>2659.000000</td>\n",
       "      <td>2659.000000</td>\n",
       "      <td>2659.000000</td>\n",
       "      <td>2659.000000</td>\n",
       "      <td>2659.000000</td>\n",
       "      <td>2659.00000</td>\n",
       "      <td>2659.000000</td>\n",
       "      <td>2.659000e+03</td>\n",
       "      <td>2659.000000</td>\n",
       "      <td>2659.000000</td>\n",
       "      <td>2659.000000</td>\n",
       "      <td>2659.000000</td>\n",
       "    </tr>\n",
       "    <tr>\n",
       "      <th>mean</th>\n",
       "      <td>163429.860850</td>\n",
       "      <td>35.162091</td>\n",
       "      <td>51584.577661</td>\n",
       "      <td>50149.655134</td>\n",
       "      <td>47923.040241</td>\n",
       "      <td>43555.586311</td>\n",
       "      <td>40476.940203</td>\n",
       "      <td>39343.23994</td>\n",
       "      <td>6225.730726</td>\n",
       "      <td>6.512518e+03</td>\n",
       "      <td>5119.084618</td>\n",
       "      <td>4630.840542</td>\n",
       "      <td>4961.000376</td>\n",
       "      <td>5560.197819</td>\n",
       "    </tr>\n",
       "    <tr>\n",
       "      <th>std</th>\n",
       "      <td>125433.964036</td>\n",
       "      <td>9.140718</td>\n",
       "      <td>72278.519992</td>\n",
       "      <td>70857.716859</td>\n",
       "      <td>68300.844899</td>\n",
       "      <td>61501.615715</td>\n",
       "      <td>57838.144090</td>\n",
       "      <td>56802.25901</td>\n",
       "      <td>19642.179663</td>\n",
       "      <td>3.035148e+04</td>\n",
       "      <td>14005.355529</td>\n",
       "      <td>13736.712801</td>\n",
       "      <td>17265.356081</td>\n",
       "      <td>17920.770497</td>\n",
       "    </tr>\n",
       "    <tr>\n",
       "      <th>min</th>\n",
       "      <td>10000.000000</td>\n",
       "      <td>21.000000</td>\n",
       "      <td>-11545.000000</td>\n",
       "      <td>-67526.000000</td>\n",
       "      <td>-25443.000000</td>\n",
       "      <td>-46627.000000</td>\n",
       "      <td>-46627.000000</td>\n",
       "      <td>-73895.00000</td>\n",
       "      <td>0.000000</td>\n",
       "      <td>0.000000e+00</td>\n",
       "      <td>0.000000</td>\n",
       "      <td>0.000000</td>\n",
       "      <td>0.000000</td>\n",
       "      <td>0.000000</td>\n",
       "    </tr>\n",
       "    <tr>\n",
       "      <th>25%</th>\n",
       "      <td>50000.000000</td>\n",
       "      <td>28.000000</td>\n",
       "      <td>3742.500000</td>\n",
       "      <td>3097.500000</td>\n",
       "      <td>3130.500000</td>\n",
       "      <td>2453.000000</td>\n",
       "      <td>1699.500000</td>\n",
       "      <td>1325.00000</td>\n",
       "      <td>1000.000000</td>\n",
       "      <td>8.900000e+02</td>\n",
       "      <td>415.500000</td>\n",
       "      <td>294.000000</td>\n",
       "      <td>316.000000</td>\n",
       "      <td>171.000000</td>\n",
       "    </tr>\n",
       "    <tr>\n",
       "      <th>50%</th>\n",
       "      <td>140000.000000</td>\n",
       "      <td>33.000000</td>\n",
       "      <td>24002.000000</td>\n",
       "      <td>22385.000000</td>\n",
       "      <td>21197.000000</td>\n",
       "      <td>19588.000000</td>\n",
       "      <td>18590.000000</td>\n",
       "      <td>18216.00000</td>\n",
       "      <td>2200.000000</td>\n",
       "      <td>2.200000e+03</td>\n",
       "      <td>1949.000000</td>\n",
       "      <td>1572.000000</td>\n",
       "      <td>1619.000000</td>\n",
       "      <td>1696.000000</td>\n",
       "    </tr>\n",
       "    <tr>\n",
       "      <th>75%</th>\n",
       "      <td>230000.000000</td>\n",
       "      <td>41.000000</td>\n",
       "      <td>69179.000000</td>\n",
       "      <td>67721.500000</td>\n",
       "      <td>63007.500000</td>\n",
       "      <td>58134.500000</td>\n",
       "      <td>52510.500000</td>\n",
       "      <td>51864.00000</td>\n",
       "      <td>5098.500000</td>\n",
       "      <td>5.004500e+03</td>\n",
       "      <td>4600.000000</td>\n",
       "      <td>4000.000000</td>\n",
       "      <td>4021.000000</td>\n",
       "      <td>4131.000000</td>\n",
       "    </tr>\n",
       "    <tr>\n",
       "      <th>max</th>\n",
       "      <td>800000.000000</td>\n",
       "      <td>69.000000</td>\n",
       "      <td>613860.000000</td>\n",
       "      <td>512650.000000</td>\n",
       "      <td>578971.000000</td>\n",
       "      <td>488808.000000</td>\n",
       "      <td>441981.000000</td>\n",
       "      <td>436172.00000</td>\n",
       "      <td>493358.000000</td>\n",
       "      <td>1.227082e+06</td>\n",
       "      <td>199209.000000</td>\n",
       "      <td>202076.000000</td>\n",
       "      <td>388071.000000</td>\n",
       "      <td>403500.000000</td>\n",
       "    </tr>\n",
       "  </tbody>\n",
       "</table>\n",
       "</div>"
      ],
      "text/plain": [
       "       limit_balance          age     bill_amt_1     bill_amt_2  \\\n",
       "count    2659.000000  2659.000000    2659.000000    2659.000000   \n",
       "mean   163429.860850    35.162091   51584.577661   50149.655134   \n",
       "std    125433.964036     9.140718   72278.519992   70857.716859   \n",
       "min     10000.000000    21.000000  -11545.000000  -67526.000000   \n",
       "25%     50000.000000    28.000000    3742.500000    3097.500000   \n",
       "50%    140000.000000    33.000000   24002.000000   22385.000000   \n",
       "75%    230000.000000    41.000000   69179.000000   67721.500000   \n",
       "max    800000.000000    69.000000  613860.000000  512650.000000   \n",
       "\n",
       "          bill_amt_3     bill_amt_4     bill_amt_5    bill_amt_6  \\\n",
       "count    2659.000000    2659.000000    2659.000000    2659.00000   \n",
       "mean    47923.040241   43555.586311   40476.940203   39343.23994   \n",
       "std     68300.844899   61501.615715   57838.144090   56802.25901   \n",
       "min    -25443.000000  -46627.000000  -46627.000000  -73895.00000   \n",
       "25%      3130.500000    2453.000000    1699.500000    1325.00000   \n",
       "50%     21197.000000   19588.000000   18590.000000   18216.00000   \n",
       "75%     63007.500000   58134.500000   52510.500000   51864.00000   \n",
       "max    578971.000000  488808.000000  441981.000000  436172.00000   \n",
       "\n",
       "           pay_amt_1     pay_amt_2      pay_amt_3      pay_amt_4  \\\n",
       "count    2659.000000  2.659000e+03    2659.000000    2659.000000   \n",
       "mean     6225.730726  6.512518e+03    5119.084618    4630.840542   \n",
       "std     19642.179663  3.035148e+04   14005.355529   13736.712801   \n",
       "min         0.000000  0.000000e+00       0.000000       0.000000   \n",
       "25%      1000.000000  8.900000e+02     415.500000     294.000000   \n",
       "50%      2200.000000  2.200000e+03    1949.000000    1572.000000   \n",
       "75%      5098.500000  5.004500e+03    4600.000000    4000.000000   \n",
       "max    493358.000000  1.227082e+06  199209.000000  202076.000000   \n",
       "\n",
       "           pay_amt_5      pay_amt_6  \n",
       "count    2659.000000    2659.000000  \n",
       "mean     4961.000376    5560.197819  \n",
       "std     17265.356081   17920.770497  \n",
       "min         0.000000       0.000000  \n",
       "25%       316.000000     171.000000  \n",
       "50%      1619.000000    1696.000000  \n",
       "75%      4021.000000    4131.000000  \n",
       "max    388071.000000  403500.000000  "
      ]
     },
     "execution_count": 36,
     "metadata": {},
     "output_type": "execute_result"
    }
   ],
   "source": [
    "print('Data Before Capping')\n",
    "X_train_numerical_col.describe()"
   ]
  },
  {
   "cell_type": "code",
   "execution_count": 37,
   "metadata": {},
   "outputs": [
    {
     "name": "stdout",
     "output_type": "stream",
     "text": [
      "Data After Capping\n"
     ]
    },
    {
     "data": {
      "text/html": [
       "<div>\n",
       "<style scoped>\n",
       "    .dataframe tbody tr th:only-of-type {\n",
       "        vertical-align: middle;\n",
       "    }\n",
       "\n",
       "    .dataframe tbody tr th {\n",
       "        vertical-align: top;\n",
       "    }\n",
       "\n",
       "    .dataframe thead th {\n",
       "        text-align: right;\n",
       "    }\n",
       "</style>\n",
       "<table border=\"1\" class=\"dataframe\">\n",
       "  <thead>\n",
       "    <tr style=\"text-align: right;\">\n",
       "      <th></th>\n",
       "      <th>limit_balance</th>\n",
       "      <th>age</th>\n",
       "      <th>bill_amt_1</th>\n",
       "      <th>bill_amt_2</th>\n",
       "      <th>bill_amt_3</th>\n",
       "      <th>bill_amt_4</th>\n",
       "      <th>bill_amt_5</th>\n",
       "      <th>bill_amt_6</th>\n",
       "      <th>pay_amt_1</th>\n",
       "      <th>pay_amt_2</th>\n",
       "      <th>pay_amt_3</th>\n",
       "      <th>pay_amt_4</th>\n",
       "      <th>pay_amt_5</th>\n",
       "      <th>pay_amt_6</th>\n",
       "    </tr>\n",
       "  </thead>\n",
       "  <tbody>\n",
       "    <tr>\n",
       "      <th>count</th>\n",
       "      <td>2659.000000</td>\n",
       "      <td>2659.000000</td>\n",
       "      <td>2659.000000</td>\n",
       "      <td>2659.000000</td>\n",
       "      <td>2659.000000</td>\n",
       "      <td>2659.000000</td>\n",
       "      <td>2659.000000</td>\n",
       "      <td>2659.000000</td>\n",
       "      <td>2659.000000</td>\n",
       "      <td>2659.000000</td>\n",
       "      <td>2659.000000</td>\n",
       "      <td>2659.000000</td>\n",
       "      <td>2659.000000</td>\n",
       "      <td>2659.000000</td>\n",
       "    </tr>\n",
       "    <tr>\n",
       "      <th>mean</th>\n",
       "      <td>162892.064686</td>\n",
       "      <td>35.130876</td>\n",
       "      <td>45376.272001</td>\n",
       "      <td>44069.436442</td>\n",
       "      <td>41691.237307</td>\n",
       "      <td>38256.596559</td>\n",
       "      <td>35169.739000</td>\n",
       "      <td>34325.128056</td>\n",
       "      <td>3603.491820</td>\n",
       "      <td>3535.216623</td>\n",
       "      <td>3069.674690</td>\n",
       "      <td>2697.939827</td>\n",
       "      <td>2735.758932</td>\n",
       "      <td>2822.898834</td>\n",
       "    </tr>\n",
       "    <tr>\n",
       "      <th>std</th>\n",
       "      <td>123494.485278</td>\n",
       "      <td>9.044368</td>\n",
       "      <td>52243.646276</td>\n",
       "      <td>51258.766702</td>\n",
       "      <td>48134.848501</td>\n",
       "      <td>44586.230116</td>\n",
       "      <td>41507.048309</td>\n",
       "      <td>41173.298866</td>\n",
       "      <td>3571.374793</td>\n",
       "      <td>3582.010103</td>\n",
       "      <td>3387.038749</td>\n",
       "      <td>3004.239507</td>\n",
       "      <td>3025.516779</td>\n",
       "      <td>3212.001053</td>\n",
       "    </tr>\n",
       "    <tr>\n",
       "      <th>min</th>\n",
       "      <td>10000.000000</td>\n",
       "      <td>21.000000</td>\n",
       "      <td>-11545.000000</td>\n",
       "      <td>-67526.000000</td>\n",
       "      <td>-25443.000000</td>\n",
       "      <td>-46627.000000</td>\n",
       "      <td>-46627.000000</td>\n",
       "      <td>-73895.000000</td>\n",
       "      <td>0.000000</td>\n",
       "      <td>0.000000</td>\n",
       "      <td>0.000000</td>\n",
       "      <td>0.000000</td>\n",
       "      <td>0.000000</td>\n",
       "      <td>0.000000</td>\n",
       "    </tr>\n",
       "    <tr>\n",
       "      <th>25%</th>\n",
       "      <td>50000.000000</td>\n",
       "      <td>28.000000</td>\n",
       "      <td>3742.500000</td>\n",
       "      <td>3097.500000</td>\n",
       "      <td>3130.500000</td>\n",
       "      <td>2453.000000</td>\n",
       "      <td>1699.500000</td>\n",
       "      <td>1325.000000</td>\n",
       "      <td>1000.000000</td>\n",
       "      <td>890.000000</td>\n",
       "      <td>415.500000</td>\n",
       "      <td>294.000000</td>\n",
       "      <td>316.000000</td>\n",
       "      <td>171.000000</td>\n",
       "    </tr>\n",
       "    <tr>\n",
       "      <th>50%</th>\n",
       "      <td>140000.000000</td>\n",
       "      <td>33.000000</td>\n",
       "      <td>24002.000000</td>\n",
       "      <td>22385.000000</td>\n",
       "      <td>21197.000000</td>\n",
       "      <td>19588.000000</td>\n",
       "      <td>18590.000000</td>\n",
       "      <td>18216.000000</td>\n",
       "      <td>2200.000000</td>\n",
       "      <td>2200.000000</td>\n",
       "      <td>1949.000000</td>\n",
       "      <td>1572.000000</td>\n",
       "      <td>1619.000000</td>\n",
       "      <td>1696.000000</td>\n",
       "    </tr>\n",
       "    <tr>\n",
       "      <th>75%</th>\n",
       "      <td>230000.000000</td>\n",
       "      <td>41.000000</td>\n",
       "      <td>69179.000000</td>\n",
       "      <td>67721.500000</td>\n",
       "      <td>63007.500000</td>\n",
       "      <td>58134.500000</td>\n",
       "      <td>52510.500000</td>\n",
       "      <td>51864.000000</td>\n",
       "      <td>5098.500000</td>\n",
       "      <td>5004.500000</td>\n",
       "      <td>4600.000000</td>\n",
       "      <td>4000.000000</td>\n",
       "      <td>4021.000000</td>\n",
       "      <td>4131.000000</td>\n",
       "    </tr>\n",
       "    <tr>\n",
       "      <th>max</th>\n",
       "      <td>500000.000000</td>\n",
       "      <td>60.500000</td>\n",
       "      <td>167333.750000</td>\n",
       "      <td>164657.500000</td>\n",
       "      <td>152823.000000</td>\n",
       "      <td>141656.750000</td>\n",
       "      <td>128727.000000</td>\n",
       "      <td>127672.500000</td>\n",
       "      <td>11246.250000</td>\n",
       "      <td>11176.250000</td>\n",
       "      <td>10876.750000</td>\n",
       "      <td>9559.000000</td>\n",
       "      <td>9578.500000</td>\n",
       "      <td>10071.000000</td>\n",
       "    </tr>\n",
       "  </tbody>\n",
       "</table>\n",
       "</div>"
      ],
      "text/plain": [
       "       limit_balance          age     bill_amt_1     bill_amt_2  \\\n",
       "count    2659.000000  2659.000000    2659.000000    2659.000000   \n",
       "mean   162892.064686    35.130876   45376.272001   44069.436442   \n",
       "std    123494.485278     9.044368   52243.646276   51258.766702   \n",
       "min     10000.000000    21.000000  -11545.000000  -67526.000000   \n",
       "25%     50000.000000    28.000000    3742.500000    3097.500000   \n",
       "50%    140000.000000    33.000000   24002.000000   22385.000000   \n",
       "75%    230000.000000    41.000000   69179.000000   67721.500000   \n",
       "max    500000.000000    60.500000  167333.750000  164657.500000   \n",
       "\n",
       "          bill_amt_3     bill_amt_4     bill_amt_5     bill_amt_6  \\\n",
       "count    2659.000000    2659.000000    2659.000000    2659.000000   \n",
       "mean    41691.237307   38256.596559   35169.739000   34325.128056   \n",
       "std     48134.848501   44586.230116   41507.048309   41173.298866   \n",
       "min    -25443.000000  -46627.000000  -46627.000000  -73895.000000   \n",
       "25%      3130.500000    2453.000000    1699.500000    1325.000000   \n",
       "50%     21197.000000   19588.000000   18590.000000   18216.000000   \n",
       "75%     63007.500000   58134.500000   52510.500000   51864.000000   \n",
       "max    152823.000000  141656.750000  128727.000000  127672.500000   \n",
       "\n",
       "          pay_amt_1     pay_amt_2     pay_amt_3    pay_amt_4    pay_amt_5  \\\n",
       "count   2659.000000   2659.000000   2659.000000  2659.000000  2659.000000   \n",
       "mean    3603.491820   3535.216623   3069.674690  2697.939827  2735.758932   \n",
       "std     3571.374793   3582.010103   3387.038749  3004.239507  3025.516779   \n",
       "min        0.000000      0.000000      0.000000     0.000000     0.000000   \n",
       "25%     1000.000000    890.000000    415.500000   294.000000   316.000000   \n",
       "50%     2200.000000   2200.000000   1949.000000  1572.000000  1619.000000   \n",
       "75%     5098.500000   5004.500000   4600.000000  4000.000000  4021.000000   \n",
       "max    11246.250000  11176.250000  10876.750000  9559.000000  9578.500000   \n",
       "\n",
       "          pay_amt_6  \n",
       "count   2659.000000  \n",
       "mean    2822.898834  \n",
       "std     3212.001053  \n",
       "min        0.000000  \n",
       "25%      171.000000  \n",
       "50%     1696.000000  \n",
       "75%     4131.000000  \n",
       "max    10071.000000  "
      ]
     },
     "execution_count": 37,
     "metadata": {},
     "output_type": "execute_result"
    }
   ],
   "source": [
    "print('Data After Capping')\n",
    "train_t.describe()"
   ]
  },
  {
   "cell_type": "markdown",
   "metadata": {},
   "source": [
    "- Terlihat perbedaan nilai maximum data sebelum dilakukan capping dengan setelah dilakukan capping, pada kolom limit_balance, sebelum dilakukan capping nilai max sebesar 800000, setelah dilakukan capping berubah menjadi 500000, capping berhasil dilakukan"
   ]
  },
  {
   "cell_type": "markdown",
   "metadata": {},
   "source": [
    "## Handling Missing Value"
   ]
  },
  {
   "cell_type": "markdown",
   "metadata": {},
   "source": [
    "Membuat function untuk meendeteksi missing value"
   ]
  },
  {
   "cell_type": "code",
   "execution_count": 38,
   "metadata": {},
   "outputs": [],
   "source": [
    "# create function to detect missing values\n",
    "\n",
    "def detect_missval(df):\n",
    "    global df_missval\n",
    "    df_missval = pd.DataFrame(columns=['col_name','missing_count','missing_percentage'])\n",
    "    for i in range(len(df.columns)):\n",
    "        if df.iloc[:,i].isnull().sum() != 0:\n",
    "            df_missval.loc[i] = [df.columns[i], # col_name\n",
    "                                df.iloc[:,i].isnull().sum(), # missing_count\n",
    "                                df.iloc[:,i].isnull().sum()/len(df.iloc[:,i])*100] # missing_percentage\n",
    "    print('Generate df_missval')\n",
    "    return df_missval"
   ]
  },
  {
   "cell_type": "markdown",
   "metadata": {},
   "source": [
    "Deteksi missing value pada train set"
   ]
  },
  {
   "cell_type": "code",
   "execution_count": 39,
   "metadata": {},
   "outputs": [
    {
     "name": "stdout",
     "output_type": "stream",
     "text": [
      "Generate df_missval\n"
     ]
    },
    {
     "data": {
      "text/html": [
       "<div>\n",
       "<style scoped>\n",
       "    .dataframe tbody tr th:only-of-type {\n",
       "        vertical-align: middle;\n",
       "    }\n",
       "\n",
       "    .dataframe tbody tr th {\n",
       "        vertical-align: top;\n",
       "    }\n",
       "\n",
       "    .dataframe thead th {\n",
       "        text-align: right;\n",
       "    }\n",
       "</style>\n",
       "<table border=\"1\" class=\"dataframe\">\n",
       "  <thead>\n",
       "    <tr style=\"text-align: right;\">\n",
       "      <th></th>\n",
       "      <th>col_name</th>\n",
       "      <th>missing_count</th>\n",
       "      <th>missing_percentage</th>\n",
       "    </tr>\n",
       "  </thead>\n",
       "  <tbody>\n",
       "  </tbody>\n",
       "</table>\n",
       "</div>"
      ],
      "text/plain": [
       "Empty DataFrame\n",
       "Columns: [col_name, missing_count, missing_percentage]\n",
       "Index: []"
      ]
     },
     "execution_count": 39,
     "metadata": {},
     "output_type": "execute_result"
    }
   ],
   "source": [
    "# X_train Set\n",
    "detect_missval(X_train)"
   ]
  },
  {
   "cell_type": "markdown",
   "metadata": {},
   "source": [
    "Deteksi missing value pada test set"
   ]
  },
  {
   "cell_type": "code",
   "execution_count": 40,
   "metadata": {},
   "outputs": [
    {
     "name": "stdout",
     "output_type": "stream",
     "text": [
      "Generate df_missval\n"
     ]
    },
    {
     "data": {
      "text/html": [
       "<div>\n",
       "<style scoped>\n",
       "    .dataframe tbody tr th:only-of-type {\n",
       "        vertical-align: middle;\n",
       "    }\n",
       "\n",
       "    .dataframe tbody tr th {\n",
       "        vertical-align: top;\n",
       "    }\n",
       "\n",
       "    .dataframe thead th {\n",
       "        text-align: right;\n",
       "    }\n",
       "</style>\n",
       "<table border=\"1\" class=\"dataframe\">\n",
       "  <thead>\n",
       "    <tr style=\"text-align: right;\">\n",
       "      <th></th>\n",
       "      <th>col_name</th>\n",
       "      <th>missing_count</th>\n",
       "      <th>missing_percentage</th>\n",
       "    </tr>\n",
       "  </thead>\n",
       "  <tbody>\n",
       "  </tbody>\n",
       "</table>\n",
       "</div>"
      ],
      "text/plain": [
       "Empty DataFrame\n",
       "Columns: [col_name, missing_count, missing_percentage]\n",
       "Index: []"
      ]
     },
     "execution_count": 40,
     "metadata": {},
     "output_type": "execute_result"
    }
   ],
   "source": [
    "# X_test Set\n",
    "detect_missval(X_test)"
   ]
  },
  {
   "cell_type": "markdown",
   "metadata": {},
   "source": [
    "Deteksi missing value pada label"
   ]
  },
  {
   "cell_type": "code",
   "execution_count": 41,
   "metadata": {},
   "outputs": [
    {
     "name": "stdout",
     "output_type": "stream",
     "text": [
      "y_train:  0\n",
      "y_test:  0\n"
     ]
    }
   ],
   "source": [
    "# y_train\n",
    "print('y_train: ',y_train.isna().sum())\n",
    "# y_test\n",
    "print('y_test: ', y_test.isna().sum())"
   ]
  },
  {
   "cell_type": "markdown",
   "metadata": {},
   "source": [
    "- Tidak Terdapat Missing Value pada feature maupun label"
   ]
  },
  {
   "cell_type": "markdown",
   "metadata": {},
   "source": [
    "## Feature Engineer"
   ]
  },
  {
   "cell_type": "markdown",
   "metadata": {},
   "source": [
    "Melakukan scaler dengan MinMaxScaler untuk data numerical karena data numerical merupakan skewed distribution, melakukan encoder dengan OneHotEncoder karena data categorical nominal dan encoder dengan OrdinalEncoder pada data categorical ordinal"
   ]
  },
  {
   "cell_type": "code",
   "execution_count": 42,
   "metadata": {},
   "outputs": [],
   "source": [
    "# Menggunakan MinMaxScaller karena data numerical merupakan skewed distribution\n",
    "numerical_pipe = make_pipeline(MinMaxScaler())\n",
    "\n",
    "# Menggunakan OneHotEncoder untukd data categorical nominal\n",
    "nomimal_pipe = make_pipeline(OneHotEncoder())\n",
    "\n",
    "# Menggunakan OrdinalEncoder untukd data categorical ordinal\n",
    "ordinal_pipe = make_pipeline(OrdinalEncoder())\n",
    "\n",
    "data_pipeline = ColumnTransformer([\n",
    "    ('numerical_pipe', numerical_pipe, numerical_col),\n",
    "    ('nomimal_pipe', nomimal_pipe, categorical_col_nor),\n",
    "    ('ordinal_pipe', ordinal_pipe, categorical_col_or)\n",
    "])\n"
   ]
  },
  {
   "cell_type": "markdown",
   "metadata": {},
   "source": [
    "## Balancing Data"
   ]
  },
  {
   "cell_type": "markdown",
   "metadata": {},
   "source": [
    "Melakukan balancing data dengan SMOTE karena dataset memiliki target yang tidak seimbang antar kelasnya"
   ]
  },
  {
   "cell_type": "code",
   "execution_count": 43,
   "metadata": {},
   "outputs": [],
   "source": [
    "smote = SMOTE(random_state = 11)\n",
    "X_train, y_train = smote.fit_resample(X_train, y_train)"
   ]
  },
  {
   "cell_type": "markdown",
   "metadata": {},
   "source": [
    "# Model Definition"
   ]
  },
  {
   "cell_type": "markdown",
   "metadata": {},
   "source": [
    "> Bagian ini berisi cell untuk mendefinisikan model. Jelaskan alasan menggunakan suatu algoritma/model, hyperparameter yang dipakai, jenis penggunaan metrics yang dipakai, dan hal lain yang terkait dengan model."
   ]
  },
  {
   "cell_type": "markdown",
   "metadata": {},
   "source": [
    "Melakukan deklarasi model dengan Logistic Regression, SVM Classification, Decission Tree, Random Forest, KNN, Naive Bayes, dan Ada Boost, model dibungkus dengan pipeline"
   ]
  },
  {
   "cell_type": "code",
   "execution_count": 44,
   "metadata": {},
   "outputs": [],
   "source": [
    "# Model Logistic Regression\n",
    "\n",
    "logistic_pipeline = make_pipeline(capper_pipeline, data_pipeline, LogisticRegression())\n",
    "\n",
    "# Model SVM\n",
    "svm_pipeline = make_pipeline(capper_pipeline, data_pipeline, SVC())\n",
    "\n",
    "# Model Decision Tree\n",
    "tree_pipeline = make_pipeline(capper_pipeline, data_pipeline, DecisionTreeClassifier())\n",
    "\n",
    "# Model Random Forest\n",
    "rf_pipeline = make_pipeline(capper_pipeline, data_pipeline, RandomForestClassifier())\n",
    "\n",
    "# Model KNN\n",
    "knn_pipeline = make_pipeline(capper_pipeline, data_pipeline, KNeighborsClassifier())\n",
    "\n",
    "# Model Naive Bayes\n",
    "nb_pipeline = make_pipeline(capper_pipeline, data_pipeline, CategoricalNB())\n",
    "\n",
    "# Model Ada Boost\n",
    "ada_pipeline = make_pipeline(capper_pipeline, data_pipeline, AdaBoostClassifier())\n"
   ]
  },
  {
   "cell_type": "markdown",
   "metadata": {},
   "source": [
    "# Model Training"
   ]
  },
  {
   "cell_type": "markdown",
   "metadata": {},
   "source": [
    "> Cell pada bagian ini hanya berisi code untuk melatih model dan output yang dihasilkan. Lakukan beberapa kali proses training dengan hyperparameter yang berbeda untuk melihat hasil yang didapatkan. Analisis dan narasikan hasil ini pada bagian Model Evaluation."
   ]
  },
  {
   "cell_type": "markdown",
   "metadata": {},
   "source": [
    "## Logistic Regression"
   ]
  },
  {
   "cell_type": "code",
   "execution_count": 45,
   "metadata": {},
   "outputs": [
    {
     "name": "stderr",
     "output_type": "stream",
     "text": [
      "c:\\Users\\rioar\\anaconda3\\lib\\site-packages\\sklearn\\linear_model\\_logistic.py:814: ConvergenceWarning: lbfgs failed to converge (status=1):\n",
      "STOP: TOTAL NO. of ITERATIONS REACHED LIMIT.\n",
      "\n",
      "Increase the number of iterations (max_iter) or scale the data as shown in:\n",
      "    https://scikit-learn.org/stable/modules/preprocessing.html\n",
      "Please also refer to the documentation for alternative solver options:\n",
      "    https://scikit-learn.org/stable/modules/linear_model.html#logistic-regression\n",
      "  n_iter_i = _check_optimize_result(\n"
     ]
    },
    {
     "data": {
      "text/plain": [
       "Pipeline(steps=[('pipeline',\n",
       "                 Pipeline(steps=[('winsorizer',\n",
       "                                  Winsorizer(capping_method='iqr',\n",
       "                                             fold=1.5))])),\n",
       "                ('columntransformer',\n",
       "                 ColumnTransformer(transformers=[('numerical_pipe',\n",
       "                                                  Pipeline(steps=[('minmaxscaler',\n",
       "                                                                   MinMaxScaler())]),\n",
       "                                                  ['limit_balance', 'age',\n",
       "                                                   'bill_amt_1', 'bill_amt_2',\n",
       "                                                   'bill_amt_3', 'bill_amt_4',\n",
       "                                                   'bill_amt_5', 'bill_amt_6',\n",
       "                                                   'pay_amt_1', 'pay_amt_2',\n",
       "                                                   'pay_amt_3', 'pay_amt_4',\n",
       "                                                   'pay_amt_5', 'pay_amt_6']),\n",
       "                                                 ('nomimal_pipe',\n",
       "                                                  Pipeline(steps=[('onehotencoder',\n",
       "                                                                   OneHotEncoder())]),\n",
       "                                                  ['gender', 'marital_status']),\n",
       "                                                 ('ordinal_pipe',\n",
       "                                                  Pipeline(steps=[('ordinalencoder',\n",
       "                                                                   OrdinalEncoder())]),\n",
       "                                                  ['education_level', 'pay_1',\n",
       "                                                   'pay_2', 'pay_3', 'pay_4',\n",
       "                                                   'pay_5', 'pay_6'])])),\n",
       "                ('logisticregression', LogisticRegression())])"
      ]
     },
     "execution_count": 45,
     "metadata": {},
     "output_type": "execute_result"
    }
   ],
   "source": [
    "logistic_pipeline.fit(X_train,y_train)"
   ]
  },
  {
   "cell_type": "markdown",
   "metadata": {},
   "source": [
    "## SVM"
   ]
  },
  {
   "cell_type": "code",
   "execution_count": 46,
   "metadata": {},
   "outputs": [
    {
     "data": {
      "text/plain": [
       "Pipeline(steps=[('pipeline',\n",
       "                 Pipeline(steps=[('winsorizer',\n",
       "                                  Winsorizer(capping_method='iqr',\n",
       "                                             fold=1.5))])),\n",
       "                ('columntransformer',\n",
       "                 ColumnTransformer(transformers=[('numerical_pipe',\n",
       "                                                  Pipeline(steps=[('minmaxscaler',\n",
       "                                                                   MinMaxScaler())]),\n",
       "                                                  ['limit_balance', 'age',\n",
       "                                                   'bill_amt_1', 'bill_amt_2',\n",
       "                                                   'bill_amt_3', 'bill_amt_4',\n",
       "                                                   'bill_amt_5', 'bill_amt_6',\n",
       "                                                   'pay_amt_1', 'pay_amt_2',\n",
       "                                                   'pay_amt_3', 'pay_amt_4',\n",
       "                                                   'pay_amt_5', 'pay_amt_6']),\n",
       "                                                 ('nomimal_pipe',\n",
       "                                                  Pipeline(steps=[('onehotencoder',\n",
       "                                                                   OneHotEncoder())]),\n",
       "                                                  ['gender', 'marital_status']),\n",
       "                                                 ('ordinal_pipe',\n",
       "                                                  Pipeline(steps=[('ordinalencoder',\n",
       "                                                                   OrdinalEncoder())]),\n",
       "                                                  ['education_level', 'pay_1',\n",
       "                                                   'pay_2', 'pay_3', 'pay_4',\n",
       "                                                   'pay_5', 'pay_6'])])),\n",
       "                ('svc', SVC())])"
      ]
     },
     "execution_count": 46,
     "metadata": {},
     "output_type": "execute_result"
    }
   ],
   "source": [
    "svm_pipeline.fit(X_train,y_train)"
   ]
  },
  {
   "cell_type": "markdown",
   "metadata": {},
   "source": [
    "## Decission Tree"
   ]
  },
  {
   "cell_type": "code",
   "execution_count": 47,
   "metadata": {},
   "outputs": [
    {
     "data": {
      "text/plain": [
       "Pipeline(steps=[('pipeline',\n",
       "                 Pipeline(steps=[('winsorizer',\n",
       "                                  Winsorizer(capping_method='iqr',\n",
       "                                             fold=1.5))])),\n",
       "                ('columntransformer',\n",
       "                 ColumnTransformer(transformers=[('numerical_pipe',\n",
       "                                                  Pipeline(steps=[('minmaxscaler',\n",
       "                                                                   MinMaxScaler())]),\n",
       "                                                  ['limit_balance', 'age',\n",
       "                                                   'bill_amt_1', 'bill_amt_2',\n",
       "                                                   'bill_amt_3', 'bill_amt_4',\n",
       "                                                   'bill_amt_5', 'bill_amt_6',\n",
       "                                                   'pay_amt_1', 'pay_amt_2',\n",
       "                                                   'pay_amt_3', 'pay_amt_4',\n",
       "                                                   'pay_amt_5', 'pay_amt_6']),\n",
       "                                                 ('nomimal_pipe',\n",
       "                                                  Pipeline(steps=[('onehotencoder',\n",
       "                                                                   OneHotEncoder())]),\n",
       "                                                  ['gender', 'marital_status']),\n",
       "                                                 ('ordinal_pipe',\n",
       "                                                  Pipeline(steps=[('ordinalencoder',\n",
       "                                                                   OrdinalEncoder())]),\n",
       "                                                  ['education_level', 'pay_1',\n",
       "                                                   'pay_2', 'pay_3', 'pay_4',\n",
       "                                                   'pay_5', 'pay_6'])])),\n",
       "                ('decisiontreeclassifier', DecisionTreeClassifier())])"
      ]
     },
     "execution_count": 47,
     "metadata": {},
     "output_type": "execute_result"
    }
   ],
   "source": [
    "tree_pipeline.fit(X_train,y_train)"
   ]
  },
  {
   "cell_type": "markdown",
   "metadata": {},
   "source": [
    "## Random Forest"
   ]
  },
  {
   "cell_type": "code",
   "execution_count": 48,
   "metadata": {},
   "outputs": [
    {
     "data": {
      "text/plain": [
       "Pipeline(steps=[('pipeline',\n",
       "                 Pipeline(steps=[('winsorizer',\n",
       "                                  Winsorizer(capping_method='iqr',\n",
       "                                             fold=1.5))])),\n",
       "                ('columntransformer',\n",
       "                 ColumnTransformer(transformers=[('numerical_pipe',\n",
       "                                                  Pipeline(steps=[('minmaxscaler',\n",
       "                                                                   MinMaxScaler())]),\n",
       "                                                  ['limit_balance', 'age',\n",
       "                                                   'bill_amt_1', 'bill_amt_2',\n",
       "                                                   'bill_amt_3', 'bill_amt_4',\n",
       "                                                   'bill_amt_5', 'bill_amt_6',\n",
       "                                                   'pay_amt_1', 'pay_amt_2',\n",
       "                                                   'pay_amt_3', 'pay_amt_4',\n",
       "                                                   'pay_amt_5', 'pay_amt_6']),\n",
       "                                                 ('nomimal_pipe',\n",
       "                                                  Pipeline(steps=[('onehotencoder',\n",
       "                                                                   OneHotEncoder())]),\n",
       "                                                  ['gender', 'marital_status']),\n",
       "                                                 ('ordinal_pipe',\n",
       "                                                  Pipeline(steps=[('ordinalencoder',\n",
       "                                                                   OrdinalEncoder())]),\n",
       "                                                  ['education_level', 'pay_1',\n",
       "                                                   'pay_2', 'pay_3', 'pay_4',\n",
       "                                                   'pay_5', 'pay_6'])])),\n",
       "                ('randomforestclassifier', RandomForestClassifier())])"
      ]
     },
     "execution_count": 48,
     "metadata": {},
     "output_type": "execute_result"
    }
   ],
   "source": [
    "rf_pipeline.fit(X_train,y_train)"
   ]
  },
  {
   "cell_type": "markdown",
   "metadata": {},
   "source": [
    "## KNN"
   ]
  },
  {
   "cell_type": "code",
   "execution_count": 49,
   "metadata": {},
   "outputs": [
    {
     "data": {
      "text/plain": [
       "Pipeline(steps=[('pipeline',\n",
       "                 Pipeline(steps=[('winsorizer',\n",
       "                                  Winsorizer(capping_method='iqr',\n",
       "                                             fold=1.5))])),\n",
       "                ('columntransformer',\n",
       "                 ColumnTransformer(transformers=[('numerical_pipe',\n",
       "                                                  Pipeline(steps=[('minmaxscaler',\n",
       "                                                                   MinMaxScaler())]),\n",
       "                                                  ['limit_balance', 'age',\n",
       "                                                   'bill_amt_1', 'bill_amt_2',\n",
       "                                                   'bill_amt_3', 'bill_amt_4',\n",
       "                                                   'bill_amt_5', 'bill_amt_6',\n",
       "                                                   'pay_amt_1', 'pay_amt_2',\n",
       "                                                   'pay_amt_3', 'pay_amt_4',\n",
       "                                                   'pay_amt_5', 'pay_amt_6']),\n",
       "                                                 ('nomimal_pipe',\n",
       "                                                  Pipeline(steps=[('onehotencoder',\n",
       "                                                                   OneHotEncoder())]),\n",
       "                                                  ['gender', 'marital_status']),\n",
       "                                                 ('ordinal_pipe',\n",
       "                                                  Pipeline(steps=[('ordinalencoder',\n",
       "                                                                   OrdinalEncoder())]),\n",
       "                                                  ['education_level', 'pay_1',\n",
       "                                                   'pay_2', 'pay_3', 'pay_4',\n",
       "                                                   'pay_5', 'pay_6'])])),\n",
       "                ('kneighborsclassifier', KNeighborsClassifier())])"
      ]
     },
     "execution_count": 49,
     "metadata": {},
     "output_type": "execute_result"
    }
   ],
   "source": [
    "knn_pipeline.fit(X_train,y_train)"
   ]
  },
  {
   "cell_type": "markdown",
   "metadata": {},
   "source": [
    "## Naive Bayes"
   ]
  },
  {
   "cell_type": "code",
   "execution_count": 50,
   "metadata": {},
   "outputs": [
    {
     "data": {
      "text/plain": [
       "Pipeline(steps=[('pipeline',\n",
       "                 Pipeline(steps=[('winsorizer',\n",
       "                                  Winsorizer(capping_method='iqr',\n",
       "                                             fold=1.5))])),\n",
       "                ('columntransformer',\n",
       "                 ColumnTransformer(transformers=[('numerical_pipe',\n",
       "                                                  Pipeline(steps=[('minmaxscaler',\n",
       "                                                                   MinMaxScaler())]),\n",
       "                                                  ['limit_balance', 'age',\n",
       "                                                   'bill_amt_1', 'bill_amt_2',\n",
       "                                                   'bill_amt_3', 'bill_amt_4',\n",
       "                                                   'bill_amt_5', 'bill_amt_6',\n",
       "                                                   'pay_amt_1', 'pay_amt_2',\n",
       "                                                   'pay_amt_3', 'pay_amt_4',\n",
       "                                                   'pay_amt_5', 'pay_amt_6']),\n",
       "                                                 ('nomimal_pipe',\n",
       "                                                  Pipeline(steps=[('onehotencoder',\n",
       "                                                                   OneHotEncoder())]),\n",
       "                                                  ['gender', 'marital_status']),\n",
       "                                                 ('ordinal_pipe',\n",
       "                                                  Pipeline(steps=[('ordinalencoder',\n",
       "                                                                   OrdinalEncoder())]),\n",
       "                                                  ['education_level', 'pay_1',\n",
       "                                                   'pay_2', 'pay_3', 'pay_4',\n",
       "                                                   'pay_5', 'pay_6'])])),\n",
       "                ('categoricalnb', CategoricalNB())])"
      ]
     },
     "execution_count": 50,
     "metadata": {},
     "output_type": "execute_result"
    }
   ],
   "source": [
    "nb_pipeline.fit(X_train,y_train)"
   ]
  },
  {
   "cell_type": "markdown",
   "metadata": {},
   "source": [
    "## Ada Boost Classifier"
   ]
  },
  {
   "cell_type": "code",
   "execution_count": 51,
   "metadata": {},
   "outputs": [
    {
     "data": {
      "text/plain": [
       "Pipeline(steps=[('pipeline',\n",
       "                 Pipeline(steps=[('winsorizer',\n",
       "                                  Winsorizer(capping_method='iqr',\n",
       "                                             fold=1.5))])),\n",
       "                ('columntransformer',\n",
       "                 ColumnTransformer(transformers=[('numerical_pipe',\n",
       "                                                  Pipeline(steps=[('minmaxscaler',\n",
       "                                                                   MinMaxScaler())]),\n",
       "                                                  ['limit_balance', 'age',\n",
       "                                                   'bill_amt_1', 'bill_amt_2',\n",
       "                                                   'bill_amt_3', 'bill_amt_4',\n",
       "                                                   'bill_amt_5', 'bill_amt_6',\n",
       "                                                   'pay_amt_1', 'pay_amt_2',\n",
       "                                                   'pay_amt_3', 'pay_amt_4',\n",
       "                                                   'pay_amt_5', 'pay_amt_6']),\n",
       "                                                 ('nomimal_pipe',\n",
       "                                                  Pipeline(steps=[('onehotencoder',\n",
       "                                                                   OneHotEncoder())]),\n",
       "                                                  ['gender', 'marital_status']),\n",
       "                                                 ('ordinal_pipe',\n",
       "                                                  Pipeline(steps=[('ordinalencoder',\n",
       "                                                                   OrdinalEncoder())]),\n",
       "                                                  ['education_level', 'pay_1',\n",
       "                                                   'pay_2', 'pay_3', 'pay_4',\n",
       "                                                   'pay_5', 'pay_6'])])),\n",
       "                ('adaboostclassifier', AdaBoostClassifier())])"
      ]
     },
     "execution_count": 51,
     "metadata": {},
     "output_type": "execute_result"
    }
   ],
   "source": [
    "ada_pipeline.fit(X_train,y_train)"
   ]
  },
  {
   "cell_type": "markdown",
   "metadata": {},
   "source": [
    "# Model Evaluation"
   ]
  },
  {
   "cell_type": "markdown",
   "metadata": {},
   "source": [
    "> Pada bagian ini, dilakukan evaluasi model yang harus menunjukkan bagaimana performa model berdasarkan metrics yang dipilih. Hal ini harus dibuktikan dengan visualisasi tren performa dan/atau tingkat kesalahan model. Lakukan analisis terkait dengan hasil pada model dan tuliskan hasil analisisnya."
   ]
  },
  {
   "cell_type": "code",
   "execution_count": 52,
   "metadata": {},
   "outputs": [
    {
     "name": "stdout",
     "output_type": "stream",
     "text": [
      "ROC AUC Train Results Logistic Regression\n",
      "0.7256214149139579\n",
      "ROC AUC Test Results Logistic Regression\n",
      "0.7412174933194291\n",
      "-------------------------------------------------\n",
      "ROC AUC Train Results SVM\n",
      "0.7770076481835565\n",
      "ROC AUC Test Results SVM\n",
      "0.7752395229094701\n",
      "-------------------------------------------------\n",
      "ROC AUC Train Results Decission Tree\n",
      "1.0\n",
      "ROC AUC Test Results Decission Tree\n",
      "0.6183601642442809\n",
      "-------------------------------------------------\n",
      "ROC AUC Train Results Random Forest\n",
      "1.0\n",
      "ROC AUC Test Results Random Forest\n",
      "0.7386430293945122\n",
      "-------------------------------------------------\n",
      "ROC AUC Train Results KNN\n",
      "0.8458413001912046\n",
      "ROC AUC Test Results KNN\n",
      "0.7226422472788894\n",
      "-------------------------------------------------\n",
      "ROC AUC Train Results Naive Bayes\n",
      "0.733508604206501\n",
      "ROC AUC Test Results Naive Bayes\n",
      "0.7594016815485889\n",
      "-------------------------------------------------\n",
      "ROC AUC Train Results Ada Boost\n",
      "0.7770076481835564\n",
      "ROC AUC Test Results Ada Boost\n",
      "0.7388385583002021\n"
     ]
    }
   ],
   "source": [
    "#Performance Metrics\n",
    "print('ROC AUC Train Results Logistic Regression')\n",
    "print(roc_auc_score(y_train, logistic_pipeline.predict(X_train)))\n",
    "\n",
    "print('ROC AUC Test Results Logistic Regression')\n",
    "print(roc_auc_score(y_test, logistic_pipeline.predict(X_test)))\n",
    "print ('-------------------------------------------------')\n",
    "\n",
    "print('ROC AUC Train Results SVM')\n",
    "print(roc_auc_score(y_train, svm_pipeline.predict(X_train)))\n",
    "\n",
    "print('ROC AUC Test Results SVM')\n",
    "print(roc_auc_score(y_test, svm_pipeline.predict(X_test)))\n",
    "print ('-------------------------------------------------')\n",
    "\n",
    "print('ROC AUC Train Results Decission Tree')\n",
    "print(roc_auc_score(y_train, tree_pipeline.predict(X_train)))\n",
    "\n",
    "print('ROC AUC Test Results Decission Tree')\n",
    "print(roc_auc_score(y_test, tree_pipeline.predict(X_test)))\n",
    "print ('-------------------------------------------------')\n",
    "\n",
    "print('ROC AUC Train Results Random Forest')\n",
    "print(roc_auc_score(y_train, rf_pipeline.predict(X_train)))\n",
    "\n",
    "print('ROC AUC Test Results Random Forest')\n",
    "print(roc_auc_score(y_test, rf_pipeline.predict(X_test)))\n",
    "print ('-------------------------------------------------')\n",
    "\n",
    "print('ROC AUC Train Results KNN')\n",
    "print(roc_auc_score(y_train, knn_pipeline.predict(X_train)))\n",
    "\n",
    "print('ROC AUC Test Results KNN')\n",
    "print(roc_auc_score(y_test, knn_pipeline.predict(X_test)))\n",
    "print ('-------------------------------------------------')\n",
    "\n",
    "print('ROC AUC Train Results Naive Bayes')\n",
    "print(roc_auc_score(y_train, nb_pipeline.predict(X_train)))\n",
    "\n",
    "print('ROC AUC Test Results Naive Bayes')\n",
    "print(roc_auc_score(y_test, nb_pipeline.predict(X_test)))\n",
    "print ('-------------------------------------------------')\n",
    "\n",
    "print('ROC AUC Train Results Ada Boost')\n",
    "print(roc_auc_score(y_train, ada_pipeline.predict(X_train)))\n",
    "\n",
    "print('ROC AUC Test Results Ada Boost')\n",
    "print(roc_auc_score(y_test, ada_pipeline.predict(X_test)))\n"
   ]
  },
  {
   "cell_type": "markdown",
   "metadata": {},
   "source": [
    "- Ditinjau berdasarkan score ROC-AUC nya model Decission Tree dan Random Forest terindikasi overfit, karena terdapat perbedaan yang sangat jauh antara train dan test setnya, dan train setnya mendapatkan nilai ROC-AUC sempurna atau 1 sedangkan pada test setnya hanya sebesar 0.61 dan 0.74.\n",
    "- Model KNN, SVM, Logistic Regression, Naive Bayes dan Ada Boost sudah good fit\n",
    "- ROC-AUC score tertinggi pada model yang good fit terdapat pada model KNN dengan score pada train set 0.84 dan test set 0.72, selanjutnya pada model SVM dengan score pada train set 0.77 dan test set 0.77.\n",
    "- Ditinjau berdasarkan ROC-AUC score pada test set, model SVM merupakan model paling baik dalam memprediksi label."
   ]
  },
  {
   "cell_type": "markdown",
   "metadata": {},
   "source": [
    "# Cross Validation"
   ]
  },
  {
   "cell_type": "markdown",
   "metadata": {},
   "source": [
    "Melakukan Cross Validation pada semua model untuk melihat model mana yang paling baik dalam memprediksi model, CV dilakukan sebanyak 5 kali dengan accuracy sebagai metric penilaiannya"
   ]
  },
  {
   "cell_type": "code",
   "execution_count": 53,
   "metadata": {},
   "outputs": [
    {
     "name": "stderr",
     "output_type": "stream",
     "text": [
      "c:\\Users\\rioar\\anaconda3\\lib\\site-packages\\sklearn\\linear_model\\_logistic.py:814: ConvergenceWarning: lbfgs failed to converge (status=1):\n",
      "STOP: TOTAL NO. of ITERATIONS REACHED LIMIT.\n",
      "\n",
      "Increase the number of iterations (max_iter) or scale the data as shown in:\n",
      "    https://scikit-learn.org/stable/modules/preprocessing.html\n",
      "Please also refer to the documentation for alternative solver options:\n",
      "    https://scikit-learn.org/stable/modules/linear_model.html#logistic-regression\n",
      "  n_iter_i = _check_optimize_result(\n"
     ]
    }
   ],
   "source": [
    "# Cross-validate base model\n",
    "\n",
    "# prepare models and put it into list\n",
    "models = []\n",
    "models.append((\"Logistic\", logistic_pipeline))\n",
    "models.append((\"SVM\", svm_pipeline))\n",
    "models.append((\"Decission Tree\", tree_pipeline))\n",
    "models.append((\"Random Forest\",rf_pipeline))\n",
    "models.append((\"KNN\",knn_pipeline))\n",
    "models.append((\"Naive Bayes\",nb_pipeline))\n",
    "models.append((\"Ada Boost\",ada_pipeline))\n",
    "\n",
    "# Create empty list to stores result\n",
    "names = []\n",
    "results = []\n",
    "mean_score = []\n",
    "stdev_score = []\n",
    "\n",
    "# Cross-validate each model\n",
    "for name, model in models:\n",
    "    model.fit(X_train,y_train)\n",
    "    scores = cross_val_score(model, X_train, y_train, scoring='accuracy', cv=5, n_jobs=-1)\n",
    "\n",
    "    names.append(name)\n",
    "    results.append(scores)\n",
    "    mean_score.append(round(np.mean(scores),4))\n",
    "    stdev_score.append(round(np.std(scores),4))\n",
    "\n",
    "cv_result = pd.DataFrame({'models':names, 'mean_score':mean_score, 'stdev_score':stdev_score})"
   ]
  },
  {
   "cell_type": "markdown",
   "metadata": {},
   "source": [
    "Melihat hasil cross validation"
   ]
  },
  {
   "cell_type": "code",
   "execution_count": 54,
   "metadata": {},
   "outputs": [
    {
     "data": {
      "text/html": [
       "<div>\n",
       "<style scoped>\n",
       "    .dataframe tbody tr th:only-of-type {\n",
       "        vertical-align: middle;\n",
       "    }\n",
       "\n",
       "    .dataframe tbody tr th {\n",
       "        vertical-align: top;\n",
       "    }\n",
       "\n",
       "    .dataframe thead th {\n",
       "        text-align: right;\n",
       "    }\n",
       "</style>\n",
       "<table border=\"1\" class=\"dataframe\">\n",
       "  <thead>\n",
       "    <tr style=\"text-align: right;\">\n",
       "      <th></th>\n",
       "      <th>models</th>\n",
       "      <th>mean_score</th>\n",
       "      <th>stdev_score</th>\n",
       "    </tr>\n",
       "  </thead>\n",
       "  <tbody>\n",
       "    <tr>\n",
       "      <th>3</th>\n",
       "      <td>Random Forest</td>\n",
       "      <td>0.8595</td>\n",
       "      <td>0.0478</td>\n",
       "    </tr>\n",
       "    <tr>\n",
       "      <th>4</th>\n",
       "      <td>KNN</td>\n",
       "      <td>0.7672</td>\n",
       "      <td>0.0286</td>\n",
       "    </tr>\n",
       "    <tr>\n",
       "      <th>2</th>\n",
       "      <td>Decission Tree</td>\n",
       "      <td>0.7670</td>\n",
       "      <td>0.0392</td>\n",
       "    </tr>\n",
       "    <tr>\n",
       "      <th>1</th>\n",
       "      <td>SVM</td>\n",
       "      <td>0.7612</td>\n",
       "      <td>0.0381</td>\n",
       "    </tr>\n",
       "    <tr>\n",
       "      <th>6</th>\n",
       "      <td>Ada Boost</td>\n",
       "      <td>0.7560</td>\n",
       "      <td>0.0498</td>\n",
       "    </tr>\n",
       "    <tr>\n",
       "      <th>5</th>\n",
       "      <td>Naive Bayes</td>\n",
       "      <td>0.7309</td>\n",
       "      <td>0.0269</td>\n",
       "    </tr>\n",
       "    <tr>\n",
       "      <th>0</th>\n",
       "      <td>Logistic</td>\n",
       "      <td>0.7216</td>\n",
       "      <td>0.0281</td>\n",
       "    </tr>\n",
       "  </tbody>\n",
       "</table>\n",
       "</div>"
      ],
      "text/plain": [
       "           models  mean_score  stdev_score\n",
       "3   Random Forest      0.8595       0.0478\n",
       "4             KNN      0.7672       0.0286\n",
       "2  Decission Tree      0.7670       0.0392\n",
       "1             SVM      0.7612       0.0381\n",
       "6       Ada Boost      0.7560       0.0498\n",
       "5     Naive Bayes      0.7309       0.0269\n",
       "0        Logistic      0.7216       0.0281"
      ]
     },
     "execution_count": 54,
     "metadata": {},
     "output_type": "execute_result"
    }
   ],
   "source": [
    "cv_result.sort_values(by='mean_score', ascending=False)"
   ]
  },
  {
   "cell_type": "markdown",
   "metadata": {},
   "source": [
    "- Setelah dilakukan Cross Validation, Model Random forest memiliki mean score tertinggi, score yang didapatkan oleh model Random forest sebesar 0.8571 +-0.0533 untuk batas atas dan bawahnya"
   ]
  },
  {
   "cell_type": "markdown",
   "metadata": {},
   "source": [
    "# Model Improvement"
   ]
  },
  {
   "cell_type": "markdown",
   "metadata": {},
   "source": [
    "Melakukan Model Improvement menggunakan grid search pada model KNN karena model Random Forest dan Decission Tree terindikasi overfit."
   ]
  },
  {
   "cell_type": "code",
   "execution_count": 1,
   "metadata": {},
   "outputs": [
    {
     "ename": "NameError",
     "evalue": "name 'knn_pipeline' is not defined",
     "output_type": "error",
     "traceback": [
      "\u001b[1;31m---------------------------------------------------------------------------\u001b[0m",
      "\u001b[1;31mNameError\u001b[0m                                 Traceback (most recent call last)",
      "\u001b[1;32m<ipython-input-1-019714153289>\u001b[0m in \u001b[0;36m<module>\u001b[1;34m\u001b[0m\n\u001b[1;32m----> 1\u001b[1;33m \u001b[0mmodel\u001b[0m \u001b[1;33m=\u001b[0m \u001b[0mknn_pipeline\u001b[0m\u001b[1;33m\u001b[0m\u001b[1;33m\u001b[0m\u001b[0m\n\u001b[0m\u001b[0;32m      2\u001b[0m log_param=[{\n\u001b[0;32m      3\u001b[0m     \u001b[1;34m'kneighborsclassifier__n_neighbors'\u001b[0m \u001b[1;33m:\u001b[0m \u001b[0mlist\u001b[0m\u001b[1;33m(\u001b[0m\u001b[0mrange\u001b[0m\u001b[1;33m(\u001b[0m\u001b[1;36m1\u001b[0m\u001b[1;33m,\u001b[0m\u001b[1;36m30\u001b[0m\u001b[1;33m)\u001b[0m\u001b[1;33m)\u001b[0m\u001b[1;33m,\u001b[0m\u001b[1;33m\u001b[0m\u001b[1;33m\u001b[0m\u001b[0m\n\u001b[0;32m      4\u001b[0m     \u001b[1;34m'kneighborsclassifier__p'\u001b[0m \u001b[1;33m:\u001b[0m\u001b[1;33m[\u001b[0m\u001b[1;36m1\u001b[0m\u001b[1;33m,\u001b[0m\u001b[1;36m2\u001b[0m\u001b[1;33m,\u001b[0m\u001b[1;36m3\u001b[0m\u001b[1;33m,\u001b[0m\u001b[1;36m4\u001b[0m\u001b[1;33m]\u001b[0m\u001b[1;33m\u001b[0m\u001b[1;33m\u001b[0m\u001b[0m\n\u001b[0;32m      5\u001b[0m }]\n",
      "\u001b[1;31mNameError\u001b[0m: name 'knn_pipeline' is not defined"
     ]
    }
   ],
   "source": [
    "model = knn_pipeline\n",
    "log_param=[{\n",
    "    'kneighborsclassifier__n_neighbors' : list(range(1,30)),\n",
    "    'kneighborsclassifier__p' :[1,2,3,4]\n",
    "}]\n",
    "\n",
    "cv = RepeatedStratifiedKFold(n_splits=10,n_repeats=3)\n",
    "grid_search = GridSearchCV(estimator=model, param_grid=log_param, n_jobs=-1,cv=cv, scoring='recall', error_score=8)\n",
    "grid_result = grid_search.fit(X_train,y_train)\n",
    "\n",
    "print(\"Best:%fusing%s\" % (grid_search.best_score_,grid_search.best_params_))\n",
    "means = grid_search.cv_results_['mean_test_score']        \n",
    "stds = grid_search.cv_results_['std_test_score']\n",
    "params = grid_search.cv_results_['params']\n",
    "for mean, stdev, param in zip(means,stds,params):\n",
    "    print(\" %f (%f) with: %r\" %(mean,stdev,param))"
   ]
  },
  {
   "cell_type": "markdown",
   "metadata": {},
   "source": [
    "- Hyperparameter tuning dilakukan dengan metric evaluation recall, karena untuk dataset ini kita menginginkan nilai recall atau true positive rate (TPR) yang tinggi, karena jika nilai TPR tinggi maka klient yang akan default payment atau kelas 1 lebih mudah terdeteksi. Nilai TPR tinggi akan menurunkan False Negative pada kelas 1, dan False Positive lebih dimaafkan daripada False Negative pada kasus ini."
   ]
  },
  {
   "cell_type": "code",
   "execution_count": 56,
   "metadata": {},
   "outputs": [],
   "source": [
    "y_pred_train_best_knn = grid_search.best_estimator_.predict(X_train)\n",
    "y_pred_test_best_knn = grid_search.best_estimator_.predict(X_test)"
   ]
  },
  {
   "cell_type": "code",
   "execution_count": 57,
   "metadata": {},
   "outputs": [
    {
     "name": "stdout",
     "output_type": "stream",
     "text": [
      "Recall Train Results KNN\n",
      "0.875717017208413\n",
      "Recall Test Results KNN\n",
      "0.6417910447761194\n",
      "-------------------------------------------------\n",
      "Recall Train Results KNN with Hyperparameter Tuning\n",
      "1.0\n",
      "Recall Test Results KNN with Hyperparameter Tuning\n",
      "0.5970149253731343\n"
     ]
    }
   ],
   "source": [
    "#Performance Metrics\n",
    "print('Recall Train Results KNN')\n",
    "print(recall_score(y_train, knn_pipeline.predict(X_train)))\n",
    "\n",
    "print('Recall Test Results KNN')\n",
    "print(recall_score(y_test, knn_pipeline.predict(X_test)))\n",
    "print ('-------------------------------------------------')\n",
    "\n",
    "print('Recall Train Results KNN with Hyperparameter Tuning')\n",
    "print(recall_score(y_train, y_pred_train_best_knn))\n",
    "\n",
    "print('Recall Test Results KNN with Hyperparameter Tuning')\n",
    "print(recall_score(y_test, y_pred_test_best_knn))"
   ]
  },
  {
   "cell_type": "markdown",
   "metadata": {},
   "source": [
    "- Model KNN juga overfit setelah dilakukan hyperparameter tuning dengan grid search, jadi dilakukan kembali hyperparameter tuning menggunakan grid search pada model SVM"
   ]
  },
  {
   "cell_type": "code",
   "execution_count": 58,
   "metadata": {},
   "outputs": [
    {
     "name": "stdout",
     "output_type": "stream",
     "text": [
      "Best:0.938174using{'svc__C': 0.05, 'svc__gamma': 1.0, 'svc__kernel': 'rbf'}\n",
      " 0.613597 (0.021347) with: {'svc__C': 0.05, 'svc__gamma': 0.1, 'svc__kernel': 'rbf'}\n",
      " 0.698040 (0.021790) with: {'svc__C': 0.05, 'svc__gamma': 0.1, 'svc__kernel': 'linear'}\n",
      " 0.639251 (0.028940) with: {'svc__C': 0.05, 'svc__gamma': 0.2, 'svc__kernel': 'rbf'}\n",
      " 0.698040 (0.021790) with: {'svc__C': 0.05, 'svc__gamma': 0.2, 'svc__kernel': 'linear'}\n",
      " 0.675100 (0.030075) with: {'svc__C': 0.05, 'svc__gamma': 0.3, 'svc__kernel': 'rbf'}\n",
      " 0.698040 (0.021790) with: {'svc__C': 0.05, 'svc__gamma': 0.3, 'svc__kernel': 'linear'}\n",
      " 0.734533 (0.027863) with: {'svc__C': 0.05, 'svc__gamma': 0.4, 'svc__kernel': 'rbf'}\n",
      " 0.698040 (0.021790) with: {'svc__C': 0.05, 'svc__gamma': 0.4, 'svc__kernel': 'linear'}\n",
      " 0.796680 (0.022288) with: {'svc__C': 0.05, 'svc__gamma': 0.5, 'svc__kernel': 'rbf'}\n",
      " 0.698040 (0.021790) with: {'svc__C': 0.05, 'svc__gamma': 0.5, 'svc__kernel': 'linear'}\n",
      " 0.851498 (0.019425) with: {'svc__C': 0.05, 'svc__gamma': 0.6, 'svc__kernel': 'rbf'}\n",
      " 0.698040 (0.021790) with: {'svc__C': 0.05, 'svc__gamma': 0.6, 'svc__kernel': 'linear'}\n",
      " 0.884317 (0.014441) with: {'svc__C': 0.05, 'svc__gamma': 0.7, 'svc__kernel': 'rbf'}\n",
      " 0.698040 (0.021790) with: {'svc__C': 0.05, 'svc__gamma': 0.7, 'svc__kernel': 'linear'}\n",
      " 0.911246 (0.014218) with: {'svc__C': 0.05, 'svc__gamma': 0.8, 'svc__kernel': 'rbf'}\n",
      " 0.698040 (0.021790) with: {'svc__C': 0.05, 'svc__gamma': 0.8, 'svc__kernel': 'linear'}\n",
      " 0.926222 (0.013281) with: {'svc__C': 0.05, 'svc__gamma': 0.9, 'svc__kernel': 'rbf'}\n",
      " 0.698040 (0.021790) with: {'svc__C': 0.05, 'svc__gamma': 0.9, 'svc__kernel': 'linear'}\n",
      " 0.938174 (0.014475) with: {'svc__C': 0.05, 'svc__gamma': 1.0, 'svc__kernel': 'rbf'}\n",
      " 0.698040 (0.021790) with: {'svc__C': 0.05, 'svc__gamma': 1.0, 'svc__kernel': 'linear'}\n",
      " 0.644825 (0.026357) with: {'svc__C': 0.1, 'svc__gamma': 0.1, 'svc__kernel': 'rbf'}\n",
      " 0.702503 (0.020994) with: {'svc__C': 0.1, 'svc__gamma': 0.1, 'svc__kernel': 'linear'}\n",
      " 0.693101 (0.030860) with: {'svc__C': 0.1, 'svc__gamma': 0.2, 'svc__kernel': 'rbf'}\n",
      " 0.702503 (0.020994) with: {'svc__C': 0.1, 'svc__gamma': 0.2, 'svc__kernel': 'linear'}\n",
      " 0.709035 (0.031878) with: {'svc__C': 0.1, 'svc__gamma': 0.3, 'svc__kernel': 'rbf'}\n",
      " 0.702503 (0.020994) with: {'svc__C': 0.1, 'svc__gamma': 0.3, 'svc__kernel': 'linear'}\n",
      " 0.720828 (0.030330) with: {'svc__C': 0.1, 'svc__gamma': 0.4, 'svc__kernel': 'rbf'}\n",
      " 0.702503 (0.020994) with: {'svc__C': 0.1, 'svc__gamma': 0.4, 'svc__kernel': 'linear'}\n",
      " 0.746004 (0.029262) with: {'svc__C': 0.1, 'svc__gamma': 0.5, 'svc__kernel': 'rbf'}\n",
      " 0.702503 (0.020994) with: {'svc__C': 0.1, 'svc__gamma': 0.5, 'svc__kernel': 'linear'}\n",
      " 0.789983 (0.026966) with: {'svc__C': 0.1, 'svc__gamma': 0.6, 'svc__kernel': 'rbf'}\n",
      " 0.702503 (0.020994) with: {'svc__C': 0.1, 'svc__gamma': 0.6, 'svc__kernel': 'linear'}\n",
      " 0.831735 (0.022305) with: {'svc__C': 0.1, 'svc__gamma': 0.7, 'svc__kernel': 'rbf'}\n",
      " 0.702503 (0.020994) with: {'svc__C': 0.1, 'svc__gamma': 0.7, 'svc__kernel': 'linear'}\n",
      " 0.863124 (0.017995) with: {'svc__C': 0.1, 'svc__gamma': 0.8, 'svc__kernel': 'rbf'}\n",
      " 0.702503 (0.020994) with: {'svc__C': 0.1, 'svc__gamma': 0.8, 'svc__kernel': 'linear'}\n",
      " 0.888141 (0.016430) with: {'svc__C': 0.1, 'svc__gamma': 0.9, 'svc__kernel': 'rbf'}\n",
      " 0.702503 (0.020994) with: {'svc__C': 0.1, 'svc__gamma': 0.9, 'svc__kernel': 'linear'}\n",
      " 0.900090 (0.017204) with: {'svc__C': 0.1, 'svc__gamma': 1.0, 'svc__kernel': 'rbf'}\n",
      " 0.702503 (0.020994) with: {'svc__C': 0.1, 'svc__gamma': 1.0, 'svc__kernel': 'linear'}\n",
      " 0.695171 (0.027823) with: {'svc__C': 0.2, 'svc__gamma': 0.1, 'svc__kernel': 'rbf'}\n",
      " 0.701865 (0.021395) with: {'svc__C': 0.2, 'svc__gamma': 0.1, 'svc__kernel': 'linear'}\n",
      " 0.718275 (0.028721) with: {'svc__C': 0.2, 'svc__gamma': 0.2, 'svc__kernel': 'rbf'}\n",
      " 0.701865 (0.021395) with: {'svc__C': 0.2, 'svc__gamma': 0.2, 'svc__kernel': 'linear'}\n",
      " 0.725607 (0.027045) with: {'svc__C': 0.2, 'svc__gamma': 0.3, 'svc__kernel': 'rbf'}\n",
      " 0.701865 (0.021395) with: {'svc__C': 0.2, 'svc__gamma': 0.3, 'svc__kernel': 'linear'}\n",
      " 0.730861 (0.028738) with: {'svc__C': 0.2, 'svc__gamma': 0.4, 'svc__kernel': 'rbf'}\n",
      " 0.701865 (0.021395) with: {'svc__C': 0.2, 'svc__gamma': 0.4, 'svc__kernel': 'linear'}\n",
      " 0.737873 (0.027252) with: {'svc__C': 0.2, 'svc__gamma': 0.5, 'svc__kernel': 'rbf'}\n",
      " 0.701865 (0.021395) with: {'svc__C': 0.2, 'svc__gamma': 0.5, 'svc__kernel': 'linear'}\n",
      " 0.754127 (0.026962) with: {'svc__C': 0.2, 'svc__gamma': 0.6, 'svc__kernel': 'rbf'}\n",
      " 0.701865 (0.021395) with: {'svc__C': 0.2, 'svc__gamma': 0.6, 'svc__kernel': 'linear'}\n",
      " 0.784718 (0.027980) with: {'svc__C': 0.2, 'svc__gamma': 0.7, 'svc__kernel': 'rbf'}\n",
      " 0.701865 (0.021395) with: {'svc__C': 0.2, 'svc__gamma': 0.7, 'svc__kernel': 'linear'}\n",
      " 0.812291 (0.023603) with: {'svc__C': 0.2, 'svc__gamma': 0.8, 'svc__kernel': 'rbf'}\n",
      " 0.701865 (0.021395) with: {'svc__C': 0.2, 'svc__gamma': 0.8, 'svc__kernel': 'linear'}\n",
      " 0.837313 (0.021177) with: {'svc__C': 0.2, 'svc__gamma': 0.9, 'svc__kernel': 'rbf'}\n",
      " 0.701865 (0.021395) with: {'svc__C': 0.2, 'svc__gamma': 0.9, 'svc__kernel': 'linear'}\n",
      " 0.856274 (0.020924) with: {'svc__C': 0.2, 'svc__gamma': 1.0, 'svc__kernel': 'rbf'}\n",
      " 0.701865 (0.021395) with: {'svc__C': 0.2, 'svc__gamma': 1.0, 'svc__kernel': 'linear'}\n",
      " 0.709032 (0.028320) with: {'svc__C': 0.3, 'svc__gamma': 0.1, 'svc__kernel': 'rbf'}\n",
      " 0.702503 (0.021821) with: {'svc__C': 0.3, 'svc__gamma': 0.1, 'svc__kernel': 'linear'}\n",
      " 0.727037 (0.028696) with: {'svc__C': 0.3, 'svc__gamma': 0.2, 'svc__kernel': 'rbf'}\n",
      " 0.702503 (0.021821) with: {'svc__C': 0.3, 'svc__gamma': 0.2, 'svc__kernel': 'linear'}\n",
      " 0.735165 (0.026095) with: {'svc__C': 0.3, 'svc__gamma': 0.3, 'svc__kernel': 'rbf'}\n",
      " 0.702503 (0.021821) with: {'svc__C': 0.3, 'svc__gamma': 0.3, 'svc__kernel': 'linear'}\n",
      " 0.738191 (0.029601) with: {'svc__C': 0.3, 'svc__gamma': 0.4, 'svc__kernel': 'rbf'}\n",
      " 0.702503 (0.021821) with: {'svc__C': 0.3, 'svc__gamma': 0.4, 'svc__kernel': 'linear'}\n",
      " 0.739628 (0.026555) with: {'svc__C': 0.3, 'svc__gamma': 0.5, 'svc__kernel': 'rbf'}\n",
      " 0.702503 (0.021821) with: {'svc__C': 0.3, 'svc__gamma': 0.5, 'svc__kernel': 'linear'}\n",
      " 0.746159 (0.026696) with: {'svc__C': 0.3, 'svc__gamma': 0.6, 'svc__kernel': 'rbf'}\n",
      " 0.702503 (0.021821) with: {'svc__C': 0.3, 'svc__gamma': 0.6, 'svc__kernel': 'linear'}\n",
      " 0.760340 (0.025524) with: {'svc__C': 0.3, 'svc__gamma': 0.7, 'svc__kernel': 'rbf'}\n",
      " 0.702503 (0.021821) with: {'svc__C': 0.3, 'svc__gamma': 0.7, 'svc__kernel': 'linear'}\n",
      " 0.783766 (0.023591) with: {'svc__C': 0.3, 'svc__gamma': 0.8, 'svc__kernel': 'rbf'}\n",
      " 0.702503 (0.021821) with: {'svc__C': 0.3, 'svc__gamma': 0.8, 'svc__kernel': 'linear'}\n",
      " 0.808786 (0.021474) with: {'svc__C': 0.3, 'svc__gamma': 0.9, 'svc__kernel': 'rbf'}\n",
      " 0.702503 (0.021821) with: {'svc__C': 0.3, 'svc__gamma': 0.9, 'svc__kernel': 'linear'}\n",
      " 0.824880 (0.019805) with: {'svc__C': 0.3, 'svc__gamma': 1.0, 'svc__kernel': 'rbf'}\n",
      " 0.702503 (0.021821) with: {'svc__C': 0.3, 'svc__gamma': 1.0, 'svc__kernel': 'linear'}\n",
      " 0.703616 (0.026982) with: {'svc__C': 0.25, 'svc__gamma': 0.1, 'svc__kernel': 'rbf'}\n",
      " 0.702503 (0.021811) with: {'svc__C': 0.25, 'svc__gamma': 0.1, 'svc__kernel': 'linear'}\n",
      " 0.723054 (0.028167) with: {'svc__C': 0.25, 'svc__gamma': 0.2, 'svc__kernel': 'rbf'}\n",
      " 0.702503 (0.021811) with: {'svc__C': 0.25, 'svc__gamma': 0.2, 'svc__kernel': 'linear'}\n",
      " 0.730862 (0.028176) with: {'svc__C': 0.25, 'svc__gamma': 0.3, 'svc__kernel': 'rbf'}\n",
      " 0.702503 (0.021811) with: {'svc__C': 0.25, 'svc__gamma': 0.3, 'svc__kernel': 'linear'}\n",
      " 0.734369 (0.028421) with: {'svc__C': 0.25, 'svc__gamma': 0.4, 'svc__kernel': 'rbf'}\n",
      " 0.702503 (0.021811) with: {'svc__C': 0.25, 'svc__gamma': 0.4, 'svc__kernel': 'linear'}\n",
      " 0.738989 (0.027701) with: {'svc__C': 0.25, 'svc__gamma': 0.5, 'svc__kernel': 'rbf'}\n",
      " 0.702503 (0.021811) with: {'svc__C': 0.25, 'svc__gamma': 0.5, 'svc__kernel': 'linear'}\n",
      " 0.747272 (0.027410) with: {'svc__C': 0.25, 'svc__gamma': 0.6, 'svc__kernel': 'rbf'}\n",
      " 0.702503 (0.021811) with: {'svc__C': 0.25, 'svc__gamma': 0.6, 'svc__kernel': 'linear'}\n",
      " 0.769581 (0.027180) with: {'svc__C': 0.25, 'svc__gamma': 0.7, 'svc__kernel': 'rbf'}\n",
      " 0.702503 (0.021811) with: {'svc__C': 0.25, 'svc__gamma': 0.7, 'svc__kernel': 'linear'}\n",
      " 0.800974 (0.025553) with: {'svc__C': 0.25, 'svc__gamma': 0.8, 'svc__kernel': 'rbf'}\n",
      " 0.702503 (0.021811) with: {'svc__C': 0.25, 'svc__gamma': 0.8, 'svc__kernel': 'linear'}\n",
      " 0.822331 (0.020927) with: {'svc__C': 0.25, 'svc__gamma': 0.9, 'svc__kernel': 'rbf'}\n",
      " 0.702503 (0.021811) with: {'svc__C': 0.25, 'svc__gamma': 0.9, 'svc__kernel': 'linear'}\n",
      " 0.839223 (0.020936) with: {'svc__C': 0.25, 'svc__gamma': 1.0, 'svc__kernel': 'rbf'}\n",
      " 0.702503 (0.021811) with: {'svc__C': 0.25, 'svc__gamma': 1.0, 'svc__kernel': 'linear'}\n",
      " 0.717635 (0.026695) with: {'svc__C': 0.4, 'svc__gamma': 0.1, 'svc__kernel': 'rbf'}\n",
      " 0.703300 (0.021692) with: {'svc__C': 0.4, 'svc__gamma': 0.1, 'svc__kernel': 'linear'}\n",
      " 0.737397 (0.025557) with: {'svc__C': 0.4, 'svc__gamma': 0.2, 'svc__kernel': 'rbf'}\n",
      " 0.703300 (0.021692) with: {'svc__C': 0.4, 'svc__gamma': 0.2, 'svc__kernel': 'linear'}\n",
      " 0.743132 (0.027002) with: {'svc__C': 0.4, 'svc__gamma': 0.3, 'svc__kernel': 'rbf'}\n",
      " 0.703300 (0.021692) with: {'svc__C': 0.4, 'svc__gamma': 0.3, 'svc__kernel': 'linear'}\n",
      " 0.746956 (0.027843) with: {'svc__C': 0.4, 'svc__gamma': 0.4, 'svc__kernel': 'rbf'}\n",
      " 0.703300 (0.021692) with: {'svc__C': 0.4, 'svc__gamma': 0.4, 'svc__kernel': 'linear'}\n",
      " 0.749825 (0.027381) with: {'svc__C': 0.4, 'svc__gamma': 0.5, 'svc__kernel': 'rbf'}\n",
      " 0.703300 (0.021692) with: {'svc__C': 0.4, 'svc__gamma': 0.5, 'svc__kernel': 'linear'}\n",
      " 0.750938 (0.028175) with: {'svc__C': 0.4, 'svc__gamma': 0.6, 'svc__kernel': 'rbf'}\n",
      " 0.703300 (0.021692) with: {'svc__C': 0.4, 'svc__gamma': 0.6, 'svc__kernel': 'linear'}\n",
      " 0.754124 (0.026513) with: {'svc__C': 0.4, 'svc__gamma': 0.7, 'svc__kernel': 'rbf'}\n",
      " 0.703300 (0.021692) with: {'svc__C': 0.4, 'svc__gamma': 0.7, 'svc__kernel': 'linear'}\n",
      " 0.762412 (0.025645) with: {'svc__C': 0.4, 'svc__gamma': 0.8, 'svc__kernel': 'rbf'}\n",
      " 0.703300 (0.021692) with: {'svc__C': 0.4, 'svc__gamma': 0.8, 'svc__kernel': 'linear'}\n",
      " 0.776436 (0.021107) with: {'svc__C': 0.4, 'svc__gamma': 0.9, 'svc__kernel': 'rbf'}\n",
      " 0.703300 (0.021692) with: {'svc__C': 0.4, 'svc__gamma': 0.9, 'svc__kernel': 'linear'}\n",
      " 0.797310 (0.018592) with: {'svc__C': 0.4, 'svc__gamma': 1.0, 'svc__kernel': 'rbf'}\n",
      " 0.703300 (0.021692) with: {'svc__C': 0.4, 'svc__gamma': 1.0, 'svc__kernel': 'linear'}\n",
      " 0.722415 (0.025760) with: {'svc__C': 0.5, 'svc__gamma': 0.1, 'svc__kernel': 'rbf'}\n",
      " 0.704573 (0.022178) with: {'svc__C': 0.5, 'svc__gamma': 0.1, 'svc__kernel': 'linear'}\n",
      " 0.743771 (0.024927) with: {'svc__C': 0.5, 'svc__gamma': 0.2, 'svc__kernel': 'rbf'}\n",
      " 0.704573 (0.022178) with: {'svc__C': 0.5, 'svc__gamma': 0.2, 'svc__kernel': 'linear'}\n",
      " 0.749826 (0.025865) with: {'svc__C': 0.5, 'svc__gamma': 0.3, 'svc__kernel': 'rbf'}\n",
      " 0.704573 (0.022178) with: {'svc__C': 0.5, 'svc__gamma': 0.3, 'svc__kernel': 'linear'}\n",
      " 0.757633 (0.024618) with: {'svc__C': 0.5, 'svc__gamma': 0.4, 'svc__kernel': 'rbf'}\n",
      " 0.704573 (0.022178) with: {'svc__C': 0.5, 'svc__gamma': 0.4, 'svc__kernel': 'linear'}\n",
      " 0.756994 (0.028532) with: {'svc__C': 0.5, 'svc__gamma': 0.5, 'svc__kernel': 'rbf'}\n",
      " 0.704573 (0.022178) with: {'svc__C': 0.5, 'svc__gamma': 0.5, 'svc__kernel': 'linear'}\n",
      " 0.755720 (0.026938) with: {'svc__C': 0.5, 'svc__gamma': 0.6, 'svc__kernel': 'rbf'}\n",
      " 0.704573 (0.022178) with: {'svc__C': 0.5, 'svc__gamma': 0.6, 'svc__kernel': 'linear'}\n",
      " 0.756040 (0.026941) with: {'svc__C': 0.5, 'svc__gamma': 0.7, 'svc__kernel': 'rbf'}\n",
      " 0.704573 (0.022178) with: {'svc__C': 0.5, 'svc__gamma': 0.7, 'svc__kernel': 'linear'}\n",
      " 0.757474 (0.027028) with: {'svc__C': 0.5, 'svc__gamma': 0.8, 'svc__kernel': 'rbf'}\n",
      " 0.704573 (0.022178) with: {'svc__C': 0.5, 'svc__gamma': 0.8, 'svc__kernel': 'linear'}\n",
      " 0.763370 (0.022497) with: {'svc__C': 0.5, 'svc__gamma': 0.9, 'svc__kernel': 'rbf'}\n",
      " 0.704573 (0.022178) with: {'svc__C': 0.5, 'svc__gamma': 0.9, 'svc__kernel': 'linear'}\n",
      " 0.772452 (0.020867) with: {'svc__C': 0.5, 'svc__gamma': 1.0, 'svc__kernel': 'rbf'}\n",
      " 0.704573 (0.022178) with: {'svc__C': 0.5, 'svc__gamma': 1.0, 'svc__kernel': 'linear'}\n",
      " 0.725125 (0.025437) with: {'svc__C': 0.6, 'svc__gamma': 0.1, 'svc__kernel': 'rbf'}\n",
      " 0.704894 (0.021616) with: {'svc__C': 0.6, 'svc__gamma': 0.1, 'svc__kernel': 'linear'}\n",
      " 0.748072 (0.024598) with: {'svc__C': 0.6, 'svc__gamma': 0.2, 'svc__kernel': 'rbf'}\n",
      " 0.704894 (0.021616) with: {'svc__C': 0.6, 'svc__gamma': 0.2, 'svc__kernel': 'linear'}\n",
      " 0.759547 (0.024623) with: {'svc__C': 0.6, 'svc__gamma': 0.3, 'svc__kernel': 'rbf'}\n",
      " 0.704894 (0.021616) with: {'svc__C': 0.6, 'svc__gamma': 0.3, 'svc__kernel': 'linear'}\n",
      " 0.761775 (0.025998) with: {'svc__C': 0.6, 'svc__gamma': 0.4, 'svc__kernel': 'rbf'}\n",
      " 0.704894 (0.021616) with: {'svc__C': 0.6, 'svc__gamma': 0.4, 'svc__kernel': 'linear'}\n",
      " 0.763530 (0.025334) with: {'svc__C': 0.6, 'svc__gamma': 0.5, 'svc__kernel': 'rbf'}\n",
      " 0.704894 (0.021616) with: {'svc__C': 0.6, 'svc__gamma': 0.5, 'svc__kernel': 'linear'}\n",
      " 0.760343 (0.026407) with: {'svc__C': 0.6, 'svc__gamma': 0.6, 'svc__kernel': 'rbf'}\n",
      " 0.704894 (0.021616) with: {'svc__C': 0.6, 'svc__gamma': 0.6, 'svc__kernel': 'linear'}\n",
      " 0.757316 (0.028512) with: {'svc__C': 0.6, 'svc__gamma': 0.7, 'svc__kernel': 'rbf'}\n",
      " 0.704894 (0.021616) with: {'svc__C': 0.6, 'svc__gamma': 0.7, 'svc__kernel': 'linear'}\n",
      " 0.756837 (0.026065) with: {'svc__C': 0.6, 'svc__gamma': 0.8, 'svc__kernel': 'rbf'}\n",
      " 0.704894 (0.021616) with: {'svc__C': 0.6, 'svc__gamma': 0.8, 'svc__kernel': 'linear'}\n",
      " 0.758430 (0.025257) with: {'svc__C': 0.6, 'svc__gamma': 0.9, 'svc__kernel': 'rbf'}\n",
      " 0.704894 (0.021616) with: {'svc__C': 0.6, 'svc__gamma': 0.9, 'svc__kernel': 'linear'}\n",
      " 0.759385 (0.023205) with: {'svc__C': 0.6, 'svc__gamma': 1.0, 'svc__kernel': 'rbf'}\n",
      " 0.704894 (0.021616) with: {'svc__C': 0.6, 'svc__gamma': 1.0, 'svc__kernel': 'linear'}\n",
      " 0.726877 (0.025657) with: {'svc__C': 0.7, 'svc__gamma': 0.1, 'svc__kernel': 'rbf'}\n",
      " 0.705212 (0.021258) with: {'svc__C': 0.7, 'svc__gamma': 0.1, 'svc__kernel': 'linear'}\n",
      " 0.752374 (0.025025) with: {'svc__C': 0.7, 'svc__gamma': 0.2, 'svc__kernel': 'rbf'}\n",
      " 0.705212 (0.021258) with: {'svc__C': 0.7, 'svc__gamma': 0.2, 'svc__kernel': 'linear'}\n",
      " 0.764645 (0.025167) with: {'svc__C': 0.7, 'svc__gamma': 0.3, 'svc__kernel': 'rbf'}\n",
      " 0.705212 (0.021258) with: {'svc__C': 0.7, 'svc__gamma': 0.3, 'svc__kernel': 'linear'}\n",
      " 0.767352 (0.024984) with: {'svc__C': 0.7, 'svc__gamma': 0.4, 'svc__kernel': 'rbf'}\n",
      " 0.705212 (0.021258) with: {'svc__C': 0.7, 'svc__gamma': 0.4, 'svc__kernel': 'linear'}\n",
      " 0.768152 (0.025460) with: {'svc__C': 0.7, 'svc__gamma': 0.5, 'svc__kernel': 'rbf'}\n",
      " 0.705212 (0.021258) with: {'svc__C': 0.7, 'svc__gamma': 0.5, 'svc__kernel': 'linear'}\n",
      " 0.762893 (0.026759) with: {'svc__C': 0.7, 'svc__gamma': 0.6, 'svc__kernel': 'rbf'}\n",
      " 0.705212 (0.021258) with: {'svc__C': 0.7, 'svc__gamma': 0.6, 'svc__kernel': 'linear'}\n",
      " 0.760823 (0.026958) with: {'svc__C': 0.7, 'svc__gamma': 0.7, 'svc__kernel': 'rbf'}\n",
      " 0.705212 (0.021258) with: {'svc__C': 0.7, 'svc__gamma': 0.7, 'svc__kernel': 'linear'}\n",
      " 0.760343 (0.025344) with: {'svc__C': 0.7, 'svc__gamma': 0.8, 'svc__kernel': 'rbf'}\n",
      " 0.705212 (0.021258) with: {'svc__C': 0.7, 'svc__gamma': 0.8, 'svc__kernel': 'linear'}\n",
      " 0.757156 (0.024708) with: {'svc__C': 0.7, 'svc__gamma': 0.9, 'svc__kernel': 'rbf'}\n",
      " 0.705212 (0.021258) with: {'svc__C': 0.7, 'svc__gamma': 0.9, 'svc__kernel': 'linear'}\n",
      " 0.753966 (0.025551) with: {'svc__C': 0.7, 'svc__gamma': 1.0, 'svc__kernel': 'rbf'}\n",
      " 0.705212 (0.021258) with: {'svc__C': 0.7, 'svc__gamma': 1.0, 'svc__kernel': 'linear'}\n",
      " 0.731179 (0.026992) with: {'svc__C': 0.8, 'svc__gamma': 0.1, 'svc__kernel': 'rbf'}\n",
      " 0.705052 (0.022234) with: {'svc__C': 0.8, 'svc__gamma': 0.1, 'svc__kernel': 'linear'}\n",
      " 0.758907 (0.025796) with: {'svc__C': 0.8, 'svc__gamma': 0.2, 'svc__kernel': 'rbf'}\n",
      " 0.705052 (0.022234) with: {'svc__C': 0.8, 'svc__gamma': 0.2, 'svc__kernel': 'linear'}\n",
      " 0.768948 (0.022899) with: {'svc__C': 0.8, 'svc__gamma': 0.3, 'svc__kernel': 'rbf'}\n",
      " 0.705052 (0.022234) with: {'svc__C': 0.8, 'svc__gamma': 0.3, 'svc__kernel': 'linear'}\n",
      " 0.771176 (0.023950) with: {'svc__C': 0.8, 'svc__gamma': 0.4, 'svc__kernel': 'rbf'}\n",
      " 0.705052 (0.022234) with: {'svc__C': 0.8, 'svc__gamma': 0.4, 'svc__kernel': 'linear'}\n",
      " 0.772452 (0.025761) with: {'svc__C': 0.8, 'svc__gamma': 0.5, 'svc__kernel': 'rbf'}\n",
      " 0.705052 (0.022234) with: {'svc__C': 0.8, 'svc__gamma': 0.5, 'svc__kernel': 'linear'}\n",
      " 0.768947 (0.026937) with: {'svc__C': 0.8, 'svc__gamma': 0.6, 'svc__kernel': 'rbf'}\n",
      " 0.705052 (0.022234) with: {'svc__C': 0.8, 'svc__gamma': 0.6, 'svc__kernel': 'linear'}\n",
      " 0.765920 (0.026886) with: {'svc__C': 0.8, 'svc__gamma': 0.7, 'svc__kernel': 'rbf'}\n",
      " 0.705052 (0.022234) with: {'svc__C': 0.8, 'svc__gamma': 0.7, 'svc__kernel': 'linear'}\n",
      " 0.764325 (0.025453) with: {'svc__C': 0.8, 'svc__gamma': 0.8, 'svc__kernel': 'rbf'}\n",
      " 0.705052 (0.022234) with: {'svc__C': 0.8, 'svc__gamma': 0.8, 'svc__kernel': 'linear'}\n",
      " 0.759702 (0.026899) with: {'svc__C': 0.8, 'svc__gamma': 0.9, 'svc__kernel': 'rbf'}\n",
      " 0.705052 (0.022234) with: {'svc__C': 0.8, 'svc__gamma': 0.9, 'svc__kernel': 'linear'}\n",
      " 0.755241 (0.024596) with: {'svc__C': 0.8, 'svc__gamma': 1.0, 'svc__kernel': 'rbf'}\n",
      " 0.705052 (0.022234) with: {'svc__C': 0.8, 'svc__gamma': 1.0, 'svc__kernel': 'linear'}\n",
      " 0.733569 (0.026107) with: {'svc__C': 0.9, 'svc__gamma': 0.1, 'svc__kernel': 'rbf'}\n",
      " 0.705689 (0.022322) with: {'svc__C': 0.9, 'svc__gamma': 0.1, 'svc__kernel': 'linear'}\n",
      " 0.762575 (0.025747) with: {'svc__C': 0.9, 'svc__gamma': 0.2, 'svc__kernel': 'rbf'}\n",
      " 0.705689 (0.022322) with: {'svc__C': 0.9, 'svc__gamma': 0.2, 'svc__kernel': 'linear'}\n",
      " 0.770859 (0.022927) with: {'svc__C': 0.9, 'svc__gamma': 0.3, 'svc__kernel': 'rbf'}\n",
      " 0.705689 (0.022322) with: {'svc__C': 0.9, 'svc__gamma': 0.3, 'svc__kernel': 'linear'}\n",
      " 0.773408 (0.022455) with: {'svc__C': 0.9, 'svc__gamma': 0.4, 'svc__kernel': 'rbf'}\n",
      " 0.705689 (0.022322) with: {'svc__C': 0.9, 'svc__gamma': 0.4, 'svc__kernel': 'linear'}\n",
      " 0.776434 (0.027159) with: {'svc__C': 0.9, 'svc__gamma': 0.5, 'svc__kernel': 'rbf'}\n",
      " 0.705689 (0.022322) with: {'svc__C': 0.9, 'svc__gamma': 0.5, 'svc__kernel': 'linear'}\n",
      " 0.771654 (0.027216) with: {'svc__C': 0.9, 'svc__gamma': 0.6, 'svc__kernel': 'rbf'}\n",
      " 0.705689 (0.022322) with: {'svc__C': 0.9, 'svc__gamma': 0.6, 'svc__kernel': 'linear'}\n",
      " 0.769583 (0.026373) with: {'svc__C': 0.9, 'svc__gamma': 0.7, 'svc__kernel': 'rbf'}\n",
      " 0.705689 (0.022322) with: {'svc__C': 0.9, 'svc__gamma': 0.7, 'svc__kernel': 'linear'}\n",
      " 0.766553 (0.026077) with: {'svc__C': 0.9, 'svc__gamma': 0.8, 'svc__kernel': 'rbf'}\n",
      " 0.705689 (0.022322) with: {'svc__C': 0.9, 'svc__gamma': 0.8, 'svc__kernel': 'linear'}\n",
      " 0.764800 (0.026357) with: {'svc__C': 0.9, 'svc__gamma': 0.9, 'svc__kernel': 'rbf'}\n",
      " 0.705689 (0.022322) with: {'svc__C': 0.9, 'svc__gamma': 0.9, 'svc__kernel': 'linear'}\n",
      " 0.760818 (0.024875) with: {'svc__C': 0.9, 'svc__gamma': 1.0, 'svc__kernel': 'rbf'}\n",
      " 0.705689 (0.022322) with: {'svc__C': 0.9, 'svc__gamma': 1.0, 'svc__kernel': 'linear'}\n",
      " 0.736598 (0.025894) with: {'svc__C': 1, 'svc__gamma': 0.1, 'svc__kernel': 'rbf'}\n",
      " 0.705848 (0.022556) with: {'svc__C': 1, 'svc__gamma': 0.1, 'svc__kernel': 'linear'}\n",
      " 0.764805 (0.026001) with: {'svc__C': 1, 'svc__gamma': 0.2, 'svc__kernel': 'rbf'}\n",
      " 0.705848 (0.022556) with: {'svc__C': 1, 'svc__gamma': 0.2, 'svc__kernel': 'linear'}\n",
      " 0.774365 (0.021640) with: {'svc__C': 1, 'svc__gamma': 0.3, 'svc__kernel': 'rbf'}\n",
      " 0.705848 (0.022556) with: {'svc__C': 1, 'svc__gamma': 0.3, 'svc__kernel': 'linear'}\n",
      " 0.777232 (0.025491) with: {'svc__C': 1, 'svc__gamma': 0.4, 'svc__kernel': 'rbf'}\n",
      " 0.705848 (0.022556) with: {'svc__C': 1, 'svc__gamma': 0.4, 'svc__kernel': 'linear'}\n",
      " 0.777392 (0.026301) with: {'svc__C': 1, 'svc__gamma': 0.5, 'svc__kernel': 'rbf'}\n",
      " 0.705848 (0.022556) with: {'svc__C': 1, 'svc__gamma': 0.5, 'svc__kernel': 'linear'}\n",
      " 0.774841 (0.026679) with: {'svc__C': 1, 'svc__gamma': 0.6, 'svc__kernel': 'rbf'}\n",
      " 0.705848 (0.022556) with: {'svc__C': 1, 'svc__gamma': 0.6, 'svc__kernel': 'linear'}\n",
      " 0.772929 (0.025723) with: {'svc__C': 1, 'svc__gamma': 0.7, 'svc__kernel': 'rbf'}\n",
      " 0.705848 (0.022556) with: {'svc__C': 1, 'svc__gamma': 0.7, 'svc__kernel': 'linear'}\n",
      " 0.771172 (0.027838) with: {'svc__C': 1, 'svc__gamma': 0.8, 'svc__kernel': 'rbf'}\n",
      " 0.705848 (0.022556) with: {'svc__C': 1, 'svc__gamma': 0.8, 'svc__kernel': 'linear'}\n",
      " 0.767986 (0.025869) with: {'svc__C': 1, 'svc__gamma': 0.9, 'svc__kernel': 'rbf'}\n",
      " 0.705848 (0.022556) with: {'svc__C': 1, 'svc__gamma': 0.9, 'svc__kernel': 'linear'}\n",
      " 0.765435 (0.026067) with: {'svc__C': 1, 'svc__gamma': 1.0, 'svc__kernel': 'rbf'}\n",
      " 0.705848 (0.022556) with: {'svc__C': 1, 'svc__gamma': 1.0, 'svc__kernel': 'linear'}\n"
     ]
    }
   ],
   "source": [
    "model = svm_pipeline\n",
    "log_param=[{\"svc__C\":[0.05,0.1,0.2,0.3,0.25,0.4,0.5,0.6,0.7,0.8,0.9,1],\n",
    "            \"svc__gamma\":[0.1,0.2,0.3,0.4,0.5,0.6,0.7,0.8,0.9,1.0],\n",
    "            \"svc__kernel\":['rbf','linear']}]\n",
    "\n",
    "cv = RepeatedStratifiedKFold(n_splits=5,n_repeats=3)\n",
    "grid_search = GridSearchCV(estimator=model, param_grid=log_param, n_jobs=-1,cv=cv, scoring='recall', error_score=8)\n",
    "grid_result = grid_search.fit(X_train,y_train)\n",
    "\n",
    "print(\"Best:%fusing%s\" % (grid_result.best_score_,grid_result.best_params_))\n",
    "means = grid_result.cv_results_['mean_test_score']        \n",
    "stds = grid_result.cv_results_['std_test_score']\n",
    "params = grid_result.cv_results_['params']\n",
    "for mean, stdev, param in zip(means,stds,params):\n",
    "    print(\" %f (%f) with: %r\" %(mean,stdev,param))"
   ]
  },
  {
   "cell_type": "code",
   "execution_count": 59,
   "metadata": {},
   "outputs": [],
   "source": [
    "y_pred_train_best=grid_search.best_estimator_.predict(X_train)\n",
    "y_pred_test_best=grid_search.best_estimator_.predict(X_test)"
   ]
  },
  {
   "cell_type": "markdown",
   "metadata": {},
   "source": [
    "Melihat perbandingan score Model setelah di improve dengan menentukan hyperparameter dengan model sebelum di improve"
   ]
  },
  {
   "cell_type": "code",
   "execution_count": 60,
   "metadata": {},
   "outputs": [
    {
     "name": "stdout",
     "output_type": "stream",
     "text": [
      "ROC AUC Train Results SVM\n",
      "0.7770076481835565\n",
      "ROC AUC Test Results SVM\n",
      "0.7752395229094701\n",
      "-------------------------------------------------\n",
      "ROC AUC Train Results SVM with Hyperparameter Tuning\n",
      "0.6118546845124283\n",
      "ROC AUC Test Results SVM with Hyperparameter Tuning\n",
      "0.5856742488431206\n"
     ]
    }
   ],
   "source": [
    "#Performance Metrics\n",
    "print('ROC AUC Train Results SVM')\n",
    "print(roc_auc_score(y_train, svm_pipeline.predict(X_train)))\n",
    "\n",
    "print('ROC AUC Test Results SVM')\n",
    "print(roc_auc_score(y_test, svm_pipeline.predict(X_test)))\n",
    "print ('-------------------------------------------------')\n",
    "\n",
    "print('ROC AUC Train Results SVM with Hyperparameter Tuning')\n",
    "print(roc_auc_score(y_train, grid_search.best_estimator_.predict(X_train)))\n",
    "\n",
    "print('ROC AUC Test Results SVM with Hyperparameter Tuning')\n",
    "print(roc_auc_score(y_test, grid_search.best_estimator_.predict(X_test)))\n"
   ]
  },
  {
   "cell_type": "markdown",
   "metadata": {},
   "source": [
    "- Setelah dilakukan hyperparameter tuning score ROC-AUC pada model SVM terlihat menurun dari sebelum dilakukan hyperparameter tuning, karena nilai yang ingin dimaksimalkan adalah recall atau TPR"
   ]
  },
  {
   "cell_type": "code",
   "execution_count": 61,
   "metadata": {},
   "outputs": [
    {
     "name": "stdout",
     "output_type": "stream",
     "text": [
      "Recall Train Results SVM\n",
      "0.7332695984703633\n",
      "Recall Test Results SVM\n",
      "0.7164179104477612\n",
      "-------------------------------------------------\n",
      "Recall Train Results SVM with Hyperparameter Tuning\n",
      "0.9297323135755258\n",
      "Recall Test Results SVM with Hyperparameter Tuning\n",
      "0.8656716417910447\n"
     ]
    }
   ],
   "source": [
    "#Performance Metrics\n",
    "print('Recall Train Results SVM')\n",
    "print(recall_score(y_train, svm_pipeline.predict(X_train)))\n",
    "\n",
    "print('Recall Test Results SVM')\n",
    "print(recall_score(y_test, svm_pipeline.predict(X_test)))\n",
    "print ('-------------------------------------------------')\n",
    "\n",
    "print('Recall Train Results SVM with Hyperparameter Tuning')\n",
    "print(recall_score(y_train, grid_search.best_estimator_.predict(X_train)))\n",
    "\n",
    "print('Recall Test Results SVM with Hyperparameter Tuning')\n",
    "print(recall_score(y_test, grid_search.best_estimator_.predict(X_test)))"
   ]
  },
  {
   "cell_type": "markdown",
   "metadata": {},
   "source": [
    "- Nilai recall pada model svm dengan hyperparameter tuning terlihat meningkat dibandingkan sebelum dilakukan hyperparameter tuning, recal pada test set mendapatkan nilai 0.86 setelah hyperparameter tuning dan 0.71 sebelum hyperparameter tuning. Ini menunjukkan model improvement berhasil dilakukan"
   ]
  },
  {
   "cell_type": "code",
   "execution_count": 62,
   "metadata": {},
   "outputs": [
    {
     "name": "stdout",
     "output_type": "stream",
     "text": [
      "Confussion Matrix Train Set\n",
      "              precision    recall  f1-score   support\n",
      "\n",
      " Not Default       0.81      0.29      0.43      2092\n",
      "     Default       0.57      0.93      0.71      2092\n",
      "\n",
      "    accuracy                           0.61      4184\n",
      "   macro avg       0.69      0.61      0.57      4184\n",
      "weighted avg       0.69      0.61      0.57      4184\n",
      "\n",
      "------------------------------------------------------------\n",
      "Confussion Matrix Test Set\n",
      "              precision    recall  f1-score   support\n",
      "\n",
      " Not Default       0.89      0.31      0.45       229\n",
      "     Default       0.27      0.87      0.41        67\n",
      "\n",
      "    accuracy                           0.43       296\n",
      "   macro avg       0.58      0.59      0.43       296\n",
      "weighted avg       0.75      0.43      0.44       296\n",
      "\n"
     ]
    }
   ],
   "source": [
    "print ('Confussion Matrix Train Set')\n",
    "print(classification_report(y_train,y_pred_train_best , target_names=['Not Default', 'Default']))\n",
    "print('-'*60)\n",
    "print ('Confussion Matrix Test Set')\n",
    "print(classification_report(y_test,y_pred_test_best , target_names=['Not Default', 'Default']))"
   ]
  },
  {
   "cell_type": "markdown",
   "metadata": {},
   "source": [
    "- Dapat dilihat, setelah dilakukan model improvement, nilai accuracy sangat kecil, itu juga terjadi karena kita ingin meningkatkan nilai recall pada model svm."
   ]
  },
  {
   "cell_type": "code",
   "execution_count": 63,
   "metadata": {},
   "outputs": [
    {
     "name": "stdout",
     "output_type": "stream",
     "text": [
      "Confussion Matrix\n",
      "[[ 615 1477]\n",
      " [ 147 1945]]\n",
      "Confussion Matrix\n",
      "[[ 70 159]\n",
      " [  9  58]]\n"
     ]
    }
   ],
   "source": [
    "print ('Confussion Matrix')\n",
    "print(confusion_matrix(y_train, y_pred_train_best))\n",
    "\n",
    "print ('Confussion Matrix')\n",
    "print(confusion_matrix(y_test, y_pred_test_best))"
   ]
  },
  {
   "cell_type": "code",
   "execution_count": 64,
   "metadata": {},
   "outputs": [
    {
     "data": {
      "text/plain": [
       "<AxesSubplot:>"
      ]
     },
     "execution_count": 64,
     "metadata": {},
     "output_type": "execute_result"
    },
    {
     "data": {
      "image/png": "[encoded data removed]",
      "text/plain": [
       "<Figure size 432x288 with 2 Axes>"
      ]
     },
     "metadata": {
      "needs_background": "light"
     },
     "output_type": "display_data"
    }
   ],
   "source": [
    "cf_matrix = confusion_matrix(y_test,y_pred_test_best)\n",
    "sns.heatmap(cf_matrix, annot=True,fmt=\"d\")"
   ]
  },
  {
   "cell_type": "markdown",
   "metadata": {},
   "source": [
    "- Terdapat 58 orang yang terdeteksi dan benar akan lalai dalam membayar tagihan bulan depan atau True Positive (TP), dan 159 orang yang terdeteksi lalai membayar tagihan tetapi sebenarnya tidak lalai dalam membayar tagihan bulan depan atau False Positive (FP).\n",
    "- Terdapat 70 orang yang terdeteksi dan benar tidak lalai dalam membayar tagihan bulan depan atau True Negative (TN), dan 9 orang yang terdeteksi tidak lalai dalam membayar tagihan bulan depan tetapi sebenarnya dia akan lalai dalam membayar tagihan bulan depan (FN)."
   ]
  },
  {
   "cell_type": "markdown",
   "metadata": {},
   "source": [
    "# Model Inference"
   ]
  },
  {
   "cell_type": "code",
   "execution_count": 65,
   "metadata": {},
   "outputs": [
    {
     "data": {
      "text/html": [
       "<div>\n",
       "<style scoped>\n",
       "    .dataframe tbody tr th:only-of-type {\n",
       "        vertical-align: middle;\n",
       "    }\n",
       "\n",
       "    .dataframe tbody tr th {\n",
       "        vertical-align: top;\n",
       "    }\n",
       "\n",
       "    .dataframe thead th {\n",
       "        text-align: right;\n",
       "    }\n",
       "</style>\n",
       "<table border=\"1\" class=\"dataframe\">\n",
       "  <thead>\n",
       "    <tr style=\"text-align: right;\">\n",
       "      <th></th>\n",
       "      <th>limit_balance</th>\n",
       "      <th>gender</th>\n",
       "      <th>education_level</th>\n",
       "      <th>marital_status</th>\n",
       "      <th>age</th>\n",
       "      <th>pay_1</th>\n",
       "      <th>pay_2</th>\n",
       "      <th>pay_3</th>\n",
       "      <th>pay_4</th>\n",
       "      <th>pay_5</th>\n",
       "      <th>pay_6</th>\n",
       "      <th>bill_amt_1</th>\n",
       "      <th>bill_amt_2</th>\n",
       "      <th>bill_amt_3</th>\n",
       "      <th>bill_amt_4</th>\n",
       "      <th>bill_amt_5</th>\n",
       "      <th>bill_amt_6</th>\n",
       "      <th>pay_amt_1</th>\n",
       "      <th>pay_amt_2</th>\n",
       "      <th>pay_amt_3</th>\n",
       "      <th>pay_amt_4</th>\n",
       "      <th>pay_amt_5</th>\n",
       "      <th>pay_amt_6</th>\n",
       "      <th>default_payment_next_month</th>\n",
       "    </tr>\n",
       "  </thead>\n",
       "  <tbody>\n",
       "    <tr>\n",
       "      <th>0</th>\n",
       "      <td>360000</td>\n",
       "      <td>2</td>\n",
       "      <td>3</td>\n",
       "      <td>1</td>\n",
       "      <td>37</td>\n",
       "      <td>-2</td>\n",
       "      <td>-2</td>\n",
       "      <td>-2</td>\n",
       "      <td>-2</td>\n",
       "      <td>-2</td>\n",
       "      <td>-2</td>\n",
       "      <td>0</td>\n",
       "      <td>0</td>\n",
       "      <td>0</td>\n",
       "      <td>0</td>\n",
       "      <td>0</td>\n",
       "      <td>239</td>\n",
       "      <td>0</td>\n",
       "      <td>0</td>\n",
       "      <td>0</td>\n",
       "      <td>0</td>\n",
       "      <td>239</td>\n",
       "      <td>0</td>\n",
       "      <td>0</td>\n",
       "    </tr>\n",
       "    <tr>\n",
       "      <th>1</th>\n",
       "      <td>220000</td>\n",
       "      <td>2</td>\n",
       "      <td>2</td>\n",
       "      <td>1</td>\n",
       "      <td>54</td>\n",
       "      <td>-1</td>\n",
       "      <td>-1</td>\n",
       "      <td>-1</td>\n",
       "      <td>-1</td>\n",
       "      <td>-2</td>\n",
       "      <td>-2</td>\n",
       "      <td>8727</td>\n",
       "      <td>2553</td>\n",
       "      <td>147</td>\n",
       "      <td>0</td>\n",
       "      <td>0</td>\n",
       "      <td>0</td>\n",
       "      <td>3011</td>\n",
       "      <td>147</td>\n",
       "      <td>0</td>\n",
       "      <td>0</td>\n",
       "      <td>0</td>\n",
       "      <td>0</td>\n",
       "      <td>0</td>\n",
       "    </tr>\n",
       "  </tbody>\n",
       "</table>\n",
       "</div>"
      ],
      "text/plain": [
       "   limit_balance  gender  education_level  marital_status  age  pay_1  pay_2  \\\n",
       "0         360000       2                3               1   37     -2     -2   \n",
       "1         220000       2                2               1   54     -1     -1   \n",
       "\n",
       "   pay_3  pay_4  pay_5  pay_6  bill_amt_1  bill_amt_2  bill_amt_3  bill_amt_4  \\\n",
       "0     -2     -2     -2     -2           0           0           0           0   \n",
       "1     -1     -1     -2     -2        8727        2553         147           0   \n",
       "\n",
       "   bill_amt_5  bill_amt_6  pay_amt_1  pay_amt_2  pay_amt_3  pay_amt_4  \\\n",
       "0           0         239          0          0          0          0   \n",
       "1           0           0       3011        147          0          0   \n",
       "\n",
       "   pay_amt_5  pay_amt_6  default_payment_next_month  \n",
       "0        239          0                           0  \n",
       "1          0          0                           0  "
      ]
     },
     "execution_count": 65,
     "metadata": {},
     "output_type": "execute_result"
    }
   ],
   "source": [
    "data_inf.head(2)"
   ]
  },
  {
   "cell_type": "markdown",
   "metadata": {},
   "source": [
    "Membagi data inference menjadi X(feature) dan y(target)"
   ]
  },
  {
   "cell_type": "code",
   "execution_count": 66,
   "metadata": {},
   "outputs": [],
   "source": [
    "# Splitting Dataset\n",
    "\n",
    "# X will be consist of input parameter only\n",
    "X_inf = data_inf.drop(['default_payment_next_month'], axis=1)\n",
    "\n",
    "# y will be consist of target parameter only\n",
    "y_inf = data_inf['default_payment_next_month']"
   ]
  },
  {
   "cell_type": "markdown",
   "metadata": {},
   "source": [
    "Melakukan predict Best Model dengan data inference"
   ]
  },
  {
   "cell_type": "code",
   "execution_count": 67,
   "metadata": {},
   "outputs": [],
   "source": [
    "y_pred_inf = grid_search.best_estimator_.predict(X_inf)"
   ]
  },
  {
   "cell_type": "markdown",
   "metadata": {},
   "source": [
    "Merubah data hasil prediksi menjadi DataFrame"
   ]
  },
  {
   "cell_type": "code",
   "execution_count": 68,
   "metadata": {},
   "outputs": [
    {
     "data": {
      "text/html": [
       "<div>\n",
       "<style scoped>\n",
       "    .dataframe tbody tr th:only-of-type {\n",
       "        vertical-align: middle;\n",
       "    }\n",
       "\n",
       "    .dataframe tbody tr th {\n",
       "        vertical-align: top;\n",
       "    }\n",
       "\n",
       "    .dataframe thead th {\n",
       "        text-align: right;\n",
       "    }\n",
       "</style>\n",
       "<table border=\"1\" class=\"dataframe\">\n",
       "  <thead>\n",
       "    <tr style=\"text-align: right;\">\n",
       "      <th></th>\n",
       "      <th>SVM Prediction</th>\n",
       "    </tr>\n",
       "  </thead>\n",
       "  <tbody>\n",
       "    <tr>\n",
       "      <th>0</th>\n",
       "      <td>1</td>\n",
       "    </tr>\n",
       "    <tr>\n",
       "      <th>1</th>\n",
       "      <td>1</td>\n",
       "    </tr>\n",
       "    <tr>\n",
       "      <th>2</th>\n",
       "      <td>0</td>\n",
       "    </tr>\n",
       "    <tr>\n",
       "      <th>3</th>\n",
       "      <td>0</td>\n",
       "    </tr>\n",
       "    <tr>\n",
       "      <th>4</th>\n",
       "      <td>1</td>\n",
       "    </tr>\n",
       "    <tr>\n",
       "      <th>5</th>\n",
       "      <td>1</td>\n",
       "    </tr>\n",
       "    <tr>\n",
       "      <th>6</th>\n",
       "      <td>1</td>\n",
       "    </tr>\n",
       "    <tr>\n",
       "      <th>7</th>\n",
       "      <td>1</td>\n",
       "    </tr>\n",
       "    <tr>\n",
       "      <th>8</th>\n",
       "      <td>0</td>\n",
       "    </tr>\n",
       "    <tr>\n",
       "      <th>9</th>\n",
       "      <td>1</td>\n",
       "    </tr>\n",
       "  </tbody>\n",
       "</table>\n",
       "</div>"
      ],
      "text/plain": [
       "   SVM Prediction\n",
       "0               1\n",
       "1               1\n",
       "2               0\n",
       "3               0\n",
       "4               1\n",
       "5               1\n",
       "6               1\n",
       "7               1\n",
       "8               0\n",
       "9               1"
      ]
     },
     "execution_count": 68,
     "metadata": {},
     "output_type": "execute_result"
    }
   ],
   "source": [
    "y_pred_inf_df = pd.DataFrame(y_pred_inf, columns=['SVM Prediction'])\n",
    "y_pred_inf_df"
   ]
  },
  {
   "cell_type": "markdown",
   "metadata": {},
   "source": [
    "Mengggabungkan Dataframe hasil prediksi dengan data inference"
   ]
  },
  {
   "cell_type": "code",
   "execution_count": 69,
   "metadata": {},
   "outputs": [
    {
     "data": {
      "text/html": [
       "<div>\n",
       "<style scoped>\n",
       "    .dataframe tbody tr th:only-of-type {\n",
       "        vertical-align: middle;\n",
       "    }\n",
       "\n",
       "    .dataframe tbody tr th {\n",
       "        vertical-align: top;\n",
       "    }\n",
       "\n",
       "    .dataframe thead th {\n",
       "        text-align: right;\n",
       "    }\n",
       "</style>\n",
       "<table border=\"1\" class=\"dataframe\">\n",
       "  <thead>\n",
       "    <tr style=\"text-align: right;\">\n",
       "      <th></th>\n",
       "      <th>limit_balance</th>\n",
       "      <th>gender</th>\n",
       "      <th>education_level</th>\n",
       "      <th>marital_status</th>\n",
       "      <th>age</th>\n",
       "      <th>pay_1</th>\n",
       "      <th>pay_2</th>\n",
       "      <th>pay_3</th>\n",
       "      <th>pay_4</th>\n",
       "      <th>pay_5</th>\n",
       "      <th>pay_6</th>\n",
       "      <th>bill_amt_1</th>\n",
       "      <th>bill_amt_2</th>\n",
       "      <th>bill_amt_3</th>\n",
       "      <th>bill_amt_4</th>\n",
       "      <th>bill_amt_5</th>\n",
       "      <th>bill_amt_6</th>\n",
       "      <th>pay_amt_1</th>\n",
       "      <th>pay_amt_2</th>\n",
       "      <th>pay_amt_3</th>\n",
       "      <th>pay_amt_4</th>\n",
       "      <th>pay_amt_5</th>\n",
       "      <th>pay_amt_6</th>\n",
       "      <th>default_payment_next_month</th>\n",
       "      <th>SVM Prediction</th>\n",
       "    </tr>\n",
       "  </thead>\n",
       "  <tbody>\n",
       "    <tr>\n",
       "      <th>0</th>\n",
       "      <td>360000</td>\n",
       "      <td>2</td>\n",
       "      <td>3</td>\n",
       "      <td>1</td>\n",
       "      <td>37</td>\n",
       "      <td>-2</td>\n",
       "      <td>-2</td>\n",
       "      <td>-2</td>\n",
       "      <td>-2</td>\n",
       "      <td>-2</td>\n",
       "      <td>-2</td>\n",
       "      <td>0</td>\n",
       "      <td>0</td>\n",
       "      <td>0</td>\n",
       "      <td>0</td>\n",
       "      <td>0</td>\n",
       "      <td>239</td>\n",
       "      <td>0</td>\n",
       "      <td>0</td>\n",
       "      <td>0</td>\n",
       "      <td>0</td>\n",
       "      <td>239</td>\n",
       "      <td>0</td>\n",
       "      <td>0</td>\n",
       "      <td>1</td>\n",
       "    </tr>\n",
       "    <tr>\n",
       "      <th>1</th>\n",
       "      <td>220000</td>\n",
       "      <td>2</td>\n",
       "      <td>2</td>\n",
       "      <td>1</td>\n",
       "      <td>54</td>\n",
       "      <td>-1</td>\n",
       "      <td>-1</td>\n",
       "      <td>-1</td>\n",
       "      <td>-1</td>\n",
       "      <td>-2</td>\n",
       "      <td>-2</td>\n",
       "      <td>8727</td>\n",
       "      <td>2553</td>\n",
       "      <td>147</td>\n",
       "      <td>0</td>\n",
       "      <td>0</td>\n",
       "      <td>0</td>\n",
       "      <td>3011</td>\n",
       "      <td>147</td>\n",
       "      <td>0</td>\n",
       "      <td>0</td>\n",
       "      <td>0</td>\n",
       "      <td>0</td>\n",
       "      <td>0</td>\n",
       "      <td>1</td>\n",
       "    </tr>\n",
       "    <tr>\n",
       "      <th>2</th>\n",
       "      <td>170000</td>\n",
       "      <td>1</td>\n",
       "      <td>1</td>\n",
       "      <td>2</td>\n",
       "      <td>27</td>\n",
       "      <td>0</td>\n",
       "      <td>0</td>\n",
       "      <td>0</td>\n",
       "      <td>0</td>\n",
       "      <td>0</td>\n",
       "      <td>0</td>\n",
       "      <td>127902</td>\n",
       "      <td>131631</td>\n",
       "      <td>133090</td>\n",
       "      <td>130937</td>\n",
       "      <td>134043</td>\n",
       "      <td>137023</td>\n",
       "      <td>5631</td>\n",
       "      <td>5090</td>\n",
       "      <td>4937</td>\n",
       "      <td>5043</td>\n",
       "      <td>5023</td>\n",
       "      <td>11939</td>\n",
       "      <td>0</td>\n",
       "      <td>0</td>\n",
       "    </tr>\n",
       "    <tr>\n",
       "      <th>3</th>\n",
       "      <td>130000</td>\n",
       "      <td>2</td>\n",
       "      <td>1</td>\n",
       "      <td>2</td>\n",
       "      <td>23</td>\n",
       "      <td>0</td>\n",
       "      <td>0</td>\n",
       "      <td>0</td>\n",
       "      <td>0</td>\n",
       "      <td>0</td>\n",
       "      <td>0</td>\n",
       "      <td>102087</td>\n",
       "      <td>101079</td>\n",
       "      <td>93977</td>\n",
       "      <td>94427</td>\n",
       "      <td>89041</td>\n",
       "      <td>89833</td>\n",
       "      <td>4500</td>\n",
       "      <td>4363</td>\n",
       "      <td>3300</td>\n",
       "      <td>3178</td>\n",
       "      <td>3178</td>\n",
       "      <td>3424</td>\n",
       "      <td>0</td>\n",
       "      <td>0</td>\n",
       "    </tr>\n",
       "    <tr>\n",
       "      <th>4</th>\n",
       "      <td>50000</td>\n",
       "      <td>2</td>\n",
       "      <td>2</td>\n",
       "      <td>1</td>\n",
       "      <td>44</td>\n",
       "      <td>-2</td>\n",
       "      <td>-2</td>\n",
       "      <td>-2</td>\n",
       "      <td>-2</td>\n",
       "      <td>-2</td>\n",
       "      <td>-2</td>\n",
       "      <td>1473</td>\n",
       "      <td>390</td>\n",
       "      <td>390</td>\n",
       "      <td>390</td>\n",
       "      <td>390</td>\n",
       "      <td>0</td>\n",
       "      <td>390</td>\n",
       "      <td>390</td>\n",
       "      <td>390</td>\n",
       "      <td>390</td>\n",
       "      <td>0</td>\n",
       "      <td>780</td>\n",
       "      <td>0</td>\n",
       "      <td>1</td>\n",
       "    </tr>\n",
       "    <tr>\n",
       "      <th>5</th>\n",
       "      <td>60000</td>\n",
       "      <td>2</td>\n",
       "      <td>2</td>\n",
       "      <td>2</td>\n",
       "      <td>24</td>\n",
       "      <td>1</td>\n",
       "      <td>2</td>\n",
       "      <td>0</td>\n",
       "      <td>0</td>\n",
       "      <td>0</td>\n",
       "      <td>2</td>\n",
       "      <td>59201</td>\n",
       "      <td>58493</td>\n",
       "      <td>58820</td>\n",
       "      <td>57827</td>\n",
       "      <td>61055</td>\n",
       "      <td>56668</td>\n",
       "      <td>2300</td>\n",
       "      <td>2700</td>\n",
       "      <td>2200</td>\n",
       "      <td>4500</td>\n",
       "      <td>0</td>\n",
       "      <td>2200</td>\n",
       "      <td>0</td>\n",
       "      <td>1</td>\n",
       "    </tr>\n",
       "    <tr>\n",
       "      <th>6</th>\n",
       "      <td>220000</td>\n",
       "      <td>1</td>\n",
       "      <td>2</td>\n",
       "      <td>2</td>\n",
       "      <td>29</td>\n",
       "      <td>-1</td>\n",
       "      <td>-1</td>\n",
       "      <td>-1</td>\n",
       "      <td>-1</td>\n",
       "      <td>-1</td>\n",
       "      <td>-1</td>\n",
       "      <td>326</td>\n",
       "      <td>326</td>\n",
       "      <td>326</td>\n",
       "      <td>326</td>\n",
       "      <td>326</td>\n",
       "      <td>322</td>\n",
       "      <td>326</td>\n",
       "      <td>326</td>\n",
       "      <td>326</td>\n",
       "      <td>326</td>\n",
       "      <td>322</td>\n",
       "      <td>646</td>\n",
       "      <td>0</td>\n",
       "      <td>1</td>\n",
       "    </tr>\n",
       "    <tr>\n",
       "      <th>7</th>\n",
       "      <td>360000</td>\n",
       "      <td>2</td>\n",
       "      <td>1</td>\n",
       "      <td>2</td>\n",
       "      <td>30</td>\n",
       "      <td>-2</td>\n",
       "      <td>-2</td>\n",
       "      <td>-2</td>\n",
       "      <td>-2</td>\n",
       "      <td>-2</td>\n",
       "      <td>-2</td>\n",
       "      <td>4765</td>\n",
       "      <td>3415</td>\n",
       "      <td>1539</td>\n",
       "      <td>6501</td>\n",
       "      <td>3458</td>\n",
       "      <td>2786</td>\n",
       "      <td>3434</td>\n",
       "      <td>1546</td>\n",
       "      <td>6541</td>\n",
       "      <td>3475</td>\n",
       "      <td>2788</td>\n",
       "      <td>5710</td>\n",
       "      <td>0</td>\n",
       "      <td>1</td>\n",
       "    </tr>\n",
       "    <tr>\n",
       "      <th>8</th>\n",
       "      <td>180000</td>\n",
       "      <td>2</td>\n",
       "      <td>2</td>\n",
       "      <td>1</td>\n",
       "      <td>30</td>\n",
       "      <td>0</td>\n",
       "      <td>0</td>\n",
       "      <td>0</td>\n",
       "      <td>0</td>\n",
       "      <td>0</td>\n",
       "      <td>0</td>\n",
       "      <td>4747</td>\n",
       "      <td>4221</td>\n",
       "      <td>9065</td>\n",
       "      <td>5016</td>\n",
       "      <td>5931</td>\n",
       "      <td>6826</td>\n",
       "      <td>1200</td>\n",
       "      <td>5000</td>\n",
       "      <td>1000</td>\n",
       "      <td>1000</td>\n",
       "      <td>1000</td>\n",
       "      <td>2000</td>\n",
       "      <td>0</td>\n",
       "      <td>0</td>\n",
       "    </tr>\n",
       "    <tr>\n",
       "      <th>9</th>\n",
       "      <td>240000</td>\n",
       "      <td>1</td>\n",
       "      <td>1</td>\n",
       "      <td>2</td>\n",
       "      <td>29</td>\n",
       "      <td>1</td>\n",
       "      <td>-2</td>\n",
       "      <td>-2</td>\n",
       "      <td>-2</td>\n",
       "      <td>-2</td>\n",
       "      <td>-2</td>\n",
       "      <td>0</td>\n",
       "      <td>0</td>\n",
       "      <td>0</td>\n",
       "      <td>0</td>\n",
       "      <td>0</td>\n",
       "      <td>0</td>\n",
       "      <td>0</td>\n",
       "      <td>0</td>\n",
       "      <td>0</td>\n",
       "      <td>0</td>\n",
       "      <td>0</td>\n",
       "      <td>0</td>\n",
       "      <td>1</td>\n",
       "      <td>1</td>\n",
       "    </tr>\n",
       "  </tbody>\n",
       "</table>\n",
       "</div>"
      ],
      "text/plain": [
       "   limit_balance  gender  education_level  marital_status  age  pay_1  pay_2  \\\n",
       "0         360000       2                3               1   37     -2     -2   \n",
       "1         220000       2                2               1   54     -1     -1   \n",
       "2         170000       1                1               2   27      0      0   \n",
       "3         130000       2                1               2   23      0      0   \n",
       "4          50000       2                2               1   44     -2     -2   \n",
       "5          60000       2                2               2   24      1      2   \n",
       "6         220000       1                2               2   29     -1     -1   \n",
       "7         360000       2                1               2   30     -2     -2   \n",
       "8         180000       2                2               1   30      0      0   \n",
       "9         240000       1                1               2   29      1     -2   \n",
       "\n",
       "   pay_3  pay_4  pay_5  pay_6  bill_amt_1  bill_amt_2  bill_amt_3  bill_amt_4  \\\n",
       "0     -2     -2     -2     -2           0           0           0           0   \n",
       "1     -1     -1     -2     -2        8727        2553         147           0   \n",
       "2      0      0      0      0      127902      131631      133090      130937   \n",
       "3      0      0      0      0      102087      101079       93977       94427   \n",
       "4     -2     -2     -2     -2        1473         390         390         390   \n",
       "5      0      0      0      2       59201       58493       58820       57827   \n",
       "6     -1     -1     -1     -1         326         326         326         326   \n",
       "7     -2     -2     -2     -2        4765        3415        1539        6501   \n",
       "8      0      0      0      0        4747        4221        9065        5016   \n",
       "9     -2     -2     -2     -2           0           0           0           0   \n",
       "\n",
       "   bill_amt_5  bill_amt_6  pay_amt_1  pay_amt_2  pay_amt_3  pay_amt_4  \\\n",
       "0           0         239          0          0          0          0   \n",
       "1           0           0       3011        147          0          0   \n",
       "2      134043      137023       5631       5090       4937       5043   \n",
       "3       89041       89833       4500       4363       3300       3178   \n",
       "4         390           0        390        390        390        390   \n",
       "5       61055       56668       2300       2700       2200       4500   \n",
       "6         326         322        326        326        326        326   \n",
       "7        3458        2786       3434       1546       6541       3475   \n",
       "8        5931        6826       1200       5000       1000       1000   \n",
       "9           0           0          0          0          0          0   \n",
       "\n",
       "   pay_amt_5  pay_amt_6  default_payment_next_month  SVM Prediction  \n",
       "0        239          0                           0               1  \n",
       "1          0          0                           0               1  \n",
       "2       5023      11939                           0               0  \n",
       "3       3178       3424                           0               0  \n",
       "4          0        780                           0               1  \n",
       "5          0       2200                           0               1  \n",
       "6        322        646                           0               1  \n",
       "7       2788       5710                           0               1  \n",
       "8       1000       2000                           0               0  \n",
       "9          0          0                           1               1  "
      ]
     },
     "execution_count": 69,
     "metadata": {},
     "output_type": "execute_result"
    }
   ],
   "source": [
    "pd.concat([data_inf, y_pred_inf_df], axis=1)"
   ]
  },
  {
   "cell_type": "markdown",
   "metadata": {},
   "source": [
    "- Data Inference berhasil diprediksi, data prediksi bisa dilihat pada kolom Logistic Regression Prediction pada tabel diatas.\n",
    "- Terdapat beberapa kesalahan prediksi pada data inference, yang seharusnya kelas 0 tetapi diprediksi kelas 1, tetapi itu tidak masalah karena yang seharusnya kelas 1 berhasil diprediksi dengan baik, karena False Positive lebih dimaafkan daripada False Negative pada kasus ini"
   ]
  },
  {
   "cell_type": "markdown",
   "metadata": {},
   "source": [
    "# Conceptual Problems"
   ]
  },
  {
   "cell_type": "markdown",
   "metadata": {},
   "source": [
    "> Jawab pertanyaan berikut:"
   ]
  },
  {
   "cell_type": "markdown",
   "metadata": {},
   "source": [
    "1. Apakah fungsi parameter criterion pada Decision Tree? Jelaskan salah satu criterion yang kalian pahami!\n",
    "> Criterion adalah sebuah parameter pada algoritma decission tree yang berfungsi untuk memisahkan atribut, terdiri dari beberapa kriteria yang dapat dipilih, Gini index adalah kriteria yang mengukur ketidaksetaraan antara distribusi karakteristik label,  Akurasi adalah kriteria yang memilih atribut yang akan dipisahkan yang dapat memaksimalkan akurasi seluruh tree.\n",
    "\n",
    "2. Apakah fungsi dari pruning pada Tree model?\n",
    "> Penerapan pruning pada decision tree, dapat mengurangi outlier maupun noise data pada decision tree awal sehingga dapat meningkatkan akurasi pada klasifikasi data.\n",
    "\n",
    "3. Bagaimana cara memilih K yang optimal pada KNN?\n",
    "> Nilai k yang bagus dapat dipilih dengan optimasi parameter, misalnya dengan menggunakan cross-validation.\n",
    "\n",
    "4. Jelaskan apa yang kalian ketahui tentang Cross Validation!\n",
    "> Cross Validation adalah sebuah metode yang dilakukan untuk memperoleh hasil akurasi yang maksimal dari model, sehingga model dapat berjalan dengan optimal. Metode pengujian dengan membagi data menjadi beberapa kumpulan data, misalnya data dibagi menjadi 5 kelompok data, 4 kelompok akan menjadi train set dan 1 bagian menjadi test set, dan dilakukan perulangan dengan kombinasi data train dan test dengan kelompok yang berbeda setiap kali perulangan.\n",
    "\n",
    "5. Jelaskan apa yang kalian ketahui tentang Accuracy, Precision, Recall, F1 Score!\n",
    "> Precision adalah perbandingan antara True positif dengan banyaknya data yang diprediksi positif pada confussion matrix, Recall perbandingan antara True Positive (TP) dengan banyaknya data yang sebenarnya positif, F1 Score adalah rerata harmonic dari precission dan recall. Accuracy adalah metric yang mengukur rasio jumlah true positive dan true negative dari semua prediksi yang dibuat."
   ]
  },
  {
   "cell_type": "markdown",
   "metadata": {},
   "source": [
    "# Kesimpulan"
   ]
  },
  {
   "cell_type": "markdown",
   "metadata": {},
   "source": [
    "`EDA`\n",
    "\n",
    "- Dataset merupakan data tagihan kartu kredit dan prediksi klient akan lalai atau tidak dalam membayar tagihan bulan depan\n",
    "- Pada data ini terdapat 24 feature dan 2965 baris\n",
    "- Terdapat 1.802 orang wanita dan 1.163 pria pada dataset ini\n",
    "- Karena tingkatan 0, 4, 5, dan 6 mewakili data unkwon dan other, data akan disatukan menjadi 0\n",
    "- Terdapat 1.039 Orang lulus sekolah, 1.400 orang lulusan universitas, 483 orang lulusan SMA dan 43 orang dengan tingkat pendidikan tidak diketahui\n",
    "- Terdapat 1.332 orang dengan status Married, 1.594 dengan status Single, dan 39 orang dengan status devorce\n",
    "- Terdapat 2.330 yang atau 78.59% client yang diprediksi tidak lalai dalam membayar tagihan dan 635 atau sekitar 21.41% yang diprediksi akan lalai dalam membayar tagihan \n",
    "- Sebaran umur terbanyak terdapat pada range 20-40 tahun, berdasarkan grafik histogram juga dapat dilihat bahwa feature age merupakan skewed distribution data.\n",
    "- Mayoritas Client yang akan lalai dalam membayar tagihan bulan depan memiliki limit balance <400.000 \n",
    "- Umur tidak berpengaruh siginifikan terhadap client akan lalai dalam membayar tahihan kartu kredit atau tidak di bulan depan\n",
    "- Dari sebaran data pada grafik Grafik Hubungan Gender Vs Limit Balance dapat dilihat bahwa limit tingginya limit balance tidak ditentukan oleh gender\n",
    "- Dari grafik Hubungan Education Level Vs Limit Balance dapat dilihat bahwa, client yang tingkat pendidikan dengan kategori oher memiliki limit balance yang rendah.\n",
    "- Dari grafik Hubungan Default Vs Limit Balance dapat dilihat bahwa, client dengan limit balance rendah cenderung akan lalai dalam membayar tagihan bulan.\n",
    "- Kolom Default next month memiliki korelasi paling tinggi dengan kelompok pay, dengan korelasi tertinggi terdapat pada pay_1 dengan nilai korelasi 0.36, dan paling kecil korelasinya dengan marital status dengan -0.03.\n",
    "- Kelompok kolom pay memiliki korelasi yang tinggi antarkolomnya dengan poin korelasi paling tinggi sebesar 0.81 antara pay_5 dan pay_6\n",
    "- Kelompok kolom bill_amt memiliki korelasi sangat kecil dengan kolom default payment, korelasi terbesar pada kelompok tersebut hanya 0.0061 poin pada kolom bill_amt_6 dengan kolom default payment\n",
    "- Kelompok pay_amt juga memiliki korelasi yang kecil dengan kolom default payment, dengan score korelasi tertinggi terdapat pada pay_amt_3 dengan score korelasi -0.09 dengan kolom default payment\n",
    "\n",
    "`Data Preprocessing`\n",
    "\n",
    "- Feature 'limit_balance', 'age', 'bill_amt_1', 'bill_amt_2', 'bill_amt_3', 'bill_amt_4', 'bill_amt_5', 'bill_amt_6', 'pay_amt_1', 'pay_amt_2', 'pay_amt_3', 'pay_amt_4', 'pay_amt_5', 'pay_amt_6' merupakan data dengan distribusi skewed\n",
    "- Terlihat perbedaan nilai maximum data sebelum dilakukan capping dengan setelah dilakukan capping, pada kolom limit_balance, sebelum dilakukan capping nilai max sebesar 800000, setelah dilakukan capping berubah menjadi 500000, capping berhasil dilakukan\n",
    "- Tidak Terdapat Missing Value pada feature maupun label\n",
    "- Melakukan scaler dengan MinMaxScaler untuk data numerical karena data numerical merupakan skewed distribution, melakukan encoder dengan OneHotEncoder karena data categorical nominal dan encoder dengan OrdinalEncoder pada data categorical ordinal\n",
    "- Melakukan balancing data dengan SMOTE karena dataset memiliki target yang tidak seimbang antar kelasnya\n",
    "\n",
    "`Modeling`\n",
    "\n",
    "- Melakukan deklarasi model dengan Logistic Regression, SVM Classification, Decission Tree, Random Forest, KNN, Naive Bayes, dan Ada Boost, model dibungkus dengan pipeline\n",
    "- Ditinjau berdasarkan score ROC-AUC nya model Decission Tree dan Random Forest terindikasi overfit, karena terdapat perbedaan yang sangat jauh antara train dan test setnya, dan train setnya mendapatkan nilai ROC-AUC sempurna atau 1 sedangkan pada test setnya hanya sebesar 0.61 dan 0.74.\n",
    "- Model KNN, SVM, Logistic Regression, Naive Bayes dan Ada Boost sudah good fit\n",
    "- ROC-AUC score tertinggi pada model yang good fit terdapat pada model KNN dengan score pada train set 0.84 dan test set 0.72, selanjutnya pada model SVM dengan score pada train set 0.77 dan test set 0.77.\n",
    "- Ditinjau berdasarkan ROC-AUC score pada test set, model SVM merupakan model paling baik dalam memprediksi label.\n",
    "- Setelah dilakukan Cross Validation, Model Random forest memiliki mean score tertinggi, score yang didapatkan oleh model Random forest sebesar 0.8571 +-0.0533 untuk batas atas dan bawahnya\n",
    "- Hyperparameter tuning dilakukan dengan metric evaluation recall, karena untuk dataset ini kita menginginkan nilai recall atau true positive rate (TPR) yang tinggi, karena jika nilai TPR tinggi maka klient yang akan default payment atau kelas 1 lebih mudah terdeteksi. Nilai TPR tinggi akan menurunkan False Negative pada kelas 1, dan False Positive lebih dimaafkan daripada False Negative pada kasus ini.\n",
    "- Dilakukan Model Improvement menggunakan grid search pada model KNN karena model Random Forest dan Decission Tree terindikasi overfit.\n",
    "- Model KNN juga overfit setelah dilakukan hyperparameter tuning dengan grid search, jadi dilakukan kembali hyperparameter tuning menggunakan grid search pada model SVM\n",
    "- Setelah dilakukan hyperparameter tuning score ROC-AUC pada model SVM terlihat menurun dari sebelum dilakukan hyperparameter tuning, karena nilai yang ingin dimaksimalkan adalah recall atau TPR\n",
    "- Nilai recall pada model svm dengan hyperparameter tuning terlihat meningkat dibandingkan sebelum dilakukan hyperparameter tuning, recal pada test set mendapatkan nilai 0.86 setelah hyperparameter tuning dan 0.71 sebelum hyperparameter tuning. Ini menunjukkan model improvement berhasil dilakukan\n",
    "- Dapat dilihat, setelah dilakukan model improvement, nilai accuracy sangat kecil, itu juga terjadi karena kita ingin meningkatkan nilai recall pada model svm.\n",
    "- Berdasarkan Confussion Matrix terdapat 58 orang yang terdeteksi dan benar akan lalai dalam membayar tagihan bulan depan atau True Positive (TP), dan 159 orang yang terdeteksi lalai membayar tagihan tetapi sebenarnya tidak lalai dalam membayar tagihan bulan depan atau False Positive (FP).\n",
    "- Terdapat 70 orang yang terdeteksi dan benar tidak lalai dalam membayar tagihan bulan depan atau True Negative (TN), dan 9 orang yang terdeteksi tidak lalai dalam membayar tagihan bulan depan tetapi sebenarnya dia akan lalai dalam membayar tagihan bulan depan (FN)."
   ]
  }
 ],
 "metadata": {
  "interpreter": {
   "hash": "410842fc67675d5225637bfe92d44d606aacd8e77b6f07a99ebf1173ac142359"
  },
  "kernelspec": {
   "display_name": "Python 3.8.5 ('base')",
   "language": "python",
   "name": "python3"
  },
  "language_info": {
   "codemirror_mode": {
    "name": "ipython",
    "version": 3
   },
   "file_extension": ".py",
   "mimetype": "text/x-python",
   "name": "python",
   "nbconvert_exporter": "python",
   "pygments_lexer": "ipython3",
   "version": "3.8.5"
  },
  "orig_nbformat": 4
 },
 "nbformat": 4,
 "nbformat_minor": 2
}
